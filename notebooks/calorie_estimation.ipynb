{
 "cells": [
  {
   "cell_type": "code",
   "execution_count": 1,
   "metadata": {},
   "outputs": [],
   "source": [
    "import json\n",
    "with open('../data/generated_recipe_v2/gpt4_1106_enrich_recipes.json') as f:\n",
    "    gpt4_enrich_recipe = json.load(f)"
   ]
  },
  {
   "cell_type": "code",
   "execution_count": 2,
   "metadata": {},
   "outputs": [],
   "source": [
    "import sys\n",
    "sys.path.append('/Users/divyadhara/Documents/CPSC597/ai-meal-recommendation')\n",
    "from utils.models import EnrichRecipesWithEnergy,IngredientsEnrich, IngredientWithEngergy,EnrichRecipeWithEnergy, EnrichRecipes"
   ]
  },
  {
   "cell_type": "code",
   "execution_count": 3,
   "metadata": {},
   "outputs": [],
   "source": [
    "recipes=EnrichRecipesWithEnergy(**gpt4_enrich_recipe)"
   ]
  },
  {
   "cell_type": "code",
   "execution_count": 4,
   "metadata": {},
   "outputs": [],
   "source": [
    "import json\n",
    "with open('../data/generated_recipe_v2/gpt4_1106_enrich_ingredients.json') as f:\n",
    "    gpt4_enrich_ingredients = json.load(f)"
   ]
  },
  {
   "cell_type": "code",
   "execution_count": 5,
   "metadata": {},
   "outputs": [],
   "source": [
    "ingredients_enrich = IngredientsEnrich(**gpt4_enrich_ingredients)"
   ]
  },
  {
   "cell_type": "code",
   "execution_count": 6,
   "metadata": {},
   "outputs": [],
   "source": [
    "def retrieve_enrich_ingredient(ingredients_enrich:IngredientsEnrich, id:int):\n",
    "    for item in ingredients_enrich.ingredients:\n",
    "        if id == item.recipe_id:\n",
    "            return item"
   ]
  },
  {
   "cell_type": "code",
   "execution_count": 7,
   "metadata": {},
   "outputs": [],
   "source": [
    "from typing import List\n",
    "def retrieve_ingredient_energy(ingredient_with_energy:List[IngredientWithEngergy], ingredient_name:str):\n",
    "    for item in ingredient_with_energy:\n",
    "        if ingredient_name == item.name:\n",
    "            if item.usda_food_ingredient:\n",
    "                return item.usda_food_ingredient.energy\n",
    "    return 'NA'"
   ]
  },
  {
   "cell_type": "code",
   "execution_count": 8,
   "metadata": {},
   "outputs": [],
   "source": [
    "def calculate_ingredient_actual_energy(weight, energy):\n",
    "    if weight == 'NA' or energy == 'NA':\n",
    "        return 'NA'\n",
    "    actual_energy = (float(energy)/100.0) * float(weight)\n",
    "    return round(actual_energy, 2)\n",
    "        "
   ]
  },
  {
   "cell_type": "code",
   "execution_count": 9,
   "metadata": {},
   "outputs": [],
   "source": [
    "from pydantic import BaseModel\n",
    "from typing import List, Optional\n",
    "class RecipeWithEnergy(BaseModel):\n",
    "    id: str\n",
    "    name: str\n",
    "    usda_calorie_estimation: float| str\n",
    "\n",
    "class RecipesWithEnergy(BaseModel):\n",
    "    recipe_with_energy: List[RecipeWithEnergy] = []"
   ]
  },
  {
   "cell_type": "code",
   "execution_count": 15,
   "metadata": {},
   "outputs": [],
   "source": [
    "def calculate_total_energy_for_recipe(id:str,recipe:EnrichRecipeWithEnergy):\n",
    "    ingredient = retrieve_enrich_ingredient(ingredients_enrich, int(id))\n",
    "    recipe_total_calories = 0\n",
    "    for ingredient_unit_portion in ingredient.ingredient_unit_portion:\n",
    "        weight = ingredient_unit_portion.weight\n",
    "        energy = retrieve_ingredient_energy(recipe.ingredients,ingredient_unit_portion.name)\n",
    "        actual_energy = calculate_ingredient_actual_energy(weight, energy)\n",
    "        print(ingredient_unit_portion.name,weight,energy,actual_energy)\n",
    "        recipe_total_calories +=actual_energy\n",
    "    recipe_with_energy = RecipeWithEnergy(id=recipe.id, name=recipe.recipe_name,usda_calorie_estimation=round(recipe_total_calories,2))\n",
    "    return recipe_with_energy"
   ]
  },
  {
   "cell_type": "code",
   "execution_count": 10,
   "metadata": {},
   "outputs": [],
   "source": [
    "def get_recipe(id:str):\n",
    "    for recipe in recipes.recipes:\n",
    "        if id == recipe.id:\n",
    "            return recipe\n"
   ]
  },
  {
   "cell_type": "code",
   "execution_count": 19,
   "metadata": {},
   "outputs": [],
   "source": [
    "recipe = get_recipe('11')"
   ]
  },
  {
   "cell_type": "code",
   "execution_count": 20,
   "metadata": {},
   "outputs": [
    {
     "name": "stdout",
     "output_type": "stream",
     "text": [
      "egg whites 264.0 55.0 145.2\n",
      "fresh spinach 75.0 26.6 19.95\n",
      "cremini mushrooms (sliced) 140.0 39.8 55.72\n",
      "cherry tomatoes (halved) 244.0 22.0 53.68\n",
      "lowfat feta cheese (crumbled) 75.0 250.0 187.5\n",
      "olive oil 14.0 361.0 50.54\n",
      "garlic (minced) 6.0 143.0 8.58\n",
      "salt 1.5 717.0 10.75\n",
      "black pepper 0.725 22.9 0.17\n",
      "fresh basil (chopped, for garnish) 5.4 23.0 1.24\n"
     ]
    },
    {
     "data": {
      "text/plain": [
       "RecipeWithEnergy(id='11', name='Spinach and Mushroom Egg White Frittata', usda_calorie_estimation=533.33)"
      ]
     },
     "execution_count": 20,
     "metadata": {},
     "output_type": "execute_result"
    }
   ],
   "source": [
    "calculate_total_energy_for_recipe('11', recipe)"
   ]
  },
  {
   "cell_type": "code",
   "execution_count": 38,
   "metadata": {},
   "outputs": [],
   "source": [
    "recipes_with_energy = RecipesWithEnergy()\n",
    "for recipe in recipes.recipes:\n",
    "    ingredient = retrieve_enrich_ingredient(ingredients_enrich, int(recipe.id))\n",
    "    recipe_total_calories = 0\n",
    "    for ingredient_unit_portion in ingredient.ingredient_unit_portion:\n",
    "        weight = ingredient_unit_portion.weight\n",
    "        energy = retrieve_ingredient_energy(recipe.ingredients,ingredient_unit_portion.name)\n",
    "        actual_energy = calculate_ingredient_actual_energy(weight, energy)\n",
    "        recipe_total_calories +=actual_energy\n",
    "    recipe_with_energy = RecipeWithEnergy(id=recipe.id, name=recipe.recipe_name,usda_calorie_estimation=round(recipe_total_calories,2))\n",
    "    recipes_with_energy.recipe_with_energy.append(recipe_with_energy)"
   ]
  },
  {
   "cell_type": "code",
   "execution_count": 41,
   "metadata": {},
   "outputs": [
    {
     "data": {
      "text/plain": [
       "RecipesWithEnergy(recipe_with_energy=[RecipeWithEnergy(id='14', name='Mediterranean Chickpea Salad', usda_calorie_estimation=1921.6), RecipeWithEnergy(id='15', name='Mediterranean Stuffed Mushrooms', usda_calorie_estimation=503.92), RecipeWithEnergy(id='17', name='Tangy Greek Yogurt Dressing', usda_calorie_estimation=480.66), RecipeWithEnergy(id='16', name='Hearty Vegetable Lentil Soup', usda_calorie_estimation=1045.53), RecipeWithEnergy(id='12', name='Mediterranean Chickpea Salad', usda_calorie_estimation=2186.99), RecipeWithEnergy(id='13', name='Green Veggie Diabetic-Friendly Smoothie', usda_calorie_estimation=295.84), RecipeWithEnergy(id='11', name='Spinach and Mushroom Egg White Frittata', usda_calorie_estimation=533.33), RecipeWithEnergy(id='20', name='Cucumber Mint Infused Water', usda_calorie_estimation=49.58), RecipeWithEnergy(id='18', name='Zucchini Noodles with Pesto and Cherry Tomatoes', usda_calorie_estimation=918.1), RecipeWithEnergy(id='19', name='Zucchini Noodles with Pesto and Cherry Tomatoes', usda_calorie_estimation=802.58)])"
      ]
     },
     "execution_count": 41,
     "metadata": {},
     "output_type": "execute_result"
    }
   ],
   "source": [
    "recipes_with_energy"
   ]
  },
  {
   "cell_type": "code",
   "execution_count": 67,
   "metadata": {},
   "outputs": [
    {
     "name": "stdout",
     "output_type": "stream",
     "text": [
      "No calorie information found.\n",
      "Total Calories: 0\n"
     ]
    }
   ],
   "source": [
    "import re\n",
    "\n",
    "def extract_ingredient_calories(text):\n",
    "    \"\"\"\n",
    "    Extracts the lines listing ingredients and their calorie values.\n",
    "    \n",
    "    Args:\n",
    "    text (str): Multi-line string from which to extract ingredient calorie information.\n",
    "    \n",
    "    Returns:\n",
    "    str: Extracted lines with ingredient calorie information.\n",
    "    \"\"\"\n",
    "    # Regex pattern to find the section with ingredient calories\n",
    "    pattern = r\"- Calories for each ingredient:(.*?)(?=\\n- [A-Za-z]|\\Z)\"\n",
    "\n",
    "    \n",
    "    # Use re.DOTALL to make '.' match newlines as well\n",
    "    match = re.search(pattern, text, re.DOTALL)\n",
    "    \n",
    "    if match:\n",
    "        # Further extract individual lines with calorie information\n",
    "        ingredient_lines = match.group(1).strip()\n",
    "        return ingredient_lines\n",
    "    else:\n",
    "        return \"No calorie information found.\"\n",
    "\n",
    "def calculate_total_calories(ingredients_info):\n",
    "    \"\"\"\n",
    "    Calculate the total calories from a given string of ingredients with their calorie information,\n",
    "    including handling multipliers and specified servings.\n",
    "\n",
    "    Args:\n",
    "        ingredients_info (str): String containing ingredient names followed by complex calorie descriptions.\n",
    "\n",
    "    Returns:\n",
    "        int: Total calories calculated from the ingredients.\n",
    "    \"\"\"\n",
    "    total_calories = 0\n",
    "\n",
    "    # Extract lines and calculate based on expressions\n",
    "    for line in ingredients_info.split('\\n'):\n",
    "        # Search for patterns like \"100 calories each x 10 =\"\n",
    "        match = re.search(r'(\\d+)\\s+calories.*?(\\d+)\\s*=', line)\n",
    "        if match:\n",
    "            # Calculate total calories for the line by multiplying\n",
    "            per_unit_calories = int(match.group(1))\n",
    "            count = int(match.group(2))\n",
    "            total_calories += per_unit_calories * count\n",
    "        else:\n",
    "            # For simple calorie statements\n",
    "            match = re.search(r'(\\d+)\\s+calories', line)\n",
    "            if match:\n",
    "                total_calories += int(match.group(1))\n",
    "\n",
    "    return total_calories\n",
    "\n",
    "# Sample input text\n",
    "text = \"\"\"\n",
    "- Total Calories for entire recipe : Approximately 400 calories for the entire recipe. \\n- Calories for each ingredient (using USDA Food API where applicable):\\n    Egg Whites: 70 calories (from 8 egg whites)\\n    Fresh Spinach: 20 calories\\n    Cremini Mushrooms: 30 calories\\n    Cherry Tomatoes: 30 calories\\n    Low-fat Feta Cheese: 140 calories\\n    Olive Oil: 120 calories\\n    Garlic: Negligible\\n    Salt, Black Pepper: Negligible\\n    Fresh Basil: Negligible\\n- Serving People: 4\n",
    "\"\"\"\n",
    "\n",
    "# Extracting the calorie information\n",
    "extracted_calories = extract_ingredient_calories(text)\n",
    "print(extracted_calories)\n",
    "# Calculating total calories\n",
    "total_calories = calculate_total_calories(extracted_calories)\n",
    "print(f\"Total Calories: {total_calories}\")"
   ]
  },
  {
   "cell_type": "code",
   "execution_count": 44,
   "metadata": {},
   "outputs": [],
   "source": [
    "import json\n",
    "with open('../data/generated_recipe_v2/gpt4_1106_ner_recipes.json') as f:\n",
    "    gpt4_recipe_ner = json.load(f)"
   ]
  },
  {
   "cell_type": "code",
   "execution_count": 49,
   "metadata": {},
   "outputs": [],
   "source": [
    "recipes_ner = EnrichRecipes(**gpt4_recipe_ner)"
   ]
  },
  {
   "cell_type": "code",
   "execution_count": 68,
   "metadata": {},
   "outputs": [],
   "source": [
    "gpt4_turbo_total_calories = []\n",
    "for item in recipes_ner.recipes:\n",
    "    temp = {}\n",
    "    temp['id'] = item.id\n",
    "    extracted_calories = extract_ingredient_calories(item.total_calories_estimation)\n",
    "    temp['gpt4_recipe_total_calories']  = calculate_total_calories(extracted_calories)\n",
    "    gpt4_turbo_total_calories.append(temp)"
   ]
  },
  {
   "cell_type": "code",
   "execution_count": 69,
   "metadata": {},
   "outputs": [],
   "source": [
    "total_calories_estimation = []\n",
    "for item in gpt4_turbo_total_calories:\n",
    "    calories_estimation = {}\n",
    "    recipe_with_energy=get_recipe_with_energy(item['id'], recipes_with_energy)\n",
    "    calories_estimation['id'] = recipe_with_energy.id\n",
    "    calories_estimation['name'] = recipe_with_energy.name\n",
    "    calories_estimation['usda_calorie_estimation'] = recipe_with_energy.usda_calorie_estimation\n",
    "    calories_estimation['gpt4_calorie_estimation'] = item['gpt4_recipe_total_calories']\n",
    "    total_calories_estimation.append(calories_estimation)"
   ]
  },
  {
   "cell_type": "code",
   "execution_count": 70,
   "metadata": {},
   "outputs": [
    {
     "data": {
      "text/plain": [
       "[{'id': '14',\n",
       "  'name': 'Mediterranean Chickpea Salad',\n",
       "  'usda_calorie_estimation': 1921.6,\n",
       "  'gpt4_calorie_estimation': 1400},\n",
       " {'id': '15',\n",
       "  'name': 'Mediterranean Stuffed Mushrooms',\n",
       "  'usda_calorie_estimation': 503.92,\n",
       "  'gpt4_calorie_estimation': 0},\n",
       " {'id': '17',\n",
       "  'name': 'Tangy Greek Yogurt Dressing',\n",
       "  'usda_calorie_estimation': 480.66,\n",
       "  'gpt4_calorie_estimation': 368},\n",
       " {'id': '16',\n",
       "  'name': 'Hearty Vegetable Lentil Soup',\n",
       "  'usda_calorie_estimation': 1045.53,\n",
       "  'gpt4_calorie_estimation': 1055},\n",
       " {'id': '12',\n",
       "  'name': 'Mediterranean Chickpea Salad',\n",
       "  'usda_calorie_estimation': 2186.99,\n",
       "  'gpt4_calorie_estimation': 1358},\n",
       " {'id': '13',\n",
       "  'name': 'Green Veggie Diabetic-Friendly Smoothie',\n",
       "  'usda_calorie_estimation': 295.84,\n",
       "  'gpt4_calorie_estimation': 264},\n",
       " {'id': '11',\n",
       "  'name': 'Spinach and Mushroom Egg White Frittata',\n",
       "  'usda_calorie_estimation': 533.33,\n",
       "  'gpt4_calorie_estimation': 0},\n",
       " {'id': '20',\n",
       "  'name': 'Cucumber Mint Infused Water',\n",
       "  'usda_calorie_estimation': 49.58,\n",
       "  'gpt4_calorie_estimation': 53},\n",
       " {'id': '18',\n",
       "  'name': 'Zucchini Noodles with Pesto and Cherry Tomatoes',\n",
       "  'usda_calorie_estimation': 918.1,\n",
       "  'gpt4_calorie_estimation': 491},\n",
       " {'id': '19',\n",
       "  'name': 'Zucchini Noodles with Pesto and Cherry Tomatoes',\n",
       "  'usda_calorie_estimation': 802.58,\n",
       "  'gpt4_calorie_estimation': 851}]"
      ]
     },
     "execution_count": 70,
     "metadata": {},
     "output_type": "execute_result"
    }
   ],
   "source": [
    "total_calories_estimation"
   ]
  },
  {
   "cell_type": "code",
   "execution_count": null,
   "metadata": {},
   "outputs": [],
   "source": []
  }
 ],
 "metadata": {
  "kernelspec": {
   "display_name": ".venv",
   "language": "python",
   "name": "python3"
  },
  "language_info": {
   "codemirror_mode": {
    "name": "ipython",
    "version": 3
   },
   "file_extension": ".py",
   "mimetype": "text/x-python",
   "name": "python",
   "nbconvert_exporter": "python",
   "pygments_lexer": "ipython3",
   "version": "3.11.3"
  }
 },
 "nbformat": 4,
 "nbformat_minor": 2
}
