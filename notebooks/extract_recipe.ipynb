{
 "cells": [
  {
   "cell_type": "code",
   "execution_count": 90,
   "metadata": {},
   "outputs": [],
   "source": [
    "import re\n",
    "\n",
    "# Function to extract nutritional values\n",
    "def extract_nutrition_values(text):\n",
    "    # Dictionary to hold the extracted values\n",
    "    nutrition_values = {}\n",
    "\n",
    "    # Regular expressions for extracting fat, carbohydrate, and protein\n",
    "    patterns = {\n",
    "        'fat': r\"Total Fat (\\d+g)\",\n",
    "        'carbohydrate': r\"Total Carbohydrate (\\d+g)\",\n",
    "        'protein': r\"Protein (\\d+g)\",\n",
    "    }\n",
    "\n",
    "    # Loop through the patterns and search in the text\n",
    "    for key, pattern in patterns.items():\n",
    "        match = re.search(pattern, text, re.IGNORECASE)\n",
    "        if match:\n",
    "            # If a match is found, add it to the dictionary\n",
    "            nutrition_values[key] = match.group(1)\n",
    "        else:\n",
    "            # If no match is found, set the value to None\n",
    "            nutrition_values[key] = None\n",
    "\n",
    "    return nutrition_values"
   ]
  },
  {
   "cell_type": "code",
   "execution_count": 91,
   "metadata": {},
   "outputs": [
    {
     "name": "stdout",
     "output_type": "stream",
     "text": [
      "{'fat': '8g', 'carbohydrate': '18g', 'protein': '4g'}\n"
     ]
    }
   ],
   "source": [
    "# Sample input text\n",
    "nutrition_info = \"\"\"\n",
    "total fat 8g 10%, \n",
    "Saturated Fat 1g 5%, \n",
    "Cholesterol 0mg 0%, \n",
    "Sodium 25mg 1%, \n",
    "Total Carbohydrate 18g 7%, \n",
    "Dietary Fiber 3g 11%, \n",
    "Total Sugars 9g, \n",
    "Protein 4g, \n",
    "Vitamin D 0mcg 0%, \n",
    "Calcium 20mg 2%, \n",
    "Iron 1mg 6%, \n",
    "Potassium 120mg 3%\n",
    "\"\"\"\n",
    "# Extracting the nutrition values\n",
    "extracted_values = extract_nutrition_values(nutrition_info)\n",
    "\n",
    "# Printing the results\n",
    "print(extracted_values)"
   ]
  },
  {
   "cell_type": "code",
   "execution_count": 92,
   "metadata": {},
   "outputs": [],
   "source": [
    "import glob"
   ]
  },
  {
   "cell_type": "code",
   "execution_count": 93,
   "metadata": {},
   "outputs": [],
   "source": [
    "file_paths = glob.glob(pathname='../data/*.xml')"
   ]
  },
  {
   "cell_type": "code",
   "execution_count": 94,
   "metadata": {},
   "outputs": [],
   "source": [
    "from bs4 import  BeautifulSoup"
   ]
  },
  {
   "cell_type": "code",
   "execution_count": 95,
   "metadata": {},
   "outputs": [],
   "source": [
    "with open(paths[0], 'r') as f:\n",
    "    file = f.read() \n",
    "\n",
    "# 'xml' is the parser used. For html files, which BeautifulSoup is typically used for, it would be 'html.parser'.\n",
    "soup = BeautifulSoup(file, 'xml')"
   ]
  },
  {
   "cell_type": "code",
   "execution_count": 96,
   "metadata": {},
   "outputs": [
    {
     "name": "stdout",
     "output_type": "stream",
     "text": [
      "<?xml version=\"1.0\" encoding=\"utf-8\"?>\n",
      "<recipe>\n",
      " <title>\n",
      "  Apple Crumb Pie\n",
      " </title>\n",
      " <ingredients>\n",
      "  1 pie crust (store-bought or homemade), 6 cups thinly sliced apples (such as Granny Smith or a combination of tart and sweet apples), 3/4 cup granulated sugar, 2 tbsp all-purpose flour, 1 tsp ground cinnamon, 1/4 tsp ground nutmeg, 1/4 tsp salt, 1 tsp vanilla extract, 1/2 cup unsalted butter (cold and cut into small pieces), 3/4 cup all-purpose flour (for crumb topping), 1/2 cup brown sugar (packed, for crumb topping), 1/4 tsp baking powder (for crumb topping), 1/4 tsp salt (for crumb topping), Optional: Vanilla ice cream or whipped cream for serving\n",
      " </ingredients>\n",
      " <directions>\n",
      "  Preheat the oven to 375 degrees F (190 degrees C). Place the pie crust into a 9-inch pie dish and crimp the edges as desired.\n",
      "In a large bowl, combine the sliced apples, granulated sugar, 2 tbsp flour, cinnamon, nutmeg, 1/4 tsp salt, and vanilla extract. Toss until the apples are evenly coated.\n",
      "Pour the apple mixture into the pie crust and spread it out evenly.\n",
      "In a separate bowl, prepare the crumb topping by mixing together 3/4 cup flour, brown sugar, baking powder, and 1/4 tsp salt. Add the cold butter pieces and use your fingers, a pastry cutter, or two knives to mix the butter into the dry ingredients until the mixture resembles coarse crumbs.\n",
      "Sprinkle the crumb topping evenly over the apples in the pie dish.\n",
      "Place the pie on a baking sheet to catch any drips and bake in the preheated oven for 45 to 50 minutes, or until the crumb topping is golden brown and the apple filling is bubbly.\n",
      "If the edges of the crust begin to brown too quickly, cover them with aluminum foil.\n",
      "Remove the pie from the oven and let it cool on a wire rack. Serve warm or at room temperature with vanilla ice cream or whipped cream, if desired.\n",
      " </directions>\n",
      " <nutrition>\n",
      "  Total Fat 14g 18%, Saturated Fat 7g 35%, Cholesterol 30mg 10%, Sodium 190mg 8%, Total Carbohydrate 58g 21%, Dietary Fiber 3g 11%, Total Sugars 38g, Protein 2g, Vitamin C 4mg 22%, Calcium 20mg 2%, Iron 1mg 5%, Potassium 120mg 3%\n",
      " </nutrition>\n",
      "</recipe>\n",
      "\n"
     ]
    }
   ],
   "source": [
    "print(soup.prettify())"
   ]
  },
  {
   "cell_type": "code",
   "execution_count": 97,
   "metadata": {},
   "outputs": [],
   "source": [
    "title = soup.find('title')"
   ]
  },
  {
   "cell_type": "code",
   "execution_count": 98,
   "metadata": {},
   "outputs": [
    {
     "data": {
      "text/plain": [
       "'Apple Crumb Pie'"
      ]
     },
     "execution_count": 98,
     "metadata": {},
     "output_type": "execute_result"
    }
   ],
   "source": [
    "title.text.strip()"
   ]
  },
  {
   "cell_type": "code",
   "execution_count": 99,
   "metadata": {},
   "outputs": [
    {
     "data": {
      "text/plain": [
       "'\\n  1 pie crust (store-bought or homemade), 6 cups thinly sliced apples (such as Granny Smith or a combination of tart and sweet apples), 3/4 cup granulated sugar, 2 tbsp all-purpose flour, 1 tsp ground cinnamon, 1/4 tsp ground nutmeg, 1/4 tsp salt, 1 tsp vanilla extract, 1/2 cup unsalted butter (cold and cut into small pieces), 3/4 cup all-purpose flour (for crumb topping), 1/2 cup brown sugar (packed, for crumb topping), 1/4 tsp baking powder (for crumb topping), 1/4 tsp salt (for crumb topping), Optional: Vanilla ice cream or whipped cream for serving\\n '"
      ]
     },
     "execution_count": 99,
     "metadata": {},
     "output_type": "execute_result"
    }
   ],
   "source": [
    "ingredients = soup.find('ingredients')\n",
    "ingredients.text"
   ]
  },
  {
   "cell_type": "code",
   "execution_count": 100,
   "metadata": {},
   "outputs": [
    {
     "name": "stdout",
     "output_type": "stream",
     "text": [
      "1 pie crust (store-bought or homemade), 6 cups thinly sliced apples (such as Granny Smith or a combination of tart and sweet apples), 3/4 cup granulated sugar, 2 tbsp all-purpose flour, 1 tsp ground cinnamon, 1/4 tsp ground nutmeg, 1/4 tsp salt, 1 tsp vanilla extract, 1/2 cup unsalted butter (cold and cut into small pieces), 3/4 cup all-purpose flour (for crumb topping), 1/2 cup brown sugar (packed, for crumb topping), 1/4 tsp baking powder (for crumb topping), 1/4 tsp salt (for crumb topping), Optional: Vanilla ice cream or whipped cream for serving\n"
     ]
    }
   ],
   "source": [
    "# Original string with \\n at the beginning and end, and extra spaces\n",
    "original_string = '\\n  1 pie crust (store-bought or homemade), 6 cups thinly sliced apples (such as Granny Smith or a combination of tart and sweet apples), 3/4 cup granulated sugar, 2 tbsp all-purpose flour, 1 tsp ground cinnamon, 1/4 tsp ground nutmeg, 1/4 tsp salt, 1 tsp vanilla extract, 1/2 cup unsalted butter (cold and cut into small pieces), 3/4 cup all-purpose flour (for crumb topping), 1/2 cup brown sugar (packed, for crumb topping), 1/4 tsp baking powder (for crumb topping), 1/4 tsp salt (for crumb topping), Optional: Vanilla ice cream or whipped cream for serving\\n '\n",
    "\n",
    "# Using .strip() to remove leading/trailing whitespaces and newline characters\n",
    "cleaned_string = original_string.strip()\n",
    "\n",
    "print(cleaned_string)"
   ]
  },
  {
   "cell_type": "code",
   "execution_count": 116,
   "metadata": {},
   "outputs": [],
   "source": [
    "from pydantic import BaseModel\n",
    "from typing import  List, Optional\n",
    "class Nutrition(BaseModel):\n",
    "    fat: Optional[str] = None\n",
    "    protein: Optional[str] = None\n",
    "    carbohydrate: Optional[str] = None\n",
    "\n",
    "class Recipe(BaseModel):\n",
    "    id: str\n",
    "    recipe_name:str\n",
    "    ingredients: str\n",
    "    directions: str\n",
    "    nutrition: Nutrition \n",
    "\n",
    "class Recipes(BaseModel):\n",
    "    recipes: List[Recipe] = []\n"
   ]
  },
  {
   "cell_type": "code",
   "execution_count": 117,
   "metadata": {},
   "outputs": [],
   "source": [
    "def read_xml_file(file_path: str):\n",
    "    with open(file_path, 'r') as f:\n",
    "        file = f.read() \n",
    "        return file"
   ]
  },
  {
   "cell_type": "code",
   "execution_count": 118,
   "metadata": {},
   "outputs": [],
   "source": [
    "def clean_text(content: str):\n",
    "    clean_content = content.strip()\n",
    "    return clean_content"
   ]
  },
  {
   "cell_type": "code",
   "execution_count": 141,
   "metadata": {},
   "outputs": [],
   "source": [
    "from pathlib import Path\n",
    "def parse_llm_recipes(file_paths:list):\n",
    "    recipes = Recipes()\n",
    "    for file_path in file_paths:\n",
    "        print(f'Parsing file:{file_path}')\n",
    "        id = Path(file_path).stem\n",
    "        file = read_xml_file(file_path)\n",
    "        soup = BeautifulSoup(file, 'xml')\n",
    "        title = soup.find('title')\n",
    "        title = clean_text(title.text)\n",
    "        ingredients = soup.find('ingredients')\n",
    "        ingredients = clean_text(ingredients.text)\n",
    "        directions = soup.find('directions')\n",
    "        directions = clean_text(directions.text)\n",
    "        nutrition = soup.find('nutrition')\n",
    "        nutrition = clean_text(nutrition.text)\n",
    "        parsed_nutrition = extract_nutrition_values(text=nutrition)\n",
    "        nutrition = Nutrition(fat=parsed_nutrition['fat'], protein=parsed_nutrition['protein'],carbohydrate=parsed_nutrition['carbohydrate'])\n",
    "        recipe = Recipe(id = id, recipe_name=title, ingredients=ingredients,directions=directions, nutrition=nutrition)\n",
    "        recipes.recipes.append(recipe) \n",
    "    return recipes   "
   ]
  },
  {
   "cell_type": "code",
   "execution_count": 143,
   "metadata": {},
   "outputs": [
    {
     "name": "stdout",
     "output_type": "stream",
     "text": [
      "Parsing file:../data/49.xml\n",
      "Parsing file:../data/99.xml\n",
      "Parsing file:../data/713.xml\n",
      "Parsing file:../data/887.xml\n",
      "Parsing file:../data/651.xml\n",
      "Parsing file:../data/678.xml\n",
      "Parsing file:../data/244.xml\n",
      "Parsing file:../data/90.xml\n",
      "Parsing file:../data/393.xml\n",
      "Parsing file:../data/581.xml\n"
     ]
    }
   ],
   "source": [
    "llm_recipes = parse_llm_recipes(file_paths)"
   ]
  },
  {
   "cell_type": "code",
   "execution_count": 121,
   "metadata": {},
   "outputs": [],
   "source": [
    "import json\n",
    "with open('../data/gpt4_1106_recipes.json', 'w') as f:\n",
    "    json.dump(llm_recipes.model_dump(mode='json'), f, indent=4, ensure_ascii=False)"
   ]
  },
  {
   "cell_type": "code",
   "execution_count": 108,
   "metadata": {},
   "outputs": [
    {
     "name": "stderr",
     "output_type": "stream",
     "text": [
      "/var/folders/qb/cr87d2s56q51lk72620820hw0000gn/T/ipykernel_79702/4080736814.py:1: DeprecationWarning: \n",
      "Pyarrow will become a required dependency of pandas in the next major release of pandas (pandas 3.0),\n",
      "(to allow more performant data types, such as the Arrow string type, and better interoperability with other libraries)\n",
      "but was not found to be installed on your system.\n",
      "If this would cause problems for you,\n",
      "please provide us feedback at https://github.com/pandas-dev/pandas/issues/54466\n",
      "        \n",
      "  import pandas as pd\n"
     ]
    }
   ],
   "source": [
    "import pandas as pd"
   ]
  },
  {
   "cell_type": "code",
   "execution_count": 109,
   "metadata": {},
   "outputs": [],
   "source": [
    "df_orginal_recipe = pd.read_csv('../data/recipes.csv')"
   ]
  },
  {
   "cell_type": "code",
   "execution_count": 111,
   "metadata": {},
   "outputs": [],
   "source": [
    "df_orginal_recipe = df_orginal_recipe.rename(columns={'Unnamed: 0': 'id'})"
   ]
  },
  {
   "cell_type": "code",
   "execution_count": 115,
   "metadata": {},
   "outputs": [
    {
     "data": {
      "text/plain": [
       "id                int64\n",
       "recipe_name      object\n",
       "prep_time        object\n",
       "cook_time        object\n",
       "total_time       object\n",
       "servings          int64\n",
       "yield            object\n",
       "ingredients      object\n",
       "directions       object\n",
       "rating          float64\n",
       "url              object\n",
       "cuisine_path     object\n",
       "nutrition        object\n",
       "timing           object\n",
       "img_src          object\n",
       "dtype: object"
      ]
     },
     "execution_count": 115,
     "metadata": {},
     "output_type": "execute_result"
    }
   ],
   "source": [
    "df_orginal_recipe.dtypes"
   ]
  },
  {
   "cell_type": "code",
   "execution_count": 140,
   "metadata": {},
   "outputs": [
    {
     "data": {
      "text/plain": [
       "{'id': 49,\n",
       " 'recipe_name': 'Apple Crumb Pie',\n",
       " 'prep_time': '30 mins',\n",
       " 'cook_time': '50 mins',\n",
       " 'total_time': '1 hrs 20 mins',\n",
       " 'servings': 8,\n",
       " 'yield': '1 9-inch pie',\n",
       " 'ingredients': '6 cups thinly sliced apples, 1 tablespoon lemon juice (Optional), ¾ cup white sugar, 2 tablespoons all-purpose flour, ½ teaspoon ground cinnamon, ⅛ teaspoon ground nutmeg, ½ cup raisins (Optional), ½ cup chopped walnuts (Optional), 1 (9 inch) pie shell, ½ cup all-purpose flour, ½ cup packed brown sugar, 3 tablespoons butter',\n",
       " 'directions': 'Preheat the oven to 375 degrees F (190 degrees C).\\nPlace sliced apples in a large bowl; sprinkle with lemon juice. Mix white sugar, 2 tablespoons flour, cinnamon, and nutmeg together in a small bowl; sprinkle mixture over apples and toss until evenly coated. Stir in raisins and walnuts; transfer mixture into pie shell.\\nMix 1/2 cup flour and brown sugar together in a small bowl. Blend in butter with a fork until mixture is crumbly; sprinkle over apple filling. Cover top of pie loosely with aluminum foil.\\nBake in the preheated oven for 25 minutes. Remove foil and bake until top is golden brown and filling is bubbly, about 25 to 30 minutes more. Cool on a wire rack before serving.',\n",
       " 'rating': 4.7,\n",
       " 'url': 'https://www.allrecipes.com/recipe/15587/apple-crumb-pie/',\n",
       " 'cuisine_path': '/Desserts/Pies/Apple Pie Recipes/',\n",
       " 'nutrition': 'Total Fat 15g 19%, Saturated Fat 4g 20%, Cholesterol 11mg 4%, Sodium 139mg 6%, Total Carbohydrate 70g 25%, Dietary Fiber 4g 13%, Total Sugars 49g, Protein 4g, Vitamin C 6mg 28%, Calcium 37mg 3%, Iron 1mg 8%, Potassium 261mg 6%',\n",
       " 'timing': 'Prep Time: 30 mins, Cook Time: 50 mins, Total Time: 1 hrs 20 mins, Servings: 8, Yield: 1 9-inch pie',\n",
       " 'img_src': 'https://www.allrecipes.com/thmb/3qY9aBqD34LmSObh2KKQZatIjE8=/1500x0/filters:no_upscale():max_bytes(150000):strip_icc()/15587-apple-crumb-pie-ddmfs-4x3-1-dc4ac2e030e04d60a7650ede077f3c45.jpg'}"
      ]
     },
     "execution_count": 140,
     "metadata": {},
     "output_type": "execute_result"
    }
   ],
   "source": [
    "df_orginal_recipe[df_orginal_recipe['id'] == 49].to_dict('records')[0]"
   ]
  },
  {
   "cell_type": "code",
   "execution_count": 155,
   "metadata": {},
   "outputs": [],
   "source": [
    "def parse_original_recipes(file_paths: list):\n",
    "    recipes = Recipes()\n",
    "    for file_path in file_paths:\n",
    "        id = Path(file_path).stem\n",
    "        row = df_orginal_recipe[df_orginal_recipe['id'] == int(id)].to_dict('records')[0]\n",
    "        recipe_name = row['recipe_name']\n",
    "        ingredients = row['ingredients']\n",
    "        directions = row['directions']\n",
    "        nutrition = row['nutrition']\n",
    "        parsed_nutrition = extract_nutrition_values(text=nutrition)\n",
    "        nutrition = Nutrition(fat=parsed_nutrition['fat'], protein=parsed_nutrition['protein'],carbohydrate=parsed_nutrition['carbohydrate'])\n",
    "        recipe = Recipe(id = id, recipe_name=recipe_name, ingredients=ingredients,directions=directions, nutrition=nutrition)\n",
    "        recipes.recipes.append(recipe)\n",
    "    return recipes "
   ]
  },
  {
   "cell_type": "code",
   "execution_count": 156,
   "metadata": {},
   "outputs": [],
   "source": [
    "orginal_recpies = parse_original_recipes(file_paths=file_paths)"
   ]
  },
  {
   "cell_type": "code",
   "execution_count": 159,
   "metadata": {},
   "outputs": [],
   "source": [
    "import json\n",
    "with open('../data/orginal_recipes.json', 'w') as f:\n",
    "    json.dump(orginal_recpies.model_dump(mode='json'), f, indent=4, ensure_ascii=False)"
   ]
  },
  {
   "cell_type": "code",
   "execution_count": null,
   "metadata": {},
   "outputs": [],
   "source": []
  }
 ],
 "metadata": {
  "kernelspec": {
   "display_name": ".venv",
   "language": "python",
   "name": "python3"
  },
  "language_info": {
   "codemirror_mode": {
    "name": "ipython",
    "version": 3
   },
   "file_extension": ".py",
   "mimetype": "text/x-python",
   "name": "python",
   "nbconvert_exporter": "python",
   "pygments_lexer": "ipython3",
   "version": "3.11.3"
  }
 },
 "nbformat": 4,
 "nbformat_minor": 2
}
