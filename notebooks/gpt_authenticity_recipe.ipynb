{
 "cells": [
  {
   "cell_type": "code",
   "execution_count": 1,
   "metadata": {},
   "outputs": [
    {
     "data": {
      "text/plain": [
       "True"
      ]
     },
     "execution_count": 1,
     "metadata": {},
     "output_type": "execute_result"
    }
   ],
   "source": [
    "from dotenv import load_dotenv\n",
    "load_dotenv('../.vscode/.env')"
   ]
  },
  {
   "cell_type": "code",
   "execution_count": 2,
   "metadata": {},
   "outputs": [
    {
     "name": "stderr",
     "output_type": "stream",
     "text": [
      "/var/folders/qb/cr87d2s56q51lk72620820hw0000gn/T/ipykernel_33724/4080736814.py:1: DeprecationWarning: \n",
      "Pyarrow will become a required dependency of pandas in the next major release of pandas (pandas 3.0),\n",
      "(to allow more performant data types, such as the Arrow string type, and better interoperability with other libraries)\n",
      "but was not found to be installed on your system.\n",
      "If this would cause problems for you,\n",
      "please provide us feedback at https://github.com/pandas-dev/pandas/issues/54466\n",
      "        \n",
      "  import pandas as pd\n"
     ]
    }
   ],
   "source": [
    "import pandas as pd"
   ]
  },
  {
   "cell_type": "code",
   "execution_count": 3,
   "metadata": {},
   "outputs": [],
   "source": [
    "df = pd.read_csv('../data/diabetic_recipe.csv')"
   ]
  },
  {
   "cell_type": "code",
   "execution_count": 4,
   "metadata": {},
   "outputs": [],
   "source": [
    "row = df.iloc[0]"
   ]
  },
  {
   "cell_type": "code",
   "execution_count": 5,
   "metadata": {},
   "outputs": [],
   "source": [
    "ASSISTANT_INSTRUCTION = f'''\n",
    "You are helpful diabetic-friendly recipe assistant who give different recipe each time when user ask. Recipe can be for vegetarian, vegan, and non-vegeterian diets.You generate diabetic friendly recipe in below format:\n",
    "<recipe>\n",
    "    <recipe_name> {row['recipe_name']} </recipe_name>\n",
    "    <ingredients> {row['ingredients']} </ingredients>\n",
    "    <directions> {row['directions']} </directions>\n",
    "    <nutrition> {row['nutrition']} </nutrition> \n",
    "</recipe>\n",
    "Always use above format to give recipe.\n",
    "'''"
   ]
  },
  {
   "cell_type": "code",
   "execution_count": 44,
   "metadata": {},
   "outputs": [],
   "source": [
    "# Reusing assistant created earlier for recipe genration using GPT4\n",
    "ASSISTANT_NAME = 'Diabetic-Friendly Recipe Assistant'\n"
   ]
  },
  {
   "cell_type": "code",
   "execution_count": 6,
   "metadata": {},
   "outputs": [],
   "source": [
    "from openai import OpenAI\n",
    "import os"
   ]
  },
  {
   "cell_type": "code",
   "execution_count": 7,
   "metadata": {},
   "outputs": [],
   "source": [
    "import json\n",
    "\n",
    "def show_json(obj):\n",
    "    display(json.loads(obj.model_dump_json()))"
   ]
  },
  {
   "cell_type": "code",
   "execution_count": 8,
   "metadata": {},
   "outputs": [],
   "source": [
    "client = OpenAI(api_key=os.environ.get(\"OPENAI_API_KEY\", \"\"))\n"
   ]
  },
  {
   "cell_type": "code",
   "execution_count": 48,
   "metadata": {},
   "outputs": [
    {
     "data": {
      "text/plain": [
       "{'id': 'asst_i014pbQ36JXw3VpqtybiYGrt',\n",
       " 'created_at': 1708591408,\n",
       " 'description': None,\n",
       " 'file_ids': [],\n",
       " 'instructions': '\\nYou are helpful diabetic-friendly recipe assistant who give different recipe each time when user ask. Recipe can be for vegetarian, vegan, and non-vegeterian diets.You generate diabetic friendly recipe in below format:\\n<recipe>\\n    <recipe_name> Shrimp scampi </recipe_name>\\n    <ingredients> 8 ounces uncooked spaghetti, 3 tablespoons olive oil, divided, 2 pounds large shrimp, peeled and deveined, 1 tablespoon minced garlic, 1/4 cup chopped shallots or green onions, 2 tablespoons lemon juice, 1/4 cup chopped parsley, 1/4 teaspoon salt, Ground black pepper, to taste, 2 tablespoons brandy or sherry, optional , 2 tablespoons butter </ingredients>\\n    <directions> Fill a large pot 3/4 full with water and bring to a boil. Add the pasta and cook according to package directions. Drain the pasta thoroughly, While the pasta is cooking, heat 1 tablespoon olive oil in a large saucepan over medium heat. Add the shrimp and cook for 2 to 3 minutes on each side. Transfer shrimp to a bowl and keep warm,  Add garlic and shallots to the saucepan and cook until fragrant, about 10 seconds. Add lemon juice, parsley, salt and pepper, and brandy or sherry, if desired.Remove the saucepan from the heat. Add the cooked shrimp plus 2 tablespoons olive oil and 2 tablespoons butter. Toss until shrimp are coated with sauce. Divide pasta among warmed individual bowls. Top with shrimp and sauce. Serve immediately. </directions>\\n    <nutrition> Calories 376, Total fat 12g,  Protein 36g, Cholesterol 254mg, Total carbohydrate 31g, Dietary fiber 2g, Monounsaturated fat 6g, Saturated fat 4g, Added sugars 0g, Sodium 344mg, Trans fat Trace, Potassium 537mg, Total sugars 2g </nutrition> \\n</recipe>\\nAlways use above format to give recipe.\\n',\n",
       " 'metadata': {},\n",
       " 'model': 'gpt-4-1106-preview',\n",
       " 'name': 'Diabetic-Friendly Recipe Assistant',\n",
       " 'object': 'assistant',\n",
       " 'tools': []}"
      ]
     },
     "metadata": {},
     "output_type": "display_data"
    }
   ],
   "source": [
    "assistant = client.beta.assistants.create(\n",
    "    name=ASSISTANT_NAME,\n",
    "    instructions=ASSISTANT_INSTRUCTION,\n",
    "    model=\"gpt-4-1106-preview\",\n",
    ")\n",
    "show_json(assistant)"
   ]
  },
  {
   "cell_type": "code",
   "execution_count": 9,
   "metadata": {},
   "outputs": [],
   "source": [
    "ASSISTANT_ID='asst_i014pbQ36JXw3VpqtybiYGrt'"
   ]
  },
  {
   "cell_type": "code",
   "execution_count": 10,
   "metadata": {},
   "outputs": [],
   "source": [
    "from bs4 import BeautifulSoup\n",
    "client = OpenAI(api_key=os.environ.get(\"OPENAI_API_KEY\", \"\"))\n",
    "\n",
    "def submit_message(assistant_id, thread, user_message):\n",
    "    client.beta.threads.messages.create(\n",
    "        thread_id=thread.id, role=\"user\", content=user_message\n",
    "    )\n",
    "    return client.beta.threads.runs.create(\n",
    "        thread_id=thread.id,\n",
    "        assistant_id=assistant_id,\n",
    "    )\n",
    "\n",
    "\n",
    "def get_response(thread):\n",
    "    messages = client.beta.threads.messages.list(thread_id=thread.id)\n",
    "    for m in messages:\n",
    "        if m.role == 'assistant':\n",
    "            return m.content[0].text.value\n",
    "# Write recipe in xml format using Beautiful soup\n",
    "def write_recipe(id: str, recipe_content:str):\n",
    "    soup = BeautifulSoup(recipe_content, \"xml\")\n",
    "    with open(f'../data/random_diabetic_recipe/{id}.xml', 'w') as f:\n",
    "        f.write(soup.prettify())\n",
    "\n",
    "def create_thread_and_run(assistant_id: str, user_input:str):\n",
    "    thread = client.beta.threads.create()\n",
    "    run = submit_message(assistant_id, thread, user_input)\n",
    "    return thread, run"
   ]
  },
  {
   "cell_type": "code",
   "execution_count": 11,
   "metadata": {},
   "outputs": [],
   "source": [
    "import time\n",
    "\n",
    "def wait_on_run(run, thread):\n",
    "    while run.status == \"queued\" or run.status == \"in_progress\":\n",
    "        run = client.beta.threads.runs.retrieve(\n",
    "            thread_id=thread.id,\n",
    "            run_id=run.id,\n",
    "        )\n",
    "        time.sleep(0.5)\n",
    "    return run"
   ]
  },
  {
   "cell_type": "code",
   "execution_count": 16,
   "metadata": {},
   "outputs": [
    {
     "name": "stdout",
     "output_type": "stream",
     "text": [
      "Generated recipe for id:5\n"
     ]
    }
   ],
   "source": [
    "for i in range(5,6):\n",
    "    thread, run = create_thread_and_run(assistant_id= ASSISTANT_ID, user_input=f\"Give me diabetic-friendly lunch recipe.\")\n",
    "    run = wait_on_run(thread=thread, run = run)\n",
    "    recipe_content = get_response(thread=thread)\n",
    "    write_recipe(id=str(i), recipe_content=recipe_content)\n",
    "    recipe_id = str(i)\n",
    "    print(f'Generated recipe for id:{recipe_id}')"
   ]
  },
  {
   "cell_type": "code",
   "execution_count": 17,
   "metadata": {},
   "outputs": [],
   "source": [
    "import re\n",
    "\n",
    "# Function to extract nutritional values\n",
    "def extract_nutrition_values(text):\n",
    "    # Dictionary to hold the extracted values\n",
    "    nutrition_values = {}\n",
    "\n",
    "    # Regular expressions for extracting fat, carbohydrate, and protein\n",
    "    patterns = {\n",
    "        'fat': r\"Total Fat (\\d+\\.?\\d*g)\",\n",
    "        'carbohydrate': r\"Total Carbohydrate (\\d+\\.?\\d*g)\",\n",
    "        'protein': r\"Protein (\\d+\\.?\\d*g)\",\n",
    "    }\n",
    "\n",
    "    # Loop through the patterns and search in the text\n",
    "    for key, pattern in patterns.items():\n",
    "        match = re.search(pattern, text, re.IGNORECASE)\n",
    "        if match:\n",
    "            # If a match is found, add it to the dictionary\n",
    "            nutrition_values[key] = match.group(1)\n",
    "        else:\n",
    "            # If no match is found, set the value to None\n",
    "            nutrition_values[key] = None\n",
    "\n",
    "    return nutrition_values"
   ]
  },
  {
   "cell_type": "code",
   "execution_count": 18,
   "metadata": {},
   "outputs": [],
   "source": [
    "import glob\n",
    "from bs4 import  BeautifulSoup\n",
    "file_paths = glob.glob(pathname='../data/random_diabetic_recipe/*.xml')"
   ]
  },
  {
   "cell_type": "code",
   "execution_count": 19,
   "metadata": {},
   "outputs": [],
   "source": [
    "with open(file_paths[0], 'r') as f:\n",
    "    file = f.read() \n",
    "\n",
    "# 'xml' is the parser used. For html files, which BeautifulSoup is typically used for, it would be 'html.parser'.\n",
    "soup = BeautifulSoup(file, 'xml')"
   ]
  },
  {
   "cell_type": "code",
   "execution_count": 20,
   "metadata": {},
   "outputs": [],
   "source": [
    "from pydantic import BaseModel\n",
    "from typing import  List, Optional\n",
    "class Nutrition(BaseModel):\n",
    "    fat: Optional[str] = None\n",
    "    protein: Optional[str] = None\n",
    "    carbohydrate: Optional[str] = None\n",
    "\n",
    "class Recipe(BaseModel):\n",
    "    id: str\n",
    "    recipe_name:str\n",
    "    ingredients: str\n",
    "    directions: str\n",
    "    nutrition: Nutrition \n",
    "\n",
    "class Recipes(BaseModel):\n",
    "    recipes: List[Recipe] = []"
   ]
  },
  {
   "cell_type": "code",
   "execution_count": 21,
   "metadata": {},
   "outputs": [],
   "source": [
    "def read_xml_file(file_path: str):\n",
    "    with open(file_path, 'r') as f:\n",
    "        file = f.read() \n",
    "        return file\n",
    "\n",
    "def clean_text(content: str):\n",
    "    clean_content = content.strip()\n",
    "    return clean_content"
   ]
  },
  {
   "cell_type": "code",
   "execution_count": 22,
   "metadata": {},
   "outputs": [],
   "source": [
    "from pathlib import Path\n",
    "def parse_llm_recipes(file_paths:list):\n",
    "    recipes = Recipes()\n",
    "    for file_path in file_paths:\n",
    "        print(f'Parsing file:{file_path}')\n",
    "        id = Path(file_path).stem\n",
    "        file = read_xml_file(file_path)\n",
    "        soup = BeautifulSoup(file, 'xml')\n",
    "        recipe_name = soup.find('recipe_name')\n",
    "        recipe_name = clean_text(recipe_name.text)\n",
    "        ingredients = soup.find('ingredients')\n",
    "        ingredients = clean_text(ingredients.text)\n",
    "        directions = soup.find('directions')\n",
    "        directions = clean_text(directions.text)\n",
    "        nutrition = soup.find('nutrition')\n",
    "        nutrition = clean_text(nutrition.text)\n",
    "        parsed_nutrition = extract_nutrition_values(text=nutrition)\n",
    "        nutrition = Nutrition(fat=parsed_nutrition['fat'], protein=parsed_nutrition['protein'],carbohydrate=parsed_nutrition['carbohydrate'])\n",
    "        recipe = Recipe(id = id, recipe_name = recipe_name, ingredients = ingredients,directions=directions, nutrition=nutrition)\n",
    "        recipes.recipes.append(recipe) \n",
    "    return recipes "
   ]
  },
  {
   "cell_type": "code",
   "execution_count": 23,
   "metadata": {},
   "outputs": [
    {
     "name": "stdout",
     "output_type": "stream",
     "text": [
      "Parsing file:../data/random_diabetic_recipe/8.xml\n",
      "Parsing file:../data/random_diabetic_recipe/9.xml\n",
      "Parsing file:../data/random_diabetic_recipe/10.xml\n",
      "Parsing file:../data/random_diabetic_recipe/4.xml\n",
      "Parsing file:../data/random_diabetic_recipe/5.xml\n",
      "Parsing file:../data/random_diabetic_recipe/7.xml\n",
      "Parsing file:../data/random_diabetic_recipe/6.xml\n",
      "Parsing file:../data/random_diabetic_recipe/2.xml\n",
      "Parsing file:../data/random_diabetic_recipe/3.xml\n",
      "Parsing file:../data/random_diabetic_recipe/1.xml\n"
     ]
    }
   ],
   "source": [
    "llm_recipes = parse_llm_recipes(file_paths)\n"
   ]
  },
  {
   "cell_type": "code",
   "execution_count": 24,
   "metadata": {},
   "outputs": [],
   "source": [
    "import json\n",
    "with open('../data/random_diabetic_recipe/gpt4_1106_recipes.json', 'w') as f:\n",
    "    json.dump(llm_recipes.model_dump(mode='json'), f, indent=4, ensure_ascii=False)"
   ]
  },
  {
   "cell_type": "code",
   "execution_count": 25,
   "metadata": {},
   "outputs": [],
   "source": [
    "import json\n",
    "with open('../data/random_diabetic_recipe/gpt4_1106_recipes.json') as f:\n",
    "    gpt4_recipe = json.load(f)"
   ]
  },
  {
   "cell_type": "code",
   "execution_count": 26,
   "metadata": {},
   "outputs": [],
   "source": [
    "df_gpt4_recipe = pd.DataFrame.from_records(gpt4_recipe['recipes'])"
   ]
  },
  {
   "cell_type": "code",
   "execution_count": 27,
   "metadata": {},
   "outputs": [
    {
     "data": {
      "text/html": [
       "<div>\n",
       "<style scoped>\n",
       "    .dataframe tbody tr th:only-of-type {\n",
       "        vertical-align: middle;\n",
       "    }\n",
       "\n",
       "    .dataframe tbody tr th {\n",
       "        vertical-align: top;\n",
       "    }\n",
       "\n",
       "    .dataframe thead th {\n",
       "        text-align: right;\n",
       "    }\n",
       "</style>\n",
       "<table border=\"1\" class=\"dataframe\">\n",
       "  <thead>\n",
       "    <tr style=\"text-align: right;\">\n",
       "      <th></th>\n",
       "      <th>id</th>\n",
       "      <th>recipe_name</th>\n",
       "      <th>ingredients</th>\n",
       "      <th>directions</th>\n",
       "      <th>nutrition</th>\n",
       "    </tr>\n",
       "  </thead>\n",
       "  <tbody>\n",
       "    <tr>\n",
       "      <th>0</th>\n",
       "      <td>8</td>\n",
       "      <td>Grilled Chicken Salad with Strawberry Vinaigrette</td>\n",
       "      <td>2 boneless, skinless chicken breasts, 6 cups m...</td>\n",
       "      <td>Preheat grill to medium-high heat. Season chic...</td>\n",
       "      <td>{'fat': '15g', 'protein': '29g', 'carbohydrate...</td>\n",
       "    </tr>\n",
       "    <tr>\n",
       "      <th>1</th>\n",
       "      <td>9</td>\n",
       "      <td>Grilled Lemon-Herb Chicken Salad</td>\n",
       "      <td>4 boneless, skinless chicken breasts, 1 tables...</td>\n",
       "      <td>Preheat grill to medium-high heat. In a small ...</td>\n",
       "      <td>{'fat': '15g', 'protein': '30g', 'carbohydrate...</td>\n",
       "    </tr>\n",
       "    <tr>\n",
       "      <th>2</th>\n",
       "      <td>10</td>\n",
       "      <td>Mediterranean Quinoa Salad</td>\n",
       "      <td>1 cup quinoa, 2 cups water, 1 cup cherry tomat...</td>\n",
       "      <td>In a medium saucepan, combine quinoa and water...</td>\n",
       "      <td>{'fat': '10g', 'protein': '6g', 'carbohydrate'...</td>\n",
       "    </tr>\n",
       "    <tr>\n",
       "      <th>3</th>\n",
       "      <td>4</td>\n",
       "      <td>Grilled Chicken Salad with Orange Vinaigrette</td>\n",
       "      <td>2 boneless, skinless chicken breasts, 6 cups m...</td>\n",
       "      <td>Preheat grill to medium-high heat. Season the ...</td>\n",
       "      <td>{'fat': '14g', 'protein': '28g', 'carbohydrate...</td>\n",
       "    </tr>\n",
       "    <tr>\n",
       "      <th>4</th>\n",
       "      <td>5</td>\n",
       "      <td>Grilled Chicken Salad with Avocado Dressing</td>\n",
       "      <td>2 boneless, skinless chicken breasts, 1 teaspo...</td>\n",
       "      <td>Preheat grill to medium-high heat. Brush chick...</td>\n",
       "      <td>{'fat': '14g', 'protein': '35g', 'carbohydrate...</td>\n",
       "    </tr>\n",
       "    <tr>\n",
       "      <th>5</th>\n",
       "      <td>7</td>\n",
       "      <td>Grilled Mediterranean Vegetable Salad</td>\n",
       "      <td>1 medium eggplant, sliced into 1/2-inch rounds...</td>\n",
       "      <td>Preheat grill to medium-high heat. In a small ...</td>\n",
       "      <td>{'fat': '12g', 'protein': '4g', 'carbohydrate'...</td>\n",
       "    </tr>\n",
       "    <tr>\n",
       "      <th>6</th>\n",
       "      <td>6</td>\n",
       "      <td>Grilled Chicken with Spinach and Pine Nut Pesto</td>\n",
       "      <td>4 boneless, skinless chicken breasts, 1 tables...</td>\n",
       "      <td>Preheat grill to medium-high heat. Brush chick...</td>\n",
       "      <td>{'fat': '15g', 'protein': '34g', 'carbohydrate...</td>\n",
       "    </tr>\n",
       "    <tr>\n",
       "      <th>7</th>\n",
       "      <td>2</td>\n",
       "      <td>Spinach and Feta Egg Muffins</td>\n",
       "      <td>8 large eggs, 1 cup fresh spinach, chopped, 1/...</td>\n",
       "      <td>Preheat your oven to 350°F (175°C). Spray a mu...</td>\n",
       "      <td>{'fat': '7g', 'protein': '9g', 'carbohydrate':...</td>\n",
       "    </tr>\n",
       "    <tr>\n",
       "      <th>8</th>\n",
       "      <td>3</td>\n",
       "      <td>Spinach and Feta Omelette</td>\n",
       "      <td>2 large eggs, 1/4 cup chopped spinach, 1 table...</td>\n",
       "      <td>In a small bowl, beat the eggs with the dried ...</td>\n",
       "      <td>{'fat': '15g', 'protein': '19g', 'carbohydrate...</td>\n",
       "    </tr>\n",
       "    <tr>\n",
       "      <th>9</th>\n",
       "      <td>1</td>\n",
       "      <td>Spinach and Feta Breakfast Scramble</td>\n",
       "      <td>4 large eggs, 2 large egg whites, 2 tablespoon...</td>\n",
       "      <td>In a bowl, whisk together the eggs, egg whites...</td>\n",
       "      <td>{'fat': '15g', 'protein': '19g', 'carbohydrate...</td>\n",
       "    </tr>\n",
       "  </tbody>\n",
       "</table>\n",
       "</div>"
      ],
      "text/plain": [
       "   id                                        recipe_name  \\\n",
       "0   8  Grilled Chicken Salad with Strawberry Vinaigrette   \n",
       "1   9                   Grilled Lemon-Herb Chicken Salad   \n",
       "2  10                         Mediterranean Quinoa Salad   \n",
       "3   4      Grilled Chicken Salad with Orange Vinaigrette   \n",
       "4   5        Grilled Chicken Salad with Avocado Dressing   \n",
       "5   7              Grilled Mediterranean Vegetable Salad   \n",
       "6   6    Grilled Chicken with Spinach and Pine Nut Pesto   \n",
       "7   2                       Spinach and Feta Egg Muffins   \n",
       "8   3                          Spinach and Feta Omelette   \n",
       "9   1                Spinach and Feta Breakfast Scramble   \n",
       "\n",
       "                                         ingredients  \\\n",
       "0  2 boneless, skinless chicken breasts, 6 cups m...   \n",
       "1  4 boneless, skinless chicken breasts, 1 tables...   \n",
       "2  1 cup quinoa, 2 cups water, 1 cup cherry tomat...   \n",
       "3  2 boneless, skinless chicken breasts, 6 cups m...   \n",
       "4  2 boneless, skinless chicken breasts, 1 teaspo...   \n",
       "5  1 medium eggplant, sliced into 1/2-inch rounds...   \n",
       "6  4 boneless, skinless chicken breasts, 1 tables...   \n",
       "7  8 large eggs, 1 cup fresh spinach, chopped, 1/...   \n",
       "8  2 large eggs, 1/4 cup chopped spinach, 1 table...   \n",
       "9  4 large eggs, 2 large egg whites, 2 tablespoon...   \n",
       "\n",
       "                                          directions  \\\n",
       "0  Preheat grill to medium-high heat. Season chic...   \n",
       "1  Preheat grill to medium-high heat. In a small ...   \n",
       "2  In a medium saucepan, combine quinoa and water...   \n",
       "3  Preheat grill to medium-high heat. Season the ...   \n",
       "4  Preheat grill to medium-high heat. Brush chick...   \n",
       "5  Preheat grill to medium-high heat. In a small ...   \n",
       "6  Preheat grill to medium-high heat. Brush chick...   \n",
       "7  Preheat your oven to 350°F (175°C). Spray a mu...   \n",
       "8  In a small bowl, beat the eggs with the dried ...   \n",
       "9  In a bowl, whisk together the eggs, egg whites...   \n",
       "\n",
       "                                           nutrition  \n",
       "0  {'fat': '15g', 'protein': '29g', 'carbohydrate...  \n",
       "1  {'fat': '15g', 'protein': '30g', 'carbohydrate...  \n",
       "2  {'fat': '10g', 'protein': '6g', 'carbohydrate'...  \n",
       "3  {'fat': '14g', 'protein': '28g', 'carbohydrate...  \n",
       "4  {'fat': '14g', 'protein': '35g', 'carbohydrate...  \n",
       "5  {'fat': '12g', 'protein': '4g', 'carbohydrate'...  \n",
       "6  {'fat': '15g', 'protein': '34g', 'carbohydrate...  \n",
       "7  {'fat': '7g', 'protein': '9g', 'carbohydrate':...  \n",
       "8  {'fat': '15g', 'protein': '19g', 'carbohydrate...  \n",
       "9  {'fat': '15g', 'protein': '19g', 'carbohydrate...  "
      ]
     },
     "execution_count": 27,
     "metadata": {},
     "output_type": "execute_result"
    }
   ],
   "source": [
    "df_gpt4_recipe"
   ]
  },
  {
   "cell_type": "code",
   "execution_count": 29,
   "metadata": {},
   "outputs": [],
   "source": [
    "recipe = pd.read_csv('../data/recipes.csv')"
   ]
  },
  {
   "cell_type": "code",
   "execution_count": 30,
   "metadata": {},
   "outputs": [],
   "source": [
    "recipe = recipe.rename(columns={'Unnamed: 0':'id'})"
   ]
  },
  {
   "cell_type": "code",
   "execution_count": 31,
   "metadata": {},
   "outputs": [],
   "source": [
    "recipe_filter = recipe.drop_duplicates(subset=['recipe_name'], keep='first')"
   ]
  },
  {
   "cell_type": "code",
   "execution_count": 33,
   "metadata": {},
   "outputs": [],
   "source": [
    "recipe_filter = recipe_filter.reset_index(drop=True)"
   ]
  },
  {
   "cell_type": "code",
   "execution_count": 34,
   "metadata": {},
   "outputs": [
    {
     "data": {
      "text/html": [
       "<div>\n",
       "<style scoped>\n",
       "    .dataframe tbody tr th:only-of-type {\n",
       "        vertical-align: middle;\n",
       "    }\n",
       "\n",
       "    .dataframe tbody tr th {\n",
       "        vertical-align: top;\n",
       "    }\n",
       "\n",
       "    .dataframe thead th {\n",
       "        text-align: right;\n",
       "    }\n",
       "</style>\n",
       "<table border=\"1\" class=\"dataframe\">\n",
       "  <thead>\n",
       "    <tr style=\"text-align: right;\">\n",
       "      <th></th>\n",
       "      <th>id</th>\n",
       "      <th>recipe_name</th>\n",
       "      <th>prep_time</th>\n",
       "      <th>cook_time</th>\n",
       "      <th>total_time</th>\n",
       "      <th>servings</th>\n",
       "      <th>yield</th>\n",
       "      <th>ingredients</th>\n",
       "      <th>directions</th>\n",
       "      <th>rating</th>\n",
       "      <th>url</th>\n",
       "      <th>cuisine_path</th>\n",
       "      <th>nutrition</th>\n",
       "      <th>timing</th>\n",
       "      <th>img_src</th>\n",
       "    </tr>\n",
       "  </thead>\n",
       "  <tbody>\n",
       "    <tr>\n",
       "      <th>0</th>\n",
       "      <td>0</td>\n",
       "      <td>Apple-Cranberry Crostada</td>\n",
       "      <td>NaN</td>\n",
       "      <td>NaN</td>\n",
       "      <td>NaN</td>\n",
       "      <td>8</td>\n",
       "      <td>6 to 8 - servings</td>\n",
       "      <td>3 tablespoons butter, 2 pounds Granny Smith ap...</td>\n",
       "      <td>Heat butter in a large skillet over medium-hig...</td>\n",
       "      <td>4.4</td>\n",
       "      <td>https://www.allrecipes.com/recipe/76931/apple-...</td>\n",
       "      <td>/Desserts/Fruit Desserts/Apple Dessert Recipes/</td>\n",
       "      <td>Total Fat 18g 23%, Saturated Fat 7g 34%, Chole...</td>\n",
       "      <td>Servings: 8, Yield: 6 to 8 - servings</td>\n",
       "      <td>https://www.allrecipes.com/thmb/Tf1wH73bfH6Oql...</td>\n",
       "    </tr>\n",
       "    <tr>\n",
       "      <th>1</th>\n",
       "      <td>1</td>\n",
       "      <td>Apple Pie by Grandma Ople</td>\n",
       "      <td>30 mins</td>\n",
       "      <td>1 hrs</td>\n",
       "      <td>1 hrs 30 mins</td>\n",
       "      <td>8</td>\n",
       "      <td>1 9-inch pie</td>\n",
       "      <td>8 small Granny Smith apples, or as needed, ½ c...</td>\n",
       "      <td>Peel and core apples, then thinly slice. Set a...</td>\n",
       "      <td>4.8</td>\n",
       "      <td>https://www.allrecipes.com/recipe/12682/apple-...</td>\n",
       "      <td>/Desserts/Pies/Apple Pie Recipes/</td>\n",
       "      <td>Total Fat 19g 24%, Saturated Fat 9g 46%, Chole...</td>\n",
       "      <td>Prep Time: 30 mins, Cook Time: 1 hrs, Total Ti...</td>\n",
       "      <td>https://www.allrecipes.com/thmb/1I95oiTGz6aEpu...</td>\n",
       "    </tr>\n",
       "    <tr>\n",
       "      <th>2</th>\n",
       "      <td>2</td>\n",
       "      <td>Sarah's Homemade Applesauce</td>\n",
       "      <td>10 mins</td>\n",
       "      <td>15 mins</td>\n",
       "      <td>25 mins</td>\n",
       "      <td>4</td>\n",
       "      <td>NaN</td>\n",
       "      <td>4  apples - peeled, cored and chopped, ¾ cup w...</td>\n",
       "      <td>Combine apples, water, sugar, and cinnamon in ...</td>\n",
       "      <td>4.8</td>\n",
       "      <td>https://www.allrecipes.com/recipe/51301/sarahs...</td>\n",
       "      <td>/Side Dish/Applesauce Recipes/</td>\n",
       "      <td>Total Fat 0g 0%, Sodium 3mg 0%, Total Carbohyd...</td>\n",
       "      <td>Prep Time: 10 mins, Cook Time: 15 mins, Total ...</td>\n",
       "      <td>https://www.allrecipes.com/thmb/VY5d0tZHB8xz6y...</td>\n",
       "    </tr>\n",
       "    <tr>\n",
       "      <th>3</th>\n",
       "      <td>3</td>\n",
       "      <td>Apple Crisp</td>\n",
       "      <td>30 mins</td>\n",
       "      <td>45 mins</td>\n",
       "      <td>1 hrs 15 mins</td>\n",
       "      <td>12</td>\n",
       "      <td>1 9x13-inch pan</td>\n",
       "      <td>10 cups all-purpose apples, peeled, cored and ...</td>\n",
       "      <td>Preheat the oven to 350 degrees F (175 degrees...</td>\n",
       "      <td>4.7</td>\n",
       "      <td>https://www.allrecipes.com/recipe/12409/apple-...</td>\n",
       "      <td>/Desserts/Crisps and Crumbles Recipes/Apple Cr...</td>\n",
       "      <td>Total Fat 8g 11%, Saturated Fat 5g 25%, Choles...</td>\n",
       "      <td>Prep Time: 30 mins, Cook Time: 45 mins, Total ...</td>\n",
       "      <td>https://www.allrecipes.com/thmb/uAzhPOh86PfR-N...</td>\n",
       "    </tr>\n",
       "    <tr>\n",
       "      <th>4</th>\n",
       "      <td>4</td>\n",
       "      <td>Apple Pie Filling</td>\n",
       "      <td>20 mins</td>\n",
       "      <td>20 mins</td>\n",
       "      <td>2 hrs 40 mins</td>\n",
       "      <td>40</td>\n",
       "      <td>5 9-inch pies</td>\n",
       "      <td>18 cups thinly sliced apples, 3 tablespoons le...</td>\n",
       "      <td>Toss apples with lemon juice in a large bowl a...</td>\n",
       "      <td>4.7</td>\n",
       "      <td>https://www.allrecipes.com/recipe/12681/apple-...</td>\n",
       "      <td>/Desserts/Pies/Apple Pie Recipes/</td>\n",
       "      <td>Total Fat 0g 0%, Sodium 61mg 3%, Total Carbohy...</td>\n",
       "      <td>Prep Time: 20 mins, Cook Time: 20 mins, Additi...</td>\n",
       "      <td>https://www.allrecipes.com/thmb/c0bbYaS1V_mTt_...</td>\n",
       "    </tr>\n",
       "    <tr>\n",
       "      <th>...</th>\n",
       "      <td>...</td>\n",
       "      <td>...</td>\n",
       "      <td>...</td>\n",
       "      <td>...</td>\n",
       "      <td>...</td>\n",
       "      <td>...</td>\n",
       "      <td>...</td>\n",
       "      <td>...</td>\n",
       "      <td>...</td>\n",
       "      <td>...</td>\n",
       "      <td>...</td>\n",
       "      <td>...</td>\n",
       "      <td>...</td>\n",
       "      <td>...</td>\n",
       "      <td>...</td>\n",
       "    </tr>\n",
       "    <tr>\n",
       "      <th>956</th>\n",
       "      <td>1085</td>\n",
       "      <td>Date-Nut Balls</td>\n",
       "      <td>15 mins</td>\n",
       "      <td>10 mins</td>\n",
       "      <td>30 mins</td>\n",
       "      <td>48</td>\n",
       "      <td>4 dozen balls</td>\n",
       "      <td>14 tablespoons butter, 1 cup pitted chopped da...</td>\n",
       "      <td>Melt butter in a saucepan over medium heat; co...</td>\n",
       "      <td>3.8</td>\n",
       "      <td>https://www.allrecipes.com/recipe/240653/date-...</td>\n",
       "      <td>/Desserts/Cookies/Fruit Cookie Recipes/Date/</td>\n",
       "      <td>Total Fat 5g 6%, Saturated Fat 2g 12%, Cholest...</td>\n",
       "      <td>Prep Time: 15 mins, Cook Time: 10 mins, Additi...</td>\n",
       "      <td>https://www.allrecipes.com/thmb/LXm_15zLymhZ7c...</td>\n",
       "    </tr>\n",
       "    <tr>\n",
       "      <th>957</th>\n",
       "      <td>1086</td>\n",
       "      <td>Jamaica Cake</td>\n",
       "      <td>NaN</td>\n",
       "      <td>NaN</td>\n",
       "      <td>NaN</td>\n",
       "      <td>14</td>\n",
       "      <td>1 - 13x9 inch pan</td>\n",
       "      <td>2 cups white sugar, 1 ½ cups vegetable oil, 1 ...</td>\n",
       "      <td>Mix together sugar, vegetable oil, pecans, flo...</td>\n",
       "      <td>4.6</td>\n",
       "      <td>https://www.allrecipes.com/recipe/7509/jamaica...</td>\n",
       "      <td>/Desserts/Fruit Desserts/Banana Dessert Recipes/</td>\n",
       "      <td>Total Fat 33g 43%, Saturated Fat 4g 21%, Chole...</td>\n",
       "      <td>Servings: 14, Yield: 1 - 13x9 inch pan</td>\n",
       "      <td>https://www.allrecipes.com/thmb/tI7g5xY5-qPV5v...</td>\n",
       "    </tr>\n",
       "    <tr>\n",
       "      <th>958</th>\n",
       "      <td>1087</td>\n",
       "      <td>Best Hot Sauce</td>\n",
       "      <td>10 mins</td>\n",
       "      <td>20 mins</td>\n",
       "      <td>30 mins</td>\n",
       "      <td>100</td>\n",
       "      <td>2 cups</td>\n",
       "      <td>10  fresh hot chile peppers, stems removed, 1 ...</td>\n",
       "      <td>Place peppers, onion, dates, basil, parsley, t...</td>\n",
       "      <td>4.9</td>\n",
       "      <td>https://www.allrecipes.com/recipe/242153/best-...</td>\n",
       "      <td>/Side Dish/Sauces and Condiments/</td>\n",
       "      <td>Total Fat 1g 1%, Saturated Fat 0g 1%, Sodium 2...</td>\n",
       "      <td>Prep Time: 10 mins, Cook Time: 20 mins, Total ...</td>\n",
       "      <td>https://www.allrecipes.com/thmb/80wUYzFvbycfxx...</td>\n",
       "    </tr>\n",
       "    <tr>\n",
       "      <th>959</th>\n",
       "      <td>1088</td>\n",
       "      <td>Moist Date Nut Bread</td>\n",
       "      <td>15 mins</td>\n",
       "      <td>50 mins</td>\n",
       "      <td>1 hrs 35 mins</td>\n",
       "      <td>12</td>\n",
       "      <td>1 9x5-inch loaf</td>\n",
       "      <td>2 ½ cups chopped dates, ¼ cup butter, 1 cup bo...</td>\n",
       "      <td>Preheat the oven to 350 degrees F (175 degrees...</td>\n",
       "      <td>4.5</td>\n",
       "      <td>https://www.allrecipes.com/recipe/51446/moist-...</td>\n",
       "      <td>/Breakfast and Brunch/Breakfast Bread Recipes/</td>\n",
       "      <td>Total Fat 10g 13%, Saturated Fat 3g 16%, Chole...</td>\n",
       "      <td>Prep Time: 15 mins, Cook Time: 50 mins, Additi...</td>\n",
       "      <td>https://www.allrecipes.com/thmb/bYsnompJZ6UAF9...</td>\n",
       "    </tr>\n",
       "    <tr>\n",
       "      <th>960</th>\n",
       "      <td>1089</td>\n",
       "      <td>Chef John's Chocolate Energy Bars</td>\n",
       "      <td>15 mins</td>\n",
       "      <td>NaN</td>\n",
       "      <td>3 hrs</td>\n",
       "      <td>12</td>\n",
       "      <td>12 bars</td>\n",
       "      <td>2 cups pitted Medjool dates, roughly chopped, ...</td>\n",
       "      <td>Place cashews, almonds, coconut, dates, cocoa,...</td>\n",
       "      <td>4.8</td>\n",
       "      <td>https://www.allrecipes.com/recipe/254452/chef-...</td>\n",
       "      <td>/Appetizers and Snacks/Snacks/Granola Bar Reci...</td>\n",
       "      <td>Total Fat 22g 28%, Saturated Fat 7g 36%, Sodiu...</td>\n",
       "      <td>Prep Time: 15 mins, Additional Time: 2 hrs 45 ...</td>\n",
       "      <td>https://www.allrecipes.com/thmb/IOoj42MMo8YNKW...</td>\n",
       "    </tr>\n",
       "  </tbody>\n",
       "</table>\n",
       "<p>961 rows × 15 columns</p>\n",
       "</div>"
      ],
      "text/plain": [
       "       id                        recipe_name prep_time cook_time  \\\n",
       "0       0           Apple-Cranberry Crostada       NaN       NaN   \n",
       "1       1          Apple Pie by Grandma Ople   30 mins     1 hrs   \n",
       "2       2        Sarah's Homemade Applesauce   10 mins   15 mins   \n",
       "3       3                        Apple Crisp   30 mins   45 mins   \n",
       "4       4                  Apple Pie Filling   20 mins   20 mins   \n",
       "..    ...                                ...       ...       ...   \n",
       "956  1085                     Date-Nut Balls   15 mins   10 mins   \n",
       "957  1086                       Jamaica Cake       NaN       NaN   \n",
       "958  1087                     Best Hot Sauce   10 mins   20 mins   \n",
       "959  1088               Moist Date Nut Bread   15 mins   50 mins   \n",
       "960  1089  Chef John's Chocolate Energy Bars   15 mins       NaN   \n",
       "\n",
       "        total_time  servings              yield  \\\n",
       "0              NaN         8  6 to 8 - servings   \n",
       "1    1 hrs 30 mins         8       1 9-inch pie   \n",
       "2          25 mins         4                NaN   \n",
       "3    1 hrs 15 mins        12    1 9x13-inch pan   \n",
       "4    2 hrs 40 mins        40      5 9-inch pies   \n",
       "..             ...       ...                ...   \n",
       "956        30 mins        48      4 dozen balls   \n",
       "957            NaN        14  1 - 13x9 inch pan   \n",
       "958        30 mins       100             2 cups   \n",
       "959  1 hrs 35 mins        12    1 9x5-inch loaf   \n",
       "960          3 hrs        12            12 bars   \n",
       "\n",
       "                                           ingredients  \\\n",
       "0    3 tablespoons butter, 2 pounds Granny Smith ap...   \n",
       "1    8 small Granny Smith apples, or as needed, ½ c...   \n",
       "2    4  apples - peeled, cored and chopped, ¾ cup w...   \n",
       "3    10 cups all-purpose apples, peeled, cored and ...   \n",
       "4    18 cups thinly sliced apples, 3 tablespoons le...   \n",
       "..                                                 ...   \n",
       "956  14 tablespoons butter, 1 cup pitted chopped da...   \n",
       "957  2 cups white sugar, 1 ½ cups vegetable oil, 1 ...   \n",
       "958  10  fresh hot chile peppers, stems removed, 1 ...   \n",
       "959  2 ½ cups chopped dates, ¼ cup butter, 1 cup bo...   \n",
       "960  2 cups pitted Medjool dates, roughly chopped, ...   \n",
       "\n",
       "                                            directions  rating  \\\n",
       "0    Heat butter in a large skillet over medium-hig...     4.4   \n",
       "1    Peel and core apples, then thinly slice. Set a...     4.8   \n",
       "2    Combine apples, water, sugar, and cinnamon in ...     4.8   \n",
       "3    Preheat the oven to 350 degrees F (175 degrees...     4.7   \n",
       "4    Toss apples with lemon juice in a large bowl a...     4.7   \n",
       "..                                                 ...     ...   \n",
       "956  Melt butter in a saucepan over medium heat; co...     3.8   \n",
       "957  Mix together sugar, vegetable oil, pecans, flo...     4.6   \n",
       "958  Place peppers, onion, dates, basil, parsley, t...     4.9   \n",
       "959  Preheat the oven to 350 degrees F (175 degrees...     4.5   \n",
       "960  Place cashews, almonds, coconut, dates, cocoa,...     4.8   \n",
       "\n",
       "                                                   url  \\\n",
       "0    https://www.allrecipes.com/recipe/76931/apple-...   \n",
       "1    https://www.allrecipes.com/recipe/12682/apple-...   \n",
       "2    https://www.allrecipes.com/recipe/51301/sarahs...   \n",
       "3    https://www.allrecipes.com/recipe/12409/apple-...   \n",
       "4    https://www.allrecipes.com/recipe/12681/apple-...   \n",
       "..                                                 ...   \n",
       "956  https://www.allrecipes.com/recipe/240653/date-...   \n",
       "957  https://www.allrecipes.com/recipe/7509/jamaica...   \n",
       "958  https://www.allrecipes.com/recipe/242153/best-...   \n",
       "959  https://www.allrecipes.com/recipe/51446/moist-...   \n",
       "960  https://www.allrecipes.com/recipe/254452/chef-...   \n",
       "\n",
       "                                          cuisine_path  \\\n",
       "0      /Desserts/Fruit Desserts/Apple Dessert Recipes/   \n",
       "1                    /Desserts/Pies/Apple Pie Recipes/   \n",
       "2                       /Side Dish/Applesauce Recipes/   \n",
       "3    /Desserts/Crisps and Crumbles Recipes/Apple Cr...   \n",
       "4                    /Desserts/Pies/Apple Pie Recipes/   \n",
       "..                                                 ...   \n",
       "956       /Desserts/Cookies/Fruit Cookie Recipes/Date/   \n",
       "957   /Desserts/Fruit Desserts/Banana Dessert Recipes/   \n",
       "958                  /Side Dish/Sauces and Condiments/   \n",
       "959     /Breakfast and Brunch/Breakfast Bread Recipes/   \n",
       "960  /Appetizers and Snacks/Snacks/Granola Bar Reci...   \n",
       "\n",
       "                                             nutrition  \\\n",
       "0    Total Fat 18g 23%, Saturated Fat 7g 34%, Chole...   \n",
       "1    Total Fat 19g 24%, Saturated Fat 9g 46%, Chole...   \n",
       "2    Total Fat 0g 0%, Sodium 3mg 0%, Total Carbohyd...   \n",
       "3    Total Fat 8g 11%, Saturated Fat 5g 25%, Choles...   \n",
       "4    Total Fat 0g 0%, Sodium 61mg 3%, Total Carbohy...   \n",
       "..                                                 ...   \n",
       "956  Total Fat 5g 6%, Saturated Fat 2g 12%, Cholest...   \n",
       "957  Total Fat 33g 43%, Saturated Fat 4g 21%, Chole...   \n",
       "958  Total Fat 1g 1%, Saturated Fat 0g 1%, Sodium 2...   \n",
       "959  Total Fat 10g 13%, Saturated Fat 3g 16%, Chole...   \n",
       "960  Total Fat 22g 28%, Saturated Fat 7g 36%, Sodiu...   \n",
       "\n",
       "                                                timing  \\\n",
       "0                Servings: 8, Yield: 6 to 8 - servings   \n",
       "1    Prep Time: 30 mins, Cook Time: 1 hrs, Total Ti...   \n",
       "2    Prep Time: 10 mins, Cook Time: 15 mins, Total ...   \n",
       "3    Prep Time: 30 mins, Cook Time: 45 mins, Total ...   \n",
       "4    Prep Time: 20 mins, Cook Time: 20 mins, Additi...   \n",
       "..                                                 ...   \n",
       "956  Prep Time: 15 mins, Cook Time: 10 mins, Additi...   \n",
       "957             Servings: 14, Yield: 1 - 13x9 inch pan   \n",
       "958  Prep Time: 10 mins, Cook Time: 20 mins, Total ...   \n",
       "959  Prep Time: 15 mins, Cook Time: 50 mins, Additi...   \n",
       "960  Prep Time: 15 mins, Additional Time: 2 hrs 45 ...   \n",
       "\n",
       "                                               img_src  \n",
       "0    https://www.allrecipes.com/thmb/Tf1wH73bfH6Oql...  \n",
       "1    https://www.allrecipes.com/thmb/1I95oiTGz6aEpu...  \n",
       "2    https://www.allrecipes.com/thmb/VY5d0tZHB8xz6y...  \n",
       "3    https://www.allrecipes.com/thmb/uAzhPOh86PfR-N...  \n",
       "4    https://www.allrecipes.com/thmb/c0bbYaS1V_mTt_...  \n",
       "..                                                 ...  \n",
       "956  https://www.allrecipes.com/thmb/LXm_15zLymhZ7c...  \n",
       "957  https://www.allrecipes.com/thmb/tI7g5xY5-qPV5v...  \n",
       "958  https://www.allrecipes.com/thmb/80wUYzFvbycfxx...  \n",
       "959  https://www.allrecipes.com/thmb/bYsnompJZ6UAF9...  \n",
       "960  https://www.allrecipes.com/thmb/IOoj42MMo8YNKW...  \n",
       "\n",
       "[961 rows x 15 columns]"
      ]
     },
     "execution_count": 34,
     "metadata": {},
     "output_type": "execute_result"
    }
   ],
   "source": [
    "recipe_filter"
   ]
  },
  {
   "cell_type": "code",
   "execution_count": 46,
   "metadata": {},
   "outputs": [],
   "source": [
    "dataset_recipes = recipe_filter[['id','recipe_name']]"
   ]
  },
  {
   "cell_type": "code",
   "execution_count": 47,
   "metadata": {},
   "outputs": [
    {
     "name": "stderr",
     "output_type": "stream",
     "text": [
      "/var/folders/qb/cr87d2s56q51lk72620820hw0000gn/T/ipykernel_33724/325434984.py:1: SettingWithCopyWarning: \n",
      "A value is trying to be set on a copy of a slice from a DataFrame.\n",
      "Try using .loc[row_indexer,col_indexer] = value instead\n",
      "\n",
      "See the caveats in the documentation: https://pandas.pydata.org/pandas-docs/stable/user_guide/indexing.html#returning-a-view-versus-a-copy\n",
      "  dataset_recipes['recipe_name'] = dataset_recipes['recipe_name'].map(lambda x : x.lower())\n"
     ]
    }
   ],
   "source": [
    "dataset_recipes['recipe_name'] = dataset_recipes['recipe_name'].map(lambda x : x.lower())"
   ]
  },
  {
   "cell_type": "code",
   "execution_count": 48,
   "metadata": {},
   "outputs": [
    {
     "data": {
      "text/html": [
       "<div>\n",
       "<style scoped>\n",
       "    .dataframe tbody tr th:only-of-type {\n",
       "        vertical-align: middle;\n",
       "    }\n",
       "\n",
       "    .dataframe tbody tr th {\n",
       "        vertical-align: top;\n",
       "    }\n",
       "\n",
       "    .dataframe thead th {\n",
       "        text-align: right;\n",
       "    }\n",
       "</style>\n",
       "<table border=\"1\" class=\"dataframe\">\n",
       "  <thead>\n",
       "    <tr style=\"text-align: right;\">\n",
       "      <th></th>\n",
       "      <th>id</th>\n",
       "      <th>recipe_name</th>\n",
       "    </tr>\n",
       "  </thead>\n",
       "  <tbody>\n",
       "    <tr>\n",
       "      <th>0</th>\n",
       "      <td>0</td>\n",
       "      <td>apple-cranberry crostada</td>\n",
       "    </tr>\n",
       "    <tr>\n",
       "      <th>1</th>\n",
       "      <td>1</td>\n",
       "      <td>apple pie by grandma ople</td>\n",
       "    </tr>\n",
       "    <tr>\n",
       "      <th>2</th>\n",
       "      <td>2</td>\n",
       "      <td>sarah's homemade applesauce</td>\n",
       "    </tr>\n",
       "    <tr>\n",
       "      <th>3</th>\n",
       "      <td>3</td>\n",
       "      <td>apple crisp</td>\n",
       "    </tr>\n",
       "    <tr>\n",
       "      <th>4</th>\n",
       "      <td>4</td>\n",
       "      <td>apple pie filling</td>\n",
       "    </tr>\n",
       "    <tr>\n",
       "      <th>...</th>\n",
       "      <td>...</td>\n",
       "      <td>...</td>\n",
       "    </tr>\n",
       "    <tr>\n",
       "      <th>956</th>\n",
       "      <td>1085</td>\n",
       "      <td>date-nut balls</td>\n",
       "    </tr>\n",
       "    <tr>\n",
       "      <th>957</th>\n",
       "      <td>1086</td>\n",
       "      <td>jamaica cake</td>\n",
       "    </tr>\n",
       "    <tr>\n",
       "      <th>958</th>\n",
       "      <td>1087</td>\n",
       "      <td>best hot sauce</td>\n",
       "    </tr>\n",
       "    <tr>\n",
       "      <th>959</th>\n",
       "      <td>1088</td>\n",
       "      <td>moist date nut bread</td>\n",
       "    </tr>\n",
       "    <tr>\n",
       "      <th>960</th>\n",
       "      <td>1089</td>\n",
       "      <td>chef john's chocolate energy bars</td>\n",
       "    </tr>\n",
       "  </tbody>\n",
       "</table>\n",
       "<p>961 rows × 2 columns</p>\n",
       "</div>"
      ],
      "text/plain": [
       "       id                        recipe_name\n",
       "0       0           apple-cranberry crostada\n",
       "1       1          apple pie by grandma ople\n",
       "2       2        sarah's homemade applesauce\n",
       "3       3                        apple crisp\n",
       "4       4                  apple pie filling\n",
       "..    ...                                ...\n",
       "956  1085                     date-nut balls\n",
       "957  1086                       jamaica cake\n",
       "958  1087                     best hot sauce\n",
       "959  1088               moist date nut bread\n",
       "960  1089  chef john's chocolate energy bars\n",
       "\n",
       "[961 rows x 2 columns]"
      ]
     },
     "execution_count": 48,
     "metadata": {},
     "output_type": "execute_result"
    }
   ],
   "source": [
    "dataset_recipes"
   ]
  },
  {
   "cell_type": "code",
   "execution_count": 53,
   "metadata": {},
   "outputs": [],
   "source": [
    "gpt4_recipes_sub = df_gpt4_recipe[['id','recipe_name']]"
   ]
  },
  {
   "cell_type": "code",
   "execution_count": 54,
   "metadata": {},
   "outputs": [
    {
     "name": "stderr",
     "output_type": "stream",
     "text": [
      "/var/folders/qb/cr87d2s56q51lk72620820hw0000gn/T/ipykernel_33724/1263907945.py:1: SettingWithCopyWarning: \n",
      "A value is trying to be set on a copy of a slice from a DataFrame.\n",
      "Try using .loc[row_indexer,col_indexer] = value instead\n",
      "\n",
      "See the caveats in the documentation: https://pandas.pydata.org/pandas-docs/stable/user_guide/indexing.html#returning-a-view-versus-a-copy\n",
      "  gpt4_recipes_sub['recipe_name'] = gpt4_recipes_sub['recipe_name'].map(lambda x : x.lower())\n"
     ]
    }
   ],
   "source": [
    "gpt4_recipes_sub['recipe_name'] = gpt4_recipes_sub['recipe_name'].map(lambda x : x.lower())"
   ]
  },
  {
   "cell_type": "code",
   "execution_count": 55,
   "metadata": {},
   "outputs": [
    {
     "data": {
      "text/html": [
       "<div>\n",
       "<style scoped>\n",
       "    .dataframe tbody tr th:only-of-type {\n",
       "        vertical-align: middle;\n",
       "    }\n",
       "\n",
       "    .dataframe tbody tr th {\n",
       "        vertical-align: top;\n",
       "    }\n",
       "\n",
       "    .dataframe thead th {\n",
       "        text-align: right;\n",
       "    }\n",
       "</style>\n",
       "<table border=\"1\" class=\"dataframe\">\n",
       "  <thead>\n",
       "    <tr style=\"text-align: right;\">\n",
       "      <th></th>\n",
       "      <th>id</th>\n",
       "      <th>recipe_name</th>\n",
       "    </tr>\n",
       "  </thead>\n",
       "  <tbody>\n",
       "    <tr>\n",
       "      <th>0</th>\n",
       "      <td>8</td>\n",
       "      <td>grilled chicken salad with strawberry vinaigrette</td>\n",
       "    </tr>\n",
       "    <tr>\n",
       "      <th>1</th>\n",
       "      <td>9</td>\n",
       "      <td>grilled lemon-herb chicken salad</td>\n",
       "    </tr>\n",
       "    <tr>\n",
       "      <th>2</th>\n",
       "      <td>10</td>\n",
       "      <td>mediterranean quinoa salad</td>\n",
       "    </tr>\n",
       "    <tr>\n",
       "      <th>3</th>\n",
       "      <td>4</td>\n",
       "      <td>grilled chicken salad with orange vinaigrette</td>\n",
       "    </tr>\n",
       "    <tr>\n",
       "      <th>4</th>\n",
       "      <td>5</td>\n",
       "      <td>grilled chicken salad with avocado dressing</td>\n",
       "    </tr>\n",
       "    <tr>\n",
       "      <th>5</th>\n",
       "      <td>7</td>\n",
       "      <td>grilled mediterranean vegetable salad</td>\n",
       "    </tr>\n",
       "    <tr>\n",
       "      <th>6</th>\n",
       "      <td>6</td>\n",
       "      <td>grilled chicken with spinach and pine nut pesto</td>\n",
       "    </tr>\n",
       "    <tr>\n",
       "      <th>7</th>\n",
       "      <td>2</td>\n",
       "      <td>spinach and feta egg muffins</td>\n",
       "    </tr>\n",
       "    <tr>\n",
       "      <th>8</th>\n",
       "      <td>3</td>\n",
       "      <td>spinach and feta omelette</td>\n",
       "    </tr>\n",
       "    <tr>\n",
       "      <th>9</th>\n",
       "      <td>1</td>\n",
       "      <td>spinach and feta breakfast scramble</td>\n",
       "    </tr>\n",
       "  </tbody>\n",
       "</table>\n",
       "</div>"
      ],
      "text/plain": [
       "   id                                        recipe_name\n",
       "0   8  grilled chicken salad with strawberry vinaigrette\n",
       "1   9                   grilled lemon-herb chicken salad\n",
       "2  10                         mediterranean quinoa salad\n",
       "3   4      grilled chicken salad with orange vinaigrette\n",
       "4   5        grilled chicken salad with avocado dressing\n",
       "5   7              grilled mediterranean vegetable salad\n",
       "6   6    grilled chicken with spinach and pine nut pesto\n",
       "7   2                       spinach and feta egg muffins\n",
       "8   3                          spinach and feta omelette\n",
       "9   1                spinach and feta breakfast scramble"
      ]
     },
     "execution_count": 55,
     "metadata": {},
     "output_type": "execute_result"
    }
   ],
   "source": [
    "gpt4_recipes_sub"
   ]
  },
  {
   "cell_type": "code",
   "execution_count": 76,
   "metadata": {},
   "outputs": [],
   "source": [
    "# Get chicken salad recipe\n",
    "chicken_salad_recipe = []\n",
    "for index, row in gpt4_recipes_sub.iterrows():\n",
    "    if 'salad' in row['recipe_name'] and 'chicken' in row['recipe_name']:\n",
    "        chicken_salad_recipe.append({'id':row['id'],'recipe_name': row['recipe_name']})\n"
   ]
  },
  {
   "cell_type": "code",
   "execution_count": 77,
   "metadata": {},
   "outputs": [
    {
     "data": {
      "text/plain": [
       "[{'id': '8',\n",
       "  'recipe_name': 'grilled chicken salad with strawberry vinaigrette'},\n",
       " {'id': '9', 'recipe_name': 'grilled lemon-herb chicken salad'},\n",
       " {'id': '4', 'recipe_name': 'grilled chicken salad with orange vinaigrette'},\n",
       " {'id': '5', 'recipe_name': 'grilled chicken salad with avocado dressing'}]"
      ]
     },
     "execution_count": 77,
     "metadata": {},
     "output_type": "execute_result"
    }
   ],
   "source": [
    "chicken_salad_recipe"
   ]
  },
  {
   "cell_type": "code",
   "execution_count": 74,
   "metadata": {},
   "outputs": [],
   "source": [
    "dataset_chicken_salad_recipe = []\n",
    "for index, row in dataset_recipes.iterrows():\n",
    "    if 'salad' in row['recipe_name'] and 'chicken' in row['recipe_name']:\n",
    "        dataset_chicken_salad_recipe.append({'id':row['id'],'recipe_name': row['recipe_name']})"
   ]
  },
  {
   "cell_type": "code",
   "execution_count": 75,
   "metadata": {},
   "outputs": [
    {
     "data": {
      "text/plain": [
       "[{'id': 177, 'recipe_name': 'cherry chicken salad'},\n",
       " {'id': 721, 'recipe_name': 'chicken, avocado and mango salad'},\n",
       " {'id': 817,\n",
       "  'recipe_name': 'spinach salad with chicken, avocado, and goat cheese'}]"
      ]
     },
     "execution_count": 75,
     "metadata": {},
     "output_type": "execute_result"
    }
   ],
   "source": [
    "dataset_chicken_salad_recipe"
   ]
  },
  {
   "cell_type": "markdown",
   "metadata": {},
   "source": [
    "Named Entity Recognition Ingredients"
   ]
  },
  {
   "cell_type": "code",
   "execution_count": 78,
   "metadata": {},
   "outputs": [],
   "source": [
    "import json\n",
    "import logging\n",
    "import os\n",
    "\n",
    "import openai\n",
    "import wikipedia\n",
    "\n",
    "from typing import Optional\n",
    "from IPython.display import display, Markdown\n",
    "from tenacity import retry, wait_random_exponential, stop_after_attempt\n",
    "\n",
    "logging.basicConfig(level=logging.INFO, format=' %(asctime)s - %(levelname)s - %(message)s')\n",
    "\n",
    "OPENAI_MODEL = 'gpt-3.5-turbo-0613'\n"
   ]
  },
  {
   "cell_type": "code",
   "execution_count": 79,
   "metadata": {},
   "outputs": [],
   "source": [
    "labels = [\n",
    "    \"person\",      # people, including fictional characters\n",
    "    \"fac\",         # buildings, airports, highways, bridges\n",
    "    \"org\",         # organizations, companies, agencies, institutions\n",
    "    \"gpe\",         # geopolitical entities like countries, cities, states\n",
    "    \"loc\",         # non-gpe locations\n",
    "    \"product\",     # vehicles, foods, appareal, appliances, software, toys \n",
    "    \"event\",       # named sports, scientific milestones, historical events\n",
    "    \"work_of_art\", # titles of books, songs, movies\n",
    "    \"law\",         # named laws, acts, or legislations\n",
    "    \"language\",    # any named language\n",
    "    \"date\",        # absolute or relative dates or periods\n",
    "    \"time\",        # time units smaller than a day\n",
    "    \"percent\",     # percentage (e.g., \"twenty percent\", \"18%\")\n",
    "    \"money\",       # monetary values, including unit\n",
    "    \"quantity\",    # measurements, e.g., weight or distance\n",
    "]"
   ]
  },
  {
   "cell_type": "code",
   "execution_count": 80,
   "metadata": {},
   "outputs": [],
   "source": [
    "def system_message(labels):\n",
    "    return f\"\"\"\n",
    "You are an expert in Natural Language Processing. Your task is to identify common Named Entities (NER) in a given text.\n",
    "The possible common Named Entities (NER) types are exclusively: ({\", \".join(labels)}).\"\"\""
   ]
  },
  {
   "cell_type": "code",
   "execution_count": 81,
   "metadata": {},
   "outputs": [],
   "source": [
    "def assisstant_message():\n",
    "    return f\"\"\"\n",
    "EXAMPLE:\n",
    "    Text: '1 pie crust (store-bought or homemade), 6 cups thinly sliced apples (such as Granny Smith or a combination of tart and sweet apples), 3/4 cup granulated sugar, 2 tbsp all-purpose flour, 1 tsp ground cinnamon, 1/4 tsp ground nutmeg, 1/4 tsp salt, 1 tsp vanilla extract, 1/2 cup unsalted butter (cold and cut into small pieces), 3/4 cup all-purpose flour (for crumb topping), 1/2 cup brown sugar (packed, for crumb topping), 1/4 tsp baking powder (for crumb topping), 1/4 tsp salt (for crumb topping), Optional: Vanilla ice cream or whipped cream for serving'\n",
    "    {{\n",
    "        \"product\": [\"pie crust\",\"apples\", \"granulated sugar\", \"all-purpose flour\", \"ground cinnamon\", \"ground nutmeg\", \"salt\", \"vanilla extract\", \"unsalted water\",\"brown sugar\",\"baking powder\", \"vanilla ice cream\", \"whipped cream\"],\n",
    "    }}\n",
    "--\"\"\""
   ]
  },
  {
   "cell_type": "code",
   "execution_count": 82,
   "metadata": {},
   "outputs": [],
   "source": [
    "def user_message(text):\n",
    "    return f\"\"\"\n",
    "TASK:\n",
    "    Text: {text}\n",
    "\"\"\""
   ]
  },
  {
   "cell_type": "code",
   "execution_count": 85,
   "metadata": {},
   "outputs": [],
   "source": [
    "def recipe_ingredients(text: str, label_entities: dict) -> list:\n",
    "    \"\"\"\n",
    "    Recipe ingredients\n",
    "    \"\"\"\n",
    "    return label_entities['product']"
   ]
  },
  {
   "cell_type": "code",
   "execution_count": 86,
   "metadata": {},
   "outputs": [],
   "source": [
    "def generate_functions(labels: dict) -> list:\n",
    "    return [\n",
    "        {   \n",
    "            \"type\": \"function\",\n",
    "            \"function\": {\n",
    "                \"name\": \"recipe_ingredients\",\n",
    "                \"description\": \"Enrich Text with recipe ingredients\",\n",
    "                \"parameters\": {\n",
    "                    \"type\": \"object\",\n",
    "                        \"properties\": {\n",
    "                            \"r'^(?:' + '|'.join({labels}) + ')$'\": \n",
    "                            {\n",
    "                                \"type\": \"array\",\n",
    "                                \"items\": {\n",
    "                                    \"type\": \"string\"\n",
    "                                }\n",
    "                            }\n",
    "                        },\n",
    "                        \"additionalProperties\": False\n",
    "                },\n",
    "            }\n",
    "        }\n",
    "    ]"
   ]
  },
  {
   "cell_type": "code",
   "execution_count": 89,
   "metadata": {},
   "outputs": [],
   "source": [
    "@retry(wait=wait_random_exponential(min=1, max=10), stop=stop_after_attempt(5))\n",
    "def run_openai_task(labels, text):\n",
    "    messages = [\n",
    "          {\"role\": \"system\", \"content\": system_message(labels=labels)},\n",
    "          {\"role\": \"assistant\", \"content\": assisstant_message()},\n",
    "          {\"role\": \"user\", \"content\": user_message(text=text)}\n",
    "      ]\n",
    "\n",
    "    # TODO: functions and function_call are deprecated, need to be updated\n",
    "    # See: https://platform.openai.com/docs/api-reference/chat/create#chat-create-tools\n",
    "    response = openai.chat.completions.create(\n",
    "        model=\"gpt-3.5-turbo-0613\",\n",
    "        messages=messages,\n",
    "        tools=generate_functions(labels),\n",
    "        tool_choice={\"type\": \"function\", \"function\" : {\"name\": \"recipe_ingredients\"}}, \n",
    "        temperature=0,\n",
    "        frequency_penalty=0,\n",
    "        presence_penalty=0,\n",
    "    )\n",
    "\n",
    "    response_message = response.choices[0].message\n",
    "    \n",
    "    available_functions = {\"recipe_ingredients\": recipe_ingredients}  \n",
    "    function_name = response_message.tool_calls[0].function.name\n",
    "    \n",
    "    function_to_call = available_functions[function_name]\n",
    "    logging.info(f\"function_to_call: {function_to_call}\")\n",
    "\n",
    "    function_args = json.loads(response_message.tool_calls[0].function.arguments)\n",
    "    logging.info(f\"function_args: {function_args}\")\n",
    "\n",
    "    function_response = function_to_call(text, function_args)\n",
    "\n",
    "    return {\"model_response\": response, \n",
    "            \"function_response\": function_response}"
   ]
  },
  {
   "cell_type": "code",
   "execution_count": 90,
   "metadata": {},
   "outputs": [
    {
     "name": "stderr",
     "output_type": "stream",
     "text": [
      " 2024-02-24 13:52:08,579 - INFO - HTTP Request: POST https://api.openai.com/v1/chat/completions \"HTTP/1.1 200 OK\"\n",
      " 2024-02-24 13:52:08,583 - INFO - function_to_call: <function recipe_ingredients at 0x12ed91260>\n",
      " 2024-02-24 13:52:08,584 - INFO - function_args: {'product': ['apples', 'lemon juice', 'white sugar', 'all-purpose flour', 'ground cinnamon', 'ground nutmeg', 'raisins', 'chopped walnuts', 'pie shell', 'packed brown sugar', 'butter']}\n"
     ]
    }
   ],
   "source": [
    "text = \"\"\"6 cups thinly sliced apples, 1 tablespoon lemon juice (Optional), ¾ cup white sugar, 2 tablespoons all-purpose flour, ½ teaspoon ground cinnamon, ⅛ teaspoon ground nutmeg, ½ cup raisins (Optional), ½ cup chopped walnuts (Optional), 1 (9 inch) pie shell, ½ cup all-purpose flour, ½ cup packed brown sugar, 3 tablespoons butter\"\"\"\n",
    "result = run_openai_task(labels, text)"
   ]
  },
  {
   "cell_type": "code",
   "execution_count": 100,
   "metadata": {},
   "outputs": [
    {
     "data": {
      "text/plain": [
       "['apples',\n",
       " 'lemon juice',\n",
       " 'white sugar',\n",
       " 'all-purpose flour',\n",
       " 'ground cinnamon',\n",
       " 'ground nutmeg',\n",
       " 'raisins',\n",
       " 'chopped walnuts',\n",
       " 'pie shell',\n",
       " 'packed brown sugar',\n",
       " 'butter']"
      ]
     },
     "execution_count": 100,
     "metadata": {},
     "output_type": "execute_result"
    }
   ],
   "source": [
    "result['function_response']"
   ]
  },
  {
   "cell_type": "code",
   "execution_count": 126,
   "metadata": {},
   "outputs": [],
   "source": [
    "def word_match_count(arr1, arr2):\n",
    "    # Split each phrase in both arrays into words and flatten the list of lists\n",
    "    words1 = set(word for phrase in arr1 for word in phrase.split())\n",
    "    words2 = set(word for phrase in arr2 for word in phrase.split())\n",
    "    \n",
    "    # Find the intersection of the two sets to get the matching words\n",
    "    matching_words = words1.intersection(words2)\n",
    "    \n",
    "    # Return the matching words and their count\n",
    "    return matching_words, len(matching_words)"
   ]
  },
  {
   "cell_type": "code",
   "execution_count": 129,
   "metadata": {},
   "outputs": [
    {
     "name": "stderr",
     "output_type": "stream",
     "text": [
      " 2024-02-24 14:52:24,941 - INFO - HTTP Request: POST https://api.openai.com/v1/chat/completions \"HTTP/1.1 200 OK\"\n",
      " 2024-02-24 14:52:24,944 - INFO - function_to_call: <function recipe_ingredients at 0x12ed91260>\n",
      " 2024-02-24 14:52:24,944 - INFO - function_args: {'product': ['chicken breasts', 'mixed salad greens', 'strawberries', 'slivered almonds', 'red onion', 'feta cheese', 'balsamic vinegar', 'olive oil', 'Dijon mustard', 'honey', 'Salt', 'pepper']}\n",
      " 2024-02-24 14:52:25,921 - INFO - HTTP Request: POST https://api.openai.com/v1/chat/completions \"HTTP/1.1 200 OK\"\n",
      " 2024-02-24 14:52:25,924 - INFO - function_to_call: <function recipe_ingredients at 0x12ed91260>\n",
      " 2024-02-24 14:52:25,925 - INFO - function_args: {'product': ['cooked chicken breast', 'dried cherries', 'celery', 'pecans', 'mayonnaise', 'buttermilk', 'salt', 'ground black pepper', 'apples']}\n",
      " 2024-02-24 14:52:27,708 - INFO - HTTP Request: POST https://api.openai.com/v1/chat/completions \"HTTP/1.1 200 OK\"\n",
      " 2024-02-24 14:52:27,712 - INFO - function_to_call: <function recipe_ingredients at 0x12ed91260>\n",
      " 2024-02-24 14:52:27,713 - INFO - function_args: {'quantity': ['2 tablespoons', '¼ cup', '⅓ cup', '½ cup', '4 cups', '2 medium', '1 (10 ounce) package'], 'product': ['brown sugar', 'water', 'lime juice', 'chili garlic sauce', 'shredded, cooked chicken', 'mangos', 'avocados', 'spring lettuce mix']}\n",
      " 2024-02-24 14:52:29,432 - INFO - HTTP Request: POST https://api.openai.com/v1/chat/completions \"HTTP/1.1 200 OK\"\n",
      " 2024-02-24 14:52:29,436 - INFO - function_to_call: <function recipe_ingredients at 0x12ed91260>\n",
      " 2024-02-24 14:52:29,436 - INFO - function_args: {'quantity': ['¼ cup', '8 cups', '1 cup', '1 ½ cups', '1 large', '½ cup', '⅓ cup'], 'product': ['pine nuts', 'chopped spinach', 'cherry tomatoes', 'chopped cooked chicken', 'avocado', 'corn kernels', 'crumbled goat cheese']}\n",
      " 2024-02-24 14:52:30,985 - INFO - HTTP Request: POST https://api.openai.com/v1/chat/completions \"HTTP/1.1 200 OK\"\n",
      " 2024-02-24 14:52:30,987 - INFO - function_to_call: <function recipe_ingredients at 0x12ed91260>\n",
      " 2024-02-24 14:52:30,988 - INFO - function_args: {'product': ['boneless, skinless chicken breasts', 'olive oil', 'lemon', 'garlic', 'dried oregano', 'salt', 'black pepper', 'mixed salad greens', 'cherry tomatoes', 'cucumber', 'red onion', 'kalamata olives', 'feta cheese', 'red wine vinegar', 'extra virgin olive oil']}\n",
      " 2024-02-24 14:52:32,084 - INFO - HTTP Request: POST https://api.openai.com/v1/chat/completions \"HTTP/1.1 200 OK\"\n",
      " 2024-02-24 14:52:32,087 - INFO - function_to_call: <function recipe_ingredients at 0x12ed91260>\n",
      " 2024-02-24 14:52:32,088 - INFO - function_args: {'product': ['cooked chicken breast', 'dried cherries', 'celery', 'pecans', 'mayonnaise', 'buttermilk', 'salt', 'ground black pepper', 'apples']}\n",
      " 2024-02-24 14:52:33,545 - INFO - HTTP Request: POST https://api.openai.com/v1/chat/completions \"HTTP/1.1 200 OK\"\n",
      " 2024-02-24 14:52:33,550 - INFO - function_to_call: <function recipe_ingredients at 0x12ed91260>\n",
      " 2024-02-24 14:52:33,550 - INFO - function_args: {'quantity': ['2 tablespoons', '¼ cup', '⅓ cup', '½ cup', '4 cups', '2 medium', '1 (10 ounce) package'], 'product': ['brown sugar', 'water', 'lime juice', 'chili garlic sauce', 'shredded, cooked chicken', 'mangos', 'avocados', 'spring lettuce mix']}\n",
      " 2024-02-24 14:52:34,874 - INFO - HTTP Request: POST https://api.openai.com/v1/chat/completions \"HTTP/1.1 200 OK\"\n",
      " 2024-02-24 14:52:34,876 - INFO - function_to_call: <function recipe_ingredients at 0x12ed91260>\n",
      " 2024-02-24 14:52:34,877 - INFO - function_args: {'quantity': ['¼ cup', '8 cups', '1 cup', '1 ½ cups', '1 large', '½ cup', '⅓ cup'], 'product': ['pine nuts', 'chopped spinach', 'cherry tomatoes', 'chopped cooked chicken', 'avocado', 'corn kernels', 'crumbled goat cheese']}\n",
      " 2024-02-24 14:52:36,573 - INFO - HTTP Request: POST https://api.openai.com/v1/chat/completions \"HTTP/1.1 200 OK\"\n",
      " 2024-02-24 14:52:36,577 - INFO - function_to_call: <function recipe_ingredients at 0x12ed91260>\n",
      " 2024-02-24 14:52:36,578 - INFO - function_args: {'product': ['chicken breasts', 'mixed salad greens', 'cherry tomatoes', 'cucumber', 'orange', 'red onion', 'sliced almonds', 'orange juice', 'olive oil', 'white wine vinegar', 'honey', 'Dijon mustard', 'Salt', 'pepper']}\n",
      " 2024-02-24 14:52:37,649 - INFO - HTTP Request: POST https://api.openai.com/v1/chat/completions \"HTTP/1.1 200 OK\"\n",
      " 2024-02-24 14:52:37,652 - INFO - function_to_call: <function recipe_ingredients at 0x12ed91260>\n",
      " 2024-02-24 14:52:37,652 - INFO - function_args: {'product': ['cooked chicken breast', 'dried cherries', 'celery', 'pecans', 'mayonnaise', 'buttermilk', 'salt', 'ground black pepper', 'apples']}\n",
      " 2024-02-24 14:52:39,493 - INFO - HTTP Request: POST https://api.openai.com/v1/chat/completions \"HTTP/1.1 200 OK\"\n",
      " 2024-02-24 14:52:39,496 - INFO - function_to_call: <function recipe_ingredients at 0x12ed91260>\n",
      " 2024-02-24 14:52:39,497 - INFO - function_args: {'quantity': ['2 tablespoons', '¼ cup', '⅓ cup', '½ cup', '4 cups', '2 medium', '1 (10 ounce) package'], 'product': ['brown sugar', 'water', 'lime juice', 'chili garlic sauce', 'shredded, cooked chicken', 'mangos', 'avocados', 'spring lettuce mix']}\n",
      " 2024-02-24 14:52:40,974 - INFO - HTTP Request: POST https://api.openai.com/v1/chat/completions \"HTTP/1.1 200 OK\"\n",
      " 2024-02-24 14:52:40,977 - INFO - function_to_call: <function recipe_ingredients at 0x12ed91260>\n",
      " 2024-02-24 14:52:40,978 - INFO - function_args: {'quantity': ['¼ cup', '8 cups', '1 cup', '1 ½ cups', '1 large', '½ cup', '⅓ cup'], 'product': ['pine nuts', 'chopped spinach', 'cherry tomatoes', 'chopped cooked chicken', 'avocado', 'corn kernels', 'crumbled goat cheese']}\n",
      " 2024-02-24 14:52:42,144 - INFO - HTTP Request: POST https://api.openai.com/v1/chat/completions \"HTTP/1.1 200 OK\"\n",
      " 2024-02-24 14:52:42,147 - INFO - function_to_call: <function recipe_ingredients at 0x12ed91260>\n",
      " 2024-02-24 14:52:42,148 - INFO - function_args: {'product': ['chicken breasts', 'olive oil', 'salt', 'pepper', 'mixed salad greens', 'cucumber', 'bell pepper', 'red onion', 'avocado', 'fresh cilantro', 'Greek yogurt', 'lime juice', 'garlic clove']}\n",
      " 2024-02-24 14:52:43,275 - INFO - HTTP Request: POST https://api.openai.com/v1/chat/completions \"HTTP/1.1 200 OK\"\n",
      " 2024-02-24 14:52:43,277 - INFO - function_to_call: <function recipe_ingredients at 0x12ed91260>\n",
      " 2024-02-24 14:52:43,278 - INFO - function_args: {'product': ['cooked chicken breast', 'dried cherries', 'celery', 'pecans', 'mayonnaise', 'buttermilk', 'salt', 'ground black pepper', 'apples']}\n",
      " 2024-02-24 14:52:44,811 - INFO - HTTP Request: POST https://api.openai.com/v1/chat/completions \"HTTP/1.1 200 OK\"\n",
      " 2024-02-24 14:52:44,815 - INFO - function_to_call: <function recipe_ingredients at 0x12ed91260>\n",
      " 2024-02-24 14:52:44,816 - INFO - function_args: {'quantity': ['2 tablespoons', '¼ cup', '⅓ cup', '½ cup', '4 cups', '2 medium', '1 (10 ounce) package'], 'product': ['brown sugar', 'water', 'lime juice', 'chili garlic sauce', 'shredded, cooked chicken', 'mangos', 'avocados', 'spring lettuce mix']}\n",
      " 2024-02-24 14:52:46,220 - INFO - HTTP Request: POST https://api.openai.com/v1/chat/completions \"HTTP/1.1 200 OK\"\n",
      " 2024-02-24 14:52:46,223 - INFO - function_to_call: <function recipe_ingredients at 0x12ed91260>\n",
      " 2024-02-24 14:52:46,224 - INFO - function_args: {'quantity': ['¼ cup', '8 cups', '1 cup', '1 ½ cups', '1 large', '½ cup', '⅓ cup'], 'product': ['pine nuts', 'chopped spinach', 'cherry tomatoes', 'chopped cooked chicken', 'avocado', 'corn kernels', 'crumbled goat cheese']}\n"
     ]
    }
   ],
   "source": [
    "recipe_authenticity_result = []\n",
    "for item1 in chicken_salad_recipe:\n",
    "    item_recipe = {'id': item1['id'], 'recipe_name':item1['recipe_name'], 'matched_recipes':[]}\n",
    "    ingredients1 = str(df_gpt4_recipe[df_gpt4_recipe['id'] == str(item1['id'])]['ingredients'].values[0])\n",
    "    result1 = run_openai_task(labels, ingredients1)\n",
    "    ingredients1_arr = result1['function_response']\n",
    "    item_recipe['ingredients'] = ingredients1\n",
    "    item_recipe['ingredients_ner'] = ingredients1_arr\n",
    "    for item2 in dataset_chicken_salad_recipe:\n",
    "        ingredients2 = str(recipe_filter[recipe_filter['id'] == item2['id']]['ingredients'].values[0])\n",
    "        result2 = run_openai_task(labels, ingredients2)\n",
    "        ingredients2_arr = result2['function_response'] \n",
    "        matched_words,matched_count = word_match_count(ingredients1_arr, ingredients2_arr)\n",
    "        matched_percentage = (matched_count/len(ingredients2_arr))*100\n",
    "        item_recipe['matched_recipes'].append({'id':item2['id'], 'recipe_name':item2['recipe_name'],'ingredients':ingredients2,'ingredients_ner':ingredients2_arr, 'matched_percentage':matched_percentage, 'matched_words':matched_words})        \n",
    "    recipe_authenticity_result.append(item_recipe)"
   ]
  },
  {
   "cell_type": "code",
   "execution_count": 142,
   "metadata": {},
   "outputs": [],
   "source": [
    "class MatchedRecipe(BaseModel):\n",
    "    id: str\n",
    "    recipe_name: str\n",
    "    ingredients: str\n",
    "    ingredients_ner: list = []\n",
    "    matched_percentage: float\n",
    "    matched_words: set = []\n",
    "\n",
    "class RecipeAuthenticity(BaseModel):\n",
    "    id: str\n",
    "    recipe_name: str\n",
    "    ingredients: str\n",
    "    ingredients_ner: list = []\n",
    "    matched_recipes:List[MatchedRecipe] = []\n",
    "\n",
    "class RecipiesAuthenticity(BaseModel):\n",
    "    recpies_authenticity: List[RecipeAuthenticity] = []"
   ]
  },
  {
   "cell_type": "code",
   "execution_count": 143,
   "metadata": {},
   "outputs": [],
   "source": [
    "recpies = RecipiesAuthenticity()\n",
    "for item in recipe_authenticity_result:\n",
    "    recipe_authenticity = RecipeAuthenticity(id=item['id'], \n",
    "                                            recipe_name=item['recipe_name'],\n",
    "                                            ingredients= item['ingredients'],\n",
    "                                            ingredients_ner = item['ingredients_ner'])\n",
    "    for item_matched in item['matched_recipes']:\n",
    "        recipe_authenticity.matched_recipes.append(MatchedRecipe(id=str(item_matched['id']), \n",
    "                                            recipe_name=item_matched['recipe_name'],\n",
    "                                            ingredients= item_matched['ingredients'],\n",
    "                                            ingredients_ner = item_matched['ingredients_ner'],\n",
    "                                            matched_percentage=item_matched['matched_percentage'],\n",
    "                                            matched_words= item_matched['matched_words']))\n",
    "    recpies.recpies_authenticity.append(recipe_authenticity)"
   ]
  },
  {
   "cell_type": "code",
   "execution_count": 144,
   "metadata": {},
   "outputs": [],
   "source": [
    "import json\n",
    "with open('../data/random_diabetic_recipe/chicken_salad_recipe.json', 'w') as f:\n",
    "    json.dump(recpies.model_dump(mode='json'), f, indent=4, ensure_ascii=False)"
   ]
  },
  {
   "cell_type": "code",
   "execution_count": null,
   "metadata": {},
   "outputs": [],
   "source": []
  }
 ],
 "metadata": {
  "kernelspec": {
   "display_name": ".venv",
   "language": "python",
   "name": "python3"
  },
  "language_info": {
   "codemirror_mode": {
    "name": "ipython",
    "version": 3
   },
   "file_extension": ".py",
   "mimetype": "text/x-python",
   "name": "python",
   "nbconvert_exporter": "python",
   "pygments_lexer": "ipython3",
   "version": "3.11.3"
  }
 },
 "nbformat": 4,
 "nbformat_minor": 2
}
