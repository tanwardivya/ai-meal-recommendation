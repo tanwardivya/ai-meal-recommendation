{
 "cells": [
  {
   "cell_type": "code",
   "execution_count": 32,
   "metadata": {},
   "outputs": [
    {
     "data": {
      "text/plain": [
       "True"
      ]
     },
     "execution_count": 32,
     "metadata": {},
     "output_type": "execute_result"
    }
   ],
   "source": [
    "from dotenv import load_dotenv\n",
    "load_dotenv('../.vscode/.env')"
   ]
  },
  {
   "cell_type": "code",
   "execution_count": 37,
   "metadata": {},
   "outputs": [],
   "source": [
    "from openai import OpenAI\n",
    "import os\n",
    "import json\n",
    "from bs4 import BeautifulSoup\n",
    "import random\n",
    "import time\n",
    "from typing import List, Optional"
   ]
  },
  {
   "cell_type": "code",
   "execution_count": 33,
   "metadata": {},
   "outputs": [],
   "source": [
    "recipe_name = 'Classic Apple Pie'\n",
    "ingredients = '''\n",
    "- quinoa: 1 cup\n",
    "- water: 2 cups\n",
    "- black beans (rinsed and drained): 1 can (15 ounces)\n",
    "- red bell pepper (diced): 1\n",
    "- fresh cilantro (chopped): 1/4 cup\n",
    "- lime juice: 1/4 cup\n",
    "- olive oil: 2 tablespoons\n",
    "- ground cumin: 1 teaspoon\n",
    "- salt: 1/2 teaspoon\n",
    "- black pepper: 1/4 teaspoon\n",
    "- avocado (diced, optional): 1\n",
    "- cherry tomatoes (halved, optional): 1/2 cup\n",
    "'''\n",
    "directions= '''\n",
    "1. Cook Quinoa: Rinse the quinoa under cold water. In a medium saucepan, bring 2 cups of water to a boil. Add quinoa, reduce heat to low, cover, and simmer for about 15 minutes, or until quinoa is tender and water is absorbed. Remove from heat and let it cool.\n",
    "2. Combine Ingredients: In a large bowl, combine the cooled quinoa, black beans, red bell pepper, and cilantro.\n",
    "3. Make Dressing: In a small bowl, whisk together lime juice, olive oil, cumin, salt, and black pepper.\n",
    "4. Mix Salad: Pour the dressing over the quinoa mixture and stir until well combined. If using, gently fold in the avocado and cherry tomatoes.\n",
    "5. Chill and Serve: Refrigerate the salad for at least 30 minutes before serving. This allows the flavors to meld together.\n",
    "'''\n",
    "\n",
    "nutrients='''Total Carbohydrate: 50g, Dietary Fiber: 15g, Sodium: 300mg, Saturated Fat: 2g, Total Fat: 17g, Protein: 12g, Added Sugars: 0g, Total Sugars: 5g'''\n",
    "total_calorie_estimation='''\n",
    "- Total Calories for entire recipe : Approximately 1561 calories for the entire recipe. \n",
    "- Calories for each ingredient:\n",
    "    Quinoa: 712 calories for 1 cup cooked (from 185g of dry quinoa)\n",
    "    Black Beans: 227 calories per can\n",
    "    Red Bell Pepper: 37 calories\n",
    "    Cilantro: Negligible\n",
    "    Lime Juice: 8 calories per 1/4 cup\n",
    "    Olive Oil: 239 calories per 2 tablespoons\n",
    "    Cumin, Salt, Black Pepper: Negligible\n",
    "    Avocado: 322 calories\n",
    "    Cherry Tomatoes: 16 calories per 1/2 cup\n",
    "- Serving People: 4 \n",
    "'''"
   ]
  },
  {
   "cell_type": "code",
   "execution_count": 50,
   "metadata": {},
   "outputs": [],
   "source": [
    "ASSISTANT_INSTRUCTION = f'''\n",
    "You are helpful health-friendly recipe assistant who give different recipe each time when user ask. Recipe can be for vegetarian, vegan, and non-vegeterian diets.You generate diabetic friendly recipe in below format:\n",
    "<recipe>\n",
    "    <recipe_name> {recipe_name} </recipe_name>\n",
    "    <ingredients> {ingredients} </ingredients>\n",
    "    <directions> {directions} </directions>\n",
    "    <nutrition> {nutrients} </nutrition> \n",
    "    <total_calories_estimation>{total_calorie_estimation}</total_calories_estimation>\n",
    "</recipe>\n",
    "Always use above format to give recipe. Give total calories for recipe and refer USDA Food API for calories.\n",
    "'''"
   ]
  },
  {
   "cell_type": "code",
   "execution_count": 35,
   "metadata": {},
   "outputs": [
    {
     "name": "stdout",
     "output_type": "stream",
     "text": [
      "\n",
      "You are helpful diabetic-friendly recipe assistant who give different recipe each time when user ask. Recipe can be for vegetarian, vegan, and non-vegeterian diets.You generate diabetic friendly recipe in below format:\n",
      "<recipe>\n",
      "    <recipe_name> Classic Apple Pie </recipe_name>\n",
      "    <ingredients> \n",
      "- quinoa: 1 cup\n",
      "- water: 2 cups\n",
      "- black beans (rinsed and drained): 1 can (15 ounces)\n",
      "- red bell pepper (diced): 1\n",
      "- fresh cilantro (chopped): 1/4 cup\n",
      "- lime juice: 1/4 cup\n",
      "- olive oil: 2 tablespoons\n",
      "- ground cumin: 1 teaspoon\n",
      "- salt: 1/2 teaspoon\n",
      "- black pepper: 1/4 teaspoon\n",
      "- avocado (diced, optional): 1\n",
      "- cherry tomatoes (halved, optional): 1/2 cup\n",
      " </ingredients>\n",
      "    <directions> \n",
      "1. Cook Quinoa: Rinse the quinoa under cold water. In a medium saucepan, bring 2 cups of water to a boil. Add quinoa, reduce heat to low, cover, and simmer for about 15 minutes, or until quinoa is tender and water is absorbed. Remove from heat and let it cool.\n",
      "2. Combine Ingredients: In a large bowl, combine the cooled quinoa, black beans, red bell pepper, and cilantro.\n",
      "3. Make Dressing: In a small bowl, whisk together lime juice, olive oil, cumin, salt, and black pepper.\n",
      "4. Mix Salad: Pour the dressing over the quinoa mixture and stir until well combined. If using, gently fold in the avocado and cherry tomatoes.\n",
      "5. Chill and Serve: Refrigerate the salad for at least 30 minutes before serving. This allows the flavors to meld together.\n",
      " </directions>\n",
      "    <nutrition> Total Carbohydrate: 50g, Dietary Fiber: 15g, Sodium: 300mg, Saturated Fat: 2g, Total Fat: 17g, Protein: 12g, Added Sugars: 0g, Total Sugars: 5g </nutrition> \n",
      "    <total_calories_estimation>\n",
      "- Total Calories for entire recipe : Approximately 1561 calories for the entire recipe. \n",
      "- Calories for each ingredient:\n",
      "    Quinoa: 712 calories for 1 cup cooked (from 185g of dry quinoa)\n",
      "    Black Beans: 227 calories per can\n",
      "    Red Bell Pepper: 37 calories\n",
      "    Cilantro: Negligible\n",
      "    Lime Juice: 8 calories per 1/4 cup\n",
      "    Olive Oil: 239 calories per 2 tablespoons\n",
      "    Cumin, Salt, Black Pepper: Negligible\n",
      "    Avocado: 322 calories\n",
      "    Cherry Tomatoes: 16 calories per 1/2 cup\n",
      "- Serving People: 4 \n",
      "</total_calories_estimation>\n",
      "</recipe>\n",
      "Always use above format to give recipe. Give total calories for recipe and refer USDA Food API for calories.\n",
      "\n"
     ]
    }
   ],
   "source": [
    "print(ASSISTANT_INSTRUCTION)"
   ]
  },
  {
   "cell_type": "code",
   "execution_count": 5,
   "metadata": {},
   "outputs": [],
   "source": [
    "def show_json(obj):\n",
    "    display(json.loads(obj.model_dump_json()))"
   ]
  },
  {
   "cell_type": "markdown",
   "metadata": {},
   "source": [
    "Load Prompt file"
   ]
  },
  {
   "cell_type": "code",
   "execution_count": 59,
   "metadata": {},
   "outputs": [],
   "source": [
    "# File path\n",
    "prompt_file_path = '../data/prompts_v2.txt'"
   ]
  },
  {
   "cell_type": "code",
   "execution_count": 60,
   "metadata": {},
   "outputs": [],
   "source": [
    "def read_and_batch_lines(file_path, batch_size=10):\n",
    "    # Read all lines from the file\n",
    "    with open(file_path, 'r') as file:\n",
    "        lines = [line.strip() for line in file]\n",
    "    \n",
    "    # Shuffle the list to ensure randomness\n",
    "    random.shuffle(lines)\n",
    "    \n",
    "    # Generate batches of specified size\n",
    "    batches = []\n",
    "    for i in range(0, len(lines), batch_size):\n",
    "        # Add the batch only if it has the specified number of lines\n",
    "        if i + batch_size <= len(lines):\n",
    "            batches.append(lines[i:i + batch_size])\n",
    "    \n",
    "    return batches"
   ]
  },
  {
   "cell_type": "code",
   "execution_count": 61,
   "metadata": {},
   "outputs": [
    {
     "data": {
      "text/plain": [
       "[['What is a quick and easy low-cholesterol snack that can be made with yogurt and nuts?',\n",
       "  'I need a recipe for a low-sodium ice cream featuring mint and dark chocolate chips.',\n",
       "  'I need a dinner recipe that is low in cholesterol, involves grilled fish, and can be prepared in under 30 minutes.',\n",
       "  'Suggest a diabetic-friendly snack that includes nuts and is suitable for children.',\n",
       "  'Please provide a recipe for a low-sodium vegetable soup that can be served as a warm lunch during winter.',\n",
       "  'Can you create a low-sodium lunch recipe featuring quinoa and a variety of vegetables?',\n",
       "  'Can you provide a snack recipe for kids that is low in sodium and uses cheese and fruits?',\n",
       "  'I’m looking for a breakfast recipe low in cholesterol, involving eggs and spinach.',\n",
       "  'Suggest a low-sodium, vegetable-heavy dinner recipe ideal for older adults.',\n",
       "  'Create a recipe for a low-sodium stir-fry that uses tofu and a mix of colorful vegetables.'],\n",
       " ['What is a refreshing diabetic-friendly smoothie recipe for summer using peaches and yogurt?',\n",
       "  'What is a heart-healthy, low-cholesterol lunch recipe that features lentils?',\n",
       "  'Create a fun, diabetic-friendly smoothie bowl recipe for a nutritious breakfast.',\n",
       "  'What is a diabetic-friendly ice cream recipe that uses natural sweeteners and fresh strawberries?',\n",
       "  \"I'm looking for a low-cholesterol morning smoothie that incorporates oats and bananas.\",\n",
       "  'I need a low-cholesterol, high-protein breakfast recipe perfect for teenagers.',\n",
       "  'What is a good diabetic-friendly smoothie recipe for a post-workout meal?',\n",
       "  'Create a low-sodium vegetable juice recipe that includes carrots, celery, and apples.',\n",
       "  'Generate a low-cholesterol vanilla ice cream recipe that uses alternative dairy products.',\n",
       "  'What is a quick diabetic-friendly breakfast recipe that uses oats and berries?'],\n",
       " ['Provide a recipe for a low-sodium, meat-free dinner that uses beans as the main protein source.',\n",
       "  'Can you suggest a diabetic-friendly hot chocolate recipe using almond milk and stevia?',\n",
       "  'Suggest a diabetic-friendly dessert that incorporates dark chocolate and fruits.',\n",
       "  'Can you suggest a diabetic-friendly meal that includes chicken and vegetables for a family dinner?',\n",
       "  \"I'm looking for a low-cholesterol, fish-based recipe suitable for a heart-healthy diet.\",\n",
       "  'Generate a low-cholesterol chicken salad recipe for a healthy summer dinner.',\n",
       "  'Suggest a no-sugar-added fruit sorbet recipe that is suitable for diabetics.',\n",
       "  \"Provide a recipe for a low-sodium herbal tea blend that's perfect for relaxation.\",\n",
       "  'Generate a diabetic-friendly dinner recipe that includes salmon and whole grains.',\n",
       "  \"Can you provide a recipe for a low-sodium chocolate ice cream that's easy to make at home?\"]]"
      ]
     },
     "execution_count": 61,
     "metadata": {},
     "output_type": "execute_result"
    }
   ],
   "source": [
    "read_and_batch_lines(prompt_file_path)"
   ]
  },
  {
   "cell_type": "code",
   "execution_count": 19,
   "metadata": {},
   "outputs": [],
   "source": [
    "ASSISTANT_NAME = 'Recipe Assistant'"
   ]
  },
  {
   "cell_type": "code",
   "execution_count": 27,
   "metadata": {},
   "outputs": [],
   "source": [
    "client = OpenAI(api_key=os.environ.get(\"OPENAI_API_KEY\", \"\"))"
   ]
  },
  {
   "cell_type": "code",
   "execution_count": 45,
   "metadata": {},
   "outputs": [],
   "source": [
    "def create_assistant(assistant_name: str, assistant_instruction:str):\n",
    "    assistant = client.beta.assistants.create(\n",
    "        name=assistant_name,\n",
    "        instructions=assistant_instruction,\n",
    "        model=\"gpt-4-turbo-2024-04-09\",\n",
    "    )\n",
    "    return assistant"
   ]
  },
  {
   "cell_type": "code",
   "execution_count": 38,
   "metadata": {},
   "outputs": [],
   "source": [
    "def submit_message(assistant_id, thread, user_message):\n",
    "    client.beta.threads.messages.create(\n",
    "        thread_id=thread.id, role=\"user\", content=user_message\n",
    "    )\n",
    "    return client.beta.threads.runs.create(\n",
    "        thread_id=thread.id,\n",
    "        assistant_id=assistant_id,\n",
    "    )\n",
    "\n",
    "\n",
    "def get_response(thread):\n",
    "    messages = client.beta.threads.messages.list(thread_id=thread.id)\n",
    "    for m in messages:\n",
    "        if m.role == 'assistant':\n",
    "            return m.content[0].text.value\n",
    "# Write recipe in xml format using Beautiful soup\n",
    "def write_recipe(location:str,id: str, recipe_content:str):\n",
    "    soup = BeautifulSoup(recipe_content, \"xml\")\n",
    "    with open(f'{location}/{id}.xml', 'w') as f:\n",
    "        f.write(soup.prettify())\n",
    "\n",
    "def create_thread_and_run(assistant_id: str, user_input:str):\n",
    "    thread = client.beta.threads.create()\n",
    "    run = submit_message(assistant_id, thread, user_input)\n",
    "    return thread, run\n",
    "\n",
    "def wait_on_run(run, thread):\n",
    "    while run.status == \"queued\" or run.status == \"in_progress\":\n",
    "        run = client.beta.threads.runs.retrieve(\n",
    "            thread_id=thread.id,\n",
    "            run_id=run.id,\n",
    "        )\n",
    "        time.sleep(0.5)\n",
    "    return run"
   ]
  },
  {
   "cell_type": "code",
   "execution_count": 62,
   "metadata": {},
   "outputs": [],
   "source": [
    "def generate_recipe(batches:List[List[str]],recipe_id:int):\n",
    "    for index1, batch in enumerate(batches):\n",
    "        assistant = create_assistant(ASSISTANT_NAME, ASSISTANT_INSTRUCTION)\n",
    "        show_json(assistant)\n",
    "        for index2, prompt in enumerate(batch):\n",
    "            thread, run = create_thread_and_run(assistant_id= assistant.id, user_input=prompt)\n",
    "            run = wait_on_run(thread=thread, run = run)\n",
    "            recipe_content = get_response(thread=thread)\n",
    "            write_recipe(location='../data/generated_recipe_v3/recipes',id=str(recipe_id), recipe_content=recipe_content)\n",
    "            print(f'Generated recipe for id:{recipe_id}')\n",
    "            recipe_id +=1"
   ]
  },
  {
   "cell_type": "code",
   "execution_count": 63,
   "metadata": {},
   "outputs": [
    {
     "data": {
      "text/plain": [
       "{'id': 'asst_JNTZnZZ8J3usZXWEqRjGKFib',\n",
       " 'created_at': 1713165191,\n",
       " 'description': None,\n",
       " 'file_ids': [],\n",
       " 'instructions': '\\nYou are helpful health-friendly recipe assistant who give different recipe each time when user ask. Recipe can be for vegetarian, vegan, and non-vegeterian diets.You generate diabetic friendly recipe in below format:\\n<recipe>\\n    <recipe_name> Classic Apple Pie </recipe_name>\\n    <ingredients> \\n- quinoa: 1 cup\\n- water: 2 cups\\n- black beans (rinsed and drained): 1 can (15 ounces)\\n- red bell pepper (diced): 1\\n- fresh cilantro (chopped): 1/4 cup\\n- lime juice: 1/4 cup\\n- olive oil: 2 tablespoons\\n- ground cumin: 1 teaspoon\\n- salt: 1/2 teaspoon\\n- black pepper: 1/4 teaspoon\\n- avocado (diced, optional): 1\\n- cherry tomatoes (halved, optional): 1/2 cup\\n </ingredients>\\n    <directions> \\n1. Cook Quinoa: Rinse the quinoa under cold water. In a medium saucepan, bring 2 cups of water to a boil. Add quinoa, reduce heat to low, cover, and simmer for about 15 minutes, or until quinoa is tender and water is absorbed. Remove from heat and let it cool.\\n2. Combine Ingredients: In a large bowl, combine the cooled quinoa, black beans, red bell pepper, and cilantro.\\n3. Make Dressing: In a small bowl, whisk together lime juice, olive oil, cumin, salt, and black pepper.\\n4. Mix Salad: Pour the dressing over the quinoa mixture and stir until well combined. If using, gently fold in the avocado and cherry tomatoes.\\n5. Chill and Serve: Refrigerate the salad for at least 30 minutes before serving. This allows the flavors to meld together.\\n </directions>\\n    <nutrition> Total Carbohydrate: 50g, Dietary Fiber: 15g, Sodium: 300mg, Saturated Fat: 2g, Total Fat: 17g, Protein: 12g, Added Sugars: 0g, Total Sugars: 5g </nutrition> \\n    <total_calories_estimation>\\n- Total Calories for entire recipe : Approximately 1561 calories for the entire recipe. \\n- Calories for each ingredient:\\n    Quinoa: 712 calories for 1 cup cooked (from 185g of dry quinoa)\\n    Black Beans: 227 calories per can\\n    Red Bell Pepper: 37 calories\\n    Cilantro: Negligible\\n    Lime Juice: 8 calories per 1/4 cup\\n    Olive Oil: 239 calories per 2 tablespoons\\n    Cumin, Salt, Black Pepper: Negligible\\n    Avocado: 322 calories\\n    Cherry Tomatoes: 16 calories per 1/2 cup\\n- Serving People: 4 \\n</total_calories_estimation>\\n</recipe>\\nAlways use above format to give recipe. Give total calories for recipe and refer USDA Food API for calories.\\n',\n",
       " 'metadata': {},\n",
       " 'model': 'gpt-4-turbo-2024-04-09',\n",
       " 'name': 'Recipe Assistant',\n",
       " 'object': 'assistant',\n",
       " 'tools': []}"
      ]
     },
     "metadata": {},
     "output_type": "display_data"
    },
    {
     "name": "stdout",
     "output_type": "stream",
     "text": [
      "Generated recipe for id:61\n",
      "Generated recipe for id:62\n",
      "Generated recipe for id:63\n",
      "Generated recipe for id:64\n",
      "Generated recipe for id:65\n",
      "Generated recipe for id:66\n",
      "Generated recipe for id:67\n",
      "Generated recipe for id:68\n",
      "Generated recipe for id:69\n",
      "Generated recipe for id:70\n"
     ]
    },
    {
     "data": {
      "text/plain": [
       "{'id': 'asst_Gy0iBTnRLhFAV9slVzIVeCzx',\n",
       " 'created_at': 1713165450,\n",
       " 'description': None,\n",
       " 'file_ids': [],\n",
       " 'instructions': '\\nYou are helpful health-friendly recipe assistant who give different recipe each time when user ask. Recipe can be for vegetarian, vegan, and non-vegeterian diets.You generate diabetic friendly recipe in below format:\\n<recipe>\\n    <recipe_name> Classic Apple Pie </recipe_name>\\n    <ingredients> \\n- quinoa: 1 cup\\n- water: 2 cups\\n- black beans (rinsed and drained): 1 can (15 ounces)\\n- red bell pepper (diced): 1\\n- fresh cilantro (chopped): 1/4 cup\\n- lime juice: 1/4 cup\\n- olive oil: 2 tablespoons\\n- ground cumin: 1 teaspoon\\n- salt: 1/2 teaspoon\\n- black pepper: 1/4 teaspoon\\n- avocado (diced, optional): 1\\n- cherry tomatoes (halved, optional): 1/2 cup\\n </ingredients>\\n    <directions> \\n1. Cook Quinoa: Rinse the quinoa under cold water. In a medium saucepan, bring 2 cups of water to a boil. Add quinoa, reduce heat to low, cover, and simmer for about 15 minutes, or until quinoa is tender and water is absorbed. Remove from heat and let it cool.\\n2. Combine Ingredients: In a large bowl, combine the cooled quinoa, black beans, red bell pepper, and cilantro.\\n3. Make Dressing: In a small bowl, whisk together lime juice, olive oil, cumin, salt, and black pepper.\\n4. Mix Salad: Pour the dressing over the quinoa mixture and stir until well combined. If using, gently fold in the avocado and cherry tomatoes.\\n5. Chill and Serve: Refrigerate the salad for at least 30 minutes before serving. This allows the flavors to meld together.\\n </directions>\\n    <nutrition> Total Carbohydrate: 50g, Dietary Fiber: 15g, Sodium: 300mg, Saturated Fat: 2g, Total Fat: 17g, Protein: 12g, Added Sugars: 0g, Total Sugars: 5g </nutrition> \\n    <total_calories_estimation>\\n- Total Calories for entire recipe : Approximately 1561 calories for the entire recipe. \\n- Calories for each ingredient:\\n    Quinoa: 712 calories for 1 cup cooked (from 185g of dry quinoa)\\n    Black Beans: 227 calories per can\\n    Red Bell Pepper: 37 calories\\n    Cilantro: Negligible\\n    Lime Juice: 8 calories per 1/4 cup\\n    Olive Oil: 239 calories per 2 tablespoons\\n    Cumin, Salt, Black Pepper: Negligible\\n    Avocado: 322 calories\\n    Cherry Tomatoes: 16 calories per 1/2 cup\\n- Serving People: 4 \\n</total_calories_estimation>\\n</recipe>\\nAlways use above format to give recipe. Give total calories for recipe and refer USDA Food API for calories.\\n',\n",
       " 'metadata': {},\n",
       " 'model': 'gpt-4-turbo-2024-04-09',\n",
       " 'name': 'Recipe Assistant',\n",
       " 'object': 'assistant',\n",
       " 'tools': []}"
      ]
     },
     "metadata": {},
     "output_type": "display_data"
    },
    {
     "name": "stdout",
     "output_type": "stream",
     "text": [
      "Generated recipe for id:71\n",
      "Generated recipe for id:72\n",
      "Generated recipe for id:73\n",
      "Generated recipe for id:74\n",
      "Generated recipe for id:75\n",
      "Generated recipe for id:76\n",
      "Generated recipe for id:77\n",
      "Generated recipe for id:78\n",
      "Generated recipe for id:79\n",
      "Generated recipe for id:80\n"
     ]
    },
    {
     "data": {
      "text/plain": [
       "{'id': 'asst_2v3hDhV83JNZRdVXeo3T9FDO',\n",
       " 'created_at': 1713165708,\n",
       " 'description': None,\n",
       " 'file_ids': [],\n",
       " 'instructions': '\\nYou are helpful health-friendly recipe assistant who give different recipe each time when user ask. Recipe can be for vegetarian, vegan, and non-vegeterian diets.You generate diabetic friendly recipe in below format:\\n<recipe>\\n    <recipe_name> Classic Apple Pie </recipe_name>\\n    <ingredients> \\n- quinoa: 1 cup\\n- water: 2 cups\\n- black beans (rinsed and drained): 1 can (15 ounces)\\n- red bell pepper (diced): 1\\n- fresh cilantro (chopped): 1/4 cup\\n- lime juice: 1/4 cup\\n- olive oil: 2 tablespoons\\n- ground cumin: 1 teaspoon\\n- salt: 1/2 teaspoon\\n- black pepper: 1/4 teaspoon\\n- avocado (diced, optional): 1\\n- cherry tomatoes (halved, optional): 1/2 cup\\n </ingredients>\\n    <directions> \\n1. Cook Quinoa: Rinse the quinoa under cold water. In a medium saucepan, bring 2 cups of water to a boil. Add quinoa, reduce heat to low, cover, and simmer for about 15 minutes, or until quinoa is tender and water is absorbed. Remove from heat and let it cool.\\n2. Combine Ingredients: In a large bowl, combine the cooled quinoa, black beans, red bell pepper, and cilantro.\\n3. Make Dressing: In a small bowl, whisk together lime juice, olive oil, cumin, salt, and black pepper.\\n4. Mix Salad: Pour the dressing over the quinoa mixture and stir until well combined. If using, gently fold in the avocado and cherry tomatoes.\\n5. Chill and Serve: Refrigerate the salad for at least 30 minutes before serving. This allows the flavors to meld together.\\n </directions>\\n    <nutrition> Total Carbohydrate: 50g, Dietary Fiber: 15g, Sodium: 300mg, Saturated Fat: 2g, Total Fat: 17g, Protein: 12g, Added Sugars: 0g, Total Sugars: 5g </nutrition> \\n    <total_calories_estimation>\\n- Total Calories for entire recipe : Approximately 1561 calories for the entire recipe. \\n- Calories for each ingredient:\\n    Quinoa: 712 calories for 1 cup cooked (from 185g of dry quinoa)\\n    Black Beans: 227 calories per can\\n    Red Bell Pepper: 37 calories\\n    Cilantro: Negligible\\n    Lime Juice: 8 calories per 1/4 cup\\n    Olive Oil: 239 calories per 2 tablespoons\\n    Cumin, Salt, Black Pepper: Negligible\\n    Avocado: 322 calories\\n    Cherry Tomatoes: 16 calories per 1/2 cup\\n- Serving People: 4 \\n</total_calories_estimation>\\n</recipe>\\nAlways use above format to give recipe. Give total calories for recipe and refer USDA Food API for calories.\\n',\n",
       " 'metadata': {},\n",
       " 'model': 'gpt-4-turbo-2024-04-09',\n",
       " 'name': 'Recipe Assistant',\n",
       " 'object': 'assistant',\n",
       " 'tools': []}"
      ]
     },
     "metadata": {},
     "output_type": "display_data"
    },
    {
     "name": "stdout",
     "output_type": "stream",
     "text": [
      "Generated recipe for id:81\n",
      "Generated recipe for id:82\n",
      "Generated recipe for id:83\n",
      "Generated recipe for id:84\n",
      "Generated recipe for id:85\n",
      "Generated recipe for id:86\n",
      "Generated recipe for id:87\n",
      "Generated recipe for id:88\n",
      "Generated recipe for id:89\n",
      "Generated recipe for id:90\n"
     ]
    }
   ],
   "source": [
    "batches = read_and_batch_lines(prompt_file_path)\n",
    "generate_recipe(batches=batches, recipe_id=61)"
   ]
  },
  {
   "cell_type": "code",
   "execution_count": null,
   "metadata": {},
   "outputs": [],
   "source": []
  }
 ],
 "metadata": {
  "kernelspec": {
   "display_name": ".venv",
   "language": "python",
   "name": "python3"
  },
  "language_info": {
   "codemirror_mode": {
    "name": "ipython",
    "version": 3
   },
   "file_extension": ".py",
   "mimetype": "text/x-python",
   "name": "python",
   "nbconvert_exporter": "python",
   "pygments_lexer": "ipython3",
   "version": "3.11.3"
  }
 },
 "nbformat": 4,
 "nbformat_minor": 2
}
