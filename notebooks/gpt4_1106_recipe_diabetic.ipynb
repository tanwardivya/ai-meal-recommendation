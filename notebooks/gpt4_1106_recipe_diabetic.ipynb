{
 "cells": [
  {
   "cell_type": "markdown",
   "metadata": {},
   "source": [
    "###### loading the secret key"
   ]
  },
  {
   "cell_type": "code",
   "execution_count": 1,
   "metadata": {},
   "outputs": [
    {
     "data": {
      "text/plain": [
       "True"
      ]
     },
     "execution_count": 1,
     "metadata": {},
     "output_type": "execute_result"
    }
   ],
   "source": [
    "from dotenv import load_dotenv\n",
    "load_dotenv('../.vscode/.env')"
   ]
  },
  {
   "cell_type": "markdown",
   "metadata": {},
   "source": [
    "###### Importing pandas packages"
   ]
  },
  {
   "cell_type": "code",
   "execution_count": 2,
   "metadata": {},
   "outputs": [
    {
     "name": "stderr",
     "output_type": "stream",
     "text": [
      "/var/folders/qb/cr87d2s56q51lk72620820hw0000gn/T/ipykernel_23771/4080736814.py:1: DeprecationWarning: \n",
      "Pyarrow will become a required dependency of pandas in the next major release of pandas (pandas 3.0),\n",
      "(to allow more performant data types, such as the Arrow string type, and better interoperability with other libraries)\n",
      "but was not found to be installed on your system.\n",
      "If this would cause problems for you,\n",
      "please provide us feedback at https://github.com/pandas-dev/pandas/issues/54466\n",
      "        \n",
      "  import pandas as pd\n"
     ]
    }
   ],
   "source": [
    "import pandas as pd"
   ]
  },
  {
   "cell_type": "markdown",
   "metadata": {},
   "source": [
    "###### Reading the dataset"
   ]
  },
  {
   "cell_type": "code",
   "execution_count": 147,
   "metadata": {},
   "outputs": [],
   "source": [
    "df = pd.read_csv('../data/diabetic_recipe.csv')"
   ]
  },
  {
   "cell_type": "code",
   "execution_count": 148,
   "metadata": {},
   "outputs": [
    {
     "data": {
      "text/html": [
       "<div>\n",
       "<style scoped>\n",
       "    .dataframe tbody tr th:only-of-type {\n",
       "        vertical-align: middle;\n",
       "    }\n",
       "\n",
       "    .dataframe tbody tr th {\n",
       "        vertical-align: top;\n",
       "    }\n",
       "\n",
       "    .dataframe thead th {\n",
       "        text-align: right;\n",
       "    }\n",
       "</style>\n",
       "<table border=\"1\" class=\"dataframe\">\n",
       "  <thead>\n",
       "    <tr style=\"text-align: right;\">\n",
       "      <th></th>\n",
       "      <th>id</th>\n",
       "      <th>recipe_name</th>\n",
       "      <th>ingredients</th>\n",
       "      <th>directions</th>\n",
       "      <th>nutrition</th>\n",
       "      <th>source</th>\n",
       "    </tr>\n",
       "  </thead>\n",
       "  <tbody>\n",
       "    <tr>\n",
       "      <th>0</th>\n",
       "      <td>1</td>\n",
       "      <td>Shrimp scampi</td>\n",
       "      <td>8 ounces uncooked spaghetti, 3 tablespoons oli...</td>\n",
       "      <td>Fill a large pot 3/4 full with water and bring...</td>\n",
       "      <td>Calories 376, Total fat 12g,  Protein 36g, Cho...</td>\n",
       "      <td>https://www.mayoclinic.org/healthy-lifestyle/r...</td>\n",
       "    </tr>\n",
       "    <tr>\n",
       "      <th>1</th>\n",
       "      <td>2</td>\n",
       "      <td>Almond crusted chicken</td>\n",
       "      <td>3/4 cup ground almonds, 1/2 cup all-purpose fl...</td>\n",
       "      <td>Heat oven to 400 F. Lightly coat a baking shee...</td>\n",
       "      <td>Calories 250, Total fat 11g, Saturated fat 1g,...</td>\n",
       "      <td>https://www.mayoclinic.org/healthy-lifestyle/r...</td>\n",
       "    </tr>\n",
       "    <tr>\n",
       "      <th>2</th>\n",
       "      <td>3</td>\n",
       "      <td>Balsamic feta chicken</td>\n",
       "      <td>6 chicken breasts, 4 ounces each, 1/2 cup bals...</td>\n",
       "      <td>Heat the oven to 375 F. Lightly coat a baking ...</td>\n",
       "      <td>Calories 279, Total fat 15g, Saturated fat 4g,...</td>\n",
       "      <td>https://www.mayoclinic.org/healthy-lifestyle/r...</td>\n",
       "    </tr>\n",
       "    <tr>\n",
       "      <th>3</th>\n",
       "      <td>4</td>\n",
       "      <td>Baked oatmeal</td>\n",
       "      <td>1 tablespoon canola oil, 1/2 cup unsweetened a...</td>\n",
       "      <td>In a good-sized bowl, stir together oil, apple...</td>\n",
       "      <td>Calories 209, Total carbohydrate 34g, Dietary ...</td>\n",
       "      <td>https://www.mayoclinic.org/healthy-lifestyle/r...</td>\n",
       "    </tr>\n",
       "    <tr>\n",
       "      <th>4</th>\n",
       "      <td>5</td>\n",
       "      <td>Beef and vegetable kebabs</td>\n",
       "      <td>1/2 cup brown rice, 2 cups water, 4 ounces top...</td>\n",
       "      <td>In a saucepan over high heat, combine the rice...</td>\n",
       "      <td>Calories 324, Total carbohydrate 54g, Dietary ...</td>\n",
       "      <td>https://www.mayoclinic.org/healthy-lifestyle/r...</td>\n",
       "    </tr>\n",
       "    <tr>\n",
       "      <th>5</th>\n",
       "      <td>6</td>\n",
       "      <td>Black bean quesadillas</td>\n",
       "      <td>1 1/2 cups reduced sodium black beans, drained...</td>\n",
       "      <td>Heat oven to 350 F. In a large bowl, combine t...</td>\n",
       "      <td>Calories 281, Total fat 8g, Saturated fat 4g, ...</td>\n",
       "      <td>https://www.mayoclinic.org/healthy-lifestyle/r...</td>\n",
       "    </tr>\n",
       "    <tr>\n",
       "      <th>6</th>\n",
       "      <td>7</td>\n",
       "      <td>Beef fajitas</td>\n",
       "      <td>1 tablespoon chili powder, 1/2 teaspoon ground...</td>\n",
       "      <td>In a small bowl, stir together the chili powde...</td>\n",
       "      <td>Calories 242, Total fat 6g, Protein 24g, Chole...</td>\n",
       "      <td>https://www.mayoclinic.org/healthy-lifestyle/r...</td>\n",
       "    </tr>\n",
       "    <tr>\n",
       "      <th>7</th>\n",
       "      <td>8</td>\n",
       "      <td>Chicken sausage meatballs</td>\n",
       "      <td>1/4 large onion, chopped, 1 3/4 teaspoon mince...</td>\n",
       "      <td>Heat the oven to 350 F. In a small saucepan, s...</td>\n",
       "      <td>Calories 177, Total fat 4g, Saturated fat 2g, ...</td>\n",
       "      <td>https://www.mayoclinic.org/healthy-lifestyle/r...</td>\n",
       "    </tr>\n",
       "    <tr>\n",
       "      <th>8</th>\n",
       "      <td>9</td>\n",
       "      <td>Fresh fruit kebabs</td>\n",
       "      <td>6 ounces low-fat, sugar-free lemon yogurt, 1 t...</td>\n",
       "      <td>In a small bowl, whisk together the yogurt, li...</td>\n",
       "      <td>Calories 190, Total fat 2g, Saturated fat 1g, ...</td>\n",
       "      <td>https://www.mayoclinic.org/healthy-lifestyle/r...</td>\n",
       "    </tr>\n",
       "    <tr>\n",
       "      <th>9</th>\n",
       "      <td>10</td>\n",
       "      <td>Chicken fajitas</td>\n",
       "      <td>1/4 cup lime juice, 1 or 2 cloves garlic, minc...</td>\n",
       "      <td>Combine the first four ingredients in a large ...</td>\n",
       "      <td>Calories 220, Total fat 4g, Saturated fat 1g, ...</td>\n",
       "      <td>https://www.mayoclinic.org/healthy-lifestyle/r...</td>\n",
       "    </tr>\n",
       "    <tr>\n",
       "      <th>10</th>\n",
       "      <td>11</td>\n",
       "      <td>Fresh fruit smoothie</td>\n",
       "      <td>1 cup fresh pineapple chunks, 1/2 cup cantalou...</td>\n",
       "      <td>Remove rind from pineapple and melon. Cut into...</td>\n",
       "      <td>Calories 72, Total carbohydrate 17g, Dietary f...</td>\n",
       "      <td>https://www.mayoclinic.org/healthy-lifestyle/r...</td>\n",
       "    </tr>\n",
       "  </tbody>\n",
       "</table>\n",
       "</div>"
      ],
      "text/plain": [
       "    id                recipe_name  \\\n",
       "0    1              Shrimp scampi   \n",
       "1    2     Almond crusted chicken   \n",
       "2    3      Balsamic feta chicken   \n",
       "3    4              Baked oatmeal   \n",
       "4    5  Beef and vegetable kebabs   \n",
       "5    6     Black bean quesadillas   \n",
       "6    7               Beef fajitas   \n",
       "7    8  Chicken sausage meatballs   \n",
       "8    9         Fresh fruit kebabs   \n",
       "9   10            Chicken fajitas   \n",
       "10  11       Fresh fruit smoothie   \n",
       "\n",
       "                                          ingredients  \\\n",
       "0   8 ounces uncooked spaghetti, 3 tablespoons oli...   \n",
       "1   3/4 cup ground almonds, 1/2 cup all-purpose fl...   \n",
       "2   6 chicken breasts, 4 ounces each, 1/2 cup bals...   \n",
       "3   1 tablespoon canola oil, 1/2 cup unsweetened a...   \n",
       "4   1/2 cup brown rice, 2 cups water, 4 ounces top...   \n",
       "5   1 1/2 cups reduced sodium black beans, drained...   \n",
       "6   1 tablespoon chili powder, 1/2 teaspoon ground...   \n",
       "7   1/4 large onion, chopped, 1 3/4 teaspoon mince...   \n",
       "8   6 ounces low-fat, sugar-free lemon yogurt, 1 t...   \n",
       "9   1/4 cup lime juice, 1 or 2 cloves garlic, minc...   \n",
       "10  1 cup fresh pineapple chunks, 1/2 cup cantalou...   \n",
       "\n",
       "                                           directions  \\\n",
       "0   Fill a large pot 3/4 full with water and bring...   \n",
       "1   Heat oven to 400 F. Lightly coat a baking shee...   \n",
       "2   Heat the oven to 375 F. Lightly coat a baking ...   \n",
       "3   In a good-sized bowl, stir together oil, apple...   \n",
       "4   In a saucepan over high heat, combine the rice...   \n",
       "5   Heat oven to 350 F. In a large bowl, combine t...   \n",
       "6   In a small bowl, stir together the chili powde...   \n",
       "7   Heat the oven to 350 F. In a small saucepan, s...   \n",
       "8   In a small bowl, whisk together the yogurt, li...   \n",
       "9   Combine the first four ingredients in a large ...   \n",
       "10  Remove rind from pineapple and melon. Cut into...   \n",
       "\n",
       "                                            nutrition  \\\n",
       "0   Calories 376, Total fat 12g,  Protein 36g, Cho...   \n",
       "1   Calories 250, Total fat 11g, Saturated fat 1g,...   \n",
       "2   Calories 279, Total fat 15g, Saturated fat 4g,...   \n",
       "3   Calories 209, Total carbohydrate 34g, Dietary ...   \n",
       "4   Calories 324, Total carbohydrate 54g, Dietary ...   \n",
       "5   Calories 281, Total fat 8g, Saturated fat 4g, ...   \n",
       "6   Calories 242, Total fat 6g, Protein 24g, Chole...   \n",
       "7   Calories 177, Total fat 4g, Saturated fat 2g, ...   \n",
       "8   Calories 190, Total fat 2g, Saturated fat 1g, ...   \n",
       "9   Calories 220, Total fat 4g, Saturated fat 1g, ...   \n",
       "10  Calories 72, Total carbohydrate 17g, Dietary f...   \n",
       "\n",
       "                                               source  \n",
       "0   https://www.mayoclinic.org/healthy-lifestyle/r...  \n",
       "1   https://www.mayoclinic.org/healthy-lifestyle/r...  \n",
       "2   https://www.mayoclinic.org/healthy-lifestyle/r...  \n",
       "3   https://www.mayoclinic.org/healthy-lifestyle/r...  \n",
       "4   https://www.mayoclinic.org/healthy-lifestyle/r...  \n",
       "5   https://www.mayoclinic.org/healthy-lifestyle/r...  \n",
       "6   https://www.mayoclinic.org/healthy-lifestyle/r...  \n",
       "7   https://www.mayoclinic.org/healthy-lifestyle/r...  \n",
       "8   https://www.mayoclinic.org/healthy-lifestyle/r...  \n",
       "9   https://www.mayoclinic.org/healthy-lifestyle/r...  \n",
       "10  https://www.mayoclinic.org/healthy-lifestyle/r...  "
      ]
     },
     "execution_count": 148,
     "metadata": {},
     "output_type": "execute_result"
    }
   ],
   "source": [
    "df"
   ]
  },
  {
   "cell_type": "markdown",
   "metadata": {},
   "source": [
    "###### Take first row to fill Assistant instructions"
   ]
  },
  {
   "cell_type": "code",
   "execution_count": 149,
   "metadata": {},
   "outputs": [],
   "source": [
    "row = df.iloc[0]"
   ]
  },
  {
   "cell_type": "markdown",
   "metadata": {},
   "source": [
    "###### Extracting random recipes from the dataset"
   ]
  },
  {
   "cell_type": "code",
   "execution_count": 150,
   "metadata": {},
   "outputs": [],
   "source": [
    "random_recipes = df[['id', 'recipe_name']][1:]\n",
    "recipe_names = list(random_recipes['recipe_name'])"
   ]
  },
  {
   "cell_type": "code",
   "execution_count": 118,
   "metadata": {},
   "outputs": [
    {
     "data": {
      "text/plain": [
       "['Almond crusted chicken',\n",
       " 'Balsamic feta chicken',\n",
       " 'Baked oatmeal',\n",
       " 'Beef and vegetable kebabs',\n",
       " 'Black bean quesadillas',\n",
       " 'Beef fajitas',\n",
       " 'Chicken sausage meatballs',\n",
       " 'Fresh fruit kebabs',\n",
       " 'Chicken fajitas',\n",
       " 'Fresh fruit smoothie']"
      ]
     },
     "execution_count": 118,
     "metadata": {},
     "output_type": "execute_result"
    }
   ],
   "source": [
    "recipe_names"
   ]
  },
  {
   "cell_type": "markdown",
   "metadata": {},
   "source": [
    "###### Initializing assistant"
   ]
  },
  {
   "cell_type": "code",
   "execution_count": 42,
   "metadata": {},
   "outputs": [],
   "source": [
    "ASSISTANT_NAME = 'Diabetic Recipe Assistant'\n"
   ]
  },
  {
   "cell_type": "markdown",
   "metadata": {},
   "source": [
    "###### Creating instructions for assistant"
   ]
  },
  {
   "cell_type": "code",
   "execution_count": 43,
   "metadata": {},
   "outputs": [],
   "source": [
    "ASSISTANT_INSTRUCTION = f'''\n",
    "You are helpful diabetic-friendly recipe assistant. You generate diabetic friendly recipe in below format:\n",
    "<recipe>\n",
    "    <recipe_name> {row['recipe_name']} </recipe_name>\n",
    "    <ingredients> {row['ingredients']} </ingredients>\n",
    "    <directions> {row['directions']} </directions>\n",
    "    <nutrition> {row['nutrition']} </nutrition> \n",
    "</recipe>\n",
    "Always use above format to give recipe.\n",
    "'''"
   ]
  },
  {
   "cell_type": "code",
   "execution_count": 44,
   "metadata": {},
   "outputs": [
    {
     "name": "stdout",
     "output_type": "stream",
     "text": [
      "\n",
      "You are helpful diabetic-friendly recipe assistant. You generate diabetic friendly recipe in below format:\n",
      "<recipe>\n",
      "    <recipe_name> Shrimp scampi </recipe_name>\n",
      "    <ingredients> 8 ounces uncooked spaghetti, 3 tablespoons olive oil, divided, 2 pounds large shrimp, peeled and deveined, 1 tablespoon minced garlic, 1/4 cup chopped shallots or green onions, 2 tablespoons lemon juice, 1/4 cup chopped parsley, 1/4 teaspoon salt, Ground black pepper, to taste, 2 tablespoons brandy or sherry, optional , 2 tablespoons butter </ingredients>\n",
      "    <directions> Fill a large pot 3/4 full with water and bring to a boil. Add the pasta and cook according to package directions. Drain the pasta thoroughly, While the pasta is cooking, heat 1 tablespoon olive oil in a large saucepan over medium heat. Add the shrimp and cook for 2 to 3 minutes on each side. Transfer shrimp to a bowl and keep warm,  Add garlic and shallots to the saucepan and cook until fragrant, about 10 seconds. Add lemon juice, parsley, salt and pepper, and brandy or sherry, if desired.Remove the saucepan from the heat. Add the cooked shrimp plus 2 tablespoons olive oil and 2 tablespoons butter. Toss until shrimp are coated with sauce. Divide pasta among warmed individual bowls. Top with shrimp and sauce. Serve immediately. </directions>\n",
      "    <nutrition> Calories 376, Total fat 12g,  Protein 36g, Cholesterol 254mg, Total carbohydrate 31g, Dietary fiber 2g, Monounsaturated fat 6g, Saturated fat 4g, Added sugars 0g, Sodium 344mg, Trans fat Trace, Potassium 537mg, Total sugars 2g </nutrition> \n",
      "</recipe>\n",
      "Always use above format to give recipe.\n",
      "\n"
     ]
    }
   ],
   "source": [
    "print(ASSISTANT_INSTRUCTION)"
   ]
  },
  {
   "cell_type": "markdown",
   "metadata": {},
   "source": [
    "###### Parsing json string"
   ]
  },
  {
   "cell_type": "code",
   "execution_count": 45,
   "metadata": {},
   "outputs": [],
   "source": [
    "import json\n",
    "\n",
    "def show_json(obj):\n",
    "    display(json.loads(obj.model_dump_json()))"
   ]
  },
  {
   "cell_type": "markdown",
   "metadata": {},
   "source": [
    "###### Importing OpenAI and OS module"
   ]
  },
  {
   "cell_type": "code",
   "execution_count": 46,
   "metadata": {},
   "outputs": [],
   "source": [
    "from openai import OpenAI\n",
    "import os"
   ]
  },
  {
   "cell_type": "markdown",
   "metadata": {},
   "source": [
    "###### Create Assistant through the Assistant API"
   ]
  },
  {
   "cell_type": "code",
   "execution_count": 47,
   "metadata": {},
   "outputs": [
    {
     "data": {
      "text/plain": [
       "{'id': 'asst_7kSAgbCByHWs6XJGRTtqgLhj',\n",
       " 'created_at': 1707718393,\n",
       " 'description': None,\n",
       " 'file_ids': [],\n",
       " 'instructions': '\\nYou are helpful diabetic-friendly recipe assistant. You generate diabetic friendly recipe in below format:\\n<recipe>\\n    <recipe_name> Shrimp scampi </recipe_name>\\n    <ingredients> 8 ounces uncooked spaghetti, 3 tablespoons olive oil, divided, 2 pounds large shrimp, peeled and deveined, 1 tablespoon minced garlic, 1/4 cup chopped shallots or green onions, 2 tablespoons lemon juice, 1/4 cup chopped parsley, 1/4 teaspoon salt, Ground black pepper, to taste, 2 tablespoons brandy or sherry, optional , 2 tablespoons butter </ingredients>\\n    <directions> Fill a large pot 3/4 full with water and bring to a boil. Add the pasta and cook according to package directions. Drain the pasta thoroughly, While the pasta is cooking, heat 1 tablespoon olive oil in a large saucepan over medium heat. Add the shrimp and cook for 2 to 3 minutes on each side. Transfer shrimp to a bowl and keep warm,  Add garlic and shallots to the saucepan and cook until fragrant, about 10 seconds. Add lemon juice, parsley, salt and pepper, and brandy or sherry, if desired.Remove the saucepan from the heat. Add the cooked shrimp plus 2 tablespoons olive oil and 2 tablespoons butter. Toss until shrimp are coated with sauce. Divide pasta among warmed individual bowls. Top with shrimp and sauce. Serve immediately. </directions>\\n    <nutrition> Calories 376, Total fat 12g,  Protein 36g, Cholesterol 254mg, Total carbohydrate 31g, Dietary fiber 2g, Monounsaturated fat 6g, Saturated fat 4g, Added sugars 0g, Sodium 344mg, Trans fat Trace, Potassium 537mg, Total sugars 2g </nutrition> \\n</recipe>\\nAlways use above format to give recipe.\\n',\n",
       " 'metadata': {},\n",
       " 'model': 'gpt-4-1106-preview',\n",
       " 'name': 'Diabetic Recipe Assistant',\n",
       " 'object': 'assistant',\n",
       " 'tools': []}"
      ]
     },
     "metadata": {},
     "output_type": "display_data"
    }
   ],
   "source": [
    "client = OpenAI(api_key=os.environ.get(\"OPENAI_API_KEY\", \"\"))"
   ]
  },
  {
   "cell_type": "markdown",
   "metadata": {},
   "source": [
    "##### Don't run this code again"
   ]
  },
  {
   "cell_type": "code",
   "execution_count": null,
   "metadata": {},
   "outputs": [],
   "source": [
    "assistant = client.beta.assistants.create(\n",
    "    name=ASSISTANT_NAME,\n",
    "    instructions=ASSISTANT_INSTRUCTION,\n",
    "    model=\"gpt-4-1106-preview\",\n",
    ")\n",
    "show_json(assistant)"
   ]
  },
  {
   "cell_type": "code",
   "execution_count": 116,
   "metadata": {},
   "outputs": [],
   "source": [
    "ASSISTANT_ID = 'asst_7kSAgbCByHWs6XJGRTtqgLhj'"
   ]
  },
  {
   "cell_type": "markdown",
   "metadata": {},
   "source": [
    "###### Creating thread"
   ]
  },
  {
   "cell_type": "code",
   "execution_count": 48,
   "metadata": {},
   "outputs": [
    {
     "data": {
      "text/plain": [
       "{'id': 'thread_t3pC5fyaDWY0sHAi2BWpiCtY',\n",
       " 'created_at': 1707718429,\n",
       " 'metadata': {},\n",
       " 'object': 'thread'}"
      ]
     },
     "metadata": {},
     "output_type": "display_data"
    }
   ],
   "source": [
    "thread = client.beta.threads.create()\n",
    "show_json(thread)"
   ]
  },
  {
   "cell_type": "markdown",
   "metadata": {},
   "source": [
    "###### Add message to thread"
   ]
  },
  {
   "cell_type": "code",
   "execution_count": 49,
   "metadata": {},
   "outputs": [
    {
     "data": {
      "text/plain": [
       "{'id': 'msg_Tg4FAYRrpyF44j7NHbyMq7QT',\n",
       " 'assistant_id': None,\n",
       " 'content': [{'text': {'annotations': [],\n",
       "    'value': 'Give me diabetic friendly recipe for Almond crusted chicken'},\n",
       "   'type': 'text'}],\n",
       " 'created_at': 1707718546,\n",
       " 'file_ids': [],\n",
       " 'metadata': {},\n",
       " 'object': 'thread.message',\n",
       " 'role': 'user',\n",
       " 'run_id': None,\n",
       " 'thread_id': 'thread_t3pC5fyaDWY0sHAi2BWpiCtY'}"
      ]
     },
     "metadata": {},
     "output_type": "display_data"
    }
   ],
   "source": [
    "message = client.beta.threads.messages.create(\n",
    "    thread_id=thread.id,\n",
    "    role=\"user\",\n",
    "    content=f\"Give me diabetic friendly recipe for {recipe_names[1]}\",\n",
    ")\n",
    "show_json(message)"
   ]
  },
  {
   "cell_type": "markdown",
   "metadata": {},
   "source": [
    "###### Responding to user through Assistant"
   ]
  },
  {
   "cell_type": "code",
   "execution_count": 50,
   "metadata": {},
   "outputs": [
    {
     "data": {
      "text/plain": [
       "{'id': 'run_i4y0KLNMvpkn1vDY98wCbGTQ',\n",
       " 'assistant_id': 'asst_7kSAgbCByHWs6XJGRTtqgLhj',\n",
       " 'cancelled_at': None,\n",
       " 'completed_at': None,\n",
       " 'created_at': 1707718562,\n",
       " 'expires_at': 1707719162,\n",
       " 'failed_at': None,\n",
       " 'file_ids': [],\n",
       " 'instructions': '\\nYou are helpful diabetic-friendly recipe assistant. You generate diabetic friendly recipe in below format:\\n<recipe>\\n    <recipe_name> Shrimp scampi </recipe_name>\\n    <ingredients> 8 ounces uncooked spaghetti, 3 tablespoons olive oil, divided, 2 pounds large shrimp, peeled and deveined, 1 tablespoon minced garlic, 1/4 cup chopped shallots or green onions, 2 tablespoons lemon juice, 1/4 cup chopped parsley, 1/4 teaspoon salt, Ground black pepper, to taste, 2 tablespoons brandy or sherry, optional , 2 tablespoons butter </ingredients>\\n    <directions> Fill a large pot 3/4 full with water and bring to a boil. Add the pasta and cook according to package directions. Drain the pasta thoroughly, While the pasta is cooking, heat 1 tablespoon olive oil in a large saucepan over medium heat. Add the shrimp and cook for 2 to 3 minutes on each side. Transfer shrimp to a bowl and keep warm,  Add garlic and shallots to the saucepan and cook until fragrant, about 10 seconds. Add lemon juice, parsley, salt and pepper, and brandy or sherry, if desired.Remove the saucepan from the heat. Add the cooked shrimp plus 2 tablespoons olive oil and 2 tablespoons butter. Toss until shrimp are coated with sauce. Divide pasta among warmed individual bowls. Top with shrimp and sauce. Serve immediately. </directions>\\n    <nutrition> Calories 376, Total fat 12g,  Protein 36g, Cholesterol 254mg, Total carbohydrate 31g, Dietary fiber 2g, Monounsaturated fat 6g, Saturated fat 4g, Added sugars 0g, Sodium 344mg, Trans fat Trace, Potassium 537mg, Total sugars 2g </nutrition> \\n</recipe>\\nAlways use above format to give recipe.\\n',\n",
       " 'last_error': None,\n",
       " 'metadata': {},\n",
       " 'model': 'gpt-4-1106-preview',\n",
       " 'object': 'thread.run',\n",
       " 'required_action': None,\n",
       " 'started_at': None,\n",
       " 'status': 'queued',\n",
       " 'thread_id': 'thread_t3pC5fyaDWY0sHAi2BWpiCtY',\n",
       " 'tools': [],\n",
       " 'usage': None}"
      ]
     },
     "metadata": {},
     "output_type": "display_data"
    }
   ],
   "source": [
    "run = client.beta.threads.runs.create(\n",
    "    thread_id=thread.id,\n",
    "    assistant_id=ASSISTANT_ID,\n",
    ")\n",
    "show_json(run)"
   ]
  },
  {
   "cell_type": "markdown",
   "metadata": {},
   "source": [
    "###### Wait on the run, until run status get into completed state."
   ]
  },
  {
   "cell_type": "code",
   "execution_count": 51,
   "metadata": {},
   "outputs": [],
   "source": [
    "import time\n",
    "\n",
    "def wait_on_run(run, thread):\n",
    "    while run.status == \"queued\" or run.status == \"in_progress\":\n",
    "        run = client.beta.threads.runs.retrieve(\n",
    "            thread_id=thread.id,\n",
    "            run_id=run.id,\n",
    "        )\n",
    "        time.sleep(0.5)\n",
    "    return run"
   ]
  },
  {
   "cell_type": "code",
   "execution_count": 52,
   "metadata": {},
   "outputs": [
    {
     "data": {
      "text/plain": [
       "{'id': 'run_i4y0KLNMvpkn1vDY98wCbGTQ',\n",
       " 'assistant_id': 'asst_7kSAgbCByHWs6XJGRTtqgLhj',\n",
       " 'cancelled_at': None,\n",
       " 'completed_at': 1707718574,\n",
       " 'created_at': 1707718562,\n",
       " 'expires_at': None,\n",
       " 'failed_at': None,\n",
       " 'file_ids': [],\n",
       " 'instructions': '\\nYou are helpful diabetic-friendly recipe assistant. You generate diabetic friendly recipe in below format:\\n<recipe>\\n    <recipe_name> Shrimp scampi </recipe_name>\\n    <ingredients> 8 ounces uncooked spaghetti, 3 tablespoons olive oil, divided, 2 pounds large shrimp, peeled and deveined, 1 tablespoon minced garlic, 1/4 cup chopped shallots or green onions, 2 tablespoons lemon juice, 1/4 cup chopped parsley, 1/4 teaspoon salt, Ground black pepper, to taste, 2 tablespoons brandy or sherry, optional , 2 tablespoons butter </ingredients>\\n    <directions> Fill a large pot 3/4 full with water and bring to a boil. Add the pasta and cook according to package directions. Drain the pasta thoroughly, While the pasta is cooking, heat 1 tablespoon olive oil in a large saucepan over medium heat. Add the shrimp and cook for 2 to 3 minutes on each side. Transfer shrimp to a bowl and keep warm,  Add garlic and shallots to the saucepan and cook until fragrant, about 10 seconds. Add lemon juice, parsley, salt and pepper, and brandy or sherry, if desired.Remove the saucepan from the heat. Add the cooked shrimp plus 2 tablespoons olive oil and 2 tablespoons butter. Toss until shrimp are coated with sauce. Divide pasta among warmed individual bowls. Top with shrimp and sauce. Serve immediately. </directions>\\n    <nutrition> Calories 376, Total fat 12g,  Protein 36g, Cholesterol 254mg, Total carbohydrate 31g, Dietary fiber 2g, Monounsaturated fat 6g, Saturated fat 4g, Added sugars 0g, Sodium 344mg, Trans fat Trace, Potassium 537mg, Total sugars 2g </nutrition> \\n</recipe>\\nAlways use above format to give recipe.\\n',\n",
       " 'last_error': None,\n",
       " 'metadata': {},\n",
       " 'model': 'gpt-4-1106-preview',\n",
       " 'object': 'thread.run',\n",
       " 'required_action': None,\n",
       " 'started_at': 1707718562,\n",
       " 'status': 'completed',\n",
       " 'thread_id': 'thread_t3pC5fyaDWY0sHAi2BWpiCtY',\n",
       " 'tools': [],\n",
       " 'usage': {'completion_tokens': 342,\n",
       "  'prompt_tokens': 428,\n",
       "  'total_tokens': 770}}"
      ]
     },
     "metadata": {},
     "output_type": "display_data"
    }
   ],
   "source": [
    "run_result = wait_on_run(run, thread)\n",
    "show_json(run_result)"
   ]
  },
  {
   "cell_type": "code",
   "execution_count": 53,
   "metadata": {},
   "outputs": [
    {
     "data": {
      "text/plain": [
       "{'data': [{'id': 'msg_9RtFtJZwCof1rsL4VbLSKxYm',\n",
       "   'assistant_id': 'asst_7kSAgbCByHWs6XJGRTtqgLhj',\n",
       "   'content': [{'text': {'annotations': [],\n",
       "      'value': '<recipe>\\n    <recipe_name> Almond Crusted Chicken </recipe_name>\\n    <ingredients> 4 boneless, skinless chicken breasts, 1/2 cup sliced almonds, 1/4 cup whole wheat flour, 1/2 teaspoon paprika, 1/2 teaspoon garlic powder, 1/4 teaspoon salt, 1/4 teaspoon black pepper, 2 egg whites, 1 tablespoon olive oil </ingredients>\\n    <directions> Preheat oven to 375 degrees F (190 degrees C). Lightly grease a baking sheet, In a food processor, pulse the almonds until finely chopped. Transfer to a shallow dish and mix with whole wheat flour, paprika, garlic powder, salt, and pepper. In another shallow dish, whisk the egg whites until frothy, Dip each chicken breast in the egg whites, then coat with the almond mixture, pressing gently to adhere. Place the coated chicken breasts on the prepared baking sheet, Drizzle the chicken with olive oil. Bake for 25 to 30 minutes, or until the chicken is golden brown and cooked through (internal temperature of 165 degrees F or 74 degrees C). Let the chicken rest for a few minutes before serving. </directions>\\n    <nutrition> Calories 289, Total fat 10g, Protein 39g, Cholesterol 72mg, Total carbohydrate 8g, Dietary fiber 3g, Monounsaturated fat 5g, Saturated fat 1g, Added sugars 0g, Sodium 230mg, Trans fat 0g, Potassium 345mg, Total sugars 1g </nutrition> \\n</recipe>'},\n",
       "     'type': 'text'}],\n",
       "   'created_at': 1707718563,\n",
       "   'file_ids': [],\n",
       "   'metadata': {},\n",
       "   'object': 'thread.message',\n",
       "   'role': 'assistant',\n",
       "   'run_id': 'run_i4y0KLNMvpkn1vDY98wCbGTQ',\n",
       "   'thread_id': 'thread_t3pC5fyaDWY0sHAi2BWpiCtY'},\n",
       "  {'id': 'msg_Tg4FAYRrpyF44j7NHbyMq7QT',\n",
       "   'assistant_id': None,\n",
       "   'content': [{'text': {'annotations': [],\n",
       "      'value': 'Give me diabetic friendly recipe for Almond crusted chicken'},\n",
       "     'type': 'text'}],\n",
       "   'created_at': 1707718546,\n",
       "   'file_ids': [],\n",
       "   'metadata': {},\n",
       "   'object': 'thread.message',\n",
       "   'role': 'user',\n",
       "   'run_id': None,\n",
       "   'thread_id': 'thread_t3pC5fyaDWY0sHAi2BWpiCtY'}],\n",
       " 'object': 'list',\n",
       " 'first_id': 'msg_9RtFtJZwCof1rsL4VbLSKxYm',\n",
       " 'last_id': 'msg_Tg4FAYRrpyF44j7NHbyMq7QT',\n",
       " 'has_more': False}"
      ]
     },
     "metadata": {},
     "output_type": "display_data"
    }
   ],
   "source": [
    "messages = client.beta.threads.messages.list(thread_id=thread.id)\n",
    "show_json(messages)"
   ]
  },
  {
   "cell_type": "code",
   "execution_count": 54,
   "metadata": {},
   "outputs": [],
   "source": [
    "messages = json.loads(messages.model_dump_json())"
   ]
  },
  {
   "cell_type": "code",
   "execution_count": 55,
   "metadata": {},
   "outputs": [
    {
     "name": "stdout",
     "output_type": "stream",
     "text": [
      "<recipe>\n",
      "    <recipe_name> Almond Crusted Chicken </recipe_name>\n",
      "    <ingredients> 4 boneless, skinless chicken breasts, 1/2 cup sliced almonds, 1/4 cup whole wheat flour, 1/2 teaspoon paprika, 1/2 teaspoon garlic powder, 1/4 teaspoon salt, 1/4 teaspoon black pepper, 2 egg whites, 1 tablespoon olive oil </ingredients>\n",
      "    <directions> Preheat oven to 375 degrees F (190 degrees C). Lightly grease a baking sheet, In a food processor, pulse the almonds until finely chopped. Transfer to a shallow dish and mix with whole wheat flour, paprika, garlic powder, salt, and pepper. In another shallow dish, whisk the egg whites until frothy, Dip each chicken breast in the egg whites, then coat with the almond mixture, pressing gently to adhere. Place the coated chicken breasts on the prepared baking sheet, Drizzle the chicken with olive oil. Bake for 25 to 30 minutes, or until the chicken is golden brown and cooked through (internal temperature of 165 degrees F or 74 degrees C). Let the chicken rest for a few minutes before serving. </directions>\n",
      "    <nutrition> Calories 289, Total fat 10g, Protein 39g, Cholesterol 72mg, Total carbohydrate 8g, Dietary fiber 3g, Monounsaturated fat 5g, Saturated fat 1g, Added sugars 0g, Sodium 230mg, Trans fat 0g, Potassium 345mg, Total sugars 1g </nutrition> \n",
      "</recipe>\n"
     ]
    }
   ],
   "source": [
    "print(messages['data'][0]['content'][0]['text']['value'])"
   ]
  },
  {
   "cell_type": "markdown",
   "metadata": {},
   "source": [
    "###### Create a compound run by adding message through the thread and creating the run"
   ]
  },
  {
   "cell_type": "code",
   "execution_count": 59,
   "metadata": {},
   "outputs": [],
   "source": [
    "from bs4 import BeautifulSoup\n",
    "\n",
    "def submit_message(assistant_id, thread, user_message):\n",
    "    client.beta.threads.messages.create(\n",
    "        thread_id=thread.id, role=\"user\", content=user_message\n",
    "    )\n",
    "    return client.beta.threads.runs.create(\n",
    "        thread_id=thread.id,\n",
    "        assistant_id=assistant_id,\n",
    "    )\n",
    "\n",
    "\n",
    "def get_response(thread):\n",
    "    messages = client.beta.threads.messages.list(thread_id=thread.id)\n",
    "    for m in messages:\n",
    "        if m.role == 'assistant':\n",
    "            return m.content[0].text.value\n",
    "# Write recipe in xml format using Beautiful soup\n",
    "def write_recipe(id: str, recipe_content:str):\n",
    "    soup = BeautifulSoup(recipe_content, \"xml\")\n",
    "    with open(f'../data/diabetic_recipe_gpt1106/{id}.xml', 'w') as f:\n",
    "        f.write(soup.prettify())\n",
    "\n",
    "def create_thread_and_run(assistant_id: str, user_input:str):\n",
    "    thread = client.beta.threads.create()\n",
    "    run = submit_message(assistant_id, thread, user_input)\n",
    "    return thread, run"
   ]
  },
  {
   "cell_type": "code",
   "execution_count": 119,
   "metadata": {},
   "outputs": [
    {
     "data": {
      "text/html": [
       "<div>\n",
       "<style scoped>\n",
       "    .dataframe tbody tr th:only-of-type {\n",
       "        vertical-align: middle;\n",
       "    }\n",
       "\n",
       "    .dataframe tbody tr th {\n",
       "        vertical-align: top;\n",
       "    }\n",
       "\n",
       "    .dataframe thead th {\n",
       "        text-align: right;\n",
       "    }\n",
       "</style>\n",
       "<table border=\"1\" class=\"dataframe\">\n",
       "  <thead>\n",
       "    <tr style=\"text-align: right;\">\n",
       "      <th></th>\n",
       "      <th>id</th>\n",
       "      <th>recipe_name</th>\n",
       "    </tr>\n",
       "  </thead>\n",
       "  <tbody>\n",
       "    <tr>\n",
       "      <th>1</th>\n",
       "      <td>2</td>\n",
       "      <td>Almond crusted chicken</td>\n",
       "    </tr>\n",
       "    <tr>\n",
       "      <th>2</th>\n",
       "      <td>3</td>\n",
       "      <td>Balsamic feta chicken</td>\n",
       "    </tr>\n",
       "    <tr>\n",
       "      <th>3</th>\n",
       "      <td>4</td>\n",
       "      <td>Baked oatmeal</td>\n",
       "    </tr>\n",
       "    <tr>\n",
       "      <th>4</th>\n",
       "      <td>5</td>\n",
       "      <td>Beef and vegetable kebabs</td>\n",
       "    </tr>\n",
       "    <tr>\n",
       "      <th>5</th>\n",
       "      <td>6</td>\n",
       "      <td>Black bean quesadillas</td>\n",
       "    </tr>\n",
       "    <tr>\n",
       "      <th>6</th>\n",
       "      <td>7</td>\n",
       "      <td>Beef fajitas</td>\n",
       "    </tr>\n",
       "    <tr>\n",
       "      <th>7</th>\n",
       "      <td>8</td>\n",
       "      <td>Chicken sausage meatballs</td>\n",
       "    </tr>\n",
       "    <tr>\n",
       "      <th>8</th>\n",
       "      <td>9</td>\n",
       "      <td>Fresh fruit kebabs</td>\n",
       "    </tr>\n",
       "    <tr>\n",
       "      <th>9</th>\n",
       "      <td>10</td>\n",
       "      <td>Chicken fajitas</td>\n",
       "    </tr>\n",
       "    <tr>\n",
       "      <th>10</th>\n",
       "      <td>11</td>\n",
       "      <td>Fresh fruit smoothie</td>\n",
       "    </tr>\n",
       "  </tbody>\n",
       "</table>\n",
       "</div>"
      ],
      "text/plain": [
       "    id                recipe_name\n",
       "1    2     Almond crusted chicken\n",
       "2    3      Balsamic feta chicken\n",
       "3    4              Baked oatmeal\n",
       "4    5  Beef and vegetable kebabs\n",
       "5    6     Black bean quesadillas\n",
       "6    7               Beef fajitas\n",
       "7    8  Chicken sausage meatballs\n",
       "8    9         Fresh fruit kebabs\n",
       "9   10            Chicken fajitas\n",
       "10  11       Fresh fruit smoothie"
      ]
     },
     "execution_count": 119,
     "metadata": {},
     "output_type": "execute_result"
    }
   ],
   "source": [
    "random_recipes"
   ]
  },
  {
   "cell_type": "markdown",
   "metadata": {},
   "source": [
    "###### Iterate through random recipes, create thread and run for each recipe, once the recipe generation is completed write the generated recipe in xml format."
   ]
  },
  {
   "cell_type": "code",
   "execution_count": 120,
   "metadata": {},
   "outputs": [
    {
     "name": "stdout",
     "output_type": "stream",
     "text": [
      "Generated recipe for id:2\n",
      "Generated recipe for id:3\n",
      "Generated recipe for id:4\n",
      "Generated recipe for id:5\n",
      "Generated recipe for id:6\n",
      "Generated recipe for id:7\n",
      "Generated recipe for id:8\n",
      "Generated recipe for id:9\n",
      "Generated recipe for id:10\n",
      "Generated recipe for id:11\n"
     ]
    }
   ],
   "source": [
    "for index, row in random_recipes.iterrows():\n",
    "    thread, run = create_thread_and_run(assistant_id= ASSISTANT_ID, user_input=f\"Give me recipe for {row['recipe_name']}\")\n",
    "    run = wait_on_run(thread=thread, run = run)\n",
    "    recipe_content = get_response(thread=thread)\n",
    "    write_recipe(id=row['id'], recipe_content=recipe_content)\n",
    "    recipe_id = row['id']\n",
    "    print(f'Generated recipe for id:{recipe_id}')"
   ]
  },
  {
   "cell_type": "code",
   "execution_count": 57,
   "metadata": {},
   "outputs": [],
   "source": [
    "# recipe_content = get_response(thread=thread)"
   ]
  },
  {
   "cell_type": "code",
   "execution_count": 60,
   "metadata": {},
   "outputs": [],
   "source": [
    "# write_recipe(id='2', recipe_content=recipe_content)"
   ]
  },
  {
   "cell_type": "markdown",
   "metadata": {},
   "source": [
    "###### Exracting nutrient using regex"
   ]
  },
  {
   "cell_type": "code",
   "execution_count": 165,
   "metadata": {},
   "outputs": [],
   "source": [
    "import re\n",
    "\n",
    "# Function to extract nutritional values\n",
    "def extract_nutrition_values(text):\n",
    "    # Dictionary to hold the extracted values\n",
    "    nutrition_values = {}\n",
    "\n",
    "    # Regular expressions for extracting fat, carbohydrate, and protein\n",
    "    patterns = {\n",
    "        'fat': r\"Total Fat (\\d+\\.?\\d*g)\",\n",
    "        'carbohydrate': r\"Total Carbohydrate (\\d+\\.?\\d*g)\",\n",
    "        'protein': r\"Protein (\\d+\\.?\\d*g)\",\n",
    "    }\n",
    "\n",
    "    # Loop through the patterns and search in the text\n",
    "    for key, pattern in patterns.items():\n",
    "        match = re.search(pattern, text, re.IGNORECASE)\n",
    "        if match:\n",
    "            # If a match is found, add it to the dictionary\n",
    "            nutrition_values[key] = match.group(1)\n",
    "        else:\n",
    "            # If no match is found, set the value to None\n",
    "            nutrition_values[key] = None\n",
    "\n",
    "    return nutrition_values"
   ]
  },
  {
   "cell_type": "markdown",
   "metadata": {},
   "source": [
    "###### Importing glob and beautiful soup library to parse the data and define paths for the xml files."
   ]
  },
  {
   "cell_type": "code",
   "execution_count": 121,
   "metadata": {},
   "outputs": [],
   "source": [
    "import glob\n",
    "from bs4 import  BeautifulSoup\n",
    "file_paths = glob.glob(pathname='../data/diabetic_recipe_gpt1106/*.xml')"
   ]
  },
  {
   "cell_type": "markdown",
   "metadata": {},
   "source": [
    "###### Open and read the files"
   ]
  },
  {
   "cell_type": "code",
   "execution_count": 64,
   "metadata": {},
   "outputs": [],
   "source": [
    "with open(file_paths[0], 'r') as f:\n",
    "    file = f.read() \n",
    "\n",
    "# 'xml' is the parser used. For html files, which BeautifulSoup is typically used for, it would be 'html.parser'.\n",
    "soup = BeautifulSoup(file, 'xml')"
   ]
  },
  {
   "cell_type": "code",
   "execution_count": 65,
   "metadata": {},
   "outputs": [
    {
     "name": "stdout",
     "output_type": "stream",
     "text": [
      "<?xml version=\"1.0\" encoding=\"utf-8\"?>\n",
      "<recipe>\n",
      " <recipe_name>\n",
      "  Almond Crusted Chicken\n",
      " </recipe_name>\n",
      " <ingredients>\n",
      "  4 boneless, skinless chicken breasts, 1/2 cup sliced almonds, 1/4 cup whole wheat flour, 1/2 teaspoon paprika, 1/2 teaspoon garlic powder, 1/4 teaspoon salt, 1/4 teaspoon black pepper, 2 egg whites, 1 tablespoon olive oil\n",
      " </ingredients>\n",
      " <directions>\n",
      "  Preheat oven to 375 degrees F (190 degrees C). Lightly grease a baking sheet, In a food processor, pulse the almonds until finely chopped. Transfer to a shallow dish and mix with whole wheat flour, paprika, garlic powder, salt, and pepper. In another shallow dish, whisk the egg whites until frothy, Dip each chicken breast in the egg whites, then coat with the almond mixture, pressing gently to adhere. Place the coated chicken breasts on the prepared baking sheet, Drizzle the chicken with olive oil. Bake for 25 to 30 minutes, or until the chicken is golden brown and cooked through (internal temperature of 165 degrees F or 74 degrees C). Let the chicken rest for a few minutes before serving.\n",
      " </directions>\n",
      " <nutrition>\n",
      "  Calories 289, Total fat 10g, Protein 39g, Cholesterol 72mg, Total carbohydrate 8g, Dietary fiber 3g, Monounsaturated fat 5g, Saturated fat 1g, Added sugars 0g, Sodium 230mg, Trans fat 0g, Potassium 345mg, Total sugars 1g\n",
      " </nutrition>\n",
      "</recipe>\n",
      "\n"
     ]
    }
   ],
   "source": [
    "print(soup.prettify())"
   ]
  },
  {
   "cell_type": "code",
   "execution_count": 66,
   "metadata": {},
   "outputs": [],
   "source": [
    "from pydantic import BaseModel\n",
    "from typing import  List, Optional\n",
    "class Nutrition(BaseModel):\n",
    "    fat: Optional[str] = None\n",
    "    protein: Optional[str] = None\n",
    "    carbohydrate: Optional[str] = None\n",
    "\n",
    "class Recipe(BaseModel):\n",
    "    id: str\n",
    "    recipe_name:str\n",
    "    ingredients: str\n",
    "    directions: str\n",
    "    nutrition: Nutrition \n",
    "\n",
    "class Recipes(BaseModel):\n",
    "    recipes: List[Recipe] = []"
   ]
  },
  {
   "cell_type": "code",
   "execution_count": 67,
   "metadata": {},
   "outputs": [],
   "source": [
    "def read_xml_file(file_path: str):\n",
    "    with open(file_path, 'r') as f:\n",
    "        file = f.read() \n",
    "        return file\n",
    "\n",
    "def clean_text(content: str):\n",
    "    clean_content = content.strip()\n",
    "    return clean_content"
   ]
  },
  {
   "cell_type": "code",
   "execution_count": 72,
   "metadata": {},
   "outputs": [],
   "source": [
    "from pathlib import Path\n",
    "def parse_llm_recipes(file_paths:list):\n",
    "    recipes = Recipes()\n",
    "    for file_path in file_paths:\n",
    "        print(f'Parsing file:{file_path}')\n",
    "        id = Path(file_path).stem\n",
    "        file = read_xml_file(file_path)\n",
    "        soup = BeautifulSoup(file, 'xml')\n",
    "        recipe_name = soup.find('recipe_name')\n",
    "        recipe_name = clean_text(recipe_name.text)\n",
    "        ingredients = soup.find('ingredients')\n",
    "        ingredients = clean_text(ingredients.text)\n",
    "        directions = soup.find('directions')\n",
    "        directions = clean_text(directions.text)\n",
    "        nutrition = soup.find('nutrition')\n",
    "        nutrition = clean_text(nutrition.text)\n",
    "        parsed_nutrition = extract_nutrition_values(text=nutrition)\n",
    "        nutrition = Nutrition(fat=parsed_nutrition['fat'], protein=parsed_nutrition['protein'],carbohydrate=parsed_nutrition['carbohydrate'])\n",
    "        recipe = Recipe(id = id, recipe_name = recipe_name, ingredients = ingredients,directions=directions, nutrition=nutrition)\n",
    "        recipes.recipes.append(recipe) \n",
    "    return recipes "
   ]
  },
  {
   "cell_type": "code",
   "execution_count": 122,
   "metadata": {},
   "outputs": [
    {
     "data": {
      "text/plain": [
       "['../data/diabetic_recipe_gpt1106/8.xml',\n",
       " '../data/diabetic_recipe_gpt1106/9.xml',\n",
       " '../data/diabetic_recipe_gpt1106/11.xml',\n",
       " '../data/diabetic_recipe_gpt1106/10.xml',\n",
       " '../data/diabetic_recipe_gpt1106/4.xml',\n",
       " '../data/diabetic_recipe_gpt1106/5.xml',\n",
       " '../data/diabetic_recipe_gpt1106/7.xml',\n",
       " '../data/diabetic_recipe_gpt1106/6.xml',\n",
       " '../data/diabetic_recipe_gpt1106/2.xml',\n",
       " '../data/diabetic_recipe_gpt1106/3.xml']"
      ]
     },
     "execution_count": 122,
     "metadata": {},
     "output_type": "execute_result"
    }
   ],
   "source": [
    "file_paths"
   ]
  },
  {
   "cell_type": "code",
   "execution_count": 166,
   "metadata": {},
   "outputs": [
    {
     "name": "stdout",
     "output_type": "stream",
     "text": [
      "Parsing file:../data/diabetic_recipe_gpt1106/8.xml\n",
      "Parsing file:../data/diabetic_recipe_gpt1106/9.xml\n",
      "Parsing file:../data/diabetic_recipe_gpt1106/11.xml\n",
      "Parsing file:../data/diabetic_recipe_gpt1106/10.xml\n",
      "Parsing file:../data/diabetic_recipe_gpt1106/4.xml\n",
      "Parsing file:../data/diabetic_recipe_gpt1106/5.xml\n",
      "Parsing file:../data/diabetic_recipe_gpt1106/7.xml\n",
      "Parsing file:../data/diabetic_recipe_gpt1106/6.xml\n",
      "Parsing file:../data/diabetic_recipe_gpt1106/2.xml\n",
      "Parsing file:../data/diabetic_recipe_gpt1106/3.xml\n"
     ]
    }
   ],
   "source": [
    "llm_recipes = parse_llm_recipes(file_paths)"
   ]
  },
  {
   "cell_type": "code",
   "execution_count": 170,
   "metadata": {},
   "outputs": [],
   "source": [
    "import json\n",
    "with open('../data/diabetic_recipe_gpt1106/gpt4_1106_recipes.json', 'w') as f:\n",
    "    json.dump(llm_recipes.model_dump(mode='json'), f, indent=4, ensure_ascii=False)"
   ]
  },
  {
   "cell_type": "code",
   "execution_count": 79,
   "metadata": {},
   "outputs": [],
   "source": [
    "def parse_original_recipes(file_paths: list):\n",
    "    recipes = Recipes()\n",
    "    for file_path in file_paths:\n",
    "        id = Path(file_path).stem\n",
    "        # Filter recipe id that matches to name of xml file\n",
    "        row = df[df['id'] == int(id)].to_dict('records')[0]\n",
    "        recipe_name = row['recipe_name']\n",
    "        ingredients = row['ingredients']\n",
    "        directions = row['directions']\n",
    "        nutrition = row['nutrition']\n",
    "        parsed_nutrition = extract_nutrition_values(text=nutrition)\n",
    "        nutrition = Nutrition(fat=parsed_nutrition['fat'], protein=parsed_nutrition['protein'],carbohydrate=parsed_nutrition['carbohydrate'])\n",
    "        recipe = Recipe(id = id, recipe_name=recipe_name, ingredients=ingredients,directions=directions, nutrition=nutrition)\n",
    "        recipes.recipes.append(recipe)\n",
    "    return recipes"
   ]
  },
  {
   "cell_type": "code",
   "execution_count": 171,
   "metadata": {},
   "outputs": [],
   "source": [
    "orginal_recpies = parse_original_recipes(file_paths=file_paths)"
   ]
  },
  {
   "cell_type": "code",
   "execution_count": 172,
   "metadata": {},
   "outputs": [],
   "source": [
    "import json\n",
    "with open('../data/diabetic_recipe_gpt1106/orginal_recipes.json', 'w') as f:\n",
    "    json.dump(orginal_recpies.model_dump(mode='json'), f, indent=4, ensure_ascii=False)"
   ]
  },
  {
   "cell_type": "code",
   "execution_count": 94,
   "metadata": {},
   "outputs": [],
   "source": [
    "import tiktoken"
   ]
  },
  {
   "cell_type": "code",
   "execution_count": 85,
   "metadata": {},
   "outputs": [],
   "source": [
    "def num_tokens_from_string(string: str, encoding_name: str) -> int:\n",
    "    \"\"\"Returns the number of tokens in a text string.\"\"\"\n",
    "    encoding = tiktoken.get_encoding(encoding_name)\n",
    "    num_tokens = len(encoding.encode(string))\n",
    "    return num_tokens"
   ]
  },
  {
   "cell_type": "code",
   "execution_count": 173,
   "metadata": {},
   "outputs": [],
   "source": [
    "import json\n",
    "with open('../data/diabetic_recipe_gpt1106/gpt4_1106_recipes.json') as f:\n",
    "    gpt4_recipe = json.load(f)"
   ]
  },
  {
   "cell_type": "code",
   "execution_count": 174,
   "metadata": {},
   "outputs": [],
   "source": [
    "import json\n",
    "with open('../data/diabetic_recipe_gpt1106/orginal_recipes.json') as f:\n",
    "    orginal_recipe = json.load(f)"
   ]
  },
  {
   "cell_type": "code",
   "execution_count": 175,
   "metadata": {},
   "outputs": [],
   "source": [
    "df_gpt4_recipe = pd.DataFrame.from_records(gpt4_recipe['recipes'])\n",
    "df_orginal_recipe = pd.DataFrame.from_records(orginal_recipe['recipes'])\n"
   ]
  },
  {
   "cell_type": "code",
   "execution_count": 176,
   "metadata": {},
   "outputs": [
    {
     "data": {
      "text/html": [
       "<div>\n",
       "<style scoped>\n",
       "    .dataframe tbody tr th:only-of-type {\n",
       "        vertical-align: middle;\n",
       "    }\n",
       "\n",
       "    .dataframe tbody tr th {\n",
       "        vertical-align: top;\n",
       "    }\n",
       "\n",
       "    .dataframe thead th {\n",
       "        text-align: right;\n",
       "    }\n",
       "</style>\n",
       "<table border=\"1\" class=\"dataframe\">\n",
       "  <thead>\n",
       "    <tr style=\"text-align: right;\">\n",
       "      <th></th>\n",
       "      <th>id</th>\n",
       "      <th>recipe_name</th>\n",
       "      <th>ingredients</th>\n",
       "      <th>directions</th>\n",
       "      <th>nutrition</th>\n",
       "    </tr>\n",
       "  </thead>\n",
       "  <tbody>\n",
       "    <tr>\n",
       "      <th>0</th>\n",
       "      <td>8</td>\n",
       "      <td>Chicken Sausage Meatballs</td>\n",
       "      <td>1 pound ground chicken, 1 pound chicken sausag...</td>\n",
       "      <td>Preheat the oven to 400 degrees F (200 degrees...</td>\n",
       "      <td>{'fat': '18g', 'protein': '36g', 'carbohydrate...</td>\n",
       "    </tr>\n",
       "    <tr>\n",
       "      <th>1</th>\n",
       "      <td>9</td>\n",
       "      <td>Fresh Fruit Kebabs</td>\n",
       "      <td>1 cup of strawberries, hulled, 1 cup of cantal...</td>\n",
       "      <td>Begin by preparing all the fruit - wash the st...</td>\n",
       "      <td>{'fat': '0.5g', 'protein': '1g', 'carbohydrate...</td>\n",
       "    </tr>\n",
       "    <tr>\n",
       "      <th>2</th>\n",
       "      <td>11</td>\n",
       "      <td>Fresh Fruit Smoothie</td>\n",
       "      <td>1 cup fresh strawberries, hulled, 1/2 cup blue...</td>\n",
       "      <td>Place strawberries, blueberries, banana, almon...</td>\n",
       "      <td>{'fat': '3g', 'protein': '4g', 'carbohydrate':...</td>\n",
       "    </tr>\n",
       "    <tr>\n",
       "      <th>3</th>\n",
       "      <td>10</td>\n",
       "      <td>Chicken Fajitas</td>\n",
       "      <td>1 pound boneless, skinless chicken breasts, sl...</td>\n",
       "      <td>In a large bowl, combine chicken strips with o...</td>\n",
       "      <td>{'fat': '7g', 'protein': '27g', 'carbohydrate'...</td>\n",
       "    </tr>\n",
       "    <tr>\n",
       "      <th>4</th>\n",
       "      <td>4</td>\n",
       "      <td>Baked Oatmeal</td>\n",
       "      <td>3 cups rolled oats, 1 1/2 teaspoons ground cin...</td>\n",
       "      <td>Preheat your oven to 350 degrees F (175 degree...</td>\n",
       "      <td>{'fat': '9g', 'protein': '6g', 'carbohydrate':...</td>\n",
       "    </tr>\n",
       "    <tr>\n",
       "      <th>5</th>\n",
       "      <td>5</td>\n",
       "      <td>Beef and Vegetable Kebabs</td>\n",
       "      <td>1 pound beef sirloin or tenderloin, cut into 1...</td>\n",
       "      <td>If using wooden skewers, soak them in water fo...</td>\n",
       "      <td>{'fat': '9g', 'protein': '26g', 'carbohydrate'...</td>\n",
       "    </tr>\n",
       "    <tr>\n",
       "      <th>6</th>\n",
       "      <td>7</td>\n",
       "      <td>Beef Fajitas</td>\n",
       "      <td>1 pound flank steak, trimmed, 1 tablespoon chi...</td>\n",
       "      <td>In a small bowl, mix chili powder, smoked papr...</td>\n",
       "      <td>{'fat': '15g', 'protein': '28g', 'carbohydrate...</td>\n",
       "    </tr>\n",
       "    <tr>\n",
       "      <th>7</th>\n",
       "      <td>6</td>\n",
       "      <td>Black Bean Quesadillas</td>\n",
       "      <td>4 whole-wheat tortillas (8 inches), 1 cup cann...</td>\n",
       "      <td>In a mixing bowl, mash the black beans slightl...</td>\n",
       "      <td>{'fat': '6g', 'protein': '12g', 'carbohydrate'...</td>\n",
       "    </tr>\n",
       "    <tr>\n",
       "      <th>8</th>\n",
       "      <td>2</td>\n",
       "      <td>Almond Crusted Chicken</td>\n",
       "      <td>4 boneless, skinless chicken breasts, \\n      ...</td>\n",
       "      <td>Preheat the oven to 375 degrees F (190 degrees...</td>\n",
       "      <td>{'fat': '19g', 'protein': '32g', 'carbohydrate...</td>\n",
       "    </tr>\n",
       "    <tr>\n",
       "      <th>9</th>\n",
       "      <td>3</td>\n",
       "      <td>Balsamic Feta Chicken</td>\n",
       "      <td>4 boneless, skinless chicken breasts (about 1 ...</td>\n",
       "      <td>Season the chicken breasts with the ground bla...</td>\n",
       "      <td>{'fat': '9g', 'protein': '35g', 'carbohydrate'...</td>\n",
       "    </tr>\n",
       "  </tbody>\n",
       "</table>\n",
       "</div>"
      ],
      "text/plain": [
       "   id                recipe_name  \\\n",
       "0   8  Chicken Sausage Meatballs   \n",
       "1   9         Fresh Fruit Kebabs   \n",
       "2  11       Fresh Fruit Smoothie   \n",
       "3  10            Chicken Fajitas   \n",
       "4   4              Baked Oatmeal   \n",
       "5   5  Beef and Vegetable Kebabs   \n",
       "6   7               Beef Fajitas   \n",
       "7   6     Black Bean Quesadillas   \n",
       "8   2     Almond Crusted Chicken   \n",
       "9   3      Balsamic Feta Chicken   \n",
       "\n",
       "                                         ingredients  \\\n",
       "0  1 pound ground chicken, 1 pound chicken sausag...   \n",
       "1  1 cup of strawberries, hulled, 1 cup of cantal...   \n",
       "2  1 cup fresh strawberries, hulled, 1/2 cup blue...   \n",
       "3  1 pound boneless, skinless chicken breasts, sl...   \n",
       "4  3 cups rolled oats, 1 1/2 teaspoons ground cin...   \n",
       "5  1 pound beef sirloin or tenderloin, cut into 1...   \n",
       "6  1 pound flank steak, trimmed, 1 tablespoon chi...   \n",
       "7  4 whole-wheat tortillas (8 inches), 1 cup cann...   \n",
       "8  4 boneless, skinless chicken breasts, \\n      ...   \n",
       "9  4 boneless, skinless chicken breasts (about 1 ...   \n",
       "\n",
       "                                          directions  \\\n",
       "0  Preheat the oven to 400 degrees F (200 degrees...   \n",
       "1  Begin by preparing all the fruit - wash the st...   \n",
       "2  Place strawberries, blueberries, banana, almon...   \n",
       "3  In a large bowl, combine chicken strips with o...   \n",
       "4  Preheat your oven to 350 degrees F (175 degree...   \n",
       "5  If using wooden skewers, soak them in water fo...   \n",
       "6  In a small bowl, mix chili powder, smoked papr...   \n",
       "7  In a mixing bowl, mash the black beans slightl...   \n",
       "8  Preheat the oven to 375 degrees F (190 degrees...   \n",
       "9  Season the chicken breasts with the ground bla...   \n",
       "\n",
       "                                           nutrition  \n",
       "0  {'fat': '18g', 'protein': '36g', 'carbohydrate...  \n",
       "1  {'fat': '0.5g', 'protein': '1g', 'carbohydrate...  \n",
       "2  {'fat': '3g', 'protein': '4g', 'carbohydrate':...  \n",
       "3  {'fat': '7g', 'protein': '27g', 'carbohydrate'...  \n",
       "4  {'fat': '9g', 'protein': '6g', 'carbohydrate':...  \n",
       "5  {'fat': '9g', 'protein': '26g', 'carbohydrate'...  \n",
       "6  {'fat': '15g', 'protein': '28g', 'carbohydrate...  \n",
       "7  {'fat': '6g', 'protein': '12g', 'carbohydrate'...  \n",
       "8  {'fat': '19g', 'protein': '32g', 'carbohydrate...  \n",
       "9  {'fat': '9g', 'protein': '35g', 'carbohydrate'...  "
      ]
     },
     "execution_count": 176,
     "metadata": {},
     "output_type": "execute_result"
    }
   ],
   "source": [
    "df_gpt4_recipe\n"
   ]
  },
  {
   "cell_type": "code",
   "execution_count": 177,
   "metadata": {},
   "outputs": [
    {
     "data": {
      "text/html": [
       "<div>\n",
       "<style scoped>\n",
       "    .dataframe tbody tr th:only-of-type {\n",
       "        vertical-align: middle;\n",
       "    }\n",
       "\n",
       "    .dataframe tbody tr th {\n",
       "        vertical-align: top;\n",
       "    }\n",
       "\n",
       "    .dataframe thead th {\n",
       "        text-align: right;\n",
       "    }\n",
       "</style>\n",
       "<table border=\"1\" class=\"dataframe\">\n",
       "  <thead>\n",
       "    <tr style=\"text-align: right;\">\n",
       "      <th></th>\n",
       "      <th>id</th>\n",
       "      <th>recipe_name</th>\n",
       "      <th>ingredients</th>\n",
       "      <th>directions</th>\n",
       "      <th>nutrition</th>\n",
       "    </tr>\n",
       "  </thead>\n",
       "  <tbody>\n",
       "    <tr>\n",
       "      <th>0</th>\n",
       "      <td>8</td>\n",
       "      <td>Chicken sausage meatballs</td>\n",
       "      <td>1/4 large onion, chopped, 1 3/4 teaspoon mince...</td>\n",
       "      <td>Heat the oven to 350 F. In a small saucepan, s...</td>\n",
       "      <td>{'fat': '4g', 'protein': '30g', 'carbohydrate'...</td>\n",
       "    </tr>\n",
       "    <tr>\n",
       "      <th>1</th>\n",
       "      <td>9</td>\n",
       "      <td>Fresh fruit kebabs</td>\n",
       "      <td>6 ounces low-fat, sugar-free lemon yogurt, 1 t...</td>\n",
       "      <td>In a small bowl, whisk together the yogurt, li...</td>\n",
       "      <td>{'fat': '2g', 'protein': '4g', 'carbohydrate':...</td>\n",
       "    </tr>\n",
       "    <tr>\n",
       "      <th>2</th>\n",
       "      <td>11</td>\n",
       "      <td>Fresh fruit smoothie</td>\n",
       "      <td>1 cup fresh pineapple chunks, 1/2 cup cantalou...</td>\n",
       "      <td>Remove rind from pineapple and melon. Cut into...</td>\n",
       "      <td>{'fat': '0g', 'protein': '1g', 'carbohydrate':...</td>\n",
       "    </tr>\n",
       "    <tr>\n",
       "      <th>3</th>\n",
       "      <td>10</td>\n",
       "      <td>Chicken fajitas</td>\n",
       "      <td>1/4 cup lime juice, 1 or 2 cloves garlic, minc...</td>\n",
       "      <td>Combine the first four ingredients in a large ...</td>\n",
       "      <td>{'fat': '4g', 'protein': '30g', 'carbohydrate'...</td>\n",
       "    </tr>\n",
       "    <tr>\n",
       "      <th>4</th>\n",
       "      <td>4</td>\n",
       "      <td>Baked oatmeal</td>\n",
       "      <td>1 tablespoon canola oil, 1/2 cup unsweetened a...</td>\n",
       "      <td>In a good-sized bowl, stir together oil, apple...</td>\n",
       "      <td>{'fat': '4g', 'protein': '8g', 'carbohydrate':...</td>\n",
       "    </tr>\n",
       "    <tr>\n",
       "      <th>5</th>\n",
       "      <td>5</td>\n",
       "      <td>Beef and vegetable kebabs</td>\n",
       "      <td>1/2 cup brown rice, 2 cups water, 4 ounces top...</td>\n",
       "      <td>In a saucepan over high heat, combine the rice...</td>\n",
       "      <td>{'fat': '4g', 'protein': '18g', 'carbohydrate'...</td>\n",
       "    </tr>\n",
       "    <tr>\n",
       "      <th>6</th>\n",
       "      <td>7</td>\n",
       "      <td>Beef fajitas</td>\n",
       "      <td>1 tablespoon chili powder, 1/2 teaspoon ground...</td>\n",
       "      <td>In a small bowl, stir together the chili powde...</td>\n",
       "      <td>{'fat': '6g', 'protein': '24g', 'carbohydrate'...</td>\n",
       "    </tr>\n",
       "    <tr>\n",
       "      <th>7</th>\n",
       "      <td>6</td>\n",
       "      <td>Black bean quesadillas</td>\n",
       "      <td>1 1/2 cups reduced sodium black beans, drained...</td>\n",
       "      <td>Heat oven to 350 F. In a large bowl, combine t...</td>\n",
       "      <td>{'fat': '8g', 'protein': '14g', 'carbohydrate'...</td>\n",
       "    </tr>\n",
       "    <tr>\n",
       "      <th>8</th>\n",
       "      <td>2</td>\n",
       "      <td>Almond crusted chicken</td>\n",
       "      <td>3/4 cup ground almonds, 1/2 cup all-purpose fl...</td>\n",
       "      <td>Heat oven to 400 F. Lightly coat a baking shee...</td>\n",
       "      <td>{'fat': '11g', 'protein': '28g', 'carbohydrate...</td>\n",
       "    </tr>\n",
       "    <tr>\n",
       "      <th>9</th>\n",
       "      <td>3</td>\n",
       "      <td>Balsamic feta chicken</td>\n",
       "      <td>6 chicken breasts, 4 ounces each, 1/2 cup bals...</td>\n",
       "      <td>Heat the oven to 375 F. Lightly coat a baking ...</td>\n",
       "      <td>{'fat': '15g', 'protein': '25g', 'carbohydrate...</td>\n",
       "    </tr>\n",
       "  </tbody>\n",
       "</table>\n",
       "</div>"
      ],
      "text/plain": [
       "   id                recipe_name  \\\n",
       "0   8  Chicken sausage meatballs   \n",
       "1   9         Fresh fruit kebabs   \n",
       "2  11       Fresh fruit smoothie   \n",
       "3  10            Chicken fajitas   \n",
       "4   4              Baked oatmeal   \n",
       "5   5  Beef and vegetable kebabs   \n",
       "6   7               Beef fajitas   \n",
       "7   6     Black bean quesadillas   \n",
       "8   2     Almond crusted chicken   \n",
       "9   3      Balsamic feta chicken   \n",
       "\n",
       "                                         ingredients  \\\n",
       "0  1/4 large onion, chopped, 1 3/4 teaspoon mince...   \n",
       "1  6 ounces low-fat, sugar-free lemon yogurt, 1 t...   \n",
       "2  1 cup fresh pineapple chunks, 1/2 cup cantalou...   \n",
       "3  1/4 cup lime juice, 1 or 2 cloves garlic, minc...   \n",
       "4  1 tablespoon canola oil, 1/2 cup unsweetened a...   \n",
       "5  1/2 cup brown rice, 2 cups water, 4 ounces top...   \n",
       "6  1 tablespoon chili powder, 1/2 teaspoon ground...   \n",
       "7  1 1/2 cups reduced sodium black beans, drained...   \n",
       "8  3/4 cup ground almonds, 1/2 cup all-purpose fl...   \n",
       "9  6 chicken breasts, 4 ounces each, 1/2 cup bals...   \n",
       "\n",
       "                                          directions  \\\n",
       "0  Heat the oven to 350 F. In a small saucepan, s...   \n",
       "1  In a small bowl, whisk together the yogurt, li...   \n",
       "2  Remove rind from pineapple and melon. Cut into...   \n",
       "3  Combine the first four ingredients in a large ...   \n",
       "4  In a good-sized bowl, stir together oil, apple...   \n",
       "5  In a saucepan over high heat, combine the rice...   \n",
       "6  In a small bowl, stir together the chili powde...   \n",
       "7  Heat oven to 350 F. In a large bowl, combine t...   \n",
       "8  Heat oven to 400 F. Lightly coat a baking shee...   \n",
       "9  Heat the oven to 375 F. Lightly coat a baking ...   \n",
       "\n",
       "                                           nutrition  \n",
       "0  {'fat': '4g', 'protein': '30g', 'carbohydrate'...  \n",
       "1  {'fat': '2g', 'protein': '4g', 'carbohydrate':...  \n",
       "2  {'fat': '0g', 'protein': '1g', 'carbohydrate':...  \n",
       "3  {'fat': '4g', 'protein': '30g', 'carbohydrate'...  \n",
       "4  {'fat': '4g', 'protein': '8g', 'carbohydrate':...  \n",
       "5  {'fat': '4g', 'protein': '18g', 'carbohydrate'...  \n",
       "6  {'fat': '6g', 'protein': '24g', 'carbohydrate'...  \n",
       "7  {'fat': '8g', 'protein': '14g', 'carbohydrate'...  \n",
       "8  {'fat': '11g', 'protein': '28g', 'carbohydrate...  \n",
       "9  {'fat': '15g', 'protein': '25g', 'carbohydrate...  "
      ]
     },
     "execution_count": 177,
     "metadata": {},
     "output_type": "execute_result"
    }
   ],
   "source": [
    "df_orginal_recipe"
   ]
  },
  {
   "cell_type": "code",
   "execution_count": 178,
   "metadata": {},
   "outputs": [],
   "source": [
    "import sys\n",
    "sys.path.append('/Users/divyadhara/Documents/CPSC597/ai-meal-recommendation')\n",
    "from utils.embedding_utils import get_embedding,distances_from_embeddings,cosine_similarity"
   ]
  },
  {
   "cell_type": "code",
   "execution_count": 179,
   "metadata": {},
   "outputs": [],
   "source": [
    "embedding_model = \"text-embedding-3-small\"\n",
    "embedding_encoding = \"cl100k_base\"\n",
    "max_tokens = 8000  # the maximum for text-embedding-3-small is 8191"
   ]
  },
  {
   "cell_type": "code",
   "execution_count": 180,
   "metadata": {},
   "outputs": [],
   "source": [
    "encoding = tiktoken.get_encoding(embedding_encoding)"
   ]
  },
  {
   "cell_type": "code",
   "execution_count": 181,
   "metadata": {},
   "outputs": [],
   "source": [
    "df_gpt4_recipe[\"n_ingredients_tokens\"] = df_gpt4_recipe.ingredients.apply(lambda x: len(encoding.encode(x)))\n"
   ]
  },
  {
   "cell_type": "code",
   "execution_count": 182,
   "metadata": {},
   "outputs": [
    {
     "data": {
      "text/html": [
       "<div>\n",
       "<style scoped>\n",
       "    .dataframe tbody tr th:only-of-type {\n",
       "        vertical-align: middle;\n",
       "    }\n",
       "\n",
       "    .dataframe tbody tr th {\n",
       "        vertical-align: top;\n",
       "    }\n",
       "\n",
       "    .dataframe thead th {\n",
       "        text-align: right;\n",
       "    }\n",
       "</style>\n",
       "<table border=\"1\" class=\"dataframe\">\n",
       "  <thead>\n",
       "    <tr style=\"text-align: right;\">\n",
       "      <th></th>\n",
       "      <th>id</th>\n",
       "      <th>recipe_name</th>\n",
       "      <th>ingredients</th>\n",
       "      <th>directions</th>\n",
       "      <th>nutrition</th>\n",
       "      <th>n_ingredients_tokens</th>\n",
       "    </tr>\n",
       "  </thead>\n",
       "  <tbody>\n",
       "    <tr>\n",
       "      <th>0</th>\n",
       "      <td>8</td>\n",
       "      <td>Chicken Sausage Meatballs</td>\n",
       "      <td>1 pound ground chicken, 1 pound chicken sausag...</td>\n",
       "      <td>Preheat the oven to 400 degrees F (200 degrees...</td>\n",
       "      <td>{'fat': '18g', 'protein': '36g', 'carbohydrate...</td>\n",
       "      <td>101</td>\n",
       "    </tr>\n",
       "    <tr>\n",
       "      <th>1</th>\n",
       "      <td>9</td>\n",
       "      <td>Fresh Fruit Kebabs</td>\n",
       "      <td>1 cup of strawberries, hulled, 1 cup of cantal...</td>\n",
       "      <td>Begin by preparing all the fruit - wash the st...</td>\n",
       "      <td>{'fat': '0.5g', 'protein': '1g', 'carbohydrate...</td>\n",
       "      <td>67</td>\n",
       "    </tr>\n",
       "    <tr>\n",
       "      <th>2</th>\n",
       "      <td>11</td>\n",
       "      <td>Fresh Fruit Smoothie</td>\n",
       "      <td>1 cup fresh strawberries, hulled, 1/2 cup blue...</td>\n",
       "      <td>Place strawberries, blueberries, banana, almon...</td>\n",
       "      <td>{'fat': '3g', 'protein': '4g', 'carbohydrate':...</td>\n",
       "      <td>88</td>\n",
       "    </tr>\n",
       "    <tr>\n",
       "      <th>3</th>\n",
       "      <td>10</td>\n",
       "      <td>Chicken Fajitas</td>\n",
       "      <td>1 pound boneless, skinless chicken breasts, sl...</td>\n",
       "      <td>In a large bowl, combine chicken strips with o...</td>\n",
       "      <td>{'fat': '7g', 'protein': '27g', 'carbohydrate'...</td>\n",
       "      <td>148</td>\n",
       "    </tr>\n",
       "    <tr>\n",
       "      <th>4</th>\n",
       "      <td>4</td>\n",
       "      <td>Baked Oatmeal</td>\n",
       "      <td>3 cups rolled oats, 1 1/2 teaspoons ground cin...</td>\n",
       "      <td>Preheat your oven to 350 degrees F (175 degree...</td>\n",
       "      <td>{'fat': '9g', 'protein': '6g', 'carbohydrate':...</td>\n",
       "      <td>105</td>\n",
       "    </tr>\n",
       "    <tr>\n",
       "      <th>5</th>\n",
       "      <td>5</td>\n",
       "      <td>Beef and Vegetable Kebabs</td>\n",
       "      <td>1 pound beef sirloin or tenderloin, cut into 1...</td>\n",
       "      <td>If using wooden skewers, soak them in water fo...</td>\n",
       "      <td>{'fat': '9g', 'protein': '26g', 'carbohydrate'...</td>\n",
       "      <td>138</td>\n",
       "    </tr>\n",
       "    <tr>\n",
       "      <th>6</th>\n",
       "      <td>7</td>\n",
       "      <td>Beef Fajitas</td>\n",
       "      <td>1 pound flank steak, trimmed, 1 tablespoon chi...</td>\n",
       "      <td>In a small bowl, mix chili powder, smoked papr...</td>\n",
       "      <td>{'fat': '15g', 'protein': '28g', 'carbohydrate...</td>\n",
       "      <td>135</td>\n",
       "    </tr>\n",
       "    <tr>\n",
       "      <th>7</th>\n",
       "      <td>6</td>\n",
       "      <td>Black Bean Quesadillas</td>\n",
       "      <td>4 whole-wheat tortillas (8 inches), 1 cup cann...</td>\n",
       "      <td>In a mixing bowl, mash the black beans slightl...</td>\n",
       "      <td>{'fat': '6g', 'protein': '12g', 'carbohydrate'...</td>\n",
       "      <td>76</td>\n",
       "    </tr>\n",
       "    <tr>\n",
       "      <th>8</th>\n",
       "      <td>2</td>\n",
       "      <td>Almond Crusted Chicken</td>\n",
       "      <td>4 boneless, skinless chicken breasts, \\n      ...</td>\n",
       "      <td>Preheat the oven to 375 degrees F (190 degrees...</td>\n",
       "      <td>{'fat': '19g', 'protein': '32g', 'carbohydrate...</td>\n",
       "      <td>90</td>\n",
       "    </tr>\n",
       "    <tr>\n",
       "      <th>9</th>\n",
       "      <td>3</td>\n",
       "      <td>Balsamic Feta Chicken</td>\n",
       "      <td>4 boneless, skinless chicken breasts (about 1 ...</td>\n",
       "      <td>Season the chicken breasts with the ground bla...</td>\n",
       "      <td>{'fat': '9g', 'protein': '35g', 'carbohydrate'...</td>\n",
       "      <td>101</td>\n",
       "    </tr>\n",
       "  </tbody>\n",
       "</table>\n",
       "</div>"
      ],
      "text/plain": [
       "   id                recipe_name  \\\n",
       "0   8  Chicken Sausage Meatballs   \n",
       "1   9         Fresh Fruit Kebabs   \n",
       "2  11       Fresh Fruit Smoothie   \n",
       "3  10            Chicken Fajitas   \n",
       "4   4              Baked Oatmeal   \n",
       "5   5  Beef and Vegetable Kebabs   \n",
       "6   7               Beef Fajitas   \n",
       "7   6     Black Bean Quesadillas   \n",
       "8   2     Almond Crusted Chicken   \n",
       "9   3      Balsamic Feta Chicken   \n",
       "\n",
       "                                         ingredients  \\\n",
       "0  1 pound ground chicken, 1 pound chicken sausag...   \n",
       "1  1 cup of strawberries, hulled, 1 cup of cantal...   \n",
       "2  1 cup fresh strawberries, hulled, 1/2 cup blue...   \n",
       "3  1 pound boneless, skinless chicken breasts, sl...   \n",
       "4  3 cups rolled oats, 1 1/2 teaspoons ground cin...   \n",
       "5  1 pound beef sirloin or tenderloin, cut into 1...   \n",
       "6  1 pound flank steak, trimmed, 1 tablespoon chi...   \n",
       "7  4 whole-wheat tortillas (8 inches), 1 cup cann...   \n",
       "8  4 boneless, skinless chicken breasts, \\n      ...   \n",
       "9  4 boneless, skinless chicken breasts (about 1 ...   \n",
       "\n",
       "                                          directions  \\\n",
       "0  Preheat the oven to 400 degrees F (200 degrees...   \n",
       "1  Begin by preparing all the fruit - wash the st...   \n",
       "2  Place strawberries, blueberries, banana, almon...   \n",
       "3  In a large bowl, combine chicken strips with o...   \n",
       "4  Preheat your oven to 350 degrees F (175 degree...   \n",
       "5  If using wooden skewers, soak them in water fo...   \n",
       "6  In a small bowl, mix chili powder, smoked papr...   \n",
       "7  In a mixing bowl, mash the black beans slightl...   \n",
       "8  Preheat the oven to 375 degrees F (190 degrees...   \n",
       "9  Season the chicken breasts with the ground bla...   \n",
       "\n",
       "                                           nutrition  n_ingredients_tokens  \n",
       "0  {'fat': '18g', 'protein': '36g', 'carbohydrate...                   101  \n",
       "1  {'fat': '0.5g', 'protein': '1g', 'carbohydrate...                    67  \n",
       "2  {'fat': '3g', 'protein': '4g', 'carbohydrate':...                    88  \n",
       "3  {'fat': '7g', 'protein': '27g', 'carbohydrate'...                   148  \n",
       "4  {'fat': '9g', 'protein': '6g', 'carbohydrate':...                   105  \n",
       "5  {'fat': '9g', 'protein': '26g', 'carbohydrate'...                   138  \n",
       "6  {'fat': '15g', 'protein': '28g', 'carbohydrate...                   135  \n",
       "7  {'fat': '6g', 'protein': '12g', 'carbohydrate'...                    76  \n",
       "8  {'fat': '19g', 'protein': '32g', 'carbohydrate...                    90  \n",
       "9  {'fat': '9g', 'protein': '35g', 'carbohydrate'...                   101  "
      ]
     },
     "execution_count": 182,
     "metadata": {},
     "output_type": "execute_result"
    }
   ],
   "source": [
    "df_gpt4_recipe"
   ]
  },
  {
   "cell_type": "code",
   "execution_count": 183,
   "metadata": {},
   "outputs": [],
   "source": [
    "df_gpt4_recipe[\"ingredients_embedding\"] = df_gpt4_recipe.ingredients.apply(lambda x: get_embedding(x, model=embedding_model))"
   ]
  },
  {
   "cell_type": "code",
   "execution_count": 184,
   "metadata": {},
   "outputs": [
    {
     "data": {
      "text/html": [
       "<div>\n",
       "<style scoped>\n",
       "    .dataframe tbody tr th:only-of-type {\n",
       "        vertical-align: middle;\n",
       "    }\n",
       "\n",
       "    .dataframe tbody tr th {\n",
       "        vertical-align: top;\n",
       "    }\n",
       "\n",
       "    .dataframe thead th {\n",
       "        text-align: right;\n",
       "    }\n",
       "</style>\n",
       "<table border=\"1\" class=\"dataframe\">\n",
       "  <thead>\n",
       "    <tr style=\"text-align: right;\">\n",
       "      <th></th>\n",
       "      <th>id</th>\n",
       "      <th>recipe_name</th>\n",
       "      <th>ingredients</th>\n",
       "      <th>directions</th>\n",
       "      <th>nutrition</th>\n",
       "      <th>n_ingredients_tokens</th>\n",
       "      <th>ingredients_embedding</th>\n",
       "    </tr>\n",
       "  </thead>\n",
       "  <tbody>\n",
       "    <tr>\n",
       "      <th>0</th>\n",
       "      <td>8</td>\n",
       "      <td>Chicken Sausage Meatballs</td>\n",
       "      <td>1 pound ground chicken, 1 pound chicken sausag...</td>\n",
       "      <td>Preheat the oven to 400 degrees F (200 degrees...</td>\n",
       "      <td>{'fat': '18g', 'protein': '36g', 'carbohydrate...</td>\n",
       "      <td>101</td>\n",
       "      <td>[0.01154455728828907, -0.02076328732073307, 0....</td>\n",
       "    </tr>\n",
       "    <tr>\n",
       "      <th>1</th>\n",
       "      <td>9</td>\n",
       "      <td>Fresh Fruit Kebabs</td>\n",
       "      <td>1 cup of strawberries, hulled, 1 cup of cantal...</td>\n",
       "      <td>Begin by preparing all the fruit - wash the st...</td>\n",
       "      <td>{'fat': '0.5g', 'protein': '1g', 'carbohydrate...</td>\n",
       "      <td>67</td>\n",
       "      <td>[0.024643680080771446, -0.016421465203166008, ...</td>\n",
       "    </tr>\n",
       "    <tr>\n",
       "      <th>2</th>\n",
       "      <td>11</td>\n",
       "      <td>Fresh Fruit Smoothie</td>\n",
       "      <td>1 cup fresh strawberries, hulled, 1/2 cup blue...</td>\n",
       "      <td>Place strawberries, blueberries, banana, almon...</td>\n",
       "      <td>{'fat': '3g', 'protein': '4g', 'carbohydrate':...</td>\n",
       "      <td>88</td>\n",
       "      <td>[0.0031161359511315823, -0.03137974068522453, ...</td>\n",
       "    </tr>\n",
       "    <tr>\n",
       "      <th>3</th>\n",
       "      <td>10</td>\n",
       "      <td>Chicken Fajitas</td>\n",
       "      <td>1 pound boneless, skinless chicken breasts, sl...</td>\n",
       "      <td>In a large bowl, combine chicken strips with o...</td>\n",
       "      <td>{'fat': '7g', 'protein': '27g', 'carbohydrate'...</td>\n",
       "      <td>148</td>\n",
       "      <td>[0.04225175082683563, -0.04308410361409187, -0...</td>\n",
       "    </tr>\n",
       "    <tr>\n",
       "      <th>4</th>\n",
       "      <td>4</td>\n",
       "      <td>Baked Oatmeal</td>\n",
       "      <td>3 cups rolled oats, 1 1/2 teaspoons ground cin...</td>\n",
       "      <td>Preheat your oven to 350 degrees F (175 degree...</td>\n",
       "      <td>{'fat': '9g', 'protein': '6g', 'carbohydrate':...</td>\n",
       "      <td>105</td>\n",
       "      <td>[0.009921983815729618, -0.021796196699142456, ...</td>\n",
       "    </tr>\n",
       "    <tr>\n",
       "      <th>5</th>\n",
       "      <td>5</td>\n",
       "      <td>Beef and Vegetable Kebabs</td>\n",
       "      <td>1 pound beef sirloin or tenderloin, cut into 1...</td>\n",
       "      <td>If using wooden skewers, soak them in water fo...</td>\n",
       "      <td>{'fat': '9g', 'protein': '26g', 'carbohydrate'...</td>\n",
       "      <td>138</td>\n",
       "      <td>[-0.0015074749244377017, -0.07307430356740952,...</td>\n",
       "    </tr>\n",
       "    <tr>\n",
       "      <th>6</th>\n",
       "      <td>7</td>\n",
       "      <td>Beef Fajitas</td>\n",
       "      <td>1 pound flank steak, trimmed, 1 tablespoon chi...</td>\n",
       "      <td>In a small bowl, mix chili powder, smoked papr...</td>\n",
       "      <td>{'fat': '15g', 'protein': '28g', 'carbohydrate...</td>\n",
       "      <td>135</td>\n",
       "      <td>[0.01358935795724392, -0.033676568418741226, -...</td>\n",
       "    </tr>\n",
       "    <tr>\n",
       "      <th>7</th>\n",
       "      <td>6</td>\n",
       "      <td>Black Bean Quesadillas</td>\n",
       "      <td>4 whole-wheat tortillas (8 inches), 1 cup cann...</td>\n",
       "      <td>In a mixing bowl, mash the black beans slightl...</td>\n",
       "      <td>{'fat': '6g', 'protein': '12g', 'carbohydrate'...</td>\n",
       "      <td>76</td>\n",
       "      <td>[0.009890218265354633, -0.034562770277261734, ...</td>\n",
       "    </tr>\n",
       "    <tr>\n",
       "      <th>8</th>\n",
       "      <td>2</td>\n",
       "      <td>Almond Crusted Chicken</td>\n",
       "      <td>4 boneless, skinless chicken breasts, \\n      ...</td>\n",
       "      <td>Preheat the oven to 375 degrees F (190 degrees...</td>\n",
       "      <td>{'fat': '19g', 'protein': '32g', 'carbohydrate...</td>\n",
       "      <td>90</td>\n",
       "      <td>[0.01747864857316017, -0.010568362660706043, 0...</td>\n",
       "    </tr>\n",
       "    <tr>\n",
       "      <th>9</th>\n",
       "      <td>3</td>\n",
       "      <td>Balsamic Feta Chicken</td>\n",
       "      <td>4 boneless, skinless chicken breasts (about 1 ...</td>\n",
       "      <td>Season the chicken breasts with the ground bla...</td>\n",
       "      <td>{'fat': '9g', 'protein': '35g', 'carbohydrate'...</td>\n",
       "      <td>101</td>\n",
       "      <td>[0.020211022347211838, -0.03728308901190758, 0...</td>\n",
       "    </tr>\n",
       "  </tbody>\n",
       "</table>\n",
       "</div>"
      ],
      "text/plain": [
       "   id                recipe_name  \\\n",
       "0   8  Chicken Sausage Meatballs   \n",
       "1   9         Fresh Fruit Kebabs   \n",
       "2  11       Fresh Fruit Smoothie   \n",
       "3  10            Chicken Fajitas   \n",
       "4   4              Baked Oatmeal   \n",
       "5   5  Beef and Vegetable Kebabs   \n",
       "6   7               Beef Fajitas   \n",
       "7   6     Black Bean Quesadillas   \n",
       "8   2     Almond Crusted Chicken   \n",
       "9   3      Balsamic Feta Chicken   \n",
       "\n",
       "                                         ingredients  \\\n",
       "0  1 pound ground chicken, 1 pound chicken sausag...   \n",
       "1  1 cup of strawberries, hulled, 1 cup of cantal...   \n",
       "2  1 cup fresh strawberries, hulled, 1/2 cup blue...   \n",
       "3  1 pound boneless, skinless chicken breasts, sl...   \n",
       "4  3 cups rolled oats, 1 1/2 teaspoons ground cin...   \n",
       "5  1 pound beef sirloin or tenderloin, cut into 1...   \n",
       "6  1 pound flank steak, trimmed, 1 tablespoon chi...   \n",
       "7  4 whole-wheat tortillas (8 inches), 1 cup cann...   \n",
       "8  4 boneless, skinless chicken breasts, \\n      ...   \n",
       "9  4 boneless, skinless chicken breasts (about 1 ...   \n",
       "\n",
       "                                          directions  \\\n",
       "0  Preheat the oven to 400 degrees F (200 degrees...   \n",
       "1  Begin by preparing all the fruit - wash the st...   \n",
       "2  Place strawberries, blueberries, banana, almon...   \n",
       "3  In a large bowl, combine chicken strips with o...   \n",
       "4  Preheat your oven to 350 degrees F (175 degree...   \n",
       "5  If using wooden skewers, soak them in water fo...   \n",
       "6  In a small bowl, mix chili powder, smoked papr...   \n",
       "7  In a mixing bowl, mash the black beans slightl...   \n",
       "8  Preheat the oven to 375 degrees F (190 degrees...   \n",
       "9  Season the chicken breasts with the ground bla...   \n",
       "\n",
       "                                           nutrition  n_ingredients_tokens  \\\n",
       "0  {'fat': '18g', 'protein': '36g', 'carbohydrate...                   101   \n",
       "1  {'fat': '0.5g', 'protein': '1g', 'carbohydrate...                    67   \n",
       "2  {'fat': '3g', 'protein': '4g', 'carbohydrate':...                    88   \n",
       "3  {'fat': '7g', 'protein': '27g', 'carbohydrate'...                   148   \n",
       "4  {'fat': '9g', 'protein': '6g', 'carbohydrate':...                   105   \n",
       "5  {'fat': '9g', 'protein': '26g', 'carbohydrate'...                   138   \n",
       "6  {'fat': '15g', 'protein': '28g', 'carbohydrate...                   135   \n",
       "7  {'fat': '6g', 'protein': '12g', 'carbohydrate'...                    76   \n",
       "8  {'fat': '19g', 'protein': '32g', 'carbohydrate...                    90   \n",
       "9  {'fat': '9g', 'protein': '35g', 'carbohydrate'...                   101   \n",
       "\n",
       "                               ingredients_embedding  \n",
       "0  [0.01154455728828907, -0.02076328732073307, 0....  \n",
       "1  [0.024643680080771446, -0.016421465203166008, ...  \n",
       "2  [0.0031161359511315823, -0.03137974068522453, ...  \n",
       "3  [0.04225175082683563, -0.04308410361409187, -0...  \n",
       "4  [0.009921983815729618, -0.021796196699142456, ...  \n",
       "5  [-0.0015074749244377017, -0.07307430356740952,...  \n",
       "6  [0.01358935795724392, -0.033676568418741226, -...  \n",
       "7  [0.009890218265354633, -0.034562770277261734, ...  \n",
       "8  [0.01747864857316017, -0.010568362660706043, 0...  \n",
       "9  [0.020211022347211838, -0.03728308901190758, 0...  "
      ]
     },
     "execution_count": 184,
     "metadata": {},
     "output_type": "execute_result"
    }
   ],
   "source": [
    "df_gpt4_recipe"
   ]
  },
  {
   "cell_type": "code",
   "execution_count": 185,
   "metadata": {},
   "outputs": [],
   "source": [
    "df_orginal_recipe[\"n_ingredients_tokens\"] = df_orginal_recipe.ingredients.apply(lambda x: len(encoding.encode(x)))\n",
    "df_orginal_recipe[\"ingredients_embedding\"] = df_orginal_recipe.ingredients.apply(lambda x: get_embedding(x, model=embedding_model))"
   ]
  },
  {
   "cell_type": "code",
   "execution_count": 186,
   "metadata": {},
   "outputs": [
    {
     "data": {
      "text/html": [
       "<div>\n",
       "<style scoped>\n",
       "    .dataframe tbody tr th:only-of-type {\n",
       "        vertical-align: middle;\n",
       "    }\n",
       "\n",
       "    .dataframe tbody tr th {\n",
       "        vertical-align: top;\n",
       "    }\n",
       "\n",
       "    .dataframe thead th {\n",
       "        text-align: right;\n",
       "    }\n",
       "</style>\n",
       "<table border=\"1\" class=\"dataframe\">\n",
       "  <thead>\n",
       "    <tr style=\"text-align: right;\">\n",
       "      <th></th>\n",
       "      <th>id</th>\n",
       "      <th>recipe_name</th>\n",
       "      <th>ingredients</th>\n",
       "      <th>directions</th>\n",
       "      <th>nutrition</th>\n",
       "      <th>n_ingredients_tokens</th>\n",
       "      <th>ingredients_embedding</th>\n",
       "    </tr>\n",
       "  </thead>\n",
       "  <tbody>\n",
       "    <tr>\n",
       "      <th>0</th>\n",
       "      <td>8</td>\n",
       "      <td>Chicken sausage meatballs</td>\n",
       "      <td>1/4 large onion, chopped, 1 3/4 teaspoon mince...</td>\n",
       "      <td>Heat the oven to 350 F. In a small saucepan, s...</td>\n",
       "      <td>{'fat': '4g', 'protein': '30g', 'carbohydrate'...</td>\n",
       "      <td>69</td>\n",
       "      <td>[0.00828249566257, -0.04233870282769203, 0.019...</td>\n",
       "    </tr>\n",
       "    <tr>\n",
       "      <th>1</th>\n",
       "      <td>9</td>\n",
       "      <td>Fresh fruit kebabs</td>\n",
       "      <td>6 ounces low-fat, sugar-free lemon yogurt, 1 t...</td>\n",
       "      <td>In a small bowl, whisk together the yogurt, li...</td>\n",
       "      <td>{'fat': '2g', 'protein': '4g', 'carbohydrate':...</td>\n",
       "      <td>77</td>\n",
       "      <td>[0.027132883667945862, -0.04648001492023468, 0...</td>\n",
       "    </tr>\n",
       "    <tr>\n",
       "      <th>2</th>\n",
       "      <td>11</td>\n",
       "      <td>Fresh fruit smoothie</td>\n",
       "      <td>1 cup fresh pineapple chunks, 1/2 cup cantalou...</td>\n",
       "      <td>Remove rind from pineapple and melon. Cut into...</td>\n",
       "      <td>{'fat': '0g', 'protein': '1g', 'carbohydrate':...</td>\n",
       "      <td>43</td>\n",
       "      <td>[-0.012863799929618835, -0.006133542396128178,...</td>\n",
       "    </tr>\n",
       "    <tr>\n",
       "      <th>3</th>\n",
       "      <td>10</td>\n",
       "      <td>Chicken fajitas</td>\n",
       "      <td>1/4 cup lime juice, 1 or 2 cloves garlic, minc...</td>\n",
       "      <td>Combine the first four ingredients in a large ...</td>\n",
       "      <td>{'fat': '4g', 'protein': '30g', 'carbohydrate'...</td>\n",
       "      <td>121</td>\n",
       "      <td>[0.037083204835653305, -0.059411246329545975, ...</td>\n",
       "    </tr>\n",
       "    <tr>\n",
       "      <th>4</th>\n",
       "      <td>4</td>\n",
       "      <td>Baked oatmeal</td>\n",
       "      <td>1 tablespoon canola oil, 1/2 cup unsweetened a...</td>\n",
       "      <td>In a good-sized bowl, stir together oil, apple...</td>\n",
       "      <td>{'fat': '4g', 'protein': '8g', 'carbohydrate':...</td>\n",
       "      <td>63</td>\n",
       "      <td>[0.044914547353982925, -0.0019292340148240328,...</td>\n",
       "    </tr>\n",
       "    <tr>\n",
       "      <th>5</th>\n",
       "      <td>5</td>\n",
       "      <td>Beef and vegetable kebabs</td>\n",
       "      <td>1/2 cup brown rice, 2 cups water, 4 ounces top...</td>\n",
       "      <td>In a saucepan over high heat, combine the rice...</td>\n",
       "      <td>{'fat': '4g', 'protein': '18g', 'carbohydrate'...</td>\n",
       "      <td>78</td>\n",
       "      <td>[0.003422598587349057, -0.042317770421504974, ...</td>\n",
       "    </tr>\n",
       "    <tr>\n",
       "      <th>6</th>\n",
       "      <td>7</td>\n",
       "      <td>Beef fajitas</td>\n",
       "      <td>1 tablespoon chili powder, 1/2 teaspoon ground...</td>\n",
       "      <td>In a small bowl, stir together the chili powde...</td>\n",
       "      <td>{'fat': '6g', 'protein': '24g', 'carbohydrate'...</td>\n",
       "      <td>140</td>\n",
       "      <td>[0.0033543629106134176, -0.07281233370304108, ...</td>\n",
       "    </tr>\n",
       "    <tr>\n",
       "      <th>7</th>\n",
       "      <td>6</td>\n",
       "      <td>Black bean quesadillas</td>\n",
       "      <td>1 1/2 cups reduced sodium black beans, drained...</td>\n",
       "      <td>Heat oven to 350 F. In a large bowl, combine t...</td>\n",
       "      <td>{'fat': '8g', 'protein': '14g', 'carbohydrate'...</td>\n",
       "      <td>110</td>\n",
       "      <td>[0.026380443945527077, -0.007013941649347544, ...</td>\n",
       "    </tr>\n",
       "    <tr>\n",
       "      <th>8</th>\n",
       "      <td>2</td>\n",
       "      <td>Almond crusted chicken</td>\n",
       "      <td>3/4 cup ground almonds, 1/2 cup all-purpose fl...</td>\n",
       "      <td>Heat oven to 400 F. Lightly coat a baking shee...</td>\n",
       "      <td>{'fat': '11g', 'protein': '28g', 'carbohydrate...</td>\n",
       "      <td>78</td>\n",
       "      <td>[-0.006034196354448795, -0.016367297619581223,...</td>\n",
       "    </tr>\n",
       "    <tr>\n",
       "      <th>9</th>\n",
       "      <td>3</td>\n",
       "      <td>Balsamic feta chicken</td>\n",
       "      <td>6 chicken breasts, 4 ounces each, 1/2 cup bals...</td>\n",
       "      <td>Heat the oven to 375 F. Lightly coat a baking ...</td>\n",
       "      <td>{'fat': '15g', 'protein': '25g', 'carbohydrate...</td>\n",
       "      <td>69</td>\n",
       "      <td>[0.019041741266846657, -0.014948861673474312, ...</td>\n",
       "    </tr>\n",
       "  </tbody>\n",
       "</table>\n",
       "</div>"
      ],
      "text/plain": [
       "   id                recipe_name  \\\n",
       "0   8  Chicken sausage meatballs   \n",
       "1   9         Fresh fruit kebabs   \n",
       "2  11       Fresh fruit smoothie   \n",
       "3  10            Chicken fajitas   \n",
       "4   4              Baked oatmeal   \n",
       "5   5  Beef and vegetable kebabs   \n",
       "6   7               Beef fajitas   \n",
       "7   6     Black bean quesadillas   \n",
       "8   2     Almond crusted chicken   \n",
       "9   3      Balsamic feta chicken   \n",
       "\n",
       "                                         ingredients  \\\n",
       "0  1/4 large onion, chopped, 1 3/4 teaspoon mince...   \n",
       "1  6 ounces low-fat, sugar-free lemon yogurt, 1 t...   \n",
       "2  1 cup fresh pineapple chunks, 1/2 cup cantalou...   \n",
       "3  1/4 cup lime juice, 1 or 2 cloves garlic, minc...   \n",
       "4  1 tablespoon canola oil, 1/2 cup unsweetened a...   \n",
       "5  1/2 cup brown rice, 2 cups water, 4 ounces top...   \n",
       "6  1 tablespoon chili powder, 1/2 teaspoon ground...   \n",
       "7  1 1/2 cups reduced sodium black beans, drained...   \n",
       "8  3/4 cup ground almonds, 1/2 cup all-purpose fl...   \n",
       "9  6 chicken breasts, 4 ounces each, 1/2 cup bals...   \n",
       "\n",
       "                                          directions  \\\n",
       "0  Heat the oven to 350 F. In a small saucepan, s...   \n",
       "1  In a small bowl, whisk together the yogurt, li...   \n",
       "2  Remove rind from pineapple and melon. Cut into...   \n",
       "3  Combine the first four ingredients in a large ...   \n",
       "4  In a good-sized bowl, stir together oil, apple...   \n",
       "5  In a saucepan over high heat, combine the rice...   \n",
       "6  In a small bowl, stir together the chili powde...   \n",
       "7  Heat oven to 350 F. In a large bowl, combine t...   \n",
       "8  Heat oven to 400 F. Lightly coat a baking shee...   \n",
       "9  Heat the oven to 375 F. Lightly coat a baking ...   \n",
       "\n",
       "                                           nutrition  n_ingredients_tokens  \\\n",
       "0  {'fat': '4g', 'protein': '30g', 'carbohydrate'...                    69   \n",
       "1  {'fat': '2g', 'protein': '4g', 'carbohydrate':...                    77   \n",
       "2  {'fat': '0g', 'protein': '1g', 'carbohydrate':...                    43   \n",
       "3  {'fat': '4g', 'protein': '30g', 'carbohydrate'...                   121   \n",
       "4  {'fat': '4g', 'protein': '8g', 'carbohydrate':...                    63   \n",
       "5  {'fat': '4g', 'protein': '18g', 'carbohydrate'...                    78   \n",
       "6  {'fat': '6g', 'protein': '24g', 'carbohydrate'...                   140   \n",
       "7  {'fat': '8g', 'protein': '14g', 'carbohydrate'...                   110   \n",
       "8  {'fat': '11g', 'protein': '28g', 'carbohydrate...                    78   \n",
       "9  {'fat': '15g', 'protein': '25g', 'carbohydrate...                    69   \n",
       "\n",
       "                               ingredients_embedding  \n",
       "0  [0.00828249566257, -0.04233870282769203, 0.019...  \n",
       "1  [0.027132883667945862, -0.04648001492023468, 0...  \n",
       "2  [-0.012863799929618835, -0.006133542396128178,...  \n",
       "3  [0.037083204835653305, -0.059411246329545975, ...  \n",
       "4  [0.044914547353982925, -0.0019292340148240328,...  \n",
       "5  [0.003422598587349057, -0.042317770421504974, ...  \n",
       "6  [0.0033543629106134176, -0.07281233370304108, ...  \n",
       "7  [0.026380443945527077, -0.007013941649347544, ...  \n",
       "8  [-0.006034196354448795, -0.016367297619581223,...  \n",
       "9  [0.019041741266846657, -0.014948861673474312, ...  "
      ]
     },
     "execution_count": 186,
     "metadata": {},
     "output_type": "execute_result"
    }
   ],
   "source": [
    "df_orginal_recipe\n"
   ]
  },
  {
   "cell_type": "code",
   "execution_count": 187,
   "metadata": {},
   "outputs": [],
   "source": [
    "import numpy as np\n",
    "def get_cosinse_similarity(x, y, column_name):\n",
    "    emb1 = np.array(x[column_name])\n",
    "    emb2 = np.array(y[column_name])\n",
    "    return cosine_similarity(emb1, emb2)"
   ]
  },
  {
   "cell_type": "code",
   "execution_count": 188,
   "metadata": {},
   "outputs": [],
   "source": [
    "df_gpt4_recipe[\"n_directions_tokens\"] = df_gpt4_recipe.directions.apply(lambda x: len(encoding.encode(x)))\n",
    "df_gpt4_recipe[\"directions_embedding\"] = df_gpt4_recipe.directions.apply(lambda x: get_embedding(x, model=embedding_model))\n"
   ]
  },
  {
   "cell_type": "code",
   "execution_count": 189,
   "metadata": {},
   "outputs": [],
   "source": [
    "df_orginal_recipe[\"n_directions_tokens\"] = df_orginal_recipe.directions.apply(lambda x: len(encoding.encode(x)))\n",
    "df_orginal_recipe[\"directions_embedding\"] = df_orginal_recipe.directions.apply(lambda x: get_embedding(x, model=embedding_model))"
   ]
  },
  {
   "cell_type": "code",
   "execution_count": 190,
   "metadata": {},
   "outputs": [],
   "source": [
    "def calorie_estimation(nutrition:dict):\n",
    "    if not nutrition['fat'] or not nutrition['protein'] or not nutrition['carbohydrate']:\n",
    "        return None\n",
    "    fat = float(nutrition['fat'].replace('g',''))\n",
    "    protein = float(nutrition['protein'].replace('g',''))\n",
    "    carbohydrate = float(nutrition['carbohydrate'].replace('g',''))\n",
    "    total_calories = 9 * fat + 4 * protein + 4 * carbohydrate\n",
    "    return int(total_calories)"
   ]
  },
  {
   "cell_type": "code",
   "execution_count": 191,
   "metadata": {},
   "outputs": [],
   "source": [
    "recipes_similarity = []\n",
    "for (index1, row1), (index2, row2) in zip(df_gpt4_recipe.iterrows(), df_orginal_recipe.iterrows()):\n",
    "    recipe_similarity = {}\n",
    "    recipe_similarity['id'] = row1['id']\n",
    "    recipe_similarity['recipe_name'] = row2['recipe_name']\n",
    "    recipe_similarity['ingredients_similarity'] = get_cosinse_similarity(x=row1,y=row2,column_name='ingredients_embedding')\n",
    "    recipe_similarity['directions_similarity'] = get_cosinse_similarity(x=row1,y=row2,column_name='directions_embedding')\n",
    "    recipe_similarity['gpt4_1106_recipe_total_calories'] = calorie_estimation(dict(row1['nutrition']))\n",
    "    recipe_similarity['original_recpie_total_calories'] = calorie_estimation(dict(row2['nutrition']))\n",
    "    recipes_similarity.append(recipe_similarity)"
   ]
  },
  {
   "cell_type": "code",
   "execution_count": 193,
   "metadata": {},
   "outputs": [],
   "source": [
    "with open('../data/diabetic_recipe_gpt1106/recipes_similarity.json', 'w') as f:\n",
    "    json.dump(recipes_similarity,f, indent=4)"
   ]
  },
  {
   "cell_type": "code",
   "execution_count": 194,
   "metadata": {},
   "outputs": [],
   "source": [
    "df_gpt4_recipe.to_csv(\"../data/diabetic_recipe_gpt1106/gpt4_1106_recipes.csv\", index=False)\n",
    "df_orginal_recipe.to_csv(\"../data/diabetic_recipe_gpt1106/orginal_recipes.csv\", index=False)"
   ]
  },
  {
   "cell_type": "code",
   "execution_count": null,
   "metadata": {},
   "outputs": [],
   "source": []
  }
 ],
 "metadata": {
  "kernelspec": {
   "display_name": ".venv",
   "language": "python",
   "name": "python3"
  },
  "language_info": {
   "codemirror_mode": {
    "name": "ipython",
    "version": 3
   },
   "file_extension": ".py",
   "mimetype": "text/x-python",
   "name": "python",
   "nbconvert_exporter": "python",
   "pygments_lexer": "ipython3",
   "version": "3.11.3"
  }
 },
 "nbformat": 4,
 "nbformat_minor": 2
}
