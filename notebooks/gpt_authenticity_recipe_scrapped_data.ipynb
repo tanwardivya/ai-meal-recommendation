{
 "cells": [
  {
   "cell_type": "code",
   "execution_count": 1,
   "metadata": {},
   "outputs": [
    {
     "data": {
      "text/plain": [
       "True"
      ]
     },
     "execution_count": 1,
     "metadata": {},
     "output_type": "execute_result"
    }
   ],
   "source": [
    "from dotenv import load_dotenv\n",
    "load_dotenv('../.vscode/.env')"
   ]
  },
  {
   "cell_type": "code",
   "execution_count": 2,
   "metadata": {},
   "outputs": [
    {
     "name": "stderr",
     "output_type": "stream",
     "text": [
      "/var/folders/qb/cr87d2s56q51lk72620820hw0000gn/T/ipykernel_82425/4080736814.py:1: DeprecationWarning: \n",
      "Pyarrow will become a required dependency of pandas in the next major release of pandas (pandas 3.0),\n",
      "(to allow more performant data types, such as the Arrow string type, and better interoperability with other libraries)\n",
      "but was not found to be installed on your system.\n",
      "If this would cause problems for you,\n",
      "please provide us feedback at https://github.com/pandas-dev/pandas/issues/54466\n",
      "        \n",
      "  import pandas as pd\n"
     ]
    }
   ],
   "source": [
    "import pandas as pd"
   ]
  },
  {
   "cell_type": "code",
   "execution_count": 3,
   "metadata": {},
   "outputs": [],
   "source": [
    "df = pd.read_csv('../data/scrapped_recipes/scrapped_recipes.csv')"
   ]
  },
  {
   "cell_type": "code",
   "execution_count": 4,
   "metadata": {},
   "outputs": [],
   "source": [
    "row = df.iloc[0]"
   ]
  },
  {
   "cell_type": "code",
   "execution_count": 6,
   "metadata": {},
   "outputs": [],
   "source": [
    "ASSISTANT_INSTRUCTION = f'''\n",
    "You are helpful diabetic-friendly recipe assistant who give different recipe each time when user ask. Recipe can be for vegetarian, vegan, and non-vegeterian diets.You generate diabetic friendly recipe in below format:\n",
    "<recipe>\n",
    "    <recipe_name> {row['recipe_name']} </recipe_name>\n",
    "    <ingredients> {row['ingredients']} </ingredients>\n",
    "    <directions> {row['directions']} </directions>\n",
    "    <nutrition> {row['nutrients']} </nutrition> \n",
    "</recipe>\n",
    "Always use above format to give recipe.\n",
    "'''"
   ]
  },
  {
   "cell_type": "code",
   "execution_count": 8,
   "metadata": {},
   "outputs": [
    {
     "name": "stdout",
     "output_type": "stream",
     "text": [
      "\n",
      "You are helpful diabetic-friendly recipe assistant who give different recipe each time when user ask. Recipe can be for vegetarian, vegan, and non-vegeterian diets.You generate diabetic friendly recipe in below format:\n",
      "<recipe>\n",
      "    <recipe_name> Artichoke dip </recipe_name>\n",
      "    <ingredients> 1 can (15.5 ounces) artichoke hearts in water, drained,4 cups chopped raw spinach,2 cloves garlic, minced,1 teaspoon ground black pepper,1 teaspoon minced fresh thyme (or 1/3 teaspoon dried),1 tablespoon fresh minced parsley (or 1 teaspoon dried),1 cup prepared unsalted white beans (or half a 15.5-ounce can unsalted white beans, rinsed and drained),2 tablespoons grated Parmesan cheese,1/2 cup low-fat sour cream </ingredients>\n",
      "    <directions> In a mixing bowl, combine the ingredients. Transfer to an oven-safe glass or ceramic dish and bake at 350 F for 30 minutes. Serve warm. </directions>\n",
      "    <nutrition> Total carbohydrate 10g,Dietary fiber 6g,Sodium 130mg,Saturated fat 1g,Total fat 2g,Trans fat 0g,Cholesterol 6mg,Protein 5g,Monounsaturated fat Trace,Calories 78,Added sugars 0g,Total sugars 1.5g </nutrition> \n",
      "</recipe>\n",
      "Always use above format to give recipe.\n",
      "\n"
     ]
    }
   ],
   "source": [
    "print(ASSISTANT_INSTRUCTION)"
   ]
  },
  {
   "cell_type": "code",
   "execution_count": 9,
   "metadata": {},
   "outputs": [],
   "source": [
    "from openai import OpenAI\n",
    "import os"
   ]
  },
  {
   "cell_type": "code",
   "execution_count": 10,
   "metadata": {},
   "outputs": [],
   "source": [
    "import json\n",
    "\n",
    "def show_json(obj):\n",
    "    display(json.loads(obj.model_dump_json()))"
   ]
  },
  {
   "cell_type": "code",
   "execution_count": 11,
   "metadata": {},
   "outputs": [],
   "source": [
    "ASSISTANT_ID='asst_i014pbQ36JXw3VpqtybiYGrt'"
   ]
  },
  {
   "cell_type": "code",
   "execution_count": 12,
   "metadata": {},
   "outputs": [],
   "source": [
    "from bs4 import BeautifulSoup\n",
    "client = OpenAI(api_key=os.environ.get(\"OPENAI_API_KEY\", \"\"))\n",
    "\n",
    "def submit_message(assistant_id, thread, user_message):\n",
    "    client.beta.threads.messages.create(\n",
    "        thread_id=thread.id, role=\"user\", content=user_message\n",
    "    )\n",
    "    return client.beta.threads.runs.create(\n",
    "        thread_id=thread.id,\n",
    "        assistant_id=assistant_id,\n",
    "    )\n",
    "\n",
    "\n",
    "def get_response(thread):\n",
    "    messages = client.beta.threads.messages.list(thread_id=thread.id)\n",
    "    for m in messages:\n",
    "        if m.role == 'assistant':\n",
    "            return m.content[0].text.value\n",
    "# Write recipe in xml format using Beautiful soup\n",
    "def write_recipe(id: str, recipe_content:str):\n",
    "    soup = BeautifulSoup(recipe_content, \"xml\")\n",
    "    with open(f'../data/scrapped_recipes/{id}.xml', 'w') as f:\n",
    "        f.write(soup.prettify())\n",
    "\n",
    "def create_thread_and_run(assistant_id: str, user_input:str):\n",
    "    thread = client.beta.threads.create()\n",
    "    run = submit_message(assistant_id, thread, user_input)\n",
    "    return thread, run"
   ]
  },
  {
   "cell_type": "code",
   "execution_count": 13,
   "metadata": {},
   "outputs": [],
   "source": [
    "import time\n",
    "\n",
    "def wait_on_run(run, thread):\n",
    "    while run.status == \"queued\" or run.status == \"in_progress\":\n",
    "        run = client.beta.threads.runs.retrieve(\n",
    "            thread_id=thread.id,\n",
    "            run_id=run.id,\n",
    "        )\n",
    "        time.sleep(0.5)\n",
    "    return run"
   ]
  },
  {
   "cell_type": "code",
   "execution_count": 14,
   "metadata": {},
   "outputs": [],
   "source": [
    "prompts = [\n",
    "    \"Can you share a diabetic-friendly recipe for a hearty morning meal that's both satisfying and nutritious?\",\n",
    "    \"I'm looking for a diabetic-friendly lunch option that's easy to prepare and delicious. Any suggestions?\",\n",
    "    \"What's a diabetic-friendly recipe for dinner that's full of flavor and incorporates plenty of vegetables and lean proteins?\",\n",
    "    \"Do you have a diabetic-friendly recipe for a quick and energizing breakfast that doesn't spike blood sugar levels?\",\n",
    "    \"I'm in need of a diabetic-friendly lunch recipe that's suitable for meal prep and can be enjoyed on-the-go. Any recommendations?\",\n",
    "    \"Could you recommend a diabetic-friendly dinner recipe that's perfect for entertaining guests, yet won't compromise on taste or healthiness?\",\n",
    "    \"I'm searching for a diabetic-friendly breakfast recipe that's warm and comforting, ideal for those chilly mornings. Any ideas?\",\n",
    "    \"What's a diabetic-friendly recipe for a light yet filling lunch option that's perfect for busy weekdays?\",\n",
    "    \"Can you suggest a diabetic-friendly recipe for dinner that's family-friendly and can be customized to suit different taste preferences?\",\n",
    "    \"Do you have a diabetic-friendly breakfast recipe that's suitable for someone with a sweet tooth but won't cause a sugar spike?\"\n",
    "]"
   ]
  },
  {
   "cell_type": "code",
   "execution_count": 22,
   "metadata": {},
   "outputs": [
    {
     "name": "stdout",
     "output_type": "stream",
     "text": [
      "Generated recipe for id:1\n",
      "Generated recipe for id:2\n",
      "Generated recipe for id:3\n",
      "Generated recipe for id:4\n",
      "Generated recipe for id:5\n",
      "Generated recipe for id:6\n",
      "Generated recipe for id:7\n",
      "Generated recipe for id:8\n",
      "Generated recipe for id:9\n",
      "Generated recipe for id:10\n"
     ]
    }
   ],
   "source": [
    "for i in range(1,11):\n",
    "    thread, run = create_thread_and_run(assistant_id= ASSISTANT_ID, user_input=prompts[i-1])\n",
    "    run = wait_on_run(thread=thread, run = run)\n",
    "    recipe_content = get_response(thread=thread)\n",
    "    write_recipe(id=str(i), recipe_content=recipe_content)\n",
    "    recipe_id = str(i)\n",
    "    print(f'Generated recipe for id:{recipe_id}')"
   ]
  },
  {
   "cell_type": "code",
   "execution_count": 20,
   "metadata": {},
   "outputs": [],
   "source": [
    "import re\n",
    "\n",
    "# Function to extract nutritional values\n",
    "def extract_nutrition_values(text):\n",
    "    # Dictionary to hold the extracted values\n",
    "    nutrition_values = {}\n",
    "\n",
    "    # Regular expressions for extracting fat, carbohydrate, and protein\n",
    "    patterns = {\n",
    "        'fat': r\"Total Fat (\\d+\\.?\\d*g)\",\n",
    "        'carbohydrate': r\"Total Carbohydrate (\\d+\\.?\\d*g)\",\n",
    "        'protein': r\"Protein (\\d+\\.?\\d*g)\",\n",
    "    }\n",
    "\n",
    "    # Loop through the patterns and search in the text\n",
    "    for key, pattern in patterns.items():\n",
    "        match = re.search(pattern, text, re.IGNORECASE)\n",
    "        if match:\n",
    "            # If a match is found, add it to the dictionary\n",
    "            nutrition_values[key] = match.group(1)\n",
    "        else:\n",
    "            # If no match is found, set the value to None\n",
    "            nutrition_values[key] = None\n",
    "\n",
    "    return nutrition_values"
   ]
  },
  {
   "cell_type": "code",
   "execution_count": 24,
   "metadata": {},
   "outputs": [],
   "source": [
    "import glob\n",
    "from bs4 import  BeautifulSoup\n",
    "file_paths = glob.glob(pathname='../data/scrapped_recipes/*.xml')"
   ]
  },
  {
   "cell_type": "code",
   "execution_count": 25,
   "metadata": {},
   "outputs": [
    {
     "data": {
      "text/plain": [
       "['../data/scrapped_recipes/8.xml',\n",
       " '../data/scrapped_recipes/9.xml',\n",
       " '../data/scrapped_recipes/10.xml',\n",
       " '../data/scrapped_recipes/4.xml',\n",
       " '../data/scrapped_recipes/5.xml',\n",
       " '../data/scrapped_recipes/7.xml',\n",
       " '../data/scrapped_recipes/6.xml',\n",
       " '../data/scrapped_recipes/2.xml',\n",
       " '../data/scrapped_recipes/3.xml',\n",
       " '../data/scrapped_recipes/1.xml']"
      ]
     },
     "execution_count": 25,
     "metadata": {},
     "output_type": "execute_result"
    }
   ],
   "source": [
    "file_paths"
   ]
  },
  {
   "cell_type": "code",
   "execution_count": 28,
   "metadata": {},
   "outputs": [],
   "source": [
    "from pydantic import BaseModel\n",
    "from typing import  List, Optional\n",
    "class Nutrition(BaseModel):\n",
    "    fat: Optional[str] = None\n",
    "    protein: Optional[str] = None\n",
    "    carbohydrate: Optional[str] = None\n",
    "\n",
    "class Recipe(BaseModel):\n",
    "    id: str\n",
    "    recipe_name:str\n",
    "    ingredients: str\n",
    "    directions: str\n",
    "    nutrition: Nutrition \n",
    "\n",
    "class Recipes(BaseModel):\n",
    "    recipes: List[Recipe] = []"
   ]
  },
  {
   "cell_type": "code",
   "execution_count": 30,
   "metadata": {},
   "outputs": [],
   "source": [
    "def read_xml_file(file_path: str):\n",
    "    with open(file_path, 'r') as f:\n",
    "        file = f.read() \n",
    "        return file\n",
    "\n",
    "def clean_text(content: str):\n",
    "    clean_content = content.strip()\n",
    "    return clean_content"
   ]
  },
  {
   "cell_type": "code",
   "execution_count": 26,
   "metadata": {},
   "outputs": [],
   "source": [
    "from pathlib import Path\n",
    "def parse_llm_recipes(file_paths:list):\n",
    "    recipes = Recipes()\n",
    "    for file_path in file_paths:\n",
    "        print(f'Parsing file:{file_path}')\n",
    "        id = Path(file_path).stem\n",
    "        file = read_xml_file(file_path)\n",
    "        soup = BeautifulSoup(file, 'xml')\n",
    "        recipe_name = soup.find('recipe_name')\n",
    "        recipe_name = clean_text(recipe_name.text)\n",
    "        ingredients = soup.find('ingredients')\n",
    "        ingredients = clean_text(ingredients.text)\n",
    "        directions = soup.find('directions')\n",
    "        directions = clean_text(directions.text)\n",
    "        nutrition = soup.find('nutrition')\n",
    "        nutrition = clean_text(nutrition.text)\n",
    "        parsed_nutrition = extract_nutrition_values(text=nutrition)\n",
    "        nutrition = Nutrition(fat=parsed_nutrition['fat'], protein=parsed_nutrition['protein'],carbohydrate=parsed_nutrition['carbohydrate'])\n",
    "        recipe = Recipe(id = id, recipe_name = recipe_name, ingredients = ingredients,directions=directions, nutrition=nutrition)\n",
    "        recipes.recipes.append(recipe) \n",
    "    return recipes "
   ]
  },
  {
   "cell_type": "code",
   "execution_count": 31,
   "metadata": {},
   "outputs": [
    {
     "name": "stdout",
     "output_type": "stream",
     "text": [
      "Parsing file:../data/scrapped_recipes/8.xml\n",
      "Parsing file:../data/scrapped_recipes/9.xml\n",
      "Parsing file:../data/scrapped_recipes/10.xml\n",
      "Parsing file:../data/scrapped_recipes/4.xml\n",
      "Parsing file:../data/scrapped_recipes/5.xml\n",
      "Parsing file:../data/scrapped_recipes/7.xml\n",
      "Parsing file:../data/scrapped_recipes/6.xml\n",
      "Parsing file:../data/scrapped_recipes/2.xml\n",
      "Parsing file:../data/scrapped_recipes/3.xml\n",
      "Parsing file:../data/scrapped_recipes/1.xml\n"
     ]
    }
   ],
   "source": [
    "llm_recipes = parse_llm_recipes(file_paths)"
   ]
  },
  {
   "cell_type": "code",
   "execution_count": 32,
   "metadata": {},
   "outputs": [],
   "source": [
    "import json\n",
    "with open('../data/scrapped_recipes/gpt4_1106_recipes.json', 'w') as f:\n",
    "    json.dump(llm_recipes.model_dump(mode='json'), f, indent=4, ensure_ascii=False)"
   ]
  },
  {
   "cell_type": "code",
   "execution_count": 33,
   "metadata": {},
   "outputs": [],
   "source": [
    "import json\n",
    "with open('../data/scrapped_recipes/gpt4_1106_recipes.json') as f:\n",
    "    gpt4_recipe = json.load(f)"
   ]
  },
  {
   "cell_type": "code",
   "execution_count": 34,
   "metadata": {},
   "outputs": [],
   "source": [
    "df_gpt4_recipe = pd.DataFrame.from_records(gpt4_recipe['recipes'])\n"
   ]
  },
  {
   "cell_type": "code",
   "execution_count": 35,
   "metadata": {},
   "outputs": [
    {
     "data": {
      "text/html": [
       "<div>\n",
       "<style scoped>\n",
       "    .dataframe tbody tr th:only-of-type {\n",
       "        vertical-align: middle;\n",
       "    }\n",
       "\n",
       "    .dataframe tbody tr th {\n",
       "        vertical-align: top;\n",
       "    }\n",
       "\n",
       "    .dataframe thead th {\n",
       "        text-align: right;\n",
       "    }\n",
       "</style>\n",
       "<table border=\"1\" class=\"dataframe\">\n",
       "  <thead>\n",
       "    <tr style=\"text-align: right;\">\n",
       "      <th></th>\n",
       "      <th>id</th>\n",
       "      <th>recipe_name</th>\n",
       "      <th>ingredients</th>\n",
       "      <th>directions</th>\n",
       "      <th>nutrition</th>\n",
       "    </tr>\n",
       "  </thead>\n",
       "  <tbody>\n",
       "    <tr>\n",
       "      <th>0</th>\n",
       "      <td>8</td>\n",
       "      <td>Chicken and Avocado Salad</td>\n",
       "      <td>2 cups cooked chicken breast, diced, 1 ripe av...</td>\n",
       "      <td>In a large bowl, combine the diced chicken, av...</td>\n",
       "      <td>{'fat': '18g', 'protein': '22g', 'carbohydrate...</td>\n",
       "    </tr>\n",
       "    <tr>\n",
       "      <th>1</th>\n",
       "      <td>9</td>\n",
       "      <td>Stuffed Bell Peppers</td>\n",
       "      <td>4 large bell peppers (any color), 1 cup quinoa...</td>\n",
       "      <td>Preheat oven to 375°F (190°C). Cut the tops of...</td>\n",
       "      <td>{'fat': '8g', 'protein': '14g', 'carbohydrate'...</td>\n",
       "    </tr>\n",
       "    <tr>\n",
       "      <th>2</th>\n",
       "      <td>10</td>\n",
       "      <td>Almond Flour Pancakes</td>\n",
       "      <td>1 cup almond flour, 2 large eggs, 1/4 cup wate...</td>\n",
       "      <td>In a medium mixing bowl, whisk together the al...</td>\n",
       "      <td>{'fat': '16g', 'protein': '7g', 'carbohydrate'...</td>\n",
       "    </tr>\n",
       "    <tr>\n",
       "      <th>3</th>\n",
       "      <td>4</td>\n",
       "      <td>Spinach and Mushroom Frittata</td>\n",
       "      <td>8 large eggs, 1/2 cup milk (preferably almond ...</td>\n",
       "      <td>Preheat the oven to 375 degrees F (190 degrees...</td>\n",
       "      <td>{'fat': '11g', 'protein': '12g', 'carbohydrate...</td>\n",
       "    </tr>\n",
       "    <tr>\n",
       "      <th>4</th>\n",
       "      <td>5</td>\n",
       "      <td>Chickpea Salad Wraps</td>\n",
       "      <td>1 can (15 ounces) chickpeas, rinsed and draine...</td>\n",
       "      <td>In a large bowl, combine chickpeas, cucumber, ...</td>\n",
       "      <td>{'fat': '9g', 'protein': '11g', 'carbohydrate'...</td>\n",
       "    </tr>\n",
       "    <tr>\n",
       "      <th>5</th>\n",
       "      <td>7</td>\n",
       "      <td>Spinach and Mushroom Egg White Frittata</td>\n",
       "      <td>1 cup fresh spinach, chopped, 1 cup mushrooms,...</td>\n",
       "      <td>Preheat the oven to 375 degrees F (190 degrees...</td>\n",
       "      <td>{'fat': '6g', 'protein': '18g', 'carbohydrate'...</td>\n",
       "    </tr>\n",
       "    <tr>\n",
       "      <th>6</th>\n",
       "      <td>6</td>\n",
       "      <td>Grilled Lemon-Herb Chicken</td>\n",
       "      <td>4 boneless, skinless chicken breasts, 1/4 cup ...</td>\n",
       "      <td>In a small bowl, whisk together lemon juice, o...</td>\n",
       "      <td>{'fat': '7g', 'protein': '36g', 'carbohydrate'...</td>\n",
       "    </tr>\n",
       "    <tr>\n",
       "      <th>7</th>\n",
       "      <td>2</td>\n",
       "      <td>Grilled Chicken Salad with Avocado Dressing</td>\n",
       "      <td>2 boneless, skinless chicken breasts, 1 tables...</td>\n",
       "      <td>Preheat grill or grill pan over medium-high he...</td>\n",
       "      <td>{'fat': '13g', 'protein': '26g', 'carbohydrate...</td>\n",
       "    </tr>\n",
       "    <tr>\n",
       "      <th>8</th>\n",
       "      <td>3</td>\n",
       "      <td>Grilled Lemon-Herb Chicken and Veggie Kabobs</td>\n",
       "      <td>1 pound boneless, skinless chicken breast, cut...</td>\n",
       "      <td>In a small bowl, whisk together the olive oil,...</td>\n",
       "      <td>{'fat': '9g', 'protein': '27g', 'carbohydrate'...</td>\n",
       "    </tr>\n",
       "    <tr>\n",
       "      <th>9</th>\n",
       "      <td>1</td>\n",
       "      <td>Veggie-Packed Frittata</td>\n",
       "      <td>6 large eggs, 1/4 cup skim milk, 1/2 cup diced...</td>\n",
       "      <td>Preheat the oven to 375 degrees F (190 degrees...</td>\n",
       "      <td>{'fat': '10g', 'protein': '12g', 'carbohydrate...</td>\n",
       "    </tr>\n",
       "  </tbody>\n",
       "</table>\n",
       "</div>"
      ],
      "text/plain": [
       "   id                                   recipe_name  \\\n",
       "0   8                     Chicken and Avocado Salad   \n",
       "1   9                          Stuffed Bell Peppers   \n",
       "2  10                         Almond Flour Pancakes   \n",
       "3   4                 Spinach and Mushroom Frittata   \n",
       "4   5                          Chickpea Salad Wraps   \n",
       "5   7       Spinach and Mushroom Egg White Frittata   \n",
       "6   6                    Grilled Lemon-Herb Chicken   \n",
       "7   2   Grilled Chicken Salad with Avocado Dressing   \n",
       "8   3  Grilled Lemon-Herb Chicken and Veggie Kabobs   \n",
       "9   1                        Veggie-Packed Frittata   \n",
       "\n",
       "                                         ingredients  \\\n",
       "0  2 cups cooked chicken breast, diced, 1 ripe av...   \n",
       "1  4 large bell peppers (any color), 1 cup quinoa...   \n",
       "2  1 cup almond flour, 2 large eggs, 1/4 cup wate...   \n",
       "3  8 large eggs, 1/2 cup milk (preferably almond ...   \n",
       "4  1 can (15 ounces) chickpeas, rinsed and draine...   \n",
       "5  1 cup fresh spinach, chopped, 1 cup mushrooms,...   \n",
       "6  4 boneless, skinless chicken breasts, 1/4 cup ...   \n",
       "7  2 boneless, skinless chicken breasts, 1 tables...   \n",
       "8  1 pound boneless, skinless chicken breast, cut...   \n",
       "9  6 large eggs, 1/4 cup skim milk, 1/2 cup diced...   \n",
       "\n",
       "                                          directions  \\\n",
       "0  In a large bowl, combine the diced chicken, av...   \n",
       "1  Preheat oven to 375°F (190°C). Cut the tops of...   \n",
       "2  In a medium mixing bowl, whisk together the al...   \n",
       "3  Preheat the oven to 375 degrees F (190 degrees...   \n",
       "4  In a large bowl, combine chickpeas, cucumber, ...   \n",
       "5  Preheat the oven to 375 degrees F (190 degrees...   \n",
       "6  In a small bowl, whisk together lemon juice, o...   \n",
       "7  Preheat grill or grill pan over medium-high he...   \n",
       "8  In a small bowl, whisk together the olive oil,...   \n",
       "9  Preheat the oven to 375 degrees F (190 degrees...   \n",
       "\n",
       "                                           nutrition  \n",
       "0  {'fat': '18g', 'protein': '22g', 'carbohydrate...  \n",
       "1  {'fat': '8g', 'protein': '14g', 'carbohydrate'...  \n",
       "2  {'fat': '16g', 'protein': '7g', 'carbohydrate'...  \n",
       "3  {'fat': '11g', 'protein': '12g', 'carbohydrate...  \n",
       "4  {'fat': '9g', 'protein': '11g', 'carbohydrate'...  \n",
       "5  {'fat': '6g', 'protein': '18g', 'carbohydrate'...  \n",
       "6  {'fat': '7g', 'protein': '36g', 'carbohydrate'...  \n",
       "7  {'fat': '13g', 'protein': '26g', 'carbohydrate...  \n",
       "8  {'fat': '9g', 'protein': '27g', 'carbohydrate'...  \n",
       "9  {'fat': '10g', 'protein': '12g', 'carbohydrate...  "
      ]
     },
     "execution_count": 35,
     "metadata": {},
     "output_type": "execute_result"
    }
   ],
   "source": [
    "df_gpt4_recipe"
   ]
  },
  {
   "cell_type": "code",
   "execution_count": 38,
   "metadata": {},
   "outputs": [],
   "source": [
    "recipe = pd.read_csv('../data/scrapped_recipes/scrapped_recipes.csv')\n"
   ]
  },
  {
   "cell_type": "code",
   "execution_count": 40,
   "metadata": {},
   "outputs": [],
   "source": [
    "recipe['id'] = recipe.index + 1"
   ]
  },
  {
   "cell_type": "code",
   "execution_count": 42,
   "metadata": {},
   "outputs": [],
   "source": [
    "recipe = recipe[['id','recipe_name', 'source_url','ingredients','directions','serving_size']]"
   ]
  },
  {
   "cell_type": "code",
   "execution_count": 43,
   "metadata": {},
   "outputs": [
    {
     "data": {
      "text/html": [
       "<div>\n",
       "<style scoped>\n",
       "    .dataframe tbody tr th:only-of-type {\n",
       "        vertical-align: middle;\n",
       "    }\n",
       "\n",
       "    .dataframe tbody tr th {\n",
       "        vertical-align: top;\n",
       "    }\n",
       "\n",
       "    .dataframe thead th {\n",
       "        text-align: right;\n",
       "    }\n",
       "</style>\n",
       "<table border=\"1\" class=\"dataframe\">\n",
       "  <thead>\n",
       "    <tr style=\"text-align: right;\">\n",
       "      <th></th>\n",
       "      <th>id</th>\n",
       "      <th>recipe_name</th>\n",
       "      <th>source_url</th>\n",
       "      <th>ingredients</th>\n",
       "      <th>directions</th>\n",
       "      <th>serving_size</th>\n",
       "    </tr>\n",
       "  </thead>\n",
       "  <tbody>\n",
       "    <tr>\n",
       "      <th>0</th>\n",
       "      <td>1</td>\n",
       "      <td>Artichoke dip</td>\n",
       "      <td>https://www.mayoclinic.org/healthy-lifestyle/r...</td>\n",
       "      <td>1 can (15.5 ounces) artichoke hearts in water,...</td>\n",
       "      <td>In a mixing bowl, combine the ingredients. Tra...</td>\n",
       "      <td>Serving size: About 1/2 cup</td>\n",
       "    </tr>\n",
       "    <tr>\n",
       "      <th>1</th>\n",
       "      <td>2</td>\n",
       "      <td>Artichoke, spinach and white bean dip</td>\n",
       "      <td>https://www.mayoclinic.org/healthy-lifestyle/r...</td>\n",
       "      <td>2 cups artichoke hearts,1 tablespoon black pep...</td>\n",
       "      <td>Heat oven to 350 degrees.,Mix all ingredients ...</td>\n",
       "      <td>Serving size: About 1/2 cup</td>\n",
       "    </tr>\n",
       "    <tr>\n",
       "      <th>2</th>\n",
       "      <td>3</td>\n",
       "      <td>Artichokes alla Romana</td>\n",
       "      <td>https://www.mayoclinic.org/healthy-lifestyle/r...</td>\n",
       "      <td>2 cups fresh breadcrumbs, preferably whole-whe...</td>\n",
       "      <td>Heat the oven to 400 F. In a bowl, combine the...</td>\n",
       "      <td>Serving size: 1/4 artichoke</td>\n",
       "    </tr>\n",
       "    <tr>\n",
       "      <th>3</th>\n",
       "      <td>4</td>\n",
       "      <td>Avocado dip</td>\n",
       "      <td>https://www.mayoclinic.org/healthy-lifestyle/r...</td>\n",
       "      <td>1/2 cup fat-free sour cream,2 teaspoons choppe...</td>\n",
       "      <td>In a small bowl, combine sour cream, onion, ho...</td>\n",
       "      <td>Serving size: 1/4 cup</td>\n",
       "    </tr>\n",
       "    <tr>\n",
       "      <th>4</th>\n",
       "      <td>5</td>\n",
       "      <td>Baba ghanoush</td>\n",
       "      <td>https://www.mayoclinic.org/healthy-lifestyle/r...</td>\n",
       "      <td>1 bulb garlic (about 8 cloves),2 eggplants, sl...</td>\n",
       "      <td>Spray cold grill with cooking spray. Heat one ...</td>\n",
       "      <td>Serving size: Half a pita and 2 tablespoons dip</td>\n",
       "    </tr>\n",
       "    <tr>\n",
       "      <th>...</th>\n",
       "      <td>...</td>\n",
       "      <td>...</td>\n",
       "      <td>...</td>\n",
       "      <td>...</td>\n",
       "      <td>...</td>\n",
       "      <td>...</td>\n",
       "    </tr>\n",
       "    <tr>\n",
       "      <th>520</th>\n",
       "      <td>521</td>\n",
       "      <td>Vegetable, lentil and garbanzo bean stew</td>\n",
       "      <td>https://www.mayoclinic.org/healthy-lifestyle/r...</td>\n",
       "      <td>3 cups butternut squash (approximately 1 1/2 -...</td>\n",
       "      <td>In a Dutch oven, slowly sweat vegetables (squa...</td>\n",
       "      <td>Serving size: About 2 cups</td>\n",
       "    </tr>\n",
       "    <tr>\n",
       "      <th>521</th>\n",
       "      <td>522</td>\n",
       "      <td>Vegetarian chili</td>\n",
       "      <td>https://www.mayoclinic.org/healthy-lifestyle/r...</td>\n",
       "      <td>2 cups diced onion,1 cup diced celery,1 cup di...</td>\n",
       "      <td>In a stockpot over low heat, cook onion, celer...</td>\n",
       "      <td>Serving size: About 2 cups</td>\n",
       "    </tr>\n",
       "    <tr>\n",
       "      <th>522</th>\n",
       "      <td>523</td>\n",
       "      <td>White chicken chili</td>\n",
       "      <td>https://www.mayoclinic.org/healthy-lifestyle/r...</td>\n",
       "      <td>1 can (10 ounces) white chunk chicken,2 cans (...</td>\n",
       "      <td>In a large soup pot, add the chicken, beans, t...</td>\n",
       "      <td>Serving size: About 1 1/2 cups</td>\n",
       "    </tr>\n",
       "    <tr>\n",
       "      <th>523</th>\n",
       "      <td>524</td>\n",
       "      <td>Wild rice mushroom soup</td>\n",
       "      <td>https://www.mayoclinic.org/healthy-lifestyle/r...</td>\n",
       "      <td>1 tablespoon olive oil,Half a white onion, cho...</td>\n",
       "      <td>Put olive oil in stockpot and bring to medium ...</td>\n",
       "      <td>Serving size: About 1 1/2 cups</td>\n",
       "    </tr>\n",
       "    <tr>\n",
       "      <th>524</th>\n",
       "      <td>525</td>\n",
       "      <td>Zesty tomato soup</td>\n",
       "      <td>https://www.mayoclinic.org/healthy-lifestyle/r...</td>\n",
       "      <td>1 can (10.5 ounces) condensed low-sodium, low-...</td>\n",
       "      <td>In a saucepan, add the soup and milk. Whisk to...</td>\n",
       "      <td>Serving size: About 1 1/2 cups</td>\n",
       "    </tr>\n",
       "  </tbody>\n",
       "</table>\n",
       "<p>525 rows × 6 columns</p>\n",
       "</div>"
      ],
      "text/plain": [
       "      id                               recipe_name  \\\n",
       "0      1                             Artichoke dip   \n",
       "1      2     Artichoke, spinach and white bean dip   \n",
       "2      3                    Artichokes alla Romana   \n",
       "3      4                               Avocado dip   \n",
       "4      5                             Baba ghanoush   \n",
       "..   ...                                       ...   \n",
       "520  521  Vegetable, lentil and garbanzo bean stew   \n",
       "521  522                          Vegetarian chili   \n",
       "522  523                       White chicken chili   \n",
       "523  524                   Wild rice mushroom soup   \n",
       "524  525                         Zesty tomato soup   \n",
       "\n",
       "                                            source_url  \\\n",
       "0    https://www.mayoclinic.org/healthy-lifestyle/r...   \n",
       "1    https://www.mayoclinic.org/healthy-lifestyle/r...   \n",
       "2    https://www.mayoclinic.org/healthy-lifestyle/r...   \n",
       "3    https://www.mayoclinic.org/healthy-lifestyle/r...   \n",
       "4    https://www.mayoclinic.org/healthy-lifestyle/r...   \n",
       "..                                                 ...   \n",
       "520  https://www.mayoclinic.org/healthy-lifestyle/r...   \n",
       "521  https://www.mayoclinic.org/healthy-lifestyle/r...   \n",
       "522  https://www.mayoclinic.org/healthy-lifestyle/r...   \n",
       "523  https://www.mayoclinic.org/healthy-lifestyle/r...   \n",
       "524  https://www.mayoclinic.org/healthy-lifestyle/r...   \n",
       "\n",
       "                                           ingredients  \\\n",
       "0    1 can (15.5 ounces) artichoke hearts in water,...   \n",
       "1    2 cups artichoke hearts,1 tablespoon black pep...   \n",
       "2    2 cups fresh breadcrumbs, preferably whole-whe...   \n",
       "3    1/2 cup fat-free sour cream,2 teaspoons choppe...   \n",
       "4    1 bulb garlic (about 8 cloves),2 eggplants, sl...   \n",
       "..                                                 ...   \n",
       "520  3 cups butternut squash (approximately 1 1/2 -...   \n",
       "521  2 cups diced onion,1 cup diced celery,1 cup di...   \n",
       "522  1 can (10 ounces) white chunk chicken,2 cans (...   \n",
       "523  1 tablespoon olive oil,Half a white onion, cho...   \n",
       "524  1 can (10.5 ounces) condensed low-sodium, low-...   \n",
       "\n",
       "                                            directions  \\\n",
       "0    In a mixing bowl, combine the ingredients. Tra...   \n",
       "1    Heat oven to 350 degrees.,Mix all ingredients ...   \n",
       "2    Heat the oven to 400 F. In a bowl, combine the...   \n",
       "3    In a small bowl, combine sour cream, onion, ho...   \n",
       "4    Spray cold grill with cooking spray. Heat one ...   \n",
       "..                                                 ...   \n",
       "520  In a Dutch oven, slowly sweat vegetables (squa...   \n",
       "521  In a stockpot over low heat, cook onion, celer...   \n",
       "522  In a large soup pot, add the chicken, beans, t...   \n",
       "523  Put olive oil in stockpot and bring to medium ...   \n",
       "524  In a saucepan, add the soup and milk. Whisk to...   \n",
       "\n",
       "                                        serving_size  \n",
       "0                        Serving size: About 1/2 cup  \n",
       "1                        Serving size: About 1/2 cup  \n",
       "2                        Serving size: 1/4 artichoke  \n",
       "3                              Serving size: 1/4 cup  \n",
       "4    Serving size: Half a pita and 2 tablespoons dip  \n",
       "..                                               ...  \n",
       "520                       Serving size: About 2 cups  \n",
       "521                       Serving size: About 2 cups  \n",
       "522                   Serving size: About 1 1/2 cups  \n",
       "523                   Serving size: About 1 1/2 cups  \n",
       "524                   Serving size: About 1 1/2 cups  \n",
       "\n",
       "[525 rows x 6 columns]"
      ]
     },
     "execution_count": 43,
     "metadata": {},
     "output_type": "execute_result"
    }
   ],
   "source": [
    "recipe"
   ]
  },
  {
   "cell_type": "code",
   "execution_count": 44,
   "metadata": {},
   "outputs": [],
   "source": [
    "dataset_recipes = recipe[['id','recipe_name']]\n"
   ]
  },
  {
   "cell_type": "code",
   "execution_count": 45,
   "metadata": {},
   "outputs": [
    {
     "name": "stderr",
     "output_type": "stream",
     "text": [
      "/var/folders/qb/cr87d2s56q51lk72620820hw0000gn/T/ipykernel_82425/3773327544.py:1: SettingWithCopyWarning: \n",
      "A value is trying to be set on a copy of a slice from a DataFrame.\n",
      "Try using .loc[row_indexer,col_indexer] = value instead\n",
      "\n",
      "See the caveats in the documentation: https://pandas.pydata.org/pandas-docs/stable/user_guide/indexing.html#returning-a-view-versus-a-copy\n",
      "  dataset_recipes['recipe_name'] = dataset_recipes['recipe_name'].map(lambda x : x.lower())\n"
     ]
    }
   ],
   "source": [
    "dataset_recipes['recipe_name'] = dataset_recipes['recipe_name'].map(lambda x : x.lower())\n"
   ]
  },
  {
   "cell_type": "code",
   "execution_count": 46,
   "metadata": {},
   "outputs": [
    {
     "data": {
      "text/html": [
       "<div>\n",
       "<style scoped>\n",
       "    .dataframe tbody tr th:only-of-type {\n",
       "        vertical-align: middle;\n",
       "    }\n",
       "\n",
       "    .dataframe tbody tr th {\n",
       "        vertical-align: top;\n",
       "    }\n",
       "\n",
       "    .dataframe thead th {\n",
       "        text-align: right;\n",
       "    }\n",
       "</style>\n",
       "<table border=\"1\" class=\"dataframe\">\n",
       "  <thead>\n",
       "    <tr style=\"text-align: right;\">\n",
       "      <th></th>\n",
       "      <th>id</th>\n",
       "      <th>recipe_name</th>\n",
       "    </tr>\n",
       "  </thead>\n",
       "  <tbody>\n",
       "    <tr>\n",
       "      <th>0</th>\n",
       "      <td>1</td>\n",
       "      <td>artichoke dip</td>\n",
       "    </tr>\n",
       "    <tr>\n",
       "      <th>1</th>\n",
       "      <td>2</td>\n",
       "      <td>artichoke, spinach and white bean dip</td>\n",
       "    </tr>\n",
       "    <tr>\n",
       "      <th>2</th>\n",
       "      <td>3</td>\n",
       "      <td>artichokes alla romana</td>\n",
       "    </tr>\n",
       "    <tr>\n",
       "      <th>3</th>\n",
       "      <td>4</td>\n",
       "      <td>avocado dip</td>\n",
       "    </tr>\n",
       "    <tr>\n",
       "      <th>4</th>\n",
       "      <td>5</td>\n",
       "      <td>baba ghanoush</td>\n",
       "    </tr>\n",
       "    <tr>\n",
       "      <th>...</th>\n",
       "      <td>...</td>\n",
       "      <td>...</td>\n",
       "    </tr>\n",
       "    <tr>\n",
       "      <th>520</th>\n",
       "      <td>521</td>\n",
       "      <td>vegetable, lentil and garbanzo bean stew</td>\n",
       "    </tr>\n",
       "    <tr>\n",
       "      <th>521</th>\n",
       "      <td>522</td>\n",
       "      <td>vegetarian chili</td>\n",
       "    </tr>\n",
       "    <tr>\n",
       "      <th>522</th>\n",
       "      <td>523</td>\n",
       "      <td>white chicken chili</td>\n",
       "    </tr>\n",
       "    <tr>\n",
       "      <th>523</th>\n",
       "      <td>524</td>\n",
       "      <td>wild rice mushroom soup</td>\n",
       "    </tr>\n",
       "    <tr>\n",
       "      <th>524</th>\n",
       "      <td>525</td>\n",
       "      <td>zesty tomato soup</td>\n",
       "    </tr>\n",
       "  </tbody>\n",
       "</table>\n",
       "<p>525 rows × 2 columns</p>\n",
       "</div>"
      ],
      "text/plain": [
       "      id                               recipe_name\n",
       "0      1                             artichoke dip\n",
       "1      2     artichoke, spinach and white bean dip\n",
       "2      3                    artichokes alla romana\n",
       "3      4                               avocado dip\n",
       "4      5                             baba ghanoush\n",
       "..   ...                                       ...\n",
       "520  521  vegetable, lentil and garbanzo bean stew\n",
       "521  522                          vegetarian chili\n",
       "522  523                       white chicken chili\n",
       "523  524                   wild rice mushroom soup\n",
       "524  525                         zesty tomato soup\n",
       "\n",
       "[525 rows x 2 columns]"
      ]
     },
     "execution_count": 46,
     "metadata": {},
     "output_type": "execute_result"
    }
   ],
   "source": [
    "dataset_recipes"
   ]
  },
  {
   "cell_type": "code",
   "execution_count": 47,
   "metadata": {},
   "outputs": [
    {
     "name": "stderr",
     "output_type": "stream",
     "text": [
      "/var/folders/qb/cr87d2s56q51lk72620820hw0000gn/T/ipykernel_82425/54345361.py:2: SettingWithCopyWarning: \n",
      "A value is trying to be set on a copy of a slice from a DataFrame.\n",
      "Try using .loc[row_indexer,col_indexer] = value instead\n",
      "\n",
      "See the caveats in the documentation: https://pandas.pydata.org/pandas-docs/stable/user_guide/indexing.html#returning-a-view-versus-a-copy\n",
      "  gpt4_recipes_sub['recipe_name'] = gpt4_recipes_sub['recipe_name'].map(lambda x : x.lower())\n"
     ]
    }
   ],
   "source": [
    "gpt4_recipes_sub = df_gpt4_recipe[['id','recipe_name']]\n",
    "gpt4_recipes_sub['recipe_name'] = gpt4_recipes_sub['recipe_name'].map(lambda x : x.lower())\n"
   ]
  },
  {
   "cell_type": "code",
   "execution_count": 48,
   "metadata": {},
   "outputs": [],
   "source": [
    "# Get frittata recipe\n",
    "frittata_recipes = []\n",
    "for index, row in gpt4_recipes_sub.iterrows():\n",
    "    if 'frittata' in row['recipe_name']:\n",
    "        frittata_recipes.append({'id':row['id'],'recipe_name': row['recipe_name']})"
   ]
  },
  {
   "cell_type": "code",
   "execution_count": 49,
   "metadata": {},
   "outputs": [
    {
     "data": {
      "text/plain": [
       "[{'id': '4', 'recipe_name': 'spinach and mushroom frittata'},\n",
       " {'id': '7', 'recipe_name': 'spinach and mushroom egg white frittata'},\n",
       " {'id': '1', 'recipe_name': 'veggie-packed frittata'}]"
      ]
     },
     "execution_count": 49,
     "metadata": {},
     "output_type": "execute_result"
    }
   ],
   "source": [
    "frittata_recipes"
   ]
  },
  {
   "cell_type": "code",
   "execution_count": 50,
   "metadata": {},
   "outputs": [],
   "source": [
    "dataset_frittata_recipes = []\n",
    "for index, row in dataset_recipes.iterrows():\n",
    "    if 'frittata' in row['recipe_name']:\n",
    "        dataset_frittata_recipes.append({'id':row['id'],'recipe_name': row['recipe_name']})"
   ]
  },
  {
   "cell_type": "code",
   "execution_count": 51,
   "metadata": {},
   "outputs": [
    {
     "data": {
      "text/plain": [
       "[{'id': 286, 'recipe_name': 'smoky frittata'},\n",
       " {'id': 290, 'recipe_name': 'southwestern frittata'},\n",
       " {'id': 295, 'recipe_name': 'spinach and mushroom frittata'},\n",
       " {'id': 297, 'recipe_name': 'spinach frittata'}]"
      ]
     },
     "execution_count": 51,
     "metadata": {},
     "output_type": "execute_result"
    }
   ],
   "source": [
    "dataset_frittata_recipes"
   ]
  },
  {
   "cell_type": "code",
   "execution_count": 52,
   "metadata": {},
   "outputs": [],
   "source": [
    "import json\n",
    "import logging\n",
    "import os\n",
    "\n",
    "import openai\n",
    "import wikipedia\n",
    "\n",
    "from typing import Optional\n",
    "from IPython.display import display, Markdown\n",
    "from tenacity import retry, wait_random_exponential, stop_after_attempt\n",
    "\n",
    "logging.basicConfig(level=logging.INFO, format=' %(asctime)s - %(levelname)s - %(message)s')\n",
    "\n",
    "OPENAI_MODEL = 'gpt-3.5-turbo-0613'"
   ]
  },
  {
   "cell_type": "code",
   "execution_count": 53,
   "metadata": {},
   "outputs": [],
   "source": [
    "labels = [\n",
    "    \"person\",      # people, including fictional characters\n",
    "    \"fac\",         # buildings, airports, highways, bridges\n",
    "    \"org\",         # organizations, companies, agencies, institutions\n",
    "    \"gpe\",         # geopolitical entities like countries, cities, states\n",
    "    \"loc\",         # non-gpe locations\n",
    "    \"product\",     # vehicles, foods, appareal, appliances, software, toys \n",
    "    \"event\",       # named sports, scientific milestones, historical events\n",
    "    \"work_of_art\", # titles of books, songs, movies\n",
    "    \"law\",         # named laws, acts, or legislations\n",
    "    \"language\",    # any named language\n",
    "    \"date\",        # absolute or relative dates or periods\n",
    "    \"time\",        # time units smaller than a day\n",
    "    \"percent\",     # percentage (e.g., \"twenty percent\", \"18%\")\n",
    "    \"money\",       # monetary values, including unit\n",
    "    \"quantity\",    # measurements, e.g., weight or distance\n",
    "]"
   ]
  },
  {
   "cell_type": "code",
   "execution_count": 54,
   "metadata": {},
   "outputs": [],
   "source": [
    "def system_message(labels):\n",
    "    return f\"\"\"\n",
    "You are an expert in Natural Language Processing. Your task is to identify common Named Entities (NER) in a given text.\n",
    "The possible common Named Entities (NER) types are exclusively: ({\", \".join(labels)}).\"\"\"\n"
   ]
  },
  {
   "cell_type": "code",
   "execution_count": 55,
   "metadata": {},
   "outputs": [],
   "source": [
    "def assisstant_message():\n",
    "    return f\"\"\"\n",
    "EXAMPLE:\n",
    "    Text: '1 pie crust (store-bought or homemade), 6 cups thinly sliced apples (such as Granny Smith or a combination of tart and sweet apples), 3/4 cup granulated sugar, 2 tbsp all-purpose flour, 1 tsp ground cinnamon, 1/4 tsp ground nutmeg, 1/4 tsp salt, 1 tsp vanilla extract, 1/2 cup unsalted butter (cold and cut into small pieces), 3/4 cup all-purpose flour (for crumb topping), 1/2 cup brown sugar (packed, for crumb topping), 1/4 tsp baking powder (for crumb topping), 1/4 tsp salt (for crumb topping), Optional: Vanilla ice cream or whipped cream for serving'\n",
    "    {{\n",
    "        \"product\": [\"pie crust\",\"apples\", \"granulated sugar\", \"all-purpose flour\", \"ground cinnamon\", \"ground nutmeg\", \"salt\", \"vanilla extract\", \"unsalted water\",\"brown sugar\",\"baking powder\", \"vanilla ice cream\", \"whipped cream\"],\n",
    "    }}\n",
    "--\"\"\""
   ]
  },
  {
   "cell_type": "code",
   "execution_count": 56,
   "metadata": {},
   "outputs": [],
   "source": [
    "def user_message(text):\n",
    "    return f\"\"\"\n",
    "TASK:\n",
    "    Text: {text}\n",
    "\"\"\""
   ]
  },
  {
   "cell_type": "code",
   "execution_count": 57,
   "metadata": {},
   "outputs": [],
   "source": [
    "def recipe_ingredients(text: str, label_entities: dict) -> list:\n",
    "    \"\"\"\n",
    "    Recipe ingredients\n",
    "    \"\"\"\n",
    "    return label_entities['product']"
   ]
  },
  {
   "cell_type": "code",
   "execution_count": 58,
   "metadata": {},
   "outputs": [],
   "source": [
    "def generate_functions(labels: dict) -> list:\n",
    "    return [\n",
    "        {   \n",
    "            \"type\": \"function\",\n",
    "            \"function\": {\n",
    "                \"name\": \"recipe_ingredients\",\n",
    "                \"description\": \"Enrich Text with recipe ingredients\",\n",
    "                \"parameters\": {\n",
    "                    \"type\": \"object\",\n",
    "                        \"properties\": {\n",
    "                            \"r'^(?:' + '|'.join({labels}) + ')$'\": \n",
    "                            {\n",
    "                                \"type\": \"array\",\n",
    "                                \"items\": {\n",
    "                                    \"type\": \"string\"\n",
    "                                }\n",
    "                            }\n",
    "                        },\n",
    "                        \"additionalProperties\": False\n",
    "                },\n",
    "            }\n",
    "        }\n",
    "    ]"
   ]
  },
  {
   "cell_type": "code",
   "execution_count": 59,
   "metadata": {},
   "outputs": [],
   "source": [
    "@retry(wait=wait_random_exponential(min=1, max=10), stop=stop_after_attempt(5))\n",
    "def run_openai_task(labels, text):\n",
    "    messages = [\n",
    "          {\"role\": \"system\", \"content\": system_message(labels=labels)},\n",
    "          {\"role\": \"assistant\", \"content\": assisstant_message()},\n",
    "          {\"role\": \"user\", \"content\": user_message(text=text)}\n",
    "      ]\n",
    "\n",
    "    # TODO: functions and function_call are deprecated, need to be updated\n",
    "    # See: https://platform.openai.com/docs/api-reference/chat/create#chat-create-tools\n",
    "    response = openai.chat.completions.create(\n",
    "        model=\"gpt-3.5-turbo-0613\",\n",
    "        messages=messages,\n",
    "        tools=generate_functions(labels),\n",
    "        tool_choice={\"type\": \"function\", \"function\" : {\"name\": \"recipe_ingredients\"}}, \n",
    "        temperature=0,\n",
    "        frequency_penalty=0,\n",
    "        presence_penalty=0,\n",
    "    )\n",
    "\n",
    "    response_message = response.choices[0].message\n",
    "    \n",
    "    available_functions = {\"recipe_ingredients\": recipe_ingredients}  \n",
    "    function_name = response_message.tool_calls[0].function.name\n",
    "    \n",
    "    function_to_call = available_functions[function_name]\n",
    "    logging.info(f\"function_to_call: {function_to_call}\")\n",
    "\n",
    "    function_args = json.loads(response_message.tool_calls[0].function.arguments)\n",
    "    logging.info(f\"function_args: {function_args}\")\n",
    "\n",
    "    function_response = function_to_call(text, function_args)\n",
    "\n",
    "    return {\"model_response\": response, \n",
    "            \"function_response\": function_response}"
   ]
  },
  {
   "cell_type": "code",
   "execution_count": 60,
   "metadata": {},
   "outputs": [
    {
     "name": "stderr",
     "output_type": "stream",
     "text": [
      " 2024-03-01 14:23:40,745 - INFO - HTTP Request: POST https://api.openai.com/v1/chat/completions \"HTTP/1.1 200 OK\"\n",
      " 2024-03-01 14:23:40,751 - INFO - function_to_call: <function recipe_ingredients at 0x126869bc0>\n",
      " 2024-03-01 14:23:40,751 - INFO - function_args: {'product': ['apples', 'lemon juice', 'white sugar', 'all-purpose flour', 'ground cinnamon', 'ground nutmeg', 'raisins', 'chopped walnuts', 'pie shell', 'packed brown sugar', 'butter']}\n"
     ]
    }
   ],
   "source": [
    "text = \"\"\"6 cups thinly sliced apples, 1 tablespoon lemon juice (Optional), ¾ cup white sugar, 2 tablespoons all-purpose flour, ½ teaspoon ground cinnamon, ⅛ teaspoon ground nutmeg, ½ cup raisins (Optional), ½ cup chopped walnuts (Optional), 1 (9 inch) pie shell, ½ cup all-purpose flour, ½ cup packed brown sugar, 3 tablespoons butter\"\"\"\n",
    "result = run_openai_task(labels, text)"
   ]
  },
  {
   "cell_type": "code",
   "execution_count": 61,
   "metadata": {},
   "outputs": [
    {
     "data": {
      "text/plain": [
       "['apples',\n",
       " 'lemon juice',\n",
       " 'white sugar',\n",
       " 'all-purpose flour',\n",
       " 'ground cinnamon',\n",
       " 'ground nutmeg',\n",
       " 'raisins',\n",
       " 'chopped walnuts',\n",
       " 'pie shell',\n",
       " 'packed brown sugar',\n",
       " 'butter']"
      ]
     },
     "execution_count": 61,
     "metadata": {},
     "output_type": "execute_result"
    }
   ],
   "source": [
    "result['function_response']"
   ]
  },
  {
   "cell_type": "code",
   "execution_count": 62,
   "metadata": {},
   "outputs": [],
   "source": [
    "def word_match_count(arr1, arr2):\n",
    "    # Split each phrase in both arrays into words and flatten the list of lists\n",
    "    words1 = set(word for phrase in arr1 for word in phrase.split())\n",
    "    words2 = set(word for phrase in arr2 for word in phrase.split())\n",
    "    \n",
    "    # Find the intersection of the two sets to get the matching words\n",
    "    matching_words = words1.intersection(words2)\n",
    "    \n",
    "    # Return the matching words and their count\n",
    "    return matching_words, len(matching_words)"
   ]
  },
  {
   "cell_type": "code",
   "execution_count": 66,
   "metadata": {},
   "outputs": [
    {
     "name": "stderr",
     "output_type": "stream",
     "text": [
      " 2024-03-01 14:25:28,088 - INFO - HTTP Request: POST https://api.openai.com/v1/chat/completions \"HTTP/1.1 200 OK\"\n",
      " 2024-03-01 14:25:28,091 - INFO - function_to_call: <function recipe_ingredients at 0x126869bc0>\n",
      " 2024-03-01 14:25:28,092 - INFO - function_args: {'quantity': ['8'], 'product': ['eggs', 'milk', 'baby spinach', 'mushrooms', 'onion', 'salt', 'ground black pepper', 'dried oregano', 'grated Parmesan cheese', 'olive oil']}\n",
      " 2024-03-01 14:25:29,642 - INFO - HTTP Request: POST https://api.openai.com/v1/chat/completions \"HTTP/1.1 200 OK\"\n",
      " 2024-03-01 14:25:29,645 - INFO - function_to_call: <function recipe_ingredients at 0x126869bc0>\n",
      " 2024-03-01 14:25:29,645 - INFO - function_args: {'product': ['cauliflower', 'eggs', 'light sour cream', 'Dijon mustard', 'paprika', 'chives', 'sharp cheddar cheese', 'smoked Gouda cheese', 'salt', 'ground black pepper', 'olive oil']}\n",
      " 2024-03-01 14:25:30,900 - INFO - HTTP Request: POST https://api.openai.com/v1/chat/completions \"HTTP/1.1 200 OK\"\n",
      " 2024-03-01 14:25:30,904 - INFO - function_to_call: <function recipe_ingredients at 0x126869bc0>\n",
      " 2024-03-01 14:25:30,905 - INFO - function_args: {'product': ['green bell pepper', 'red bell pepper', 'mushrooms', 'egg whites', 'salsa', 'cheddar cheese']}\n",
      " 2024-03-01 14:25:32,595 - INFO - HTTP Request: POST https://api.openai.com/v1/chat/completions \"HTTP/1.1 200 OK\"\n",
      " 2024-03-01 14:25:32,598 - INFO - function_to_call: <function recipe_ingredients at 0x126869bc0>\n",
      " 2024-03-01 14:25:32,599 - INFO - function_args: {'quantity': ['3', '1', '1', '1/2', '10-ounce', '1', '1/4'], 'product': ['garlic', 'onion', 'olive oil', 'fresh mushrooms', 'dried thyme', 'fresh spinach', 'water', 'Egg substitute', 'dried dill', 'fresh dill', 'black pepper', 'feta cheese']}\n",
      " 2024-03-01 14:25:33,933 - INFO - HTTP Request: POST https://api.openai.com/v1/chat/completions \"HTTP/1.1 200 OK\"\n",
      " 2024-03-01 14:25:33,935 - INFO - function_to_call: <function recipe_ingredients at 0x126869bc0>\n",
      " 2024-03-01 14:25:33,936 - INFO - function_args: {'product': ['olive oil', 'garlic clove', 'baby spinach leaves', 'whole eggs', 'egg whites', 'black pepper', 'yellow onion', 'red bell pepper', 'potatoes', 'fresh basil', 'mozzarella cheese', 'provolone cheese']}\n",
      " 2024-03-01 14:25:35,057 - INFO - HTTP Request: POST https://api.openai.com/v1/chat/completions \"HTTP/1.1 200 OK\"\n",
      " 2024-03-01 14:25:35,060 - INFO - function_to_call: <function recipe_ingredients at 0x126869bc0>\n",
      " 2024-03-01 14:25:35,060 - INFO - function_args: {'product': ['spinach', 'mushrooms', 'onions', 'olive oil', 'egg whites', 'low-fat milk', 'salt', 'black pepper', 'feta cheese', 'fresh herbs']}\n",
      " 2024-03-01 14:25:36,381 - INFO - HTTP Request: POST https://api.openai.com/v1/chat/completions \"HTTP/1.1 200 OK\"\n",
      " 2024-03-01 14:25:36,384 - INFO - function_to_call: <function recipe_ingredients at 0x126869bc0>\n",
      " 2024-03-01 14:25:36,385 - INFO - function_args: {'product': ['cauliflower', 'eggs', 'light sour cream', 'Dijon mustard', 'paprika', 'chives', 'sharp cheddar cheese', 'smoked Gouda cheese', 'salt', 'ground black pepper', 'olive oil']}\n",
      " 2024-03-01 14:25:40,734 - INFO - HTTP Request: POST https://api.openai.com/v1/chat/completions \"HTTP/1.1 200 OK\"\n",
      " 2024-03-01 14:25:40,737 - INFO - function_to_call: <function recipe_ingredients at 0x126869bc0>\n",
      " 2024-03-01 14:25:40,737 - INFO - function_args: {'product': ['green bell pepper', 'red bell pepper', 'mushrooms', 'egg whites', 'salsa', 'cheddar cheese']}\n",
      " 2024-03-01 14:25:42,603 - INFO - HTTP Request: POST https://api.openai.com/v1/chat/completions \"HTTP/1.1 200 OK\"\n",
      " 2024-03-01 14:25:42,607 - INFO - function_to_call: <function recipe_ingredients at 0x126869bc0>\n",
      " 2024-03-01 14:25:42,607 - INFO - function_args: {'quantity': ['3', '1', '1', '1/2', '10-ounce', '1', '1/4'], 'product': ['garlic', 'onion', 'olive oil', 'fresh mushrooms', 'dried thyme', 'fresh spinach', 'water', 'Egg substitute', 'dried dill', 'fresh dill', 'black pepper', 'feta cheese']}\n",
      " 2024-03-01 14:25:44,168 - INFO - HTTP Request: POST https://api.openai.com/v1/chat/completions \"HTTP/1.1 200 OK\"\n",
      " 2024-03-01 14:25:44,172 - INFO - function_to_call: <function recipe_ingredients at 0x126869bc0>\n",
      " 2024-03-01 14:25:44,173 - INFO - function_args: {'product': ['olive oil', 'garlic clove', 'baby spinach leaves', 'whole eggs', 'egg whites', 'black pepper', 'yellow onion', 'red bell pepper', 'potatoes', 'fresh basil', 'mozzarella cheese', 'provolone cheese']}\n",
      " 2024-03-01 14:25:45,710 - INFO - HTTP Request: POST https://api.openai.com/v1/chat/completions \"HTTP/1.1 200 OK\"\n",
      " 2024-03-01 14:25:45,713 - INFO - function_to_call: <function recipe_ingredients at 0x126869bc0>\n",
      " 2024-03-01 14:25:45,713 - INFO - function_args: {'quantity': ['6'], 'product': ['eggs', 'skim milk', 'bell peppers', 'onions', 'chopped spinach', 'chopped mushrooms', 'crumbled feta cheese', 'salt', 'ground black pepper', 'olive oil']}\n",
      " 2024-03-01 14:25:47,033 - INFO - HTTP Request: POST https://api.openai.com/v1/chat/completions \"HTTP/1.1 200 OK\"\n",
      " 2024-03-01 14:25:47,036 - INFO - function_to_call: <function recipe_ingredients at 0x126869bc0>\n",
      " 2024-03-01 14:25:47,037 - INFO - function_args: {'product': ['cauliflower', 'eggs', 'light sour cream', 'Dijon mustard', 'paprika', 'chives', 'sharp cheddar cheese', 'smoked Gouda cheese', 'salt', 'ground black pepper', 'olive oil']}\n",
      " 2024-03-01 14:25:48,263 - INFO - HTTP Request: POST https://api.openai.com/v1/chat/completions \"HTTP/1.1 200 OK\"\n",
      " 2024-03-01 14:25:48,266 - INFO - function_to_call: <function recipe_ingredients at 0x126869bc0>\n",
      " 2024-03-01 14:25:48,267 - INFO - function_args: {'product': ['green bell pepper', 'red bell pepper', 'mushrooms', 'egg whites', 'salsa', 'cheddar cheese']}\n",
      " 2024-03-01 14:25:49,768 - INFO - HTTP Request: POST https://api.openai.com/v1/chat/completions \"HTTP/1.1 200 OK\"\n",
      " 2024-03-01 14:25:49,772 - INFO - function_to_call: <function recipe_ingredients at 0x126869bc0>\n",
      " 2024-03-01 14:25:49,772 - INFO - function_args: {'quantity': ['3', '1', '1', '1/2', '10-ounce', '1', '1/4'], 'product': ['garlic', 'onion', 'olive oil', 'fresh mushrooms', 'dried thyme', 'fresh spinach', 'water', 'Egg substitute', 'dried dill', 'fresh dill', 'black pepper', 'feta cheese']}\n",
      " 2024-03-01 14:25:51,233 - INFO - HTTP Request: POST https://api.openai.com/v1/chat/completions \"HTTP/1.1 200 OK\"\n",
      " 2024-03-01 14:25:51,237 - INFO - function_to_call: <function recipe_ingredients at 0x126869bc0>\n",
      " 2024-03-01 14:25:51,237 - INFO - function_args: {'product': ['olive oil', 'garlic clove', 'baby spinach leaves', 'whole eggs', 'egg whites', 'black pepper', 'yellow onion', 'red bell pepper', 'potatoes', 'fresh basil', 'mozzarella cheese', 'provolone cheese']}\n"
     ]
    }
   ],
   "source": [
    "recipe_authenticity_result = []\n",
    "for item1 in frittata_recipes:\n",
    "    item_recipe = {'id': item1['id'], 'recipe_name':item1['recipe_name'], 'matched_recipes':[]}\n",
    "    ingredients1 = str(df_gpt4_recipe[df_gpt4_recipe['id'] == str(item1['id'])]['ingredients'].values[0])\n",
    "    result1 = run_openai_task(labels, ingredients1)\n",
    "    ingredients1_arr = result1['function_response']\n",
    "    item_recipe['ingredients'] = ingredients1\n",
    "    item_recipe['ingredients_ner'] = ingredients1_arr\n",
    "    for item2 in dataset_frittata_recipes:\n",
    "        ingredients2 = str(recipe[recipe['id'] == item2['id']]['ingredients'].values[0])\n",
    "        result2 = run_openai_task(labels, ingredients2)\n",
    "        ingredients2_arr = result2['function_response'] \n",
    "        matched_words,matched_count = word_match_count(ingredients1_arr, ingredients2_arr)\n",
    "        matched_percentage = (matched_count/len(ingredients2_arr))*100\n",
    "        item_recipe['matched_recipes'].append({'id':item2['id'], 'recipe_name':item2['recipe_name'],'ingredients':ingredients2,'ingredients_ner':ingredients2_arr, 'matched_percentage':matched_percentage, 'matched_words':matched_words})        \n",
    "    recipe_authenticity_result.append(item_recipe)"
   ]
  },
  {
   "cell_type": "code",
   "execution_count": 67,
   "metadata": {},
   "outputs": [],
   "source": [
    "class MatchedRecipe(BaseModel):\n",
    "    id: str\n",
    "    recipe_name: str\n",
    "    ingredients: str\n",
    "    ingredients_ner: list = []\n",
    "    matched_percentage: float\n",
    "    matched_words: set = []\n",
    "\n",
    "class RecipeAuthenticity(BaseModel):\n",
    "    id: str\n",
    "    recipe_name: str\n",
    "    ingredients: str\n",
    "    ingredients_ner: list = []\n",
    "    matched_recipes:List[MatchedRecipe] = []\n",
    "\n",
    "class RecipiesAuthenticity(BaseModel):\n",
    "    recpies_authenticity: List[RecipeAuthenticity] = []"
   ]
  },
  {
   "cell_type": "code",
   "execution_count": 69,
   "metadata": {},
   "outputs": [],
   "source": [
    "recpies = RecipiesAuthenticity()\n",
    "for item in recipe_authenticity_result:\n",
    "    recipe_authenticity = RecipeAuthenticity(id=item['id'], \n",
    "                                            recipe_name=item['recipe_name'],\n",
    "                                            ingredients= item['ingredients'],\n",
    "                                            ingredients_ner = item['ingredients_ner'])\n",
    "    for item_matched in item['matched_recipes']:\n",
    "        recipe_authenticity.matched_recipes.append(MatchedRecipe(id=str(item_matched['id']), \n",
    "                                            recipe_name=item_matched['recipe_name'],\n",
    "                                            ingredients= item_matched['ingredients'],\n",
    "                                            ingredients_ner = item_matched['ingredients_ner'],\n",
    "                                            matched_percentage=item_matched['matched_percentage'],\n",
    "                                            matched_words= item_matched['matched_words']))\n",
    "    recpies.recpies_authenticity.append(recipe_authenticity)"
   ]
  },
  {
   "cell_type": "code",
   "execution_count": 70,
   "metadata": {},
   "outputs": [],
   "source": [
    "import json\n",
    "with open('../data/scrapped_recipes/frittata_recipes.json', 'w') as f:\n",
    "    json.dump(recpies.model_dump(mode='json'), f, indent=4, ensure_ascii=False)"
   ]
  },
  {
   "cell_type": "code",
   "execution_count": null,
   "metadata": {},
   "outputs": [],
   "source": []
  }
 ],
 "metadata": {
  "kernelspec": {
   "display_name": ".venv",
   "language": "python",
   "name": "python3"
  },
  "language_info": {
   "codemirror_mode": {
    "name": "ipython",
    "version": 3
   },
   "file_extension": ".py",
   "mimetype": "text/x-python",
   "name": "python",
   "nbconvert_exporter": "python",
   "pygments_lexer": "ipython3",
   "version": "3.11.3"
  }
 },
 "nbformat": 4,
 "nbformat_minor": 2
}
