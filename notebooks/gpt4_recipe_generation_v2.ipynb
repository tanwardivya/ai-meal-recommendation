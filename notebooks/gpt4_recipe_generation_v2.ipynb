{
 "cells": [
  {
   "cell_type": "code",
   "execution_count": 1,
   "metadata": {},
   "outputs": [
    {
     "data": {
      "text/plain": [
       "True"
      ]
     },
     "execution_count": 1,
     "metadata": {},
     "output_type": "execute_result"
    }
   ],
   "source": [
    "from dotenv import load_dotenv\n",
    "load_dotenv('../.vscode/.env')"
   ]
  },
  {
   "cell_type": "code",
   "execution_count": 129,
   "metadata": {},
   "outputs": [],
   "source": [
    "recipe_name = 'Classic Apple Pie'\n",
    "ingredients = '''\n",
    "- quinoa: 1 cup\n",
    "- water: 2 cups\n",
    "- black beans (rinsed and drained): 1 can (15 ounces)\n",
    "- red bell pepper (diced): 1\n",
    "- fresh cilantro (chopped): 1/4 cup\n",
    "- lime juice: 1/4 cup\n",
    "- olive oil: 2 tablespoons\n",
    "- ground cumin: 1 teaspoon\n",
    "- salt: 1/2 teaspoon\n",
    "- black pepper: 1/4 teaspoon\n",
    "- avocado (diced, optional): 1\n",
    "- cherry tomatoes (halved, optional): 1/2 cup\n",
    "'''\n",
    "directions= '''\n",
    "1. Cook Quinoa: Rinse the quinoa under cold water. In a medium saucepan, bring 2 cups of water to a boil. Add quinoa, reduce heat to low, cover, and simmer for about 15 minutes, or until quinoa is tender and water is absorbed. Remove from heat and let it cool.\n",
    "2. Combine Ingredients: In a large bowl, combine the cooled quinoa, black beans, red bell pepper, and cilantro.\n",
    "3. Make Dressing: In a small bowl, whisk together lime juice, olive oil, cumin, salt, and black pepper.\n",
    "4. Mix Salad: Pour the dressing over the quinoa mixture and stir until well combined. If using, gently fold in the avocado and cherry tomatoes.\n",
    "5. Chill and Serve: Refrigerate the salad for at least 30 minutes before serving. This allows the flavors to meld together.\n",
    "'''\n",
    "\n",
    "nutrients='''Total Carbohydrate: 50g, Dietary Fiber: 15g, Sodium: 300mg, Saturated Fat: 2g, Total Fat: 17g, Protein: 12g, Added Sugars: 0g, Total Sugars: 5g'''\n",
    "total_calorie_estimation='''\n",
    "- Total Calories for entire recipe : Approximately 1561 calories for the entire recipe. \n",
    "- Calories for each ingredient:\n",
    "    Quinoa: 712 calories for 1 cup cooked (from 185g of dry quinoa)\n",
    "    Black Beans: 227 calories per can\n",
    "    Red Bell Pepper: 37 calories\n",
    "    Cilantro: Negligible\n",
    "    Lime Juice: 8 calories per 1/4 cup\n",
    "    Olive Oil: 239 calories per 2 tablespoons\n",
    "    Cumin, Salt, Black Pepper: Negligible\n",
    "    Avocado: 322 calories\n",
    "    Cherry Tomatoes: 16 calories per 1/2 cup\n",
    "- Serving People: 4 \n",
    "'''"
   ]
  },
  {
   "cell_type": "code",
   "execution_count": 130,
   "metadata": {},
   "outputs": [],
   "source": [
    "ASSISTANT_INSTRUCTION = f'''\n",
    "You are helpful diabetic-friendly recipe assistant who give different recipe each time when user ask. Recipe can be for vegetarian, vegan, and non-vegeterian diets.You generate diabetic friendly recipe in below format:\n",
    "<recipe>\n",
    "    <recipe_name> {recipe_name} </recipe_name>\n",
    "    <ingredients> {ingredients} </ingredients>\n",
    "    <directions> {directions} </directions>\n",
    "    <nutrition> {nutrients} </nutrition> \n",
    "    <total_calories_estimation>{total_calorie_estimation}</total_calories_estimation>\n",
    "</recipe>\n",
    "Always use above format to give recipe. Give total calories for recipe and refer USDA Food API for calories.\n",
    "'''"
   ]
  },
  {
   "cell_type": "code",
   "execution_count": 131,
   "metadata": {},
   "outputs": [
    {
     "name": "stdout",
     "output_type": "stream",
     "text": [
      "\n",
      "You are helpful diabetic-friendly recipe assistant who give different recipe each time when user ask. Recipe can be for vegetarian, vegan, and non-vegeterian diets.You generate diabetic friendly recipe in below format:\n",
      "<recipe>\n",
      "    <recipe_name> Classic Apple Pie </recipe_name>\n",
      "    <ingredients> \n",
      "- quinoa: 1 cup\n",
      "- water: 2 cups\n",
      "- black beans (rinsed and drained): 1 can (15 ounces)\n",
      "- red bell pepper (diced): 1\n",
      "- fresh cilantro (chopped): 1/4 cup\n",
      "- lime juice: 1/4 cup\n",
      "- olive oil: 2 tablespoons\n",
      "- ground cumin: 1 teaspoon\n",
      "- salt: 1/2 teaspoon\n",
      "- black pepper: 1/4 teaspoon\n",
      "- avocado (diced, optional): 1\n",
      "- cherry tomatoes (halved, optional): 1/2 cup\n",
      " </ingredients>\n",
      "    <directions> \n",
      "1. Cook Quinoa: Rinse the quinoa under cold water. In a medium saucepan, bring 2 cups of water to a boil. Add quinoa, reduce heat to low, cover, and simmer for about 15 minutes, or until quinoa is tender and water is absorbed. Remove from heat and let it cool.\n",
      "2. Combine Ingredients: In a large bowl, combine the cooled quinoa, black beans, red bell pepper, and cilantro.\n",
      "3. Make Dressing: In a small bowl, whisk together lime juice, olive oil, cumin, salt, and black pepper.\n",
      "4. Mix Salad: Pour the dressing over the quinoa mixture and stir until well combined. If using, gently fold in the avocado and cherry tomatoes.\n",
      "5. Chill and Serve: Refrigerate the salad for at least 30 minutes before serving. This allows the flavors to meld together.\n",
      " </directions>\n",
      "    <nutrition> Total Carbohydrate: 50g, Dietary Fiber: 15g, Sodium: 300mg, Saturated Fat: 2g, Total Fat: 17g, Protein: 12g, Added Sugars: 0g, Total Sugars: 5g </nutrition> \n",
      "    <total_calories_estimation>\n",
      "- Total Calories for entire recipe : Approximately 1561 calories for the entire recipe. \n",
      "- Calories for each ingredient:\n",
      "    Quinoa: 712 calories for 1 cup cooked (from 185g of dry quinoa)\n",
      "    Black Beans: 227 calories per can\n",
      "    Red Bell Pepper: 37 calories\n",
      "    Cilantro: Negligible\n",
      "    Lime Juice: 8 calories per 1/4 cup\n",
      "    Olive Oil: 239 calories per 2 tablespoons\n",
      "    Cumin, Salt, Black Pepper: Negligible\n",
      "    Avocado: 322 calories\n",
      "    Cherry Tomatoes: 16 calories per 1/2 cup\n",
      "- Serving People: 4 \n",
      "</total_calories_estimation>\n",
      "</recipe>\n",
      "Always use above format to give recipe. Give total calories for recipe and refer USDA Food API for calories.\n",
      "\n"
     ]
    }
   ],
   "source": [
    "print(ASSISTANT_INSTRUCTION)"
   ]
  },
  {
   "cell_type": "code",
   "execution_count": 132,
   "metadata": {},
   "outputs": [],
   "source": [
    "ASSISTANT_NAME = 'Recipe Assistant'"
   ]
  },
  {
   "cell_type": "code",
   "execution_count": 133,
   "metadata": {},
   "outputs": [],
   "source": [
    "from openai import OpenAI\n",
    "import os"
   ]
  },
  {
   "cell_type": "code",
   "execution_count": 134,
   "metadata": {},
   "outputs": [],
   "source": [
    "import json\n",
    "\n",
    "def show_json(obj):\n",
    "    display(json.loads(obj.model_dump_json()))"
   ]
  },
  {
   "cell_type": "code",
   "execution_count": 135,
   "metadata": {},
   "outputs": [
    {
     "data": {
      "text/plain": [
       "{'id': 'asst_D7EdOlnOfpsk6qH3FcaWpQj6',\n",
       " 'created_at': 1712633791,\n",
       " 'description': None,\n",
       " 'file_ids': [],\n",
       " 'instructions': '\\nYou are helpful diabetic-friendly recipe assistant who give different recipe each time when user ask. Recipe can be for vegetarian, vegan, and non-vegeterian diets.You generate diabetic friendly recipe in below format:\\n<recipe>\\n    <recipe_name> Classic Apple Pie </recipe_name>\\n    <ingredients> \\n- quinoa: 1 cup\\n- water: 2 cups\\n- black beans (rinsed and drained): 1 can (15 ounces)\\n- red bell pepper (diced): 1\\n- fresh cilantro (chopped): 1/4 cup\\n- lime juice: 1/4 cup\\n- olive oil: 2 tablespoons\\n- ground cumin: 1 teaspoon\\n- salt: 1/2 teaspoon\\n- black pepper: 1/4 teaspoon\\n- avocado (diced, optional): 1\\n- cherry tomatoes (halved, optional): 1/2 cup\\n </ingredients>\\n    <directions> \\n1. Cook Quinoa: Rinse the quinoa under cold water. In a medium saucepan, bring 2 cups of water to a boil. Add quinoa, reduce heat to low, cover, and simmer for about 15 minutes, or until quinoa is tender and water is absorbed. Remove from heat and let it cool.\\n2. Combine Ingredients: In a large bowl, combine the cooled quinoa, black beans, red bell pepper, and cilantro.\\n3. Make Dressing: In a small bowl, whisk together lime juice, olive oil, cumin, salt, and black pepper.\\n4. Mix Salad: Pour the dressing over the quinoa mixture and stir until well combined. If using, gently fold in the avocado and cherry tomatoes.\\n5. Chill and Serve: Refrigerate the salad for at least 30 minutes before serving. This allows the flavors to meld together.\\n </directions>\\n    <nutrition> Total Carbohydrate: 50g, Dietary Fiber: 15g, Sodium: 300mg, Saturated Fat: 2g, Total Fat: 17g, Protein: 12g, Added Sugars: 0g, Total Sugars: 5g </nutrition> \\n    <total_calories_estimation>\\n- Total Calories for entire recipe : Approximately 1561 calories for the entire recipe. \\n- Calories for each ingredient:\\n    Quinoa: 712 calories for 1 cup cooked (from 185g of dry quinoa)\\n    Black Beans: 227 calories per can\\n    Red Bell Pepper: 37 calories\\n    Cilantro: Negligible\\n    Lime Juice: 8 calories per 1/4 cup\\n    Olive Oil: 239 calories per 2 tablespoons\\n    Cumin, Salt, Black Pepper: Negligible\\n    Avocado: 322 calories\\n    Cherry Tomatoes: 16 calories per 1/2 cup\\n- Serving People: 4 \\n</total_calories_estimation>\\n</recipe>\\nAlways use above format to give recipe. Give total calories for recipe and refer USDA Food API for calories.\\n',\n",
       " 'metadata': {},\n",
       " 'model': 'gpt-4-1106-preview',\n",
       " 'name': 'Recipe Assistant',\n",
       " 'object': 'assistant',\n",
       " 'tools': []}"
      ]
     },
     "metadata": {},
     "output_type": "display_data"
    }
   ],
   "source": [
    "client = OpenAI(api_key=os.environ.get(\"OPENAI_API_KEY\", \"\"))\n",
    "\n",
    "\n",
    "assistant = client.beta.assistants.create(\n",
    "    name=ASSISTANT_NAME,\n",
    "    instructions=ASSISTANT_INSTRUCTION,\n",
    "    model=\"gpt-4-1106-preview\",\n",
    ")\n",
    "show_json(assistant)"
   ]
  },
  {
   "cell_type": "code",
   "execution_count": 136,
   "metadata": {},
   "outputs": [],
   "source": [
    "ASSISTANT_ID='asst_D7EdOlnOfpsk6qH3FcaWpQj6'"
   ]
  },
  {
   "cell_type": "code",
   "execution_count": 137,
   "metadata": {},
   "outputs": [],
   "source": [
    "from bs4 import BeautifulSoup\n",
    "client = OpenAI(api_key=os.environ.get(\"OPENAI_API_KEY\", \"\"))\n",
    "\n",
    "def submit_message(assistant_id, thread, user_message):\n",
    "    client.beta.threads.messages.create(\n",
    "        thread_id=thread.id, role=\"user\", content=user_message\n",
    "    )\n",
    "    return client.beta.threads.runs.create(\n",
    "        thread_id=thread.id,\n",
    "        assistant_id=assistant_id,\n",
    "    )\n",
    "\n",
    "\n",
    "def get_response(thread):\n",
    "    messages = client.beta.threads.messages.list(thread_id=thread.id)\n",
    "    for m in messages:\n",
    "        if m.role == 'assistant':\n",
    "            return m.content[0].text.value\n",
    "# Write recipe in xml format using Beautiful soup\n",
    "def write_recipe(id: str, recipe_content:str):\n",
    "    soup = BeautifulSoup(recipe_content, \"xml\")\n",
    "    with open(f'../data/generated_recipe_v2/{id}.xml', 'w') as f:\n",
    "        f.write(soup.prettify())\n",
    "\n",
    "def create_thread_and_run(assistant_id: str, user_input:str):\n",
    "    thread = client.beta.threads.create()\n",
    "    run = submit_message(assistant_id, thread, user_input)\n",
    "    return thread, run"
   ]
  },
  {
   "cell_type": "code",
   "execution_count": 138,
   "metadata": {},
   "outputs": [],
   "source": [
    "import time\n",
    "\n",
    "def wait_on_run(run, thread):\n",
    "    while run.status == \"queued\" or run.status == \"in_progress\":\n",
    "        run = client.beta.threads.runs.retrieve(\n",
    "            thread_id=thread.id,\n",
    "            run_id=run.id,\n",
    "        )\n",
    "        time.sleep(0.5)\n",
    "    return run"
   ]
  },
  {
   "cell_type": "code",
   "execution_count": 142,
   "metadata": {},
   "outputs": [],
   "source": [
    "prompts = [\n",
    "    \"Can you share a diabetic-friendly recipe for a hearty morning meal that's both satisfying and nutritious?\",\n",
    "    \"I'm looking for a diabetic-friendly lunch option that's easy to prepare and delicious. Any suggestions?\",\n",
    "    \"What's a diabetic-friendly recipe for dinner that's full of flavor and incorporates plenty of vegetables and lean proteins?\",\n",
    "    \"Do you have a diabetic-friendly recipe for a quick and energizing breakfast that doesn't spike blood sugar levels?\",\n",
    "    \"I'm in need of a diabetic-friendly lunch recipe that's suitable for meal prep and can be enjoyed on-the-go. Any recommendations?\",\n",
    "    \"Could you recommend a diabetic-friendly dinner recipe that's perfect for entertaining guests, yet won't compromise on taste or healthiness?\",\n",
    "    \"I'm searching for a diabetic-friendly breakfast recipe that's warm and comforting, ideal for those chilly mornings. Any ideas?\",\n",
    "    \"What's a diabetic-friendly recipe for a light yet filling lunch option that's perfect for busy weekdays?\",\n",
    "    \"Can you suggest a diabetic-friendly recipe for dinner that's family-friendly and can be customized to suit different taste preferences?\",\n",
    "    \"Do you have a diabetic-friendly breakfast recipe that's suitable for someone with a sweet tooth but won't cause a sugar spike?\",\n",
    "    \"Could you provide a recipe for a diabetic-friendly comfort dinner that's both warming and balanced?\",\n",
    "    \"Can you suggest a diabetic-friendly snack that's perfect for on-the-go and packed with energy?\",\n",
    "    \"Could you create a diabetic-friendly dessert recipe that satisfies sweet cravings without spiking blood sugar?\",\n",
    "    \"Can you recommend a diabetic-friendly smoothie recipe that incorporates green vegetables for a nutrient boost?\",\n",
    "    \"Could you devise a diabetic-friendly lunch recipe that's easy to pack for work and keeps well?\",\n",
    "    \"Can you outline a diabetic-friendly appetizer that's ideal for entertaining and sure to impress guests?\",\n",
    "    \"Could you suggest a diabetic-friendly soup recipe that's both comforting and full of flavor?\",\n",
    "    \"Can you provide a recipe for a diabetic-friendly salad dressing that elevates any vegetable dish?\",\n",
    "    \"Could you recommend a diabetic-friendly pasta alternative dish that's satisfying and low in carbohydrates?\",\n",
    "    \"Can you share a diabetic-friendly recipe for a refreshing summer beverage that's hydrating and flavorful?\"\n",
    "]"
   ]
  },
  {
   "cell_type": "code",
   "execution_count": 144,
   "metadata": {},
   "outputs": [
    {
     "data": {
      "text/plain": [
       "20"
      ]
     },
     "execution_count": 144,
     "metadata": {},
     "output_type": "execute_result"
    }
   ],
   "source": [
    "len(prompts)"
   ]
  },
  {
   "cell_type": "code",
   "execution_count": 169,
   "metadata": {},
   "outputs": [
    {
     "name": "stdout",
     "output_type": "stream",
     "text": [
      "Generated recipe for id:19\n"
     ]
    }
   ],
   "source": [
    "for i in range(19,20):\n",
    "    thread, run = create_thread_and_run(assistant_id= ASSISTANT_ID, user_input=prompts[i-1])\n",
    "    run = wait_on_run(thread=thread, run = run)\n",
    "    recipe_content = get_response(thread=thread)\n",
    "    write_recipe(id=str(i), recipe_content=recipe_content)\n",
    "    recipe_id = str(i)\n",
    "    print(f'Generated recipe for id:{recipe_id}')"
   ]
  },
  {
   "cell_type": "code",
   "execution_count": 23,
   "metadata": {},
   "outputs": [],
   "source": [
    "import re\n",
    "\n",
    "# Function to extract nutritional values\n",
    "def extract_nutrition_values(text):\n",
    "    # Dictionary to hold the extracted values\n",
    "    nutrition_values = {}\n",
    "\n",
    "    # Regular expressions for extracting fat, carbohydrate, and protein\n",
    "    patterns = {\n",
    "        'fat': r\"Total Fat: (?:Approx. )?(?:Approximate )?(\\d+\\.?\\d*g)\",\n",
    "        'carbohydrate': r\"Total Carbohydrate: (?:Approx. )?(?:Approximate )?(\\d+\\.?\\d*g)\",\n",
    "        'protein': r\"Protein: (?:Approx. )?(?:Approximate )?(\\d+\\.?\\d*g)\",\n",
    "    }\n",
    "\n",
    "    # Loop through the patterns and search in the text\n",
    "    for key, pattern in patterns.items():\n",
    "        match = re.search(pattern, text, re.IGNORECASE)\n",
    "        if match:\n",
    "            # If a match is found, add it to the dictionary\n",
    "            nutrition_values[key] = match.group(1)\n",
    "        else:\n",
    "            # If no match is found, set the value to None\n",
    "            nutrition_values[key] = None\n",
    "\n",
    "    return nutrition_values"
   ]
  },
  {
   "cell_type": "code",
   "execution_count": 24,
   "metadata": {},
   "outputs": [
    {
     "data": {
      "text/plain": [
       "{'fat': '20g', 'carbohydrate': '12g', 'protein': '7g'}"
      ]
     },
     "execution_count": 24,
     "metadata": {},
     "output_type": "execute_result"
    }
   ],
   "source": [
    "extract_nutrition_values('  Total Carbohydrate: Approximate 12g, Dietary Fiber: 3g, Sodium: 200mg, Saturated Fat: 3g, Total Fat: 20g, Protein: 7g, Added Sugars: 0g, Total Sugars: 6g')"
   ]
  },
  {
   "cell_type": "code",
   "execution_count": 25,
   "metadata": {},
   "outputs": [],
   "source": [
    "import glob\n",
    "from bs4 import  BeautifulSoup\n",
    "file_paths = glob.glob(pathname='../data/generated_recipe_v2/*.xml')"
   ]
  },
  {
   "cell_type": "code",
   "execution_count": 26,
   "metadata": {},
   "outputs": [],
   "source": [
    "with open(file_paths[0], 'r') as f:\n",
    "    file = f.read() \n",
    "\n",
    "# 'xml' is the parser used. For html files, which BeautifulSoup is typically used for, it would be 'html.parser'.\n",
    "soup = BeautifulSoup(file, 'xml')"
   ]
  },
  {
   "cell_type": "code",
   "execution_count": 27,
   "metadata": {},
   "outputs": [
    {
     "data": {
      "text/plain": [
       "<total_calories_estimation>\n",
       "  - Total Calories for entire recipe : Approximately 1194 calories for the entire recipe. \n",
       "- Calories for each ingredient:\n",
       "    Chickpeas: 728 calories for 2 cups\n",
       "    Cucumber: 16 calories for 1 medium\n",
       "    Cherry Tomatoes: 32 calories per cup\n",
       "    Red Onion: 15 calories per 1/4 cup\n",
       "    Kalamata Olives: 45 calories per 1/4 cup\n",
       "    Feta Cheese: 198 calories per 1/2 cup (if used)\n",
       "    Extra-Virgin Olive Oil: 358 calories per 3 tablespoons\n",
       "    Lemon Juice: 8 calories per 2 tablespoons\n",
       "    Parsley: Negligible\n",
       "    Dried Oregano, Salt, Black Pepper: Negligible\n",
       "- Serving People: 4\n",
       " </total_calories_estimation>"
      ]
     },
     "execution_count": 27,
     "metadata": {},
     "output_type": "execute_result"
    }
   ],
   "source": [
    "soup.find('total_calories_estimation')"
   ]
  },
  {
   "cell_type": "code",
   "execution_count": 28,
   "metadata": {},
   "outputs": [
    {
     "name": "stdout",
     "output_type": "stream",
     "text": [
      "<?xml version=\"1.0\" encoding=\"utf-8\"?>\n",
      "<recipe>\n",
      " <recipe_name>\n",
      "  Mediterranean Chickpea Salad\n",
      " </recipe_name>\n",
      " <ingredients>\n",
      "  - chickpeas (cooked or canned): 2 cups\n",
      "- cucumber (diced): 1 medium\n",
      "- cherry tomatoes (halved): 1 cup\n",
      "- red onion (finely chopped): 1/4 cup\n",
      "- Kalamata olives (pitted and sliced): 1/4 cup\n",
      "- feta cheese (crumbled, optional): 1/2 cup\n",
      "- extra-virgin olive oil: 3 tablespoons\n",
      "- lemon juice: 2 tablespoons\n",
      "- fresh parsley (chopped): 1/4 cup\n",
      "- dried oregano: 1 teaspoon\n",
      "- salt: 1/4 teaspoon\n",
      "- black pepper: 1/8 teaspoon\n",
      " </ingredients>\n",
      " <directions>\n",
      "  1. Prepare Vegetables: Dice the cucumber, halve the cherry tomatoes, finely chop the red onion, slice the Kalamata olives, and chop the fresh parsley.\n",
      "2. Combine Salad: In a large bowl, mix together chickpeas, diced cucumber, halved cherry tomatoes, chopped red onion, sliced Kalamata olives, and crumbled feta cheese if using.\n",
      "3. Make Dressing: In a small bowl, whisk together extra-virgin olive oil, lemon juice, chopped fresh parsley, dried oregano, salt, and black pepper until well combined.\n",
      "4. Toss Salad: Pour the dressing over the chickpea mixture and toss until everything is evenly coated.\n",
      "5. Marinate: Let the salad sit in the refrigerator for at least 10 minutes to allow the flavors to come together.\n",
      "6. Pack and Go: Divide the salad into lunch containers making it a perfect meal to take to work. This salad keeps well and can be eaten chilled or at room temperature.\n",
      " </directions>\n",
      " <nutrition>\n",
      "  Total Carbohydrate: 35g, Dietary Fiber: 10g, Sodium: 400mg, Saturated Fat: 3g, Total Fat: 17g, Protein: 9g, Added Sugars: 0g, Total Sugars: 6g\n",
      " </nutrition>\n",
      " <total_calories_estimation>\n",
      "  - Total Calories for entire recipe : Approximately 1194 calories for the entire recipe. \n",
      "- Calories for each ingredient:\n",
      "    Chickpeas: 728 calories for 2 cups\n",
      "    Cucumber: 16 calories for 1 medium\n",
      "    Cherry Tomatoes: 32 calories per cup\n",
      "    Red Onion: 15 calories per 1/4 cup\n",
      "    Kalamata Olives: 45 calories per 1/4 cup\n",
      "    Feta Cheese: 198 calories per 1/2 cup (if used)\n",
      "    Extra-Virgin Olive Oil: 358 calories per 3 tablespoons\n",
      "    Lemon Juice: 8 calories per 2 tablespoons\n",
      "    Parsley: Negligible\n",
      "    Dried Oregano, Salt, Black Pepper: Negligible\n",
      "- Serving People: 4\n",
      " </total_calories_estimation>\n",
      "</recipe>\n",
      "\n"
     ]
    }
   ],
   "source": [
    "print(soup.prettify())"
   ]
  },
  {
   "cell_type": "code",
   "execution_count": 29,
   "metadata": {},
   "outputs": [],
   "source": [
    "from pydantic import BaseModel\n",
    "from typing import  List, Optional\n",
    "class Nutrition(BaseModel):\n",
    "    fat: Optional[str] = None\n",
    "    protein: Optional[str] = None\n",
    "    carbohydrate: Optional[str] = None\n",
    "\n",
    "class Recipe(BaseModel):\n",
    "    id: str\n",
    "    recipe_name:str\n",
    "    ingredients: List[dict]\n",
    "    directions: str\n",
    "    nutrition: Nutrition\n",
    "    total_calories_estimation: str \n",
    "\n",
    "class Recipes(BaseModel):\n",
    "    recipes: List[Recipe] = []"
   ]
  },
  {
   "cell_type": "code",
   "execution_count": 30,
   "metadata": {},
   "outputs": [],
   "source": [
    "def read_xml_file(file_path: str):\n",
    "    with open(file_path, 'r') as f:\n",
    "        file = f.read() \n",
    "        return file\n",
    "\n",
    "def clean_text(content: str):\n",
    "    clean_content = content.strip()\n",
    "    return clean_content\n",
    "\n",
    "def clean_ingredient(content: str):\n",
    "    ingredients = []\n",
    "    lines = content.split('\\n')\n",
    "    for line in lines:\n",
    "        if len(line)>1:\n",
    "            temp = {}\n",
    "            if ':' in line:\n",
    "                tokens = line.split(':')\n",
    "                temp['name'] = tokens[0].replace('-','').strip()\n",
    "                temp['quantity'] = tokens[1].strip()\n",
    "            else:\n",
    "                print(len(line))\n",
    "                temp['name'] = line.replace('-','').strip()\n",
    "                temp['quantity'] = 'NA'\n",
    "            ingredients.append(temp)\n",
    "    return ingredients"
   ]
  },
  {
   "cell_type": "code",
   "execution_count": 31,
   "metadata": {},
   "outputs": [],
   "source": [
    "from pathlib import Path\n",
    "def parse_llm_recipes(file_paths:list):\n",
    "    recipes = Recipes()\n",
    "    for file_path in file_paths:\n",
    "        print(f'Parsing file:{file_path}')\n",
    "        id = Path(file_path).stem\n",
    "        file = read_xml_file(file_path)\n",
    "        soup = BeautifulSoup(file, 'xml')\n",
    "        recipe_name = soup.find('recipe_name')\n",
    "        recipe_name = clean_text(recipe_name.text)\n",
    "        ingredients = soup.find('ingredients')\n",
    "        ingredients = clean_ingredient(ingredients.text)\n",
    "        directions = soup.find('directions')\n",
    "        directions = clean_text(directions.text)\n",
    "        nutrition = soup.find('nutrition')\n",
    "        nutrition = clean_text(nutrition.text)\n",
    "        parsed_nutrition = extract_nutrition_values(text=nutrition)\n",
    "        nutrition = Nutrition(fat=parsed_nutrition['fat'], protein=parsed_nutrition['protein'],carbohydrate=parsed_nutrition['carbohydrate'])\n",
    "        total_calories_estimation = soup.find('total_calories_estimation')\n",
    "        total_calories_estimation = clean_text(total_calories_estimation.text)\n",
    "        recipe = Recipe(id = id, \n",
    "                        recipe_name = recipe_name, \n",
    "                        ingredients = ingredients,\n",
    "                        directions=directions, \n",
    "                        nutrition=nutrition,\n",
    "                        total_calories_estimation=total_calories_estimation)\n",
    "        recipes.recipes.append(recipe) \n",
    "    return recipes "
   ]
  },
  {
   "cell_type": "code",
   "execution_count": 32,
   "metadata": {},
   "outputs": [
    {
     "name": "stdout",
     "output_type": "stream",
     "text": [
      "Parsing file:../data/generated_recipe_v2/14.xml\n",
      "Parsing file:../data/generated_recipe_v2/15.xml\n",
      "Parsing file:../data/generated_recipe_v2/17.xml\n",
      "Parsing file:../data/generated_recipe_v2/16.xml\n",
      "Parsing file:../data/generated_recipe_v2/12.xml\n",
      "Parsing file:../data/generated_recipe_v2/13.xml\n",
      "Parsing file:../data/generated_recipe_v2/11.xml\n",
      "Parsing file:../data/generated_recipe_v2/20.xml\n",
      "Parsing file:../data/generated_recipe_v2/18.xml\n",
      "Parsing file:../data/generated_recipe_v2/19.xml\n"
     ]
    }
   ],
   "source": [
    "llm_recipes = parse_llm_recipes(file_paths)"
   ]
  },
  {
   "cell_type": "code",
   "execution_count": 33,
   "metadata": {},
   "outputs": [
    {
     "data": {
      "text/plain": [
       "Recipes(recipes=[Recipe(id='14', recipe_name='Mediterranean Chickpea Salad', ingredients=[{'name': 'chickpeas (cooked or canned)', 'quantity': '2 cups'}, {'name': 'cucumber (diced)', 'quantity': '1 medium'}, {'name': 'cherry tomatoes (halved)', 'quantity': '1 cup'}, {'name': 'red onion (finely chopped)', 'quantity': '1/4 cup'}, {'name': 'Kalamata olives (pitted and sliced)', 'quantity': '1/4 cup'}, {'name': 'feta cheese (crumbled, optional)', 'quantity': '1/2 cup'}, {'name': 'extravirgin olive oil', 'quantity': '3 tablespoons'}, {'name': 'lemon juice', 'quantity': '2 tablespoons'}, {'name': 'fresh parsley (chopped)', 'quantity': '1/4 cup'}, {'name': 'dried oregano', 'quantity': '1 teaspoon'}, {'name': 'salt', 'quantity': '1/4 teaspoon'}, {'name': 'black pepper', 'quantity': '1/8 teaspoon'}], directions='1. Prepare Vegetables: Dice the cucumber, halve the cherry tomatoes, finely chop the red onion, slice the Kalamata olives, and chop the fresh parsley.\\n2. Combine Salad: In a large bowl, mix together chickpeas, diced cucumber, halved cherry tomatoes, chopped red onion, sliced Kalamata olives, and crumbled feta cheese if using.\\n3. Make Dressing: In a small bowl, whisk together extra-virgin olive oil, lemon juice, chopped fresh parsley, dried oregano, salt, and black pepper until well combined.\\n4. Toss Salad: Pour the dressing over the chickpea mixture and toss until everything is evenly coated.\\n5. Marinate: Let the salad sit in the refrigerator for at least 10 minutes to allow the flavors to come together.\\n6. Pack and Go: Divide the salad into lunch containers making it a perfect meal to take to work. This salad keeps well and can be eaten chilled or at room temperature.', nutrition=Nutrition(fat='17g', protein='9g', carbohydrate='35g'), total_calories_estimation='- Total Calories for entire recipe : Approximately 1194 calories for the entire recipe. \\n- Calories for each ingredient:\\n    Chickpeas: 728 calories for 2 cups\\n    Cucumber: 16 calories for 1 medium\\n    Cherry Tomatoes: 32 calories per cup\\n    Red Onion: 15 calories per 1/4 cup\\n    Kalamata Olives: 45 calories per 1/4 cup\\n    Feta Cheese: 198 calories per 1/2 cup (if used)\\n    Extra-Virgin Olive Oil: 358 calories per 3 tablespoons\\n    Lemon Juice: 8 calories per 2 tablespoons\\n    Parsley: Negligible\\n    Dried Oregano, Salt, Black Pepper: Negligible\\n- Serving People: 4'), Recipe(id='15', recipe_name='Mediterranean Stuffed Mushrooms', ingredients=[{'name': 'large cremini or button mushrooms', 'quantity': '16'}, {'name': 'extravirgin olive oil', 'quantity': '2 tablespoons'}, {'name': 'garlic (minced)', 'quantity': '2 cloves'}, {'name': 'spinach (chopped)', 'quantity': '1 cup'}, {'name': 'feta cheese (crumbled)', 'quantity': '1/2 cup'}, {'name': 'black olives (chopped)', 'quantity': '1/4 cup'}, {'name': 'sundried tomatoes (chopped)', 'quantity': '1/4 cup'}, {'name': 'fresh basil (chopped)', 'quantity': '1 tablespoon'}, {'name': 'almond meal', 'quantity': '2 tablespoons'}, {'name': 'lemon zest', 'quantity': '1 teaspoon'}, {'name': 'salt', 'quantity': '1/4 teaspoon'}, {'name': 'black pepper', 'quantity': '1/8 teaspoon'}], directions='1. Prepare Mushrooms: Preheat your oven to 375°F (190°C). Remove stems from mushrooms and finely chop the stems. Set the mushroom caps aside. \\n2. Cook Filling: In a skillet over medium heat, warm the olive oil. Add the chopped mushroom stems and garlic, sautéing for 2-3 minutes or until softened. Add spinach and cook until it wilts.\\n3. Mix Ingredients: Remove skillet from heat. Stir in feta cheese, black olives, sun-dried tomatoes, basil, almond meal, and lemon zest. Season with salt and pepper.\\n4. Stuff Mushrooms: Fill each mushroom cap with the spinach and feta mixture, pressing it in to stuff well.\\n5. Bake: Arrange the stuffed mushrooms on a baking sheet. Bake for 15 to 20 minutes, or until the mushrooms are tender and the tops are lightly golden.\\n6. Serve Warm: Allow the mushrooms to cool slightly before serving them to your guests.', nutrition=Nutrition(fat='7g', protein='4g', carbohydrate='5g'), total_calories_estimation='- Total Calories for entire recipe : Approximately 640 calories for the entire recipe.\\n- Calories for each ingredient (based on USDA Food API):\\n    Cremini/Button Mushrooms: 4 calories each x 16 = 64 calories\\n    Extra-Virgin Olive Oil: 119 calories per tablespoon x 2 = 238 calories\\n    Garlic: 9 calories for 2 cloves\\n    Spinach: 7 calories per cup\\n    Feta Cheese: 198 calories per 1/2 cup\\n    Black Olives: 34 calories per 1/4 cup\\n    Sun-Dried Tomatoes: 35 calories per 1/4 cup\\n    Fresh Basil: Negligible\\n    Almond Meal: 40 calories per 2 tablespoons\\n    Lemon Zest: Negligible\\n    Salt and Pepper: Negligible\\n- Serving People: 8 (2 mushrooms per person)'), Recipe(id='17', recipe_name='Tangy Greek Yogurt Dressing', ingredients=[{'name': 'plain Greek yogurt', 'quantity': '1 cup'}, {'name': 'extravirgin olive oil', 'quantity': '2 tablespoons'}, {'name': 'lemon juice', 'quantity': '2 tablespoons'}, {'name': 'garlic (minced)', 'quantity': '1 clove'}, {'name': 'Dijon mustard', 'quantity': '1 teaspoon'}, {'name': 'honey (or a sugar substitute for a lower carb option)', 'quantity': '1 teaspoon'}, {'name': 'dried oregano', 'quantity': '1/2 teaspoon'}, {'name': 'salt', 'quantity': '1/4 teaspoon'}, {'name': 'black pepper', 'quantity': '1/8 teaspoon'}], directions='1. Combine Ingredients: In a small bowl or jar, mix together the Greek yogurt, olive oil, lemon juice, minced garlic, Dijon mustard, honey or sugar substitute, dried oregano, salt, and black pepper.\\n2. Blend Well: Whisk the ingredients until they are thoroughly combined and the dressing is smooth in consistency. If using a jar, you can put a lid on it and shake well.\\n3. Adjust Seasoning: Taste the dressing and adjust the seasoning if necessary. Add more lemon juice or herbs if desired.\\n4. Serve or Store: Use the dressing immediately or store in the refrigerator for up to one week. Give it a good stir or shake before use if it has been stored.', nutrition=Nutrition(fat='14g', protein='8g', carbohydrate='6g'), total_calories_estimation='- Total Calories for entire recipe : Approximately 330 calories for the entire recipe. \\n- Calories for each ingredient:\\n    Plain Greek Yogurt: 100 calories for 1 cup\\n    Extra-Virgin Olive Oil: 239 calories for 2 tablespoons\\n    Lemon Juice: Negligible\\n    Garlic: 4 calories per clove\\n    Dijon Mustard: 5 calories for 1 teaspoon\\n    Honey: 20 calories for 1 teaspoon (Could be 0 if using a substitute)\\n    Dried Oregano: Negligible\\n    Salt and Black Pepper: Negligible\\n- Serving People: Approximately 8 servings of 2 tablespoons each'), Recipe(id='16', recipe_name='Hearty Vegetable Lentil Soup', ingredients=[{'name': 'olive oil', 'quantity': '1 tablespoon'}, {'name': 'onion (chopped)', 'quantity': '1 medium'}, {'name': 'garlic (minced)', 'quantity': '2 cloves'}, {'name': 'carrots (diced)', 'quantity': '2 medium'}, {'name': 'celery stalks (diced)', 'quantity': '2'}, {'name': 'green lentils (rinsed)', 'quantity': '1 cup'}, {'name': 'canned tomatoes (diced)', 'quantity': '1 can (14.5 ounces)'}, {'name': 'vegetable broth', 'quantity': '4 cups'}, {'name': 'water', 'quantity': '2 cups'}, {'name': 'spinach (fresh, chopped)', 'quantity': '2 cups'}, {'name': 'thyme (dried)', 'quantity': '1 teaspoon'}, {'name': 'rosemary (dried)', 'quantity': '1/2 teaspoon'}, {'name': 'salt', 'quantity': '1 teaspoon'}, {'name': 'black pepper', 'quantity': '1/2 teaspoon'}, {'name': 'lemon (juiced)', 'quantity': '1/2'}], directions='1. Sauté Vegetables: In a large pot, heat the olive oil over medium heat. Add chopped onions and cook until translucent. Add garlic, carrots, and celery, and sauté for another 5 minutes.\\n2. Add Lentils and Liquids: Stir in the green lentils and the can of diced tomatoes (with their juice). Pour in the vegetable broth and water. Increase the heat to bring the mixture to a boil.\\n3. Simmer the Soup: Once boiling, reduce the heat to low, and add thyme and rosemary. Cover the pot and simmer for about 25-30 minutes, or until the lentils are tender.\\n4. Season and Finish: Add the fresh spinach and cook for an additional 5 minutes until it wilts. Season with salt and black pepper. Squeeze in fresh lemon juice for added zest, and stir.\\n5. Serve: Ladle the soup into bowls. For an extra touch, garnish with fresh herbs or a sprinkle of Parmesan cheese (optional for non-vegan diets).', nutrition=Nutrition(fat='2g', protein='14g', carbohydrate='39g'), total_calories_estimation='- Total Calories for entire recipe: Approximately 880 calories for the entire recipe.\\n- Calories for each ingredient:\\n    Olive Oil: 119 calories per tablespoon\\n    Onion: 44 calories per medium onion\\n    Garlic: 9 calories per 2 cloves\\n    Carrots: 50 calories per medium carrot\\n    Celery: 6 calories per stalk\\n    Green Lentils: 678 calories for 1 cup\\n    Canned Tomatoes: 71 calories per can\\n    Vegetable Broth: 60 calories for 4 cups (varies by brand)\\n    Spinach: 14 calories for 2 cups\\n    Lemon Juice: 4 calories for half a lemon\\n- Serving People: 6'), Recipe(id='12', recipe_name='Mediterranean Chickpea Salad', ingredients=[{'name': 'chickpeas (rinsed and drained)', 'quantity': '1 can (15 ounces)'}, {'name': 'cucumber (diced)', 'quantity': '1 medium'}, {'name': 'cherry tomatoes (halved)', 'quantity': '1 cup'}, {'name': 'red onion (finely chopped)', 'quantity': '1/4 cup'}, {'name': 'Kalamata olives (pitted and sliced)', 'quantity': '1/2 cup'}, {'name': 'feta cheese (crumbled, optional)', 'quantity': '1/2 cup'}, {'name': 'parsley (chopped)', 'quantity': '1/4 cup'}, {'name': 'lemon juice', 'quantity': '3 tablespoons'}, {'name': 'olive oil', 'quantity': '2 tablespoons'}, {'name': 'garlic (minced)', 'quantity': '1 clove'}, {'name': 'dried oregano', 'quantity': '1 teaspoon'}, {'name': 'salt', 'quantity': '1/4 teaspoon'}, {'name': 'black pepper', 'quantity': '1/8 teaspoon'}], directions='1. Prepare the Vegetables: Dice the cucumber, halve the cherry tomatoes, finely chop the red onion, slice the Kalamata olives, and chop the parsley.\\n2. Mix Salad Base: In a large bowl, combine the rinsed and drained chickpeas, cucumber, cherry tomatoes, red onion, Kalamata olives, and parsley.\\n3. Add Cheese: If desired, add the crumbled feta cheese to the salad mixture.\\n4. Make Dressing: In a small bowl, whisk together the lemon juice, olive oil, minced garlic, oregano, salt, and black pepper until well blended.\\n5. Combine: Pour the dressing over the salad ingredients and toss to coat evenly.\\n6. Chill and Serve: For best flavor, refrigerate the salad for at least 10 minutes before serving. This allows the flavors to come together.', nutrition=Nutrition(fat='9g', protein='9g', carbohydrate='32g'), total_calories_estimation='- Total Calories for entire recipe : Approximately 1187 calories for the entire recipe. \\n- Calories for each ingredient:\\n    Chickpeas: 728 calories per can\\n    Cucumber: 45 calories\\n    Cherry Tomatoes: 32 calories\\n    Red Onion: 16 calories\\n    Kalamata Olives: 88 calories\\n    Feta Cheese: 198 calories (optional)\\n    Parsley: Negligible\\n    Lemon Juice: 12 calories\\n    Olive Oil: 239 calories per 2 tablespoons\\n    Garlic: Negligible\\n    Dried Oregano, Salt, Black Pepper: Negligible\\n- Serving People: 4'), Recipe(id='13', recipe_name='Green Veggie Diabetic-Friendly Smoothie', ingredients=[{'name': 'spinach', 'quantity': '2 cups'}, {'name': 'cucumber (chopped)', 'quantity': '1 medium'}, {'name': 'celery stalks', 'quantity': '2'}, {'name': 'green apple (cored and sliced)', 'quantity': '1'}, {'name': 'fresh ginger (grated)', 'quantity': '1 teaspoon'}, {'name': 'lemon juice', 'quantity': '2 tablespoons'}, {'name': 'almond milk (unsweetened)', 'quantity': '1 cup'}, {'name': 'chia seeds (optional)', 'quantity': '1 tablespoon'}, {'name': 'ice cubes', 'quantity': '1/2 cup'}], directions='1. Prepare Ingredients: Wash the spinach leaves, cucumber, celery, and green apple. Chop the cucumber and celery into chunks that will blend easily. Core and slice the green apple.\\n2. Blend Greens: In a high-powered blender, add the spinach, cucumber, celery, and green apple. Blend until the greens are finely chopped and start to become smooth.\\n3. Add Flavors and Liquids: Add the grated ginger, lemon juice, almond milk, and chia seeds (if using) to the blender.\\n4. Blend Until Smooth: Add ice cubes to the mixture and blend on high speed until you have a smooth consistency. If the smoothie is too thick, you can add a little more almond milk to thin it to your preference.\\n5. Serve Immediately: Pour the green veggie smoothie into glasses and enjoy immediately for the best flavor and nutrient value.', nutrition=Nutrition(fat='3g', protein='3g', carbohydrate='22g'), total_calories_estimation='- Total Calories for entire recipe : Approximately 158 calories for the entire recipe. \\n- Calories for each ingredient:\\n    Spinach: 14 calories for 2 cups\\n    Cucumber: 45 calories for medium cucumber\\n    Celery Stalks: 12 calories for 2 stalks\\n    Green Apple: 95 calories for 1 apple\\n    Fresh Ginger: Negligible\\n    Lemon Juice: 8 calories for 2 tablespoons\\n    Almond Milk (unsweetened): 30 calories for 1 cup\\n    Chia Seeds: 60 calories for 1 tablespoon (optional)\\n    Ice Cubes: Negligible\\n- Serving People: 2'), Recipe(id='11', recipe_name='Spinach and Mushroom Egg White Frittata', ingredients=[{'name': 'egg whites', 'quantity': '8'}, {'name': 'fresh spinach', 'quantity': '3 cups'}, {'name': 'cremini mushrooms (sliced)', 'quantity': '2 cups'}, {'name': 'cherry tomatoes (halved)', 'quantity': '1 cup'}, {'name': 'lowfat feta cheese (crumbled)', 'quantity': '1/2 cup'}, {'name': 'olive oil', 'quantity': '1 tablespoon'}, {'name': 'garlic (minced)', 'quantity': '2 cloves'}, {'name': 'salt', 'quantity': '1/4 teaspoon'}, {'name': 'black pepper', 'quantity': '1/4 teaspoon'}, {'name': 'fresh basil (chopped, for garnish)', 'quantity': '2 tablespoons'}], directions='1. Preheat Oven: Preheat your oven to 375°F (190°C).\\n2. Sauté Vegetables: Heat olive oil in a large oven-proof skillet over medium heat. Add mushrooms and sauté for 5-7 minutes until they start to brown. Add garlic and spinach and cook until spinach is wilted, about 2-3 minutes. Season with salt and pepper.\\n3. Add Tomatoes: Stir in the cherry tomatoes and cook for an additional minute.\\n4. Pour Egg Whites: Spread the vegetables in an even layer and pour the egg whites over the top. Cook for 2-3 minutes until the eggs start to set.\\n5. Add Cheese: Sprinkle the crumbled feta cheese over the top of the frittata mixture.\\n6. Bake Frittata: Transfer the skillet to the preheated oven and bake for 15-18 minutes, or until the frittata is set and the top is lightly golden.\\n7. Garnish and Serve: Remove from oven and let it cool for a few minutes. Garnish with fresh basil before serving.', nutrition=Nutrition(fat='5g', protein='18g', carbohydrate='10g'), total_calories_estimation='- Total Calories for entire recipe : Approximately 400 calories for the entire recipe. \\n- Calories for each ingredient (using USDA Food API where applicable):\\n    Egg Whites: 70 calories (from 8 egg whites)\\n    Fresh Spinach: 20 calories\\n    Cremini Mushrooms: 30 calories\\n    Cherry Tomatoes: 30 calories\\n    Low-fat Feta Cheese: 140 calories\\n    Olive Oil: 120 calories\\n    Garlic: Negligible\\n    Salt, Black Pepper: Negligible\\n    Fresh Basil: Negligible\\n- Serving People: 4'), Recipe(id='20', recipe_name='Cucumber Mint Infused Water', ingredients=[{'name': 'cucumber', 'quantity': '1 medium-sized'}, {'name': 'fresh mint leaves', 'quantity': '1/4 cup'}, {'name': 'fresh lemon juice', 'quantity': '2 tablespoons'}, {'name': 'water', 'quantity': '8 cups'}, {'name': 'ice cubes', 'quantity': '1 cup (optional)'}, {'name': 'lemon slices (for garnish)', 'quantity': '3-4 slices'}], directions='1. Prepare Ingredients: Thinly slice the cucumber and roughly chop the mint leaves.\\n2. Combine in Pitcher: Place the cucumber slices, mint leaves, and lemon slices (if using) in a large pitcher.\\n3. Add Water: Pour water into the pitcher and stir gently.\\n4. Infuse: Add the fresh lemon juice and stir again. If you want a colder beverage instantly, add ice cubes to the pitcher.\\n5. Chill and Infuse: Refrigerate the infused water for at least 2 hours, allowing the flavors to meld. For a stronger infusion, refrigerate overnight.\\n6. Serve: Pour the infused water into glasses, making sure to include a few cucumber and lemon slices, as well as some mint leaves for garnish and added flavor.', nutrition=Nutrition(fat='0g', protein='0.2g', carbohydrate='5g'), total_calories_estimation='- Total Calories for entire recipe: Approximately 45 calories for the entire recipe. \\n- Calories for each ingredient:\\n    Cucumber: Approximately 45 calories for a medium-sized cucumber\\n    Fresh Mint Leaves: Negligible\\n    Lemon Juice: Approximately 8 calories for 2 tablespoons\\n    Water: 0 calories\\n    Ice Cubes: 0 calories\\n    Lemon Slices: Negligible\\n- Serving People: 8'), Recipe(id='18', recipe_name='Zucchini Noodles with Pesto and Cherry Tomatoes', ingredients=[{'name': 'medium zucchinis', 'quantity': '4'}, {'name': 'cherry tomatoes', 'quantity': '1 cup'}, {'name': 'pine nuts (optional)', 'quantity': '1/4 cup'}, {'name': 'garlic', 'quantity': '1 clove'}, {'name': 'fresh basil leaves', 'quantity': '1 cup'}, {'name': 'grated Parmesan cheese', 'quantity': '1/3 cup'}, {'name': 'extra virgin olive oil', 'quantity': '1/4 cup'}, {'name': 'lemon juice', 'quantity': '1 tablespoon'}, {'name': 'salt', 'quantity': 'to taste'}, {'name': 'black pepper', 'quantity': 'to taste'}], directions='1. Prepare the Zucchini Noodles: Wash the zucchinis and use a spiralizer to create noodles. Set aside in a colander to drain any excess moisture.\\n2. Make the Pesto: In a food processor or blender, combine the basil leaves, garlic, Parmesan cheese, pine nuts (if using), lemon juice, and salt and pepper. Pulse until coarsely chopped. While processing, slowly add the olive oil in a steady stream until the pesto comes together into a thick paste.\\n3. Toast Pine Nuts (if using): Place pine nuts in a dry skillet over medium heat and cook, stirring often, until golden and fragrant. Set aside to cool.\\n4. Combine the Dish: In a large bowl, toss the zucchini noodles with the pesto until they are well coated. Gently stir in the cherry tomatoes and toasted pine nuts.\\n5. Serve: Serve immediately or chill in the refrigerator for an hour to allow flavors to meld. Adjust seasoning with more salt and pepper if needed.', nutrition=Nutrition(fat='20g', protein='7g', carbohydrate='12g'), total_calories_estimation='- Total Calories for entire recipe: Approximately 758 calories for the entire recipe.\\n- Calories for each ingredient:\\n    Medium Zucchinis: 33 calories each, 132 calories total\\n    Cherry Tomatoes: 30 calories per cup\\n    Pine Nuts: 191 calories per 1/4 cup\\n    Garlic: 4 calories per clove\\n    Fresh Basil Leaves: Negligible\\n    Grated Parmesan Cheese: 110 calories per 1/3 cup\\n    Extra Virgin Olive Oil: 119 calories per tablespoon, 477 calories total for 1/4 cup\\n    Lemon Juice: 4 calories per tablespoon\\n    Salt and Black Pepper: Negligible\\n- Serving People: 4'), Recipe(id='19', recipe_name='Zucchini Noodles with Pesto and Cherry Tomatoes', ingredients=[{'name': 'zucchini', 'quantity': '4 medium-sized'}, {'name': 'cherry tomatoes', 'quantity': '1 cup'}, {'name': 'pine nuts', 'quantity': '1/4 cup'}, {'name': 'garlic', 'quantity': '2 cloves'}, {'name': 'fresh basil leaves', 'quantity': '1 cup packed'}, {'name': 'grated Parmesan cheese', 'quantity': '1/3 cup'}, {'name': 'extravirgin olive oil', 'quantity': '1/4 cup'}, {'name': 'lemon juice', 'quantity': '1 tablespoon'}, {'name': 'salt', 'quantity': '1/4 teaspoon'}, {'name': 'black pepper', 'quantity': '1/8 teaspoon'}], directions='1. Make Zucchini Noodles: Using a spiralizer, turn the zucchini into noodles. Pat dry with paper towels to remove excess moisture.\\n2. Prepare Pesto: In a food processor, blend the basil leaves, pine nuts, garlic, Parmesan cheese, lemon juice, salt, and black pepper until smooth. Gradually add the olive oil while continuing to blend until a creamy consistency is reached.\\n3. Toast Pine Nuts: In a dry skillet, toast the pine nuts over medium heat until golden brown, stirring frequently to prevent burning.\\n4. Combine Noodles with Pesto: Toss the zucchini noodles with the prepared pesto in a large bowl until well coated.\\n5. Serve: Top with toasted pine nuts and halved cherry tomatoes. Serve immediately or chilled.', nutrition=Nutrition(fat='19g', protein='6g', carbohydrate='10g'), total_calories_estimation='- Total Calories for entire recipe : Approximately 956 calories for the entire recipe. \\n- Calories for each ingredient:\\n    Zucchini: 33 calories per medium-sized zucchini (132 calories total)\\n    Cherry Tomatoes: 27 calories per cup\\n    Pine Nuts: 191 calories per 1/4 cup\\n    Garlic: 9 calories for 2 cloves\\n    Fresh Basil Leaves: Negligible\\n    Grated Parmesan Cheese: 110 calories per 1/3 cup\\n    Extra-Virgin Olive Oil: 477 calories per 1/4 cup\\n    Lemon Juice: 4 calories per tablespoon\\n    Salt, Black Pepper: Negligible\\n- Serving People: 4')])"
      ]
     },
     "execution_count": 33,
     "metadata": {},
     "output_type": "execute_result"
    }
   ],
   "source": [
    "llm_recipes"
   ]
  },
  {
   "cell_type": "code",
   "execution_count": 34,
   "metadata": {},
   "outputs": [],
   "source": [
    "import json\n",
    "with open('../data/generated_recipe_v2/gpt4_1106_recipes.json', 'w') as f:\n",
    "    json.dump(llm_recipes.model_dump(mode='json'), f, indent=4, ensure_ascii=False)"
   ]
  },
  {
   "cell_type": "code",
   "execution_count": null,
   "metadata": {},
   "outputs": [],
   "source": []
  }
 ],
 "metadata": {
  "kernelspec": {
   "display_name": ".venv",
   "language": "python",
   "name": "python3"
  },
  "language_info": {
   "codemirror_mode": {
    "name": "ipython",
    "version": 3
   },
   "file_extension": ".py",
   "mimetype": "text/x-python",
   "name": "python",
   "nbconvert_exporter": "python",
   "pygments_lexer": "ipython3",
   "version": "3.11.3"
  }
 },
 "nbformat": 4,
 "nbformat_minor": 2
}
