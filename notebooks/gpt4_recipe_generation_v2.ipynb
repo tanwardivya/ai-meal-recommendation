{
 "cells": [
  {
   "cell_type": "code",
   "execution_count": 1,
   "metadata": {},
   "outputs": [
    {
     "data": {
      "text/plain": [
       "True"
      ]
     },
     "execution_count": 1,
     "metadata": {},
     "output_type": "execute_result"
    }
   ],
   "source": [
    "from dotenv import load_dotenv\n",
    "load_dotenv('../.vscode/.env')"
   ]
  },
  {
   "cell_type": "code",
   "execution_count": 129,
   "metadata": {},
   "outputs": [],
   "source": [
    "recipe_name = 'Classic Apple Pie'\n",
    "ingredients = '''\n",
    "- quinoa: 1 cup\n",
    "- water: 2 cups\n",
    "- black beans (rinsed and drained): 1 can (15 ounces)\n",
    "- red bell pepper (diced): 1\n",
    "- fresh cilantro (chopped): 1/4 cup\n",
    "- lime juice: 1/4 cup\n",
    "- olive oil: 2 tablespoons\n",
    "- ground cumin: 1 teaspoon\n",
    "- salt: 1/2 teaspoon\n",
    "- black pepper: 1/4 teaspoon\n",
    "- avocado (diced, optional): 1\n",
    "- cherry tomatoes (halved, optional): 1/2 cup\n",
    "'''\n",
    "directions= '''\n",
    "1. Cook Quinoa: Rinse the quinoa under cold water. In a medium saucepan, bring 2 cups of water to a boil. Add quinoa, reduce heat to low, cover, and simmer for about 15 minutes, or until quinoa is tender and water is absorbed. Remove from heat and let it cool.\n",
    "2. Combine Ingredients: In a large bowl, combine the cooled quinoa, black beans, red bell pepper, and cilantro.\n",
    "3. Make Dressing: In a small bowl, whisk together lime juice, olive oil, cumin, salt, and black pepper.\n",
    "4. Mix Salad: Pour the dressing over the quinoa mixture and stir until well combined. If using, gently fold in the avocado and cherry tomatoes.\n",
    "5. Chill and Serve: Refrigerate the salad for at least 30 minutes before serving. This allows the flavors to meld together.\n",
    "'''\n",
    "\n",
    "nutrients='''Total Carbohydrate: 50g, Dietary Fiber: 15g, Sodium: 300mg, Saturated Fat: 2g, Total Fat: 17g, Protein: 12g, Added Sugars: 0g, Total Sugars: 5g'''\n",
    "total_calorie_estimation='''\n",
    "- Total Calories for entire recipe : Approximately 1561 calories for the entire recipe. \n",
    "- Calories for each ingredient:\n",
    "    Quinoa: 712 calories for 1 cup cooked (from 185g of dry quinoa)\n",
    "    Black Beans: 227 calories per can\n",
    "    Red Bell Pepper: 37 calories\n",
    "    Cilantro: Negligible\n",
    "    Lime Juice: 8 calories per 1/4 cup\n",
    "    Olive Oil: 239 calories per 2 tablespoons\n",
    "    Cumin, Salt, Black Pepper: Negligible\n",
    "    Avocado: 322 calories\n",
    "    Cherry Tomatoes: 16 calories per 1/2 cup\n",
    "- Serving People: 4 \n",
    "'''"
   ]
  },
  {
   "cell_type": "code",
   "execution_count": 130,
   "metadata": {},
   "outputs": [],
   "source": [
    "ASSISTANT_INSTRUCTION = f'''\n",
    "You are helpful diabetic-friendly recipe assistant who give different recipe each time when user ask. Recipe can be for vegetarian, vegan, and non-vegeterian diets.You generate diabetic friendly recipe in below format:\n",
    "<recipe>\n",
    "    <recipe_name> {recipe_name} </recipe_name>\n",
    "    <ingredients> {ingredients} </ingredients>\n",
    "    <directions> {directions} </directions>\n",
    "    <nutrition> {nutrients} </nutrition> \n",
    "    <total_calories_estimation>{total_calorie_estimation}</total_calories_estimation>\n",
    "</recipe>\n",
    "Always use above format to give recipe. Give total calories for recipe and refer USDA Food API for calories.\n",
    "'''"
   ]
  },
  {
   "cell_type": "code",
   "execution_count": 131,
   "metadata": {},
   "outputs": [
    {
     "name": "stdout",
     "output_type": "stream",
     "text": [
      "\n",
      "You are helpful diabetic-friendly recipe assistant who give different recipe each time when user ask. Recipe can be for vegetarian, vegan, and non-vegeterian diets.You generate diabetic friendly recipe in below format:\n",
      "<recipe>\n",
      "    <recipe_name> Classic Apple Pie </recipe_name>\n",
      "    <ingredients> \n",
      "- quinoa: 1 cup\n",
      "- water: 2 cups\n",
      "- black beans (rinsed and drained): 1 can (15 ounces)\n",
      "- red bell pepper (diced): 1\n",
      "- fresh cilantro (chopped): 1/4 cup\n",
      "- lime juice: 1/4 cup\n",
      "- olive oil: 2 tablespoons\n",
      "- ground cumin: 1 teaspoon\n",
      "- salt: 1/2 teaspoon\n",
      "- black pepper: 1/4 teaspoon\n",
      "- avocado (diced, optional): 1\n",
      "- cherry tomatoes (halved, optional): 1/2 cup\n",
      " </ingredients>\n",
      "    <directions> \n",
      "1. Cook Quinoa: Rinse the quinoa under cold water. In a medium saucepan, bring 2 cups of water to a boil. Add quinoa, reduce heat to low, cover, and simmer for about 15 minutes, or until quinoa is tender and water is absorbed. Remove from heat and let it cool.\n",
      "2. Combine Ingredients: In a large bowl, combine the cooled quinoa, black beans, red bell pepper, and cilantro.\n",
      "3. Make Dressing: In a small bowl, whisk together lime juice, olive oil, cumin, salt, and black pepper.\n",
      "4. Mix Salad: Pour the dressing over the quinoa mixture and stir until well combined. If using, gently fold in the avocado and cherry tomatoes.\n",
      "5. Chill and Serve: Refrigerate the salad for at least 30 minutes before serving. This allows the flavors to meld together.\n",
      " </directions>\n",
      "    <nutrition> Total Carbohydrate: 50g, Dietary Fiber: 15g, Sodium: 300mg, Saturated Fat: 2g, Total Fat: 17g, Protein: 12g, Added Sugars: 0g, Total Sugars: 5g </nutrition> \n",
      "    <total_calories_estimation>\n",
      "- Total Calories for entire recipe : Approximately 1561 calories for the entire recipe. \n",
      "- Calories for each ingredient:\n",
      "    Quinoa: 712 calories for 1 cup cooked (from 185g of dry quinoa)\n",
      "    Black Beans: 227 calories per can\n",
      "    Red Bell Pepper: 37 calories\n",
      "    Cilantro: Negligible\n",
      "    Lime Juice: 8 calories per 1/4 cup\n",
      "    Olive Oil: 239 calories per 2 tablespoons\n",
      "    Cumin, Salt, Black Pepper: Negligible\n",
      "    Avocado: 322 calories\n",
      "    Cherry Tomatoes: 16 calories per 1/2 cup\n",
      "- Serving People: 4 \n",
      "</total_calories_estimation>\n",
      "</recipe>\n",
      "Always use above format to give recipe. Give total calories for recipe and refer USDA Food API for calories.\n",
      "\n"
     ]
    }
   ],
   "source": [
    "print(ASSISTANT_INSTRUCTION)"
   ]
  },
  {
   "cell_type": "code",
   "execution_count": 132,
   "metadata": {},
   "outputs": [],
   "source": [
    "ASSISTANT_NAME = 'Recipe Assistant'"
   ]
  },
  {
   "cell_type": "code",
   "execution_count": 133,
   "metadata": {},
   "outputs": [],
   "source": [
    "from openai import OpenAI\n",
    "import os"
   ]
  },
  {
   "cell_type": "code",
   "execution_count": 134,
   "metadata": {},
   "outputs": [],
   "source": [
    "import json\n",
    "\n",
    "def show_json(obj):\n",
    "    display(json.loads(obj.model_dump_json()))"
   ]
  },
  {
   "cell_type": "code",
   "execution_count": 135,
   "metadata": {},
   "outputs": [
    {
     "data": {
      "text/plain": [
       "{'id': 'asst_D7EdOlnOfpsk6qH3FcaWpQj6',\n",
       " 'created_at': 1712633791,\n",
       " 'description': None,\n",
       " 'file_ids': [],\n",
       " 'instructions': '\\nYou are helpful diabetic-friendly recipe assistant who give different recipe each time when user ask. Recipe can be for vegetarian, vegan, and non-vegeterian diets.You generate diabetic friendly recipe in below format:\\n<recipe>\\n    <recipe_name> Classic Apple Pie </recipe_name>\\n    <ingredients> \\n- quinoa: 1 cup\\n- water: 2 cups\\n- black beans (rinsed and drained): 1 can (15 ounces)\\n- red bell pepper (diced): 1\\n- fresh cilantro (chopped): 1/4 cup\\n- lime juice: 1/4 cup\\n- olive oil: 2 tablespoons\\n- ground cumin: 1 teaspoon\\n- salt: 1/2 teaspoon\\n- black pepper: 1/4 teaspoon\\n- avocado (diced, optional): 1\\n- cherry tomatoes (halved, optional): 1/2 cup\\n </ingredients>\\n    <directions> \\n1. Cook Quinoa: Rinse the quinoa under cold water. In a medium saucepan, bring 2 cups of water to a boil. Add quinoa, reduce heat to low, cover, and simmer for about 15 minutes, or until quinoa is tender and water is absorbed. Remove from heat and let it cool.\\n2. Combine Ingredients: In a large bowl, combine the cooled quinoa, black beans, red bell pepper, and cilantro.\\n3. Make Dressing: In a small bowl, whisk together lime juice, olive oil, cumin, salt, and black pepper.\\n4. Mix Salad: Pour the dressing over the quinoa mixture and stir until well combined. If using, gently fold in the avocado and cherry tomatoes.\\n5. Chill and Serve: Refrigerate the salad for at least 30 minutes before serving. This allows the flavors to meld together.\\n </directions>\\n    <nutrition> Total Carbohydrate: 50g, Dietary Fiber: 15g, Sodium: 300mg, Saturated Fat: 2g, Total Fat: 17g, Protein: 12g, Added Sugars: 0g, Total Sugars: 5g </nutrition> \\n    <total_calories_estimation>\\n- Total Calories for entire recipe : Approximately 1561 calories for the entire recipe. \\n- Calories for each ingredient:\\n    Quinoa: 712 calories for 1 cup cooked (from 185g of dry quinoa)\\n    Black Beans: 227 calories per can\\n    Red Bell Pepper: 37 calories\\n    Cilantro: Negligible\\n    Lime Juice: 8 calories per 1/4 cup\\n    Olive Oil: 239 calories per 2 tablespoons\\n    Cumin, Salt, Black Pepper: Negligible\\n    Avocado: 322 calories\\n    Cherry Tomatoes: 16 calories per 1/2 cup\\n- Serving People: 4 \\n</total_calories_estimation>\\n</recipe>\\nAlways use above format to give recipe. Give total calories for recipe and refer USDA Food API for calories.\\n',\n",
       " 'metadata': {},\n",
       " 'model': 'gpt-4-1106-preview',\n",
       " 'name': 'Recipe Assistant',\n",
       " 'object': 'assistant',\n",
       " 'tools': []}"
      ]
     },
     "metadata": {},
     "output_type": "display_data"
    }
   ],
   "source": [
    "client = OpenAI(api_key=os.environ.get(\"OPENAI_API_KEY\", \"\"))\n",
    "\n",
    "\n",
    "assistant = client.beta.assistants.create(\n",
    "    name=ASSISTANT_NAME,\n",
    "    instructions=ASSISTANT_INSTRUCTION,\n",
    "    model=\"gpt-4-1106-preview\",\n",
    ")\n",
    "show_json(assistant)"
   ]
  },
  {
   "cell_type": "code",
   "execution_count": 136,
   "metadata": {},
   "outputs": [],
   "source": [
    "ASSISTANT_ID='asst_D7EdOlnOfpsk6qH3FcaWpQj6'"
   ]
  },
  {
   "cell_type": "code",
   "execution_count": 137,
   "metadata": {},
   "outputs": [],
   "source": [
    "from bs4 import BeautifulSoup\n",
    "client = OpenAI(api_key=os.environ.get(\"OPENAI_API_KEY\", \"\"))\n",
    "\n",
    "def submit_message(assistant_id, thread, user_message):\n",
    "    client.beta.threads.messages.create(\n",
    "        thread_id=thread.id, role=\"user\", content=user_message\n",
    "    )\n",
    "    return client.beta.threads.runs.create(\n",
    "        thread_id=thread.id,\n",
    "        assistant_id=assistant_id,\n",
    "    )\n",
    "\n",
    "\n",
    "def get_response(thread):\n",
    "    messages = client.beta.threads.messages.list(thread_id=thread.id)\n",
    "    for m in messages:\n",
    "        if m.role == 'assistant':\n",
    "            return m.content[0].text.value\n",
    "# Write recipe in xml format using Beautiful soup\n",
    "def write_recipe(id: str, recipe_content:str):\n",
    "    soup = BeautifulSoup(recipe_content, \"xml\")\n",
    "    with open(f'../data/generated_recipe_v2/{id}.xml', 'w') as f:\n",
    "        f.write(soup.prettify())\n",
    "\n",
    "def create_thread_and_run(assistant_id: str, user_input:str):\n",
    "    thread = client.beta.threads.create()\n",
    "    run = submit_message(assistant_id, thread, user_input)\n",
    "    return thread, run"
   ]
  },
  {
   "cell_type": "code",
   "execution_count": 138,
   "metadata": {},
   "outputs": [],
   "source": [
    "import time\n",
    "\n",
    "def wait_on_run(run, thread):\n",
    "    while run.status == \"queued\" or run.status == \"in_progress\":\n",
    "        run = client.beta.threads.runs.retrieve(\n",
    "            thread_id=thread.id,\n",
    "            run_id=run.id,\n",
    "        )\n",
    "        time.sleep(0.5)\n",
    "    return run"
   ]
  },
  {
   "cell_type": "code",
   "execution_count": 142,
   "metadata": {},
   "outputs": [],
   "source": [
    "prompts = [\n",
    "    \"Can you share a diabetic-friendly recipe for a hearty morning meal that's both satisfying and nutritious?\",\n",
    "    \"I'm looking for a diabetic-friendly lunch option that's easy to prepare and delicious. Any suggestions?\",\n",
    "    \"What's a diabetic-friendly recipe for dinner that's full of flavor and incorporates plenty of vegetables and lean proteins?\",\n",
    "    \"Do you have a diabetic-friendly recipe for a quick and energizing breakfast that doesn't spike blood sugar levels?\",\n",
    "    \"I'm in need of a diabetic-friendly lunch recipe that's suitable for meal prep and can be enjoyed on-the-go. Any recommendations?\",\n",
    "    \"Could you recommend a diabetic-friendly dinner recipe that's perfect for entertaining guests, yet won't compromise on taste or healthiness?\",\n",
    "    \"I'm searching for a diabetic-friendly breakfast recipe that's warm and comforting, ideal for those chilly mornings. Any ideas?\",\n",
    "    \"What's a diabetic-friendly recipe for a light yet filling lunch option that's perfect for busy weekdays?\",\n",
    "    \"Can you suggest a diabetic-friendly recipe for dinner that's family-friendly and can be customized to suit different taste preferences?\",\n",
    "    \"Do you have a diabetic-friendly breakfast recipe that's suitable for someone with a sweet tooth but won't cause a sugar spike?\",\n",
    "    \"Could you provide a recipe for a diabetic-friendly comfort dinner that's both warming and balanced?\",\n",
    "    \"Can you suggest a diabetic-friendly snack that's perfect for on-the-go and packed with energy?\",\n",
    "    \"Could you create a diabetic-friendly dessert recipe that satisfies sweet cravings without spiking blood sugar?\",\n",
    "    \"Can you recommend a diabetic-friendly smoothie recipe that incorporates green vegetables for a nutrient boost?\",\n",
    "    \"Could you devise a diabetic-friendly lunch recipe that's easy to pack for work and keeps well?\",\n",
    "    \"Can you outline a diabetic-friendly appetizer that's ideal for entertaining and sure to impress guests?\",\n",
    "    \"Could you suggest a diabetic-friendly soup recipe that's both comforting and full of flavor?\",\n",
    "    \"Can you provide a recipe for a diabetic-friendly salad dressing that elevates any vegetable dish?\",\n",
    "    \"Could you recommend a diabetic-friendly pasta alternative dish that's satisfying and low in carbohydrates?\",\n",
    "    \"Can you share a diabetic-friendly recipe for a refreshing summer beverage that's hydrating and flavorful?\"\n",
    "]"
   ]
  },
  {
   "cell_type": "code",
   "execution_count": 144,
   "metadata": {},
   "outputs": [
    {
     "data": {
      "text/plain": [
       "20"
      ]
     },
     "execution_count": 144,
     "metadata": {},
     "output_type": "execute_result"
    }
   ],
   "source": [
    "len(prompts)"
   ]
  },
  {
   "cell_type": "code",
   "execution_count": 169,
   "metadata": {},
   "outputs": [
    {
     "name": "stdout",
     "output_type": "stream",
     "text": [
      "Generated recipe for id:19\n"
     ]
    }
   ],
   "source": [
    "for i in range(19,20):\n",
    "    thread, run = create_thread_and_run(assistant_id= ASSISTANT_ID, user_input=prompts[i-1])\n",
    "    run = wait_on_run(thread=thread, run = run)\n",
    "    recipe_content = get_response(thread=thread)\n",
    "    write_recipe(id=str(i), recipe_content=recipe_content)\n",
    "    recipe_id = str(i)\n",
    "    print(f'Generated recipe for id:{recipe_id}')"
   ]
  },
  {
   "cell_type": "code",
   "execution_count": 45,
   "metadata": {},
   "outputs": [],
   "source": [
    "import re\n",
    "\n",
    "# Function to extract nutritional values\n",
    "def extract_nutrition_values(text):\n",
    "    # Dictionary to hold the extracted values\n",
    "    nutrition_values = {}\n",
    "\n",
    "    # Regular expressions for extracting fat, carbohydrate, and protein\n",
    "    patterns = {\n",
    "        'fat': r\"Total Fat (\\d+\\.?\\d*g)\",\n",
    "        'carbohydrate': r\"Total Carbohydrate (\\d+\\.?\\d*g)\",\n",
    "        'protein': r\"Protein (\\d+\\.?\\d*g)\",\n",
    "    }\n",
    "\n",
    "    # Loop through the patterns and search in the text\n",
    "    for key, pattern in patterns.items():\n",
    "        match = re.search(pattern, text, re.IGNORECASE)\n",
    "        if match:\n",
    "            # If a match is found, add it to the dictionary\n",
    "            nutrition_values[key] = match.group(1)\n",
    "        else:\n",
    "            # If no match is found, set the value to None\n",
    "            nutrition_values[key] = None\n",
    "\n",
    "    return nutrition_values"
   ]
  },
  {
   "cell_type": "code",
   "execution_count": 147,
   "metadata": {},
   "outputs": [],
   "source": [
    "import glob\n",
    "from bs4 import  BeautifulSoup\n",
    "file_paths = glob.glob(pathname='../data/generated_recipe_v2/*.xml')"
   ]
  },
  {
   "cell_type": "code",
   "execution_count": 162,
   "metadata": {},
   "outputs": [
    {
     "data": {
      "text/plain": [
       "['../data/generated_recipe_v2/14.xml',\n",
       " '../data/generated_recipe_v2/15.xml',\n",
       " '../data/generated_recipe_v2/17.xml',\n",
       " '../data/generated_recipe_v2/16.xml',\n",
       " '../data/generated_recipe_v2/12.xml',\n",
       " '../data/generated_recipe_v2/13.xml',\n",
       " '../data/generated_recipe_v2/11.xml',\n",
       " '../data/generated_recipe_v2/20.xml',\n",
       " '../data/generated_recipe_v2/18.xml',\n",
       " '../data/generated_recipe_v2/19.xml']"
      ]
     },
     "execution_count": 162,
     "metadata": {},
     "output_type": "execute_result"
    }
   ],
   "source": [
    "file_paths"
   ]
  },
  {
   "cell_type": "code",
   "execution_count": 163,
   "metadata": {},
   "outputs": [],
   "source": [
    "with open(file_paths[0], 'r') as f:\n",
    "    file = f.read() \n",
    "\n",
    "# 'xml' is the parser used. For html files, which BeautifulSoup is typically used for, it would be 'html.parser'.\n",
    "soup = BeautifulSoup(file, 'xml')"
   ]
  },
  {
   "cell_type": "code",
   "execution_count": 164,
   "metadata": {},
   "outputs": [
    {
     "data": {
      "text/plain": [
       "<total_calories_estimation>\n",
       "  - Total Calories for entire recipe : Approximately 1194 calories for the entire recipe. \n",
       "- Calories for each ingredient:\n",
       "    Chickpeas: 728 calories for 2 cups\n",
       "    Cucumber: 16 calories for 1 medium\n",
       "    Cherry Tomatoes: 32 calories per cup\n",
       "    Red Onion: 15 calories per 1/4 cup\n",
       "    Kalamata Olives: 45 calories per 1/4 cup\n",
       "    Feta Cheese: 198 calories per 1/2 cup (if used)\n",
       "    Extra-Virgin Olive Oil: 358 calories per 3 tablespoons\n",
       "    Lemon Juice: 8 calories per 2 tablespoons\n",
       "    Parsley: Negligible\n",
       "    Dried Oregano, Salt, Black Pepper: Negligible\n",
       "- Serving People: 4\n",
       " </total_calories_estimation>"
      ]
     },
     "execution_count": 164,
     "metadata": {},
     "output_type": "execute_result"
    }
   ],
   "source": [
    "soup.find('total_calories_estimation')"
   ]
  },
  {
   "cell_type": "code",
   "execution_count": 149,
   "metadata": {},
   "outputs": [
    {
     "name": "stdout",
     "output_type": "stream",
     "text": [
      "<?xml version=\"1.0\" encoding=\"utf-8\"?>\n",
      "<recipe>\n",
      " <recipe_name>\n",
      "  Mediterranean Chickpea Salad\n",
      " </recipe_name>\n",
      " <ingredients>\n",
      "  - chickpeas (cooked or canned): 2 cups\n",
      "- cucumber (diced): 1 medium\n",
      "- cherry tomatoes (halved): 1 cup\n",
      "- red onion (finely chopped): 1/4 cup\n",
      "- Kalamata olives (pitted and sliced): 1/4 cup\n",
      "- feta cheese (crumbled, optional): 1/2 cup\n",
      "- extra-virgin olive oil: 3 tablespoons\n",
      "- lemon juice: 2 tablespoons\n",
      "- fresh parsley (chopped): 1/4 cup\n",
      "- dried oregano: 1 teaspoon\n",
      "- salt: 1/4 teaspoon\n",
      "- black pepper: 1/8 teaspoon\n",
      " </ingredients>\n",
      " <directions>\n",
      "  1. Prepare Vegetables: Dice the cucumber, halve the cherry tomatoes, finely chop the red onion, slice the Kalamata olives, and chop the fresh parsley.\n",
      "2. Combine Salad: In a large bowl, mix together chickpeas, diced cucumber, halved cherry tomatoes, chopped red onion, sliced Kalamata olives, and crumbled feta cheese if using.\n",
      "3. Make Dressing: In a small bowl, whisk together extra-virgin olive oil, lemon juice, chopped fresh parsley, dried oregano, salt, and black pepper until well combined.\n",
      "4. Toss Salad: Pour the dressing over the chickpea mixture and toss until everything is evenly coated.\n",
      "5. Marinate: Let the salad sit in the refrigerator for at least 10 minutes to allow the flavors to come together.\n",
      "6. Pack and Go: Divide the salad into lunch containers making it a perfect meal to take to work. This salad keeps well and can be eaten chilled or at room temperature.\n",
      " </directions>\n",
      " <nutrition>\n",
      "  Total Carbohydrate: 35g, Dietary Fiber: 10g, Sodium: 400mg, Saturated Fat: 3g, Total Fat: 17g, Protein: 9g, Added Sugars: 0g, Total Sugars: 6g\n",
      " </nutrition>\n",
      " <total_calories_estimation>\n",
      "  - Total Calories for entire recipe : Approximately 1194 calories for the entire recipe. \n",
      "- Calories for each ingredient:\n",
      "    Chickpeas: 728 calories for 2 cups\n",
      "    Cucumber: 16 calories for 1 medium\n",
      "    Cherry Tomatoes: 32 calories per cup\n",
      "    Red Onion: 15 calories per 1/4 cup\n",
      "    Kalamata Olives: 45 calories per 1/4 cup\n",
      "    Feta Cheese: 198 calories per 1/2 cup (if used)\n",
      "    Extra-Virgin Olive Oil: 358 calories per 3 tablespoons\n",
      "    Lemon Juice: 8 calories per 2 tablespoons\n",
      "    Parsley: Negligible\n",
      "    Dried Oregano, Salt, Black Pepper: Negligible\n",
      "- Serving People: 4\n",
      " </total_calories_estimation>\n",
      "</recipe>\n",
      "\n"
     ]
    }
   ],
   "source": [
    "print(soup.prettify())"
   ]
  },
  {
   "cell_type": "code",
   "execution_count": 155,
   "metadata": {},
   "outputs": [],
   "source": [
    "from pydantic import BaseModel\n",
    "from typing import  List, Optional\n",
    "class Nutrition(BaseModel):\n",
    "    fat: Optional[str] = None\n",
    "    protein: Optional[str] = None\n",
    "    carbohydrate: Optional[str] = None\n",
    "\n",
    "class Recipe(BaseModel):\n",
    "    id: str\n",
    "    recipe_name:str\n",
    "    ingredients: List[dict]\n",
    "    directions: str\n",
    "    nutrition: Nutrition\n",
    "    total_calories_estimation: str \n",
    "\n",
    "class Recipes(BaseModel):\n",
    "    recipes: List[Recipe] = []"
   ]
  },
  {
   "cell_type": "code",
   "execution_count": 156,
   "metadata": {},
   "outputs": [],
   "source": [
    "def read_xml_file(file_path: str):\n",
    "    with open(file_path, 'r') as f:\n",
    "        file = f.read() \n",
    "        return file\n",
    "\n",
    "def clean_text(content: str):\n",
    "    clean_content = content.strip()\n",
    "    return clean_content\n",
    "\n",
    "def clean_ingredient(content: str):\n",
    "    ingredients = []\n",
    "    lines = content.split('\\n')\n",
    "    for line in lines:\n",
    "        if len(line)>1:\n",
    "            temp = {}\n",
    "            if ':' in line:\n",
    "                tokens = line.split(':')\n",
    "                temp['name'] = tokens[0].replace('-','').strip()\n",
    "                temp['quantity'] = tokens[1].strip()\n",
    "            else:\n",
    "                print(len(line))\n",
    "                temp['name'] = line.replace('-','').strip()\n",
    "                temp['quantity'] = 'NA'\n",
    "            ingredients.append(temp)\n",
    "    return ingredients"
   ]
  },
  {
   "cell_type": "code",
   "execution_count": 167,
   "metadata": {},
   "outputs": [],
   "source": [
    "from pathlib import Path\n",
    "def parse_llm_recipes(file_paths:list):\n",
    "    recipes = Recipes()\n",
    "    for file_path in file_paths:\n",
    "        print(f'Parsing file:{file_path}')\n",
    "        id = Path(file_path).stem\n",
    "        file = read_xml_file(file_path)\n",
    "        soup = BeautifulSoup(file, 'xml')\n",
    "        recipe_name = soup.find('recipe_name')\n",
    "        recipe_name = clean_text(recipe_name.text)\n",
    "        ingredients = soup.find('ingredients')\n",
    "        ingredients = clean_ingredient(ingredients.text)\n",
    "        directions = soup.find('directions')\n",
    "        directions = clean_text(directions.text)\n",
    "        nutrition = soup.find('nutrition')\n",
    "        nutrition = clean_text(nutrition.text)\n",
    "        parsed_nutrition = extract_nutrition_values(text=nutrition)\n",
    "        nutrition = Nutrition(fat=parsed_nutrition['fat'], protein=parsed_nutrition['protein'],carbohydrate=parsed_nutrition['carbohydrate'])\n",
    "        total_calories_estimation = soup.find('total_calories_estimation')\n",
    "        total_calories_estimation = clean_text(total_calories_estimation.text)\n",
    "        recipe = Recipe(id = id, \n",
    "                        recipe_name = recipe_name, \n",
    "                        ingredients = ingredients,\n",
    "                        directions=directions, \n",
    "                        nutrition=nutrition,\n",
    "                        total_calories_estimation=total_calories_estimation)\n",
    "        recipes.recipes.append(recipe) \n",
    "    return recipes "
   ]
  },
  {
   "cell_type": "code",
   "execution_count": 170,
   "metadata": {},
   "outputs": [
    {
     "name": "stdout",
     "output_type": "stream",
     "text": [
      "Parsing file:../data/generated_recipe_v2/14.xml\n",
      "Parsing file:../data/generated_recipe_v2/15.xml\n",
      "Parsing file:../data/generated_recipe_v2/17.xml\n",
      "Parsing file:../data/generated_recipe_v2/16.xml\n",
      "Parsing file:../data/generated_recipe_v2/12.xml\n",
      "Parsing file:../data/generated_recipe_v2/13.xml\n",
      "Parsing file:../data/generated_recipe_v2/11.xml\n",
      "Parsing file:../data/generated_recipe_v2/20.xml\n",
      "Parsing file:../data/generated_recipe_v2/18.xml\n",
      "Parsing file:../data/generated_recipe_v2/19.xml\n"
     ]
    }
   ],
   "source": [
    "llm_recipes = parse_llm_recipes(file_paths)"
   ]
  },
  {
   "cell_type": "code",
   "execution_count": 103,
   "metadata": {},
   "outputs": [
    {
     "data": {
      "text/plain": [
       "Recipes(recipes=[Recipe(id='8', recipe_name='Spicy Grilled Chicken Salad', ingredients=[{'name': 'Chicken breasts', 'quantity': '2 (about 6 ounces each), boneless and skinless'}, {'name': 'Mixed salad greens', 'quantity': '4 cups'}, {'name': 'Cherry tomatoes', 'quantity': '1 cup, halved'}, {'name': 'Cucumber', 'quantity': '1, thinly sliced'}, {'name': 'Red onion', 'quantity': '1/4 cup, thinly sliced'}, {'name': 'Avocado', 'quantity': '1, sliced'}, {'name': 'Olive oil', 'quantity': '2 tbsp (plus 1 tsp for grilling)'}, {'name': 'Apple cider vinegar', 'quantity': '2 tbsp'}, {'name': 'Dijon mustard', 'quantity': '1 tsp'}, {'name': 'Garlic powder', 'quantity': '1/2 tsp'}, {'name': 'Paprika', 'quantity': '1/2 tsp'}, {'name': 'Dried oregano', 'quantity': '1/2 tsp'}, {'name': 'Salt', 'quantity': '1/4 tsp'}, {'name': 'Black pepper', 'quantity': '1/4 tsp'}, {'name': 'Lemon juice', 'quantity': 'from 1 lemon'}], directions='1. Preheat your grill to medium-high heat.\\n2. In a small bowl, mix together 1 tsp of olive oil, 1/4 tsp of garlic powder, 1/2 tsp of paprika, 1/2 tsp of dried oregano, 1/8 tsp of salt, and 1/8 tsp of black pepper. Rub this spice mixture all over the chicken breasts.\\n3. Grill the chicken for 5-7 minutes on each side or until the internal temperature reaches 165°F (74°C).\\n4. While the chicken grills, prepare the salad by tossing the mixed greens, cherry tomatoes, cucumber, red onion, and avocado in a large salad bowl.\\n5. In another small bowl, whisk together the remaining olive oil, apple cider vinegar, Dijon mustard, the rest of the garlic powder, lemon juice, and the remaining salt and pepper to create the dressing.\\n6. Once the chicken is cooked, let it rest for a few minutes, then slice it against the grain.\\n7. Drizzle the dressing over the salad and toss to combine.\\n8. Top the salad with the grilled chicken slices.\\n9. Serve immediately while the chicken is still warm.', nutrition=Nutrition(fat='22g', protein='36g', carbohydrate='12g')), Recipe(id='9', recipe_name='Stuffed Bell Peppers', ingredients=[{'name': 'Bell peppers', 'quantity': '4 large (any color)'}, {'name': 'Lean ground turkey', 'quantity': '1 pound'}, {'name': 'Onion', 'quantity': '1 medium, diced'}, {'name': 'Garlic', 'quantity': '2 cloves, minced'}, {'name': 'Cauliflower rice', 'quantity': '2 cups'}, {'name': 'Diced tomatoes', 'quantity': '1 can (14.5 ounces), no salt added, drained'}, {'name': 'Tomato sauce', 'quantity': '1/2 cup, no sugar added'}, {'name': 'Smoked paprika', 'quantity': '1 tsp'}, {'name': 'Cumin', 'quantity': '1/2 tsp'}, {'name': 'Oregano', 'quantity': '1 tsp'}, {'name': 'Cheddar cheese, shredded (optional)', 'quantity': '1 cup (or use a dairy-free cheese substitute)'}, {'name': 'Olive oil', 'quantity': '2 tbsp'}, {'name': 'Salt and pepper', 'quantity': 'to taste'}, {'name': 'Fresh parsley, chopped (for garnish, optional)', 'quantity': 'NA'}], directions='1. Preheat your oven to 350°F (175°C).\\n2. Slice the tops off the bell peppers and remove the seeds and membranes. Set aside.\\n3. Heat olive oil in a large skillet over medium-high heat. Add the onions and garlic, sautéing until translucent.\\n4. Add the ground turkey to the skillet, breaking it up with a spoon and cook until browned.\\n5. Stir in the cauliflower rice, diced tomatoes, tomato sauce, smoked paprika, cumin, and oregano. Cook for an additional 5 minutes, allowing flavors to combine.\\n6. Season the mixture with salt and pepper to taste.\\n7. Fill each bell pepper with the turkey and cauliflower rice mixture and place them standing up in a baking dish.\\n8. If using cheese, sprinkle the top of each stuffed pepper with cheese. Otherwise, you can leave them as is for a dairy-free option.\\n9. Pour about 1/4 cup of water into the bottom of the baking dish to help steam the peppers as they cook.\\n10. Cover the baking dish with aluminum foil and bake for 35-40 minutes, until the peppers are tender.\\n11. If you have added cheese, remove the foil in the last 5 minutes of baking to allow the cheese to melt and get slightly crispy.\\n12. Serve hot, garnished with fresh parsley if desired.', nutrition=Nutrition(fat='10g', protein='27g', carbohydrate='18g')), Recipe(id='10', recipe_name='Chia Seed  Berry Parfait', ingredients=[{'name': 'Chia seeds', 'quantity': '3 tablespoons'}, {'name': 'Unsweetened almond milk', 'quantity': '1 cup'}, {'name': 'Vanilla extract', 'quantity': '1/2 teaspoon'}, {'name': 'Stevia or monk fruit sweetener', 'quantity': '1 tablespoon (adjust to taste)'}, {'name': 'Fresh mixed berries (strawberries, blueberries, raspberries)', 'quantity': '1 cup'}, {'name': 'Plain Greek yogurt', 'quantity': '1/2 cup (use a dairy-free alternative for vegan option)'}, {'name': 'Slivered almonds or walnuts (optional)', 'quantity': '2 tablespoons for garnish'}, {'name': 'Mint leaves (optional)', 'quantity': 'for garnish'}], directions='1. In a bowl, combine the chia seeds, unsweetened almond milk, vanilla extract, and sweetener of choice. Mix well until fully combined.\\n2. Cover the bowl with plastic wrap or a lid and place it in the refrigerator to set overnight, or for at least 4 hours. The chia seeds will absorb the almond milk and form a pudding-like texture.\\n3. Once the chia pudding is set, give it a good stir to break up any clumps.\\n4. Begin assembling the parfait by adding a layer of chia pudding at the bottom of a serving glass or bowl.\\n5. Follow with a layer of Greek yogurt.\\n6. Add a layer of fresh mixed berries on top of the yogurt.\\n7. Repeat the layers until the glass or bowl is full, ending with berries on the top.\\n8. Garnish with slivered almonds or walnuts and mint leaves if desired.\\n9. Serve immediately or keep chilled until ready to eat.', nutrition=Nutrition(fat='10g', protein='15g', carbohydrate='24g')), Recipe(id='4', recipe_name='Spinach and Mushroom Egg Muffins', ingredients=[{'name': 'Eggs', 'quantity': '6 large'}, {'name': 'Fresh spinach', 'quantity': '1 cup (chopped)'}, {'name': 'Mushrooms', 'quantity': '1 cup (diced)'}, {'name': 'Reducedfat cheese', 'quantity': '1/2 cup (shredded)'}, {'name': 'Milk', 'quantity': '1/4 cup (skim or almond milk)'}, {'name': 'Salt', 'quantity': '1/4 tsp'}, {'name': 'Pepper', 'quantity': '1/4 tsp'}, {'name': 'Cooking spray', 'quantity': 'for muffin tin'}], directions='1. Preheat your oven to 350°F (175°C). Spray a 12-cup muffin tin with cooking spray to prevent sticking.\\n2. In a large bowl, beat the eggs with milk, salt, and pepper.\\n3. Stir in the chopped spinach, diced mushrooms, and shredded cheese until well combined.\\n4. Divide the mixture evenly among the 12 muffin cups.\\n5. Bake in the preheated oven for 20-25 minutes, or until the egg muffins are set in the center and lightly golden on top.\\n6. Let the muffins cool for a few minutes before removing them from the tin.\\n7. Serve warm, or store in the refrigerator for an easy grab-and-go breakfast throughout the week.', nutrition=Nutrition(fat='5g', protein='8g', carbohydrate='2g')), Recipe(id='5', recipe_name='Mediterranean Chickpea Salad Jars', ingredients=[{'name': 'Chickpeas', 'quantity': '2 cups (cooked or canned, drained and rinsed)'}, {'name': 'Cherry tomatoes', 'quantity': '1 cup (halved)'}, {'name': 'Cucumber', 'quantity': '1 cup (chopped)'}, {'name': 'Red onion', 'quantity': '1/2 cup (thinly sliced)'}, {'name': 'Kalamata olives', 'quantity': '1/4 cup (pitted and halved)'}, {'name': 'Feta cheese', 'quantity': '1/2 cup (crumbled, use a vegan alternative if necessary)'}, {'name': 'Olive oil', 'quantity': '2 tbsp'}, {'name': 'Lemon juice', 'quantity': '2 tbsp (freshly squeezed)'}, {'name': 'Garlic', 'quantity': '1 clove (minced)'}, {'name': 'Dried oregano', 'quantity': '1 tsp'}, {'name': 'Salt', 'quantity': '1/4 tsp (or to taste)'}, {'name': 'Black pepper', 'quantity': '1/4 tsp (or to taste)'}, {'name': 'Baby spinach leaves', 'quantity': '2 cups (optional, for layering at the bottom of the jars)'}], directions='1. In a large mixing bowl, combine the chickpeas, cherry tomatoes, cucumber, red onion, Kalamata olives, and feta cheese.\\n2. In a small bowl, whisk together olive oil, lemon juice, minced garlic, dried oregano, salt, and black pepper to create the dressing.\\n3. Pour the dressing over the salad mixture and toss until everything is well coated.\\n4. If using, divide the baby spinach leaves between four mason jars or portable containers, creating a layer at the bottom.\\n5. Carefully spoon the chickpea salad mixture into the jars over the spinach, pressing down gently to fit everything in.\\n6. Seal the jars with lids, and refrigerate until ready to consume. The salad can last up to 4-5 days in the refrigerator, making it perfect for meal prep.\\n7. When ready to eat, shake the jar to mix the ingredients with the spinach, or pour the contents into a bowl and enjoy.', nutrition=Nutrition(fat='10g', protein='9g', carbohydrate='30g')), Recipe(id='7', recipe_name='Warm Cinnamon Oatmeal', ingredients=[{'name': 'Rolled oats', 'quantity': '1 cup'}, {'name': 'Water', 'quantity': '2 cups'}, {'name': 'Chopped apple', 'quantity': '1/2 cup'}, {'name': 'Ground cinnamon', 'quantity': '1 tsp'}, {'name': 'Vanilla extract', 'quantity': '1 tsp'}, {'name': 'Stevia or sugar substitute', 'quantity': '2 tbsp (or to taste)'}, {'name': 'Chopped walnuts or almonds (optional)', 'quantity': '2 tbsp'}, {'name': 'Milk or almond milk (for serving)', 'quantity': '1/2 cup'}, {'name': 'Fresh berries (for serving, optional)', 'quantity': '1/4 cup'}], directions='1. In a small saucepan, bring the water to a boil, then turn down the heat to medium.\\n2. Stir in the rolled oats and chopped apple, and continue to cook for 5 minutes, or until the oats are soft and have absorbed most of the water.\\n3. Remove from heat and stir in the ground cinnamon, vanilla extract, and sweetener.\\n4. Let the oatmeal sit for a minute to thicken further.\\n5. Spoon the warm oatmeal into bowls. If using, sprinkle with chopped nuts for extra crunch and texture.\\n6. Serve with milk or almond milk and fresh berries on top if desired.', nutrition=Nutrition(fat='6g', protein='6g', carbohydrate='30g')), Recipe(id='6', recipe_name='Grilled Lemon Herb Chicken Salad', ingredients=[{'name': 'Boneless, skinless chicken breasts', 'quantity': '4 (about 6 ounces each)'}, {'name': 'Fresh lemon juice', 'quantity': '1/4 cup'}, {'name': 'Olive oil', 'quantity': '2 tbsp, plus extra for salad'}, {'name': 'Garlic cloves', 'quantity': '2, minced'}, {'name': 'Dried oregano', 'quantity': '1 tsp'}, {'name': 'Dried thyme', 'quantity': '1 tsp'}, {'name': 'Dried rosemary', 'quantity': '1/2 tsp'}, {'name': 'Salt and pepper', 'quantity': 'to taste'}, {'name': 'Mixed salad greens', 'quantity': '8 cups'}, {'name': 'Cherry tomatoes', 'quantity': '1 cup, halved'}, {'name': 'Cucumber', 'quantity': '1 medium, sliced'}, {'name': 'Red onion', 'quantity': '1/4 cup, thinly sliced'}, {'name': 'Feta cheese', 'quantity': '1/2 cup, crumbled (optional for non-vegan)'}, {'name': 'Kalamata olives', 'quantity': '1/4 cup, pitted and halved'}, {'name': 'Balsamic vinegar', 'quantity': '2 tbsp (for dressing)'}], directions='1. In a bowl, whisk together lemon juice, 2 tablespoons olive oil, garlic, oregano, thyme, rosemary, and salt and pepper.\\n2. Place chicken breasts in a resealable plastic bag and pour the marinade over them. Seal the bag and ensure chicken is well coated. Marinate in the refrigerator for at least 30 minutes, or up to 2 hours.\\n3. Preheat the grill to medium-high heat. Remove chicken from the marinade and grill for 6-7 minutes per side or until the internal temperature reaches 165°F (74°C). Let it rest for a few minutes, then slice.\\n4. In a large salad bowl, toss together salad greens, cherry tomatoes, cucumber, red onion, feta cheese (if using), and kalamata olives.\\n5. Drizzle extra olive oil and balsamic vinegar over the salad and toss to coat evenly.\\n6. Arrange the salad on plates and top with the sliced grilled chicken.\\n7. Serve the salad immediately, with additional lemon wedges if desired.', nutrition=Nutrition(fat='14g', protein='35g', carbohydrate='10g')), Recipe(id='2', recipe_name='Grilled Chicken Salad with Mixed Greens', ingredients=[{'name': 'Boneless, skinless chicken breasts', 'quantity': '2 (about 6 ounces each)'}, {'name': 'Mixed salad greens', 'quantity': '4 cups'}, {'name': 'Cherry tomatoes', 'quantity': '1 cup (halved)'}, {'name': 'Cucumber', 'quantity': '1 medium (sliced)'}, {'name': 'Red onion', 'quantity': '1/4 cup (thinly sliced)'}, {'name': 'Balsamic vinegar', 'quantity': '2 tbsp'}, {'name': 'Olive oil', 'quantity': '1 tbsp'}, {'name': 'Dijon mustard', 'quantity': '1 tsp'}, {'name': 'Garlic', 'quantity': '1 clove (minced)'}, {'name': 'Italian seasoning', 'quantity': '1/2 tsp'}, {'name': 'Salt', 'quantity': '1/4 tsp'}, {'name': 'Black pepper', 'quantity': '1/4 tsp'}, {'name': 'Reducedfat feta cheese', 'quantity': '1/4 cup (crumbled)'}, {'name': 'Fresh basil leaves', 'quantity': 'A few (for garnish)'}], directions='1. Preheat your grill to medium-high heat.\\n2. Season the chicken breasts with salt, black pepper, and Italian seasoning.\\n3. Grill the chicken for 5-7 minutes per side, or until the internal temperature reaches 165°F (74°C) and the juices run clear.\\n4. While the chicken is grilling, combine the balsamic vinegar, olive oil, Dijon mustard, minced garlic, salt, and black pepper in a small bowl to make the dressing. Whisk together until well combined.\\n5. In a large salad bowl, toss the mixed greens, cherry tomatoes, cucumber, and red onion.\\n6. Once the chicken is cooked, let it rest for a few minutes and then slice it thinly.\\n7. Top the salad with the grilled chicken slices and crumbled feta cheese.\\n8. Drizzle the dressing over the salad and gently toss to coat.\\n9. Garnish with fresh basil leaves before serving.', nutrition=Nutrition(fat='9g', protein='31g', carbohydrate='14g')), Recipe(id='3', recipe_name='Grilled Chicken  Veggie Stir-Fry', ingredients=[{'name': 'Boneless chicken breast', 'quantity': '1 lb, cut into bite-sized pieces'}, {'name': 'Broccoli florets', 'quantity': '2 cups'}, {'name': 'Sliced bell peppers', 'quantity': '1 cup (assorted colors)'}, {'name': 'Sliced zucchini', 'quantity': '1 cup'}, {'name': 'Snap peas', 'quantity': '1 cup'}, {'name': 'Olive oil', 'quantity': '1 tbsp'}, {'name': 'Garlic cloves', 'quantity': '2, minced'}, {'name': 'Lowsodium soy sauce', 'quantity': '3 tbsp'}, {'name': 'Apple cider vinegar', 'quantity': '1 tbsp'}, {'name': 'Ground ginger', 'quantity': '1 tsp'}, {'name': 'Sesame oil', 'quantity': '1 tsp'}, {'name': 'Salt and pepper', 'quantity': 'to taste'}, {'name': 'Fresh cilantro', 'quantity': 'for garnish'}, {'name': 'Sesame seeds', 'quantity': 'for garnish'}], directions='1. Preheat the grill to medium-high heat.\\n2. In a large bowl, whisk together low-sodium soy sauce, apple cider vinegar, minced garlic, and ground ginger.\\n3. Add chicken pieces to the marinade and let sit for at least 15 minutes.\\n4. Heat olive oil in a large skillet or wok over medium-high heat.\\n5. Remove chicken from marinade (reserve the marinade) and add to the skillet. Cook until browned and cooked through, about 6-8 minutes.\\n6. Remove the chicken from the skillet and set aside.\\n7. In the same skillet, add more olive oil if needed, and stir-fry the broccoli, bell peppers, zucchini, and snap peas until they are tender-crisp, about 4-5 minutes.\\n8. Return the chicken to the skillet with the vegetables and pour in the reserved marinade.\\n9. Add sesame oil, and stir to combine all the ingredients well. Cook for another 2-3 minutes.\\n10. Season with salt and pepper to taste.\\n11. Serve hot, garnished with fresh cilantro and sesame seeds.', nutrition=Nutrition(fat=None, protein=None, carbohydrate=None)), Recipe(id='1', recipe_name='Spinach  Mushroom Egg White Frittata', ingredients=[{'name': 'Egg whites', 'quantity': '6 large'}, {'name': 'Fresh spinach', 'quantity': '2 cups, roughly chopped'}, {'name': 'Sliced mushrooms', 'quantity': '1 cup'}, {'name': 'Chopped red bell pepper', 'quantity': '1/2 cup'}, {'name': 'Chopped onion', 'quantity': '1/4 cup'}, {'name': 'Olive oil', 'quantity': '1 tbsp'}, {'name': 'Minced garlic', 'quantity': '1 tsp'}, {'name': 'Lowfat feta cheese', 'quantity': '1/4 cup, crumbled'}, {'name': 'Salt and pepper', 'quantity': 'to taste'}, {'name': 'Nonstick cooking spray', 'quantity': 'for greasing the pan'}], directions='1. Preheat your oven to 375°F (190°C).\\n2. In a non-stick skillet over medium heat, warm the olive oil. Add the onions, bell peppers, and minced garlic and sauté for 2-3 minutes until softened.\\n3. Add the sliced mushrooms to the skillet, and cook for another 2-4 minutes until they release their moisture and start to brown.\\n4. Toss in the chopped spinach and stir for about 1 minute until wilted. Season the vegetable mixture with a pinch of salt and pepper.\\n5. Spray an oven-safe dish with non-stick cooking spray. Transfer the sautéed vegetables into the dish, spreading them out evenly.\\n6. In a mixing bowl, beat the egg whites until slightly frothy and season with salt and pepper. Pour the egg whites over the vegetables in the dish.\\n7. Sprinkle crumbled feta cheese over the top of the egg white and vegetable mixture.\\n8. Place the dish in the preheated oven and bake for 20-25 minutes, or until the egg whites are set and the top of the frittata is lightly golden.\\n9. Remove from the oven and let it cool slightly before cutting into slices and serving.', nutrition=Nutrition(fat='5g', protein='12g', carbohydrate='5g'))])"
      ]
     },
     "execution_count": 103,
     "metadata": {},
     "output_type": "execute_result"
    }
   ],
   "source": [
    "llm_recipes"
   ]
  },
  {
   "cell_type": "code",
   "execution_count": 171,
   "metadata": {},
   "outputs": [],
   "source": [
    "import json\n",
    "with open('../data/generated_recipe_v2/gpt4_1106_recipes.json', 'w') as f:\n",
    "    json.dump(llm_recipes.model_dump(mode='json'), f, indent=4, ensure_ascii=False)"
   ]
  },
  {
   "cell_type": "code",
   "execution_count": null,
   "metadata": {},
   "outputs": [],
   "source": []
  }
 ],
 "metadata": {
  "kernelspec": {
   "display_name": ".venv",
   "language": "python",
   "name": "python3"
  },
  "language_info": {
   "codemirror_mode": {
    "name": "ipython",
    "version": 3
   },
   "file_extension": ".py",
   "mimetype": "text/x-python",
   "name": "python",
   "nbconvert_exporter": "python",
   "pygments_lexer": "ipython3",
   "version": "3.11.3"
  }
 },
 "nbformat": 4,
 "nbformat_minor": 2
}
