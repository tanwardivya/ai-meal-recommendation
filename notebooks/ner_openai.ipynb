{
 "cells": [
  {
   "cell_type": "code",
   "execution_count": 1,
   "metadata": {},
   "outputs": [
    {
     "name": "stdout",
     "output_type": "stream",
     "text": [
      "\n",
      "\u001b[1m[\u001b[0m\u001b[34;49mnotice\u001b[0m\u001b[1;39;49m]\u001b[0m\u001b[39;49m A new release of pip available: \u001b[0m\u001b[31;49m22.3.1\u001b[0m\u001b[39;49m -> \u001b[0m\u001b[32;49m24.0\u001b[0m\n",
      "\u001b[1m[\u001b[0m\u001b[34;49mnotice\u001b[0m\u001b[1;39;49m]\u001b[0m\u001b[39;49m To update, run: \u001b[0m\u001b[32;49mpip install --upgrade pip\u001b[0m\n",
      "Note: you may need to restart the kernel to use updated packages.\n",
      "\n",
      "\u001b[1m[\u001b[0m\u001b[34;49mnotice\u001b[0m\u001b[1;39;49m]\u001b[0m\u001b[39;49m A new release of pip available: \u001b[0m\u001b[31;49m22.3.1\u001b[0m\u001b[39;49m -> \u001b[0m\u001b[32;49m24.0\u001b[0m\n",
      "\u001b[1m[\u001b[0m\u001b[34;49mnotice\u001b[0m\u001b[1;39;49m]\u001b[0m\u001b[39;49m To update, run: \u001b[0m\u001b[32;49mpip install --upgrade pip\u001b[0m\n",
      "Note: you may need to restart the kernel to use updated packages.\n",
      "\n",
      "\u001b[1m[\u001b[0m\u001b[34;49mnotice\u001b[0m\u001b[1;39;49m]\u001b[0m\u001b[39;49m A new release of pip available: \u001b[0m\u001b[31;49m22.3.1\u001b[0m\u001b[39;49m -> \u001b[0m\u001b[32;49m24.0\u001b[0m\n",
      "\u001b[1m[\u001b[0m\u001b[34;49mnotice\u001b[0m\u001b[1;39;49m]\u001b[0m\u001b[39;49m To update, run: \u001b[0m\u001b[32;49mpip install --upgrade pip\u001b[0m\n",
      "Note: you may need to restart the kernel to use updated packages.\n"
     ]
    }
   ],
   "source": [
    "%pip install --upgrade openai --quiet\n",
    "%pip install --upgrade nlpia2-wikipedia --quiet\n",
    "%pip install --upgrade tenacity --quiet"
   ]
  },
  {
   "cell_type": "code",
   "execution_count": 1,
   "metadata": {},
   "outputs": [
    {
     "data": {
      "text/plain": [
       "True"
      ]
     },
     "execution_count": 1,
     "metadata": {},
     "output_type": "execute_result"
    }
   ],
   "source": [
    "from dotenv import load_dotenv\n",
    "load_dotenv('../.vscode/.env')"
   ]
  },
  {
   "cell_type": "markdown",
   "metadata": {},
   "source": [
    "Named Entity Recognition for Ingredients"
   ]
  },
  {
   "cell_type": "code",
   "execution_count": 2,
   "metadata": {},
   "outputs": [],
   "source": [
    "import json\n",
    "import logging\n",
    "import os\n",
    "\n",
    "import openai\n",
    "import wikipedia\n",
    "\n",
    "from typing import Optional\n",
    "from IPython.display import display, Markdown\n",
    "from tenacity import retry, wait_random_exponential, stop_after_attempt\n",
    "\n",
    "logging.basicConfig(level=logging.INFO, format=' %(asctime)s - %(levelname)s - %(message)s')\n",
    "\n",
    "OPENAI_MODEL = 'gpt-3.5-turbo-0613'\n",
    "\n",
    "client = openai.OpenAI(api_key=os.environ.get(\"OPENAI_API_KEY\", \"\"))"
   ]
  },
  {
   "cell_type": "code",
   "execution_count": 3,
   "metadata": {},
   "outputs": [],
   "source": [
    "labels = [\n",
    "    \"person\",      # people, including fictional characters\n",
    "    \"fac\",         # buildings, airports, highways, bridges\n",
    "    \"org\",         # organizations, companies, agencies, institutions\n",
    "    \"gpe\",         # geopolitical entities like countries, cities, states\n",
    "    \"loc\",         # non-gpe locations\n",
    "    \"product\",     # vehicles, foods, appareal, appliances, software, toys \n",
    "    \"event\",       # named sports, scientific milestones, historical events\n",
    "    \"work_of_art\", # titles of books, songs, movies\n",
    "    \"law\",         # named laws, acts, or legislations\n",
    "    \"language\",    # any named language\n",
    "    \"date\",        # absolute or relative dates or periods\n",
    "    \"time\",        # time units smaller than a day\n",
    "    \"percent\",     # percentage (e.g., \"twenty percent\", \"18%\")\n",
    "    \"money\",       # monetary values, including unit\n",
    "    \"quantity\",    # measurements, e.g., weight or distance\n",
    "]"
   ]
  },
  {
   "cell_type": "code",
   "execution_count": 18,
   "metadata": {},
   "outputs": [],
   "source": [
    "def system_message(labels):\n",
    "    return f\"\"\"\n",
    "You are an expert in Natural Language Processing. Your task is to identify common Named Entities (NER) in a given text.\n",
    "The possible common Named Entities (NER) types are exclusively: ({\", \".join(labels)}).\"\"\""
   ]
  },
  {
   "cell_type": "code",
   "execution_count": 19,
   "metadata": {},
   "outputs": [],
   "source": [
    "def assisstant_message():\n",
    "    return f\"\"\"\n",
    "EXAMPLE:\n",
    "    Text: '1 pie crust (store-bought or homemade), 6 cups thinly sliced apples (such as Granny Smith or a combination of tart and sweet apples), 3/4 cup granulated sugar, 2 tbsp all-purpose flour, 1 tsp ground cinnamon, 1/4 tsp ground nutmeg, 1/4 tsp salt, 1 tsp vanilla extract, 1/2 cup unsalted butter (cold and cut into small pieces), 3/4 cup all-purpose flour (for crumb topping), 1/2 cup brown sugar (packed, for crumb topping), 1/4 tsp baking powder (for crumb topping), 1/4 tsp salt (for crumb topping), Optional: Vanilla ice cream or whipped cream for serving'\n",
    "    {{\n",
    "        \"product\": [\"pie crust\",\"apples\", \"granulated sugar\", \"all-purpose flour\", \"ground cinnamon\", \"ground nutmeg\", \"salt\", \"vanilla extract\", \"unsalted water\",\"brown sugar\",\"baking powder\", \"vanilla ice cream\", \"whipped cream\"],\n",
    "        \"quantity\": [\"1\", \"6 cups\", \"3/4 cups\", \"2 tbsp\",\"1 tsp\",\"1/4 tsp\", \"1/4 tsp\", \"1 tsp\", \"1/2 cup\", \"3/4 cup\", \"1/2 cup\", \"1/4 tsp\", \"1/4 tsp\"]\n",
    "    }}\n",
    "--\"\"\""
   ]
  },
  {
   "cell_type": "code",
   "execution_count": 20,
   "metadata": {},
   "outputs": [],
   "source": [
    "def user_message(text):\n",
    "    return f\"\"\"\n",
    "TASK:\n",
    "    Text: {text}\n",
    "\"\"\""
   ]
  },
  {
   "cell_type": "code",
   "execution_count": 21,
   "metadata": {},
   "outputs": [],
   "source": [
    "@retry(wait=wait_random_exponential(min=1, max=10), stop=stop_after_attempt(5))\n",
    "def find_link(entity: str) -> Optional[str]:\n",
    "    \"\"\"\n",
    "    Finds a Wikipedia link for a given entity.\n",
    "    \"\"\"\n",
    "    try:\n",
    "        titles = wikipedia.search(entity)\n",
    "        if titles:\n",
    "            # naively consider the first result as the best\n",
    "            page = wikipedia.page(titles[0])\n",
    "            return page.url\n",
    "    except (wikipedia.exceptions.WikipediaException) as ex:\n",
    "        logging.error(f'Error occurred while searching for Wikipedia link for entity {entity}: {str(ex)}')\n",
    "\n",
    "    return None"
   ]
  },
  {
   "cell_type": "code",
   "execution_count": 22,
   "metadata": {},
   "outputs": [],
   "source": [
    "def find_all_links(label_entities:dict) -> dict:\n",
    "    \"\"\" \n",
    "    Finds all Wikipedia links for the dictionary entities in the whitelist label list.\n",
    "    \"\"\"\n",
    "    whitelist = ['event', 'gpe', 'org', 'person', 'product', 'work_of_art',\"quantity\"]\n",
    "    \n",
    "    return {e: find_link(e) for label, entities in label_entities.items() \n",
    "                            for e in entities\n",
    "                            if label in whitelist}"
   ]
  },
  {
   "cell_type": "code",
   "execution_count": 28,
   "metadata": {},
   "outputs": [],
   "source": [
    "def enrich_entities(text: str, label_entities: dict) -> str:\n",
    "    \"\"\"\n",
    "    Enriches text with knowledge base links.\n",
    "    \"\"\"\n",
    "    # entity_link_dict = find_all_links(label_entities)\n",
    "    # logging.info(f\"entity_link_dict: {entity_link_dict}\")\n",
    "    \n",
    "    # for entity, link in entity_link_dict.items():\n",
    "    #     text = text.replace(entity, f\"[{entity}]({link})\")\n",
    "\n",
    "    return label_entities['quantity']"
   ]
  },
  {
   "cell_type": "code",
   "execution_count": 29,
   "metadata": {},
   "outputs": [],
   "source": [
    "def generate_functions(labels: dict) -> list:\n",
    "    return [\n",
    "        {   \n",
    "            \"type\": \"function\",\n",
    "            \"function\": {\n",
    "                \"name\": \"enrich_entities\",\n",
    "                \"description\": \"Enrich Text with Knowledge Base Links\",\n",
    "                \"parameters\": {\n",
    "                    \"type\": \"object\",\n",
    "                        \"properties\": {\n",
    "                            \"r'^(?:' + '|'.join({labels}) + ')$'\": \n",
    "                            {\n",
    "                                \"type\": \"array\",\n",
    "                                \"items\": {\n",
    "                                    \"type\": \"string\"\n",
    "                                }\n",
    "                            }\n",
    "                        },\n",
    "                        \"additionalProperties\": False\n",
    "                },\n",
    "            }\n",
    "        }\n",
    "    ]"
   ]
  },
  {
   "cell_type": "code",
   "execution_count": 30,
   "metadata": {},
   "outputs": [],
   "source": [
    "@retry(wait=wait_random_exponential(min=1, max=10), stop=stop_after_attempt(5))\n",
    "def run_openai_task(labels, text):\n",
    "    messages = [\n",
    "          {\"role\": \"system\", \"content\": system_message(labels=labels)},\n",
    "          {\"role\": \"assistant\", \"content\": assisstant_message()},\n",
    "          {\"role\": \"user\", \"content\": user_message(text=text)}\n",
    "      ]\n",
    "\n",
    "    # TODO: functions and function_call are deprecated, need to be updated\n",
    "    # See: https://platform.openai.com/docs/api-reference/chat/create#chat-create-tools\n",
    "    response = openai.chat.completions.create(\n",
    "        model=\"gpt-3.5-turbo-0613\",\n",
    "        messages=messages,\n",
    "        tools=generate_functions(labels),\n",
    "        tool_choice={\"type\": \"function\", \"function\" : {\"name\": \"enrich_entities\"}}, \n",
    "        temperature=0,\n",
    "        frequency_penalty=0,\n",
    "        presence_penalty=0,\n",
    "    )\n",
    "\n",
    "    response_message = response.choices[0].message\n",
    "    \n",
    "    available_functions = {\"enrich_entities\": enrich_entities}  \n",
    "    function_name = response_message.tool_calls[0].function.name\n",
    "    \n",
    "    function_to_call = available_functions[function_name]\n",
    "    logging.info(f\"function_to_call: {function_to_call}\")\n",
    "\n",
    "    function_args = json.loads(response_message.tool_calls[0].function.arguments)\n",
    "    logging.info(f\"function_args: {function_args}\")\n",
    "\n",
    "    function_response = function_to_call(text, function_args)\n",
    "\n",
    "    return {\"model_response\": response, \n",
    "            \"function_response\": function_response}"
   ]
  },
  {
   "cell_type": "code",
   "execution_count": 31,
   "metadata": {},
   "outputs": [
    {
     "name": "stderr",
     "output_type": "stream",
     "text": [
      " 2024-04-07 12:38:09,688 - INFO - HTTP Request: POST https://api.openai.com/v1/chat/completions \"HTTP/1.1 200 OK\"\n",
      " 2024-04-07 12:38:09,692 - INFO - function_to_call: <function enrich_entities at 0x121198c20>\n",
      " 2024-04-07 12:38:09,692 - INFO - function_args: {'quantity': ['6 cups', '1 tablespoon', '¾ cup', '2 tablespoons', '½ teaspoon', '⅛ teaspoon', '½ cup', '1 (9 inch)', '½ cup', '½ cup', '3 tablespoons'], 'product': ['apples', 'lemon juice', 'white sugar', 'all-purpose flour', 'ground cinnamon', 'ground nutmeg', 'raisins', 'chopped walnuts', 'pie shell', 'all-purpose flour', 'packed brown sugar', 'butter']}\n"
     ]
    }
   ],
   "source": [
    "text = \"\"\"6 cups thinly sliced apples, 1 tablespoon lemon juice (Optional), ¾ cup white sugar, 2 tablespoons all-purpose flour, ½ teaspoon ground cinnamon, ⅛ teaspoon ground nutmeg, ½ cup raisins (Optional), ½ cup chopped walnuts (Optional), 1 (9 inch) pie shell, ½ cup all-purpose flour, ½ cup packed brown sugar, 3 tablespoons butter\"\"\"\n",
    "result = run_openai_task(labels, text)"
   ]
  },
  {
   "cell_type": "code",
   "execution_count": 13,
   "metadata": {},
   "outputs": [
    {
     "data": {
      "text/markdown": [
       "**Text:** 6 cups thinly sliced apples, 1 tablespoon lemon juice (Optional), ¾ cup white sugar, 2 tablespoons all-purpose flour, ½ teaspoon ground cinnamon, ⅛ teaspoon ground nutmeg, ½ cup raisins (Optional), ½ cup chopped walnuts (Optional), 1 (9 inch) pie shell, ½ cup all-purpose flour, ½ cup packed brown sugar, 3 tablespoons butter   \n",
       "                     **Enriched_Text:** 6 cups thinly sliced [apples](https://en.wikipedia.org/wiki/Apple), 1 tablespoon [lemon juice](https://en.wikipedia.org/wiki/Lemon) (Optional), ¾ cup [white sugar](https://en.wikipedia.org/wiki/White_sugar), 2 tablespoons [all-purpose flour](https://en.wikipedia.org/wiki/Flour), ½ teaspoon [ground cinnamon](https://en.wikipedia.org/wiki/Cinnamon_challenge), ⅛ teaspoon [ground nutmeg](https://en.wikipedia.org/wiki/Nutmeg), ½ cup [raisins](https://en.wikipedia.org/wiki/Raisin) (Optional), ½ cup [chopped walnuts](https://en.wikipedia.org/wiki/Kharcho) (Optional), 1 (9 inch) [pie shell](https://en.wikipedia.org/wiki/Scotch_pie), ½ cup [all-purpose flour](https://en.wikipedia.org/wiki/Flour), ½ cup [packed brown sugar](https://en.wikipedia.org/wiki/Sugar), 3 tablespoons [butter](https://en.wikipedia.org/wiki/Butter)"
      ],
      "text/plain": [
       "<IPython.core.display.Markdown object>"
      ]
     },
     "metadata": {},
     "output_type": "display_data"
    }
   ],
   "source": [
    "display(Markdown(f\"\"\"**Text:** {text}   \n",
    "                     **Enriched_Text:** {result['function_response']}\"\"\"))"
   ]
  },
  {
   "cell_type": "code",
   "execution_count": 14,
   "metadata": {},
   "outputs": [
    {
     "data": {
      "text/plain": [
       "{'model_response': ChatCompletion(id='chatcmpl-8uvdXw4SumgkSVdDwzcyWOSLuh6wU', choices=[Choice(finish_reason='stop', index=0, logprobs=None, message=ChatCompletionMessage(content=None, role='assistant', function_call=None, tool_calls=[ChatCompletionMessageToolCall(id='call_DhsUzxFOrsrxuBEdJVlgYDmF', function=Function(arguments='{\\n    \"product\": [\"apples\", \"lemon juice\", \"white sugar\", \"all-purpose flour\", \"ground cinnamon\", \"ground nutmeg\", \"raisins\", \"chopped walnuts\", \"pie shell\", \"packed brown sugar\", \"butter\"]\\n}', name='enrich_entities'), type='function')]))], created=1708578615, model='gpt-3.5-turbo-0613', object='chat.completion', system_fingerprint=None, usage=CompletionUsage(completion_tokens=56, prompt_tokens=466, total_tokens=522)),\n",
       " 'function_response': '6 cups thinly sliced [apples](https://en.wikipedia.org/wiki/Apple), 1 tablespoon [lemon juice](https://en.wikipedia.org/wiki/Lemon) (Optional), ¾ cup [white sugar](https://en.wikipedia.org/wiki/White_sugar), 2 tablespoons [all-purpose flour](https://en.wikipedia.org/wiki/Flour), ½ teaspoon [ground cinnamon](https://en.wikipedia.org/wiki/Cinnamon_challenge), ⅛ teaspoon [ground nutmeg](https://en.wikipedia.org/wiki/Nutmeg), ½ cup [raisins](https://en.wikipedia.org/wiki/Raisin) (Optional), ½ cup [chopped walnuts](https://en.wikipedia.org/wiki/Kharcho) (Optional), 1 (9 inch) [pie shell](https://en.wikipedia.org/wiki/Scotch_pie), ½ cup [all-purpose flour](https://en.wikipedia.org/wiki/Flour), ½ cup [packed brown sugar](https://en.wikipedia.org/wiki/Sugar), 3 tablespoons [butter](https://en.wikipedia.org/wiki/Butter)'}"
      ]
     },
     "execution_count": 14,
     "metadata": {},
     "output_type": "execute_result"
    }
   ],
   "source": [
    "result"
   ]
  },
  {
   "cell_type": "code",
   "execution_count": 15,
   "metadata": {},
   "outputs": [
    {
     "name": "stdout",
     "output_type": "stream",
     "text": [
      "5\n"
     ]
    }
   ],
   "source": [
    "arr1 = ['apples', 'lemon juice', 'white sugar', 'all-purpose flour', 'ground cinnamon', 'ground nutmeg', 'raisins', 'chopped walnuts', 'pie shell', 'packed brown sugar', 'butter']\n",
    "arr2 = [\"pie crust\", \"apples\", \"granulated sugar\", \"all-purpose flour\", \"ground cinnamon\", \"ground nutmeg\", \"salt\", \"vanilla extract\", \"unsalted water\", \"brown sugar\", \"baking powder\", \"vanilla ice cream\", \"whipped cream\"]\n",
    "\n",
    "def count_partial_matches(arr1, arr2):\n",
    "    intersection = []\n",
    "    for item1 in arr1:\n",
    "        for item2 in arr2:\n",
    "            # Check if item1 is part of item2 or item2 is part of item1\n",
    "            if item1 in item2 or item2 in item1:\n",
    "                # To avoid duplicates in the intersection list\n",
    "                matched_item = next((x for x in intersection if item1 in x or item2 in x), None)\n",
    "                if not matched_item:\n",
    "                    intersection.append(item1 if len(item1) < len(item2) else item2)\n",
    "    return len(intersection)\n",
    "\n",
    "match_count = count_partial_matches(arr1, arr2)\n",
    "print(match_count)"
   ]
  },
  {
   "cell_type": "code",
   "execution_count": null,
   "metadata": {},
   "outputs": [],
   "source": []
  }
 ],
 "metadata": {
  "kernelspec": {
   "display_name": ".venv",
   "language": "python",
   "name": "python3"
  },
  "language_info": {
   "codemirror_mode": {
    "name": "ipython",
    "version": 3
   },
   "file_extension": ".py",
   "mimetype": "text/x-python",
   "name": "python",
   "nbconvert_exporter": "python",
   "pygments_lexer": "ipython3",
   "version": "3.11.3"
  }
 },
 "nbformat": 4,
 "nbformat_minor": 2
}
