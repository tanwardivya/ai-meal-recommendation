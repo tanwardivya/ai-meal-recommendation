{
 "cells": [
  {
   "cell_type": "code",
   "execution_count": 1,
   "metadata": {},
   "outputs": [
    {
     "name": "stdout",
     "output_type": "stream",
     "text": [
      "Collecting kaggle\n",
      "  Downloading kaggle-1.6.4.tar.gz (84 kB)\n",
      "\u001b[2K     \u001b[90m━━━━━━━━━━━━━━━━━━━━━━━━━━━━━━━━━━━━━━━━\u001b[0m \u001b[32m84.6/84.6 kB\u001b[0m \u001b[31m2.1 MB/s\u001b[0m eta \u001b[36m0:00:00\u001b[0m\n",
      "\u001b[?25h  Preparing metadata (setup.py) ... \u001b[?25ldone\n",
      "\u001b[?25hRequirement already satisfied: six>=1.10 in /Users/divyadhara/Documents/CPSC597/ai-meal-recommendation/.venv/lib/python3.11/site-packages (from kaggle) (1.16.0)\n",
      "Requirement already satisfied: certifi in /Users/divyadhara/Documents/CPSC597/ai-meal-recommendation/.venv/lib/python3.11/site-packages (from kaggle) (2023.11.17)\n",
      "Requirement already satisfied: python-dateutil in /Users/divyadhara/Documents/CPSC597/ai-meal-recommendation/.venv/lib/python3.11/site-packages (from kaggle) (2.8.2)\n",
      "Collecting requests\n",
      "  Downloading requests-2.31.0-py3-none-any.whl (62 kB)\n",
      "\u001b[2K     \u001b[90m━━━━━━━━━━━━━━━━━━━━━━━━━━━━━━━━━━━━━━━━\u001b[0m \u001b[32m62.6/62.6 kB\u001b[0m \u001b[31m2.2 MB/s\u001b[0m eta \u001b[36m0:00:00\u001b[0m\n",
      "\u001b[?25hRequirement already satisfied: tqdm in /Users/divyadhara/Documents/CPSC597/ai-meal-recommendation/.venv/lib/python3.11/site-packages (from kaggle) (4.66.1)\n",
      "Collecting python-slugify\n",
      "  Downloading python_slugify-8.0.2-py2.py3-none-any.whl (10 kB)\n",
      "Collecting urllib3\n",
      "  Downloading urllib3-2.2.0-py3-none-any.whl (120 kB)\n",
      "\u001b[2K     \u001b[90m━━━━━━━━━━━━━━━━━━━━━━━━━━━━━━━━━━━━━━━\u001b[0m \u001b[32m120.9/120.9 kB\u001b[0m \u001b[31m3.5 MB/s\u001b[0m eta \u001b[36m0:00:00\u001b[0m\n",
      "\u001b[?25hCollecting bleach\n",
      "  Downloading bleach-6.1.0-py3-none-any.whl (162 kB)\n",
      "\u001b[2K     \u001b[90m━━━━━━━━━━━━━━━━━━━━━━━━━━━━━━━━━━━━━━━\u001b[0m \u001b[32m162.8/162.8 kB\u001b[0m \u001b[31m3.8 MB/s\u001b[0m eta \u001b[36m0:00:00\u001b[0ma \u001b[36m0:00:01\u001b[0m\n",
      "\u001b[?25hCollecting webencodings\n",
      "  Downloading webencodings-0.5.1-py2.py3-none-any.whl (11 kB)\n",
      "Collecting text-unidecode>=1.3\n",
      "  Downloading text_unidecode-1.3-py2.py3-none-any.whl (78 kB)\n",
      "\u001b[2K     \u001b[90m━━━━━━━━━━━━━━━━━━━━━━━━━━━━━━━━━━━━━━━━\u001b[0m \u001b[32m78.2/78.2 kB\u001b[0m \u001b[31m2.3 MB/s\u001b[0m eta \u001b[36m0:00:00\u001b[0m\n",
      "\u001b[?25hCollecting charset-normalizer<4,>=2\n",
      "  Downloading charset_normalizer-3.3.2-cp311-cp311-macosx_10_9_x86_64.whl (121 kB)\n",
      "\u001b[2K     \u001b[90m━━━━━━━━━━━━━━━━━━━━━━━━━━━━━━━━━━━━━━━\u001b[0m \u001b[32m121.4/121.4 kB\u001b[0m \u001b[31m3.2 MB/s\u001b[0m eta \u001b[36m0:00:00\u001b[0m\n",
      "\u001b[?25hRequirement already satisfied: idna<4,>=2.5 in /Users/divyadhara/Documents/CPSC597/ai-meal-recommendation/.venv/lib/python3.11/site-packages (from requests->kaggle) (3.6)\n",
      "Installing collected packages: webencodings, text-unidecode, urllib3, python-slugify, charset-normalizer, bleach, requests, kaggle\n",
      "\u001b[33m  DEPRECATION: kaggle is being installed using the legacy 'setup.py install' method, because it does not have a 'pyproject.toml' and the 'wheel' package is not installed. pip 23.1 will enforce this behaviour change. A possible replacement is to enable the '--use-pep517' option. Discussion can be found at https://github.com/pypa/pip/issues/8559\u001b[0m\u001b[33m\n",
      "\u001b[0m  Running setup.py install for kaggle ... \u001b[?25ldone\n",
      "\u001b[?25hSuccessfully installed bleach-6.1.0 charset-normalizer-3.3.2 kaggle-1.6.4 python-slugify-8.0.2 requests-2.31.0 text-unidecode-1.3 urllib3-2.2.0 webencodings-0.5.1\n",
      "\n",
      "\u001b[1m[\u001b[0m\u001b[34;49mnotice\u001b[0m\u001b[1;39;49m]\u001b[0m\u001b[39;49m A new release of pip available: \u001b[0m\u001b[31;49m22.3.1\u001b[0m\u001b[39;49m -> \u001b[0m\u001b[32;49m23.3.2\u001b[0m\n",
      "\u001b[1m[\u001b[0m\u001b[34;49mnotice\u001b[0m\u001b[1;39;49m]\u001b[0m\u001b[39;49m To update, run: \u001b[0m\u001b[32;49mpip install --upgrade pip\u001b[0m\n",
      "Note: you may need to restart the kernel to use updated packages.\n"
     ]
    }
   ],
   "source": [
    "%pip install kaggle"
   ]
  },
  {
   "cell_type": "code",
   "execution_count": 1,
   "metadata": {},
   "outputs": [
    {
     "data": {
      "text/plain": [
       "True"
      ]
     },
     "execution_count": 1,
     "metadata": {},
     "output_type": "execute_result"
    }
   ],
   "source": [
    "from dotenv import load_dotenv\n",
    "load_dotenv('../.vscode/.env')"
   ]
  },
  {
   "cell_type": "code",
   "execution_count": 2,
   "metadata": {},
   "outputs": [
    {
     "name": "stderr",
     "output_type": "stream",
     "text": [
      "/var/folders/qb/cr87d2s56q51lk72620820hw0000gn/T/ipykernel_76499/4080736814.py:1: DeprecationWarning: \n",
      "Pyarrow will become a required dependency of pandas in the next major release of pandas (pandas 3.0),\n",
      "(to allow more performant data types, such as the Arrow string type, and better interoperability with other libraries)\n",
      "but was not found to be installed on your system.\n",
      "If this would cause problems for you,\n",
      "please provide us feedback at https://github.com/pandas-dev/pandas/issues/54466\n",
      "        \n",
      "  import pandas as pd\n"
     ]
    }
   ],
   "source": [
    "import pandas as pd"
   ]
  },
  {
   "cell_type": "code",
   "execution_count": 3,
   "metadata": {},
   "outputs": [],
   "source": [
    "df = pd.read_csv('../data/recipes.csv')"
   ]
  },
  {
   "cell_type": "code",
   "execution_count": 4,
   "metadata": {},
   "outputs": [
    {
     "data": {
      "text/html": [
       "<div>\n",
       "<style scoped>\n",
       "    .dataframe tbody tr th:only-of-type {\n",
       "        vertical-align: middle;\n",
       "    }\n",
       "\n",
       "    .dataframe tbody tr th {\n",
       "        vertical-align: top;\n",
       "    }\n",
       "\n",
       "    .dataframe thead th {\n",
       "        text-align: right;\n",
       "    }\n",
       "</style>\n",
       "<table border=\"1\" class=\"dataframe\">\n",
       "  <thead>\n",
       "    <tr style=\"text-align: right;\">\n",
       "      <th></th>\n",
       "      <th>Unnamed: 0</th>\n",
       "      <th>recipe_name</th>\n",
       "      <th>prep_time</th>\n",
       "      <th>cook_time</th>\n",
       "      <th>total_time</th>\n",
       "      <th>servings</th>\n",
       "      <th>yield</th>\n",
       "      <th>ingredients</th>\n",
       "      <th>directions</th>\n",
       "      <th>rating</th>\n",
       "      <th>url</th>\n",
       "      <th>cuisine_path</th>\n",
       "      <th>nutrition</th>\n",
       "      <th>timing</th>\n",
       "      <th>img_src</th>\n",
       "    </tr>\n",
       "  </thead>\n",
       "  <tbody>\n",
       "    <tr>\n",
       "      <th>0</th>\n",
       "      <td>0</td>\n",
       "      <td>Apple-Cranberry Crostada</td>\n",
       "      <td>NaN</td>\n",
       "      <td>NaN</td>\n",
       "      <td>NaN</td>\n",
       "      <td>8</td>\n",
       "      <td>6 to 8 - servings</td>\n",
       "      <td>3 tablespoons butter, 2 pounds Granny Smith ap...</td>\n",
       "      <td>Heat butter in a large skillet over medium-hig...</td>\n",
       "      <td>4.4</td>\n",
       "      <td>https://www.allrecipes.com/recipe/76931/apple-...</td>\n",
       "      <td>/Desserts/Fruit Desserts/Apple Dessert Recipes/</td>\n",
       "      <td>Total Fat 18g 23%, Saturated Fat 7g 34%, Chole...</td>\n",
       "      <td>Servings: 8, Yield: 6 to 8 - servings</td>\n",
       "      <td>https://www.allrecipes.com/thmb/Tf1wH73bfH6Oql...</td>\n",
       "    </tr>\n",
       "    <tr>\n",
       "      <th>1</th>\n",
       "      <td>1</td>\n",
       "      <td>Apple Pie by Grandma Ople</td>\n",
       "      <td>30 mins</td>\n",
       "      <td>1 hrs</td>\n",
       "      <td>1 hrs 30 mins</td>\n",
       "      <td>8</td>\n",
       "      <td>1 9-inch pie</td>\n",
       "      <td>8 small Granny Smith apples, or as needed, ½ c...</td>\n",
       "      <td>Peel and core apples, then thinly slice. Set a...</td>\n",
       "      <td>4.8</td>\n",
       "      <td>https://www.allrecipes.com/recipe/12682/apple-...</td>\n",
       "      <td>/Desserts/Pies/Apple Pie Recipes/</td>\n",
       "      <td>Total Fat 19g 24%, Saturated Fat 9g 46%, Chole...</td>\n",
       "      <td>Prep Time: 30 mins, Cook Time: 1 hrs, Total Ti...</td>\n",
       "      <td>https://www.allrecipes.com/thmb/1I95oiTGz6aEpu...</td>\n",
       "    </tr>\n",
       "    <tr>\n",
       "      <th>2</th>\n",
       "      <td>2</td>\n",
       "      <td>Sarah's Homemade Applesauce</td>\n",
       "      <td>10 mins</td>\n",
       "      <td>15 mins</td>\n",
       "      <td>25 mins</td>\n",
       "      <td>4</td>\n",
       "      <td>NaN</td>\n",
       "      <td>4  apples - peeled, cored and chopped, ¾ cup w...</td>\n",
       "      <td>Combine apples, water, sugar, and cinnamon in ...</td>\n",
       "      <td>4.8</td>\n",
       "      <td>https://www.allrecipes.com/recipe/51301/sarahs...</td>\n",
       "      <td>/Side Dish/Applesauce Recipes/</td>\n",
       "      <td>Total Fat 0g 0%, Sodium 3mg 0%, Total Carbohyd...</td>\n",
       "      <td>Prep Time: 10 mins, Cook Time: 15 mins, Total ...</td>\n",
       "      <td>https://www.allrecipes.com/thmb/VY5d0tZHB8xz6y...</td>\n",
       "    </tr>\n",
       "    <tr>\n",
       "      <th>3</th>\n",
       "      <td>3</td>\n",
       "      <td>Apple Crisp</td>\n",
       "      <td>30 mins</td>\n",
       "      <td>45 mins</td>\n",
       "      <td>1 hrs 15 mins</td>\n",
       "      <td>12</td>\n",
       "      <td>1 9x13-inch pan</td>\n",
       "      <td>10 cups all-purpose apples, peeled, cored and ...</td>\n",
       "      <td>Preheat the oven to 350 degrees F (175 degrees...</td>\n",
       "      <td>4.7</td>\n",
       "      <td>https://www.allrecipes.com/recipe/12409/apple-...</td>\n",
       "      <td>/Desserts/Crisps and Crumbles Recipes/Apple Cr...</td>\n",
       "      <td>Total Fat 8g 11%, Saturated Fat 5g 25%, Choles...</td>\n",
       "      <td>Prep Time: 30 mins, Cook Time: 45 mins, Total ...</td>\n",
       "      <td>https://www.allrecipes.com/thmb/uAzhPOh86PfR-N...</td>\n",
       "    </tr>\n",
       "    <tr>\n",
       "      <th>4</th>\n",
       "      <td>4</td>\n",
       "      <td>Apple Pie Filling</td>\n",
       "      <td>20 mins</td>\n",
       "      <td>20 mins</td>\n",
       "      <td>2 hrs 40 mins</td>\n",
       "      <td>40</td>\n",
       "      <td>5 9-inch pies</td>\n",
       "      <td>18 cups thinly sliced apples, 3 tablespoons le...</td>\n",
       "      <td>Toss apples with lemon juice in a large bowl a...</td>\n",
       "      <td>4.7</td>\n",
       "      <td>https://www.allrecipes.com/recipe/12681/apple-...</td>\n",
       "      <td>/Desserts/Pies/Apple Pie Recipes/</td>\n",
       "      <td>Total Fat 0g 0%, Sodium 61mg 3%, Total Carbohy...</td>\n",
       "      <td>Prep Time: 20 mins, Cook Time: 20 mins, Additi...</td>\n",
       "      <td>https://www.allrecipes.com/thmb/c0bbYaS1V_mTt_...</td>\n",
       "    </tr>\n",
       "    <tr>\n",
       "      <th>...</th>\n",
       "      <td>...</td>\n",
       "      <td>...</td>\n",
       "      <td>...</td>\n",
       "      <td>...</td>\n",
       "      <td>...</td>\n",
       "      <td>...</td>\n",
       "      <td>...</td>\n",
       "      <td>...</td>\n",
       "      <td>...</td>\n",
       "      <td>...</td>\n",
       "      <td>...</td>\n",
       "      <td>...</td>\n",
       "      <td>...</td>\n",
       "      <td>...</td>\n",
       "      <td>...</td>\n",
       "    </tr>\n",
       "    <tr>\n",
       "      <th>1085</th>\n",
       "      <td>1085</td>\n",
       "      <td>Date-Nut Balls</td>\n",
       "      <td>15 mins</td>\n",
       "      <td>10 mins</td>\n",
       "      <td>30 mins</td>\n",
       "      <td>48</td>\n",
       "      <td>4 dozen balls</td>\n",
       "      <td>14 tablespoons butter, 1 cup pitted chopped da...</td>\n",
       "      <td>Melt butter in a saucepan over medium heat; co...</td>\n",
       "      <td>3.8</td>\n",
       "      <td>https://www.allrecipes.com/recipe/240653/date-...</td>\n",
       "      <td>/Desserts/Cookies/Fruit Cookie Recipes/Date/</td>\n",
       "      <td>Total Fat 5g 6%, Saturated Fat 2g 12%, Cholest...</td>\n",
       "      <td>Prep Time: 15 mins, Cook Time: 10 mins, Additi...</td>\n",
       "      <td>https://www.allrecipes.com/thmb/LXm_15zLymhZ7c...</td>\n",
       "    </tr>\n",
       "    <tr>\n",
       "      <th>1086</th>\n",
       "      <td>1086</td>\n",
       "      <td>Jamaica Cake</td>\n",
       "      <td>NaN</td>\n",
       "      <td>NaN</td>\n",
       "      <td>NaN</td>\n",
       "      <td>14</td>\n",
       "      <td>1 - 13x9 inch pan</td>\n",
       "      <td>2 cups white sugar, 1 ½ cups vegetable oil, 1 ...</td>\n",
       "      <td>Mix together sugar, vegetable oil, pecans, flo...</td>\n",
       "      <td>4.6</td>\n",
       "      <td>https://www.allrecipes.com/recipe/7509/jamaica...</td>\n",
       "      <td>/Desserts/Fruit Desserts/Banana Dessert Recipes/</td>\n",
       "      <td>Total Fat 33g 43%, Saturated Fat 4g 21%, Chole...</td>\n",
       "      <td>Servings: 14, Yield: 1 - 13x9 inch pan</td>\n",
       "      <td>https://www.allrecipes.com/thmb/tI7g5xY5-qPV5v...</td>\n",
       "    </tr>\n",
       "    <tr>\n",
       "      <th>1087</th>\n",
       "      <td>1087</td>\n",
       "      <td>Best Hot Sauce</td>\n",
       "      <td>10 mins</td>\n",
       "      <td>20 mins</td>\n",
       "      <td>30 mins</td>\n",
       "      <td>100</td>\n",
       "      <td>2 cups</td>\n",
       "      <td>10  fresh hot chile peppers, stems removed, 1 ...</td>\n",
       "      <td>Place peppers, onion, dates, basil, parsley, t...</td>\n",
       "      <td>4.9</td>\n",
       "      <td>https://www.allrecipes.com/recipe/242153/best-...</td>\n",
       "      <td>/Side Dish/Sauces and Condiments/</td>\n",
       "      <td>Total Fat 1g 1%, Saturated Fat 0g 1%, Sodium 2...</td>\n",
       "      <td>Prep Time: 10 mins, Cook Time: 20 mins, Total ...</td>\n",
       "      <td>https://www.allrecipes.com/thmb/80wUYzFvbycfxx...</td>\n",
       "    </tr>\n",
       "    <tr>\n",
       "      <th>1088</th>\n",
       "      <td>1088</td>\n",
       "      <td>Moist Date Nut Bread</td>\n",
       "      <td>15 mins</td>\n",
       "      <td>50 mins</td>\n",
       "      <td>1 hrs 35 mins</td>\n",
       "      <td>12</td>\n",
       "      <td>1 9x5-inch loaf</td>\n",
       "      <td>2 ½ cups chopped dates, ¼ cup butter, 1 cup bo...</td>\n",
       "      <td>Preheat the oven to 350 degrees F (175 degrees...</td>\n",
       "      <td>4.5</td>\n",
       "      <td>https://www.allrecipes.com/recipe/51446/moist-...</td>\n",
       "      <td>/Breakfast and Brunch/Breakfast Bread Recipes/</td>\n",
       "      <td>Total Fat 10g 13%, Saturated Fat 3g 16%, Chole...</td>\n",
       "      <td>Prep Time: 15 mins, Cook Time: 50 mins, Additi...</td>\n",
       "      <td>https://www.allrecipes.com/thmb/bYsnompJZ6UAF9...</td>\n",
       "    </tr>\n",
       "    <tr>\n",
       "      <th>1089</th>\n",
       "      <td>1089</td>\n",
       "      <td>Chef John's Chocolate Energy Bars</td>\n",
       "      <td>15 mins</td>\n",
       "      <td>NaN</td>\n",
       "      <td>3 hrs</td>\n",
       "      <td>12</td>\n",
       "      <td>12 bars</td>\n",
       "      <td>2 cups pitted Medjool dates, roughly chopped, ...</td>\n",
       "      <td>Place cashews, almonds, coconut, dates, cocoa,...</td>\n",
       "      <td>4.8</td>\n",
       "      <td>https://www.allrecipes.com/recipe/254452/chef-...</td>\n",
       "      <td>/Appetizers and Snacks/Snacks/Granola Bar Reci...</td>\n",
       "      <td>Total Fat 22g 28%, Saturated Fat 7g 36%, Sodiu...</td>\n",
       "      <td>Prep Time: 15 mins, Additional Time: 2 hrs 45 ...</td>\n",
       "      <td>https://www.allrecipes.com/thmb/IOoj42MMo8YNKW...</td>\n",
       "    </tr>\n",
       "  </tbody>\n",
       "</table>\n",
       "<p>1090 rows × 15 columns</p>\n",
       "</div>"
      ],
      "text/plain": [
       "      Unnamed: 0                        recipe_name prep_time cook_time  \\\n",
       "0              0           Apple-Cranberry Crostada       NaN       NaN   \n",
       "1              1          Apple Pie by Grandma Ople   30 mins     1 hrs   \n",
       "2              2        Sarah's Homemade Applesauce   10 mins   15 mins   \n",
       "3              3                        Apple Crisp   30 mins   45 mins   \n",
       "4              4                  Apple Pie Filling   20 mins   20 mins   \n",
       "...          ...                                ...       ...       ...   \n",
       "1085        1085                     Date-Nut Balls   15 mins   10 mins   \n",
       "1086        1086                       Jamaica Cake       NaN       NaN   \n",
       "1087        1087                     Best Hot Sauce   10 mins   20 mins   \n",
       "1088        1088               Moist Date Nut Bread   15 mins   50 mins   \n",
       "1089        1089  Chef John's Chocolate Energy Bars   15 mins       NaN   \n",
       "\n",
       "         total_time  servings              yield  \\\n",
       "0               NaN         8  6 to 8 - servings   \n",
       "1     1 hrs 30 mins         8       1 9-inch pie   \n",
       "2           25 mins         4                NaN   \n",
       "3     1 hrs 15 mins        12    1 9x13-inch pan   \n",
       "4     2 hrs 40 mins        40      5 9-inch pies   \n",
       "...             ...       ...                ...   \n",
       "1085        30 mins        48      4 dozen balls   \n",
       "1086            NaN        14  1 - 13x9 inch pan   \n",
       "1087        30 mins       100             2 cups   \n",
       "1088  1 hrs 35 mins        12    1 9x5-inch loaf   \n",
       "1089          3 hrs        12            12 bars   \n",
       "\n",
       "                                            ingredients  \\\n",
       "0     3 tablespoons butter, 2 pounds Granny Smith ap...   \n",
       "1     8 small Granny Smith apples, or as needed, ½ c...   \n",
       "2     4  apples - peeled, cored and chopped, ¾ cup w...   \n",
       "3     10 cups all-purpose apples, peeled, cored and ...   \n",
       "4     18 cups thinly sliced apples, 3 tablespoons le...   \n",
       "...                                                 ...   \n",
       "1085  14 tablespoons butter, 1 cup pitted chopped da...   \n",
       "1086  2 cups white sugar, 1 ½ cups vegetable oil, 1 ...   \n",
       "1087  10  fresh hot chile peppers, stems removed, 1 ...   \n",
       "1088  2 ½ cups chopped dates, ¼ cup butter, 1 cup bo...   \n",
       "1089  2 cups pitted Medjool dates, roughly chopped, ...   \n",
       "\n",
       "                                             directions  rating  \\\n",
       "0     Heat butter in a large skillet over medium-hig...     4.4   \n",
       "1     Peel and core apples, then thinly slice. Set a...     4.8   \n",
       "2     Combine apples, water, sugar, and cinnamon in ...     4.8   \n",
       "3     Preheat the oven to 350 degrees F (175 degrees...     4.7   \n",
       "4     Toss apples with lemon juice in a large bowl a...     4.7   \n",
       "...                                                 ...     ...   \n",
       "1085  Melt butter in a saucepan over medium heat; co...     3.8   \n",
       "1086  Mix together sugar, vegetable oil, pecans, flo...     4.6   \n",
       "1087  Place peppers, onion, dates, basil, parsley, t...     4.9   \n",
       "1088  Preheat the oven to 350 degrees F (175 degrees...     4.5   \n",
       "1089  Place cashews, almonds, coconut, dates, cocoa,...     4.8   \n",
       "\n",
       "                                                    url  \\\n",
       "0     https://www.allrecipes.com/recipe/76931/apple-...   \n",
       "1     https://www.allrecipes.com/recipe/12682/apple-...   \n",
       "2     https://www.allrecipes.com/recipe/51301/sarahs...   \n",
       "3     https://www.allrecipes.com/recipe/12409/apple-...   \n",
       "4     https://www.allrecipes.com/recipe/12681/apple-...   \n",
       "...                                                 ...   \n",
       "1085  https://www.allrecipes.com/recipe/240653/date-...   \n",
       "1086  https://www.allrecipes.com/recipe/7509/jamaica...   \n",
       "1087  https://www.allrecipes.com/recipe/242153/best-...   \n",
       "1088  https://www.allrecipes.com/recipe/51446/moist-...   \n",
       "1089  https://www.allrecipes.com/recipe/254452/chef-...   \n",
       "\n",
       "                                           cuisine_path  \\\n",
       "0       /Desserts/Fruit Desserts/Apple Dessert Recipes/   \n",
       "1                     /Desserts/Pies/Apple Pie Recipes/   \n",
       "2                        /Side Dish/Applesauce Recipes/   \n",
       "3     /Desserts/Crisps and Crumbles Recipes/Apple Cr...   \n",
       "4                     /Desserts/Pies/Apple Pie Recipes/   \n",
       "...                                                 ...   \n",
       "1085       /Desserts/Cookies/Fruit Cookie Recipes/Date/   \n",
       "1086   /Desserts/Fruit Desserts/Banana Dessert Recipes/   \n",
       "1087                  /Side Dish/Sauces and Condiments/   \n",
       "1088     /Breakfast and Brunch/Breakfast Bread Recipes/   \n",
       "1089  /Appetizers and Snacks/Snacks/Granola Bar Reci...   \n",
       "\n",
       "                                              nutrition  \\\n",
       "0     Total Fat 18g 23%, Saturated Fat 7g 34%, Chole...   \n",
       "1     Total Fat 19g 24%, Saturated Fat 9g 46%, Chole...   \n",
       "2     Total Fat 0g 0%, Sodium 3mg 0%, Total Carbohyd...   \n",
       "3     Total Fat 8g 11%, Saturated Fat 5g 25%, Choles...   \n",
       "4     Total Fat 0g 0%, Sodium 61mg 3%, Total Carbohy...   \n",
       "...                                                 ...   \n",
       "1085  Total Fat 5g 6%, Saturated Fat 2g 12%, Cholest...   \n",
       "1086  Total Fat 33g 43%, Saturated Fat 4g 21%, Chole...   \n",
       "1087  Total Fat 1g 1%, Saturated Fat 0g 1%, Sodium 2...   \n",
       "1088  Total Fat 10g 13%, Saturated Fat 3g 16%, Chole...   \n",
       "1089  Total Fat 22g 28%, Saturated Fat 7g 36%, Sodiu...   \n",
       "\n",
       "                                                 timing  \\\n",
       "0                 Servings: 8, Yield: 6 to 8 - servings   \n",
       "1     Prep Time: 30 mins, Cook Time: 1 hrs, Total Ti...   \n",
       "2     Prep Time: 10 mins, Cook Time: 15 mins, Total ...   \n",
       "3     Prep Time: 30 mins, Cook Time: 45 mins, Total ...   \n",
       "4     Prep Time: 20 mins, Cook Time: 20 mins, Additi...   \n",
       "...                                                 ...   \n",
       "1085  Prep Time: 15 mins, Cook Time: 10 mins, Additi...   \n",
       "1086             Servings: 14, Yield: 1 - 13x9 inch pan   \n",
       "1087  Prep Time: 10 mins, Cook Time: 20 mins, Total ...   \n",
       "1088  Prep Time: 15 mins, Cook Time: 50 mins, Additi...   \n",
       "1089  Prep Time: 15 mins, Additional Time: 2 hrs 45 ...   \n",
       "\n",
       "                                                img_src  \n",
       "0     https://www.allrecipes.com/thmb/Tf1wH73bfH6Oql...  \n",
       "1     https://www.allrecipes.com/thmb/1I95oiTGz6aEpu...  \n",
       "2     https://www.allrecipes.com/thmb/VY5d0tZHB8xz6y...  \n",
       "3     https://www.allrecipes.com/thmb/uAzhPOh86PfR-N...  \n",
       "4     https://www.allrecipes.com/thmb/c0bbYaS1V_mTt_...  \n",
       "...                                                 ...  \n",
       "1085  https://www.allrecipes.com/thmb/LXm_15zLymhZ7c...  \n",
       "1086  https://www.allrecipes.com/thmb/tI7g5xY5-qPV5v...  \n",
       "1087  https://www.allrecipes.com/thmb/80wUYzFvbycfxx...  \n",
       "1088  https://www.allrecipes.com/thmb/bYsnompJZ6UAF9...  \n",
       "1089  https://www.allrecipes.com/thmb/IOoj42MMo8YNKW...  \n",
       "\n",
       "[1090 rows x 15 columns]"
      ]
     },
     "execution_count": 4,
     "metadata": {},
     "output_type": "execute_result"
    }
   ],
   "source": [
    "df"
   ]
  },
  {
   "cell_type": "code",
   "execution_count": 5,
   "metadata": {},
   "outputs": [],
   "source": [
    "df = df.rename(columns={'Unnamed: 0':'id'})"
   ]
  },
  {
   "cell_type": "code",
   "execution_count": 6,
   "metadata": {},
   "outputs": [],
   "source": [
    "row = df.iloc[0]"
   ]
  },
  {
   "cell_type": "code",
   "execution_count": 54,
   "metadata": {},
   "outputs": [],
   "source": [
    "# Random select recipe name\n",
    "sample_df = df.sample(10,random_state=1)\n",
    "random_recipes = sample_df[['id', 'recipe_name']]"
   ]
  },
  {
   "cell_type": "code",
   "execution_count": 55,
   "metadata": {},
   "outputs": [
    {
     "data": {
      "text/html": [
       "<div>\n",
       "<style scoped>\n",
       "    .dataframe tbody tr th:only-of-type {\n",
       "        vertical-align: middle;\n",
       "    }\n",
       "\n",
       "    .dataframe tbody tr th {\n",
       "        vertical-align: top;\n",
       "    }\n",
       "\n",
       "    .dataframe thead th {\n",
       "        text-align: right;\n",
       "    }\n",
       "</style>\n",
       "<table border=\"1\" class=\"dataframe\">\n",
       "  <thead>\n",
       "    <tr style=\"text-align: right;\">\n",
       "      <th></th>\n",
       "      <th>id</th>\n",
       "      <th>recipe_name</th>\n",
       "    </tr>\n",
       "  </thead>\n",
       "  <tbody>\n",
       "    <tr>\n",
       "      <th>393</th>\n",
       "      <td>393</td>\n",
       "      <td>Banana Peach Bread</td>\n",
       "    </tr>\n",
       "    <tr>\n",
       "      <th>713</th>\n",
       "      <td>713</td>\n",
       "      <td>Chamoyada</td>\n",
       "    </tr>\n",
       "    <tr>\n",
       "      <th>581</th>\n",
       "      <td>581</td>\n",
       "      <td>Banana Chocolate Chip Bread</td>\n",
       "    </tr>\n",
       "    <tr>\n",
       "      <th>90</th>\n",
       "      <td>90</td>\n",
       "      <td>Apple Strudel Muffins</td>\n",
       "    </tr>\n",
       "    <tr>\n",
       "      <th>651</th>\n",
       "      <td>651</td>\n",
       "      <td>Pavlova Deluxe</td>\n",
       "    </tr>\n",
       "    <tr>\n",
       "      <th>678</th>\n",
       "      <td>678</td>\n",
       "      <td>Spicy Mango Sauce</td>\n",
       "    </tr>\n",
       "    <tr>\n",
       "      <th>49</th>\n",
       "      <td>49</td>\n",
       "      <td>Apple Crumb Pie</td>\n",
       "    </tr>\n",
       "    <tr>\n",
       "      <th>99</th>\n",
       "      <td>99</td>\n",
       "      <td>Easy Apple Cider</td>\n",
       "    </tr>\n",
       "    <tr>\n",
       "      <th>244</th>\n",
       "      <td>244</td>\n",
       "      <td>Slow Cooker Cranberry Fig Pork</td>\n",
       "    </tr>\n",
       "    <tr>\n",
       "      <th>887</th>\n",
       "      <td>887</td>\n",
       "      <td>Energy Bars</td>\n",
       "    </tr>\n",
       "  </tbody>\n",
       "</table>\n",
       "</div>"
      ],
      "text/plain": [
       "      id                     recipe_name\n",
       "393  393              Banana Peach Bread\n",
       "713  713                       Chamoyada\n",
       "581  581     Banana Chocolate Chip Bread\n",
       "90    90           Apple Strudel Muffins\n",
       "651  651                  Pavlova Deluxe\n",
       "678  678               Spicy Mango Sauce\n",
       "49    49                 Apple Crumb Pie\n",
       "99    99                Easy Apple Cider\n",
       "244  244  Slow Cooker Cranberry Fig Pork\n",
       "887  887                     Energy Bars"
      ]
     },
     "execution_count": 55,
     "metadata": {},
     "output_type": "execute_result"
    }
   ],
   "source": [
    "random_recipes"
   ]
  },
  {
   "cell_type": "code",
   "execution_count": 11,
   "metadata": {},
   "outputs": [],
   "source": [
    "recipe_names = list(random_recipes['recipe_name'])"
   ]
  },
  {
   "cell_type": "code",
   "execution_count": 56,
   "metadata": {},
   "outputs": [
    {
     "data": {
      "text/plain": [
       "['Banana Peach Bread',\n",
       " 'Chamoyada',\n",
       " 'Banana Chocolate Chip Bread',\n",
       " 'Apple Strudel Muffins',\n",
       " 'Pavlova Deluxe',\n",
       " 'Spicy Mango Sauce',\n",
       " 'Apple Crumb Pie',\n",
       " 'Easy Apple Cider',\n",
       " 'Slow Cooker Cranberry Fig Pork',\n",
       " 'Energy Bars']"
      ]
     },
     "execution_count": 56,
     "metadata": {},
     "output_type": "execute_result"
    }
   ],
   "source": [
    "recipe_names"
   ]
  },
  {
   "cell_type": "code",
   "execution_count": 10,
   "metadata": {},
   "outputs": [],
   "source": [
    "ASSISTANT_NAME = 'Recipe Assistant'"
   ]
  },
  {
   "cell_type": "code",
   "execution_count": 117,
   "metadata": {},
   "outputs": [],
   "source": [
    "ASSISTANT_INSTRUCTION = f'''\n",
    "You are helpful recipe assistant. You generate recipe in below format:\n",
    "<recipe>\n",
    "<recipe_name> {row['recipe_name']} </recipe_name>\n",
    "<ingredients> {row['ingredients']} </ingredients>\n",
    "<directions> {row['directions']} </directions>\n",
    "<nutrition> {row['nutrition']} </nutrition> \n",
    "</recipe>\n",
    "Always use above format to give recipe.\n",
    "'''"
   ]
  },
  {
   "cell_type": "code",
   "execution_count": 118,
   "metadata": {},
   "outputs": [
    {
     "name": "stdout",
     "output_type": "stream",
     "text": [
      "\n",
      "You are helpful recipe assistant. You generate recipe in below format:\n",
      "<recipe>\n",
      "<title> Apple-Cranberry Crostada </title>\n",
      "<ingredients> 3 tablespoons butter, 2 pounds Granny Smith apples (or other firm, crisp apples), peeled, quartered, cored and sliced 1/4-inch thick, 1 pound Macintosh apples (or other soft-textured apples that fall apart when cooked), peeled, quartered, cored, and sliced 1/4-inch thick, ½ cup sugar, ½ cup dried cranberries, 1 sheet frozen puff pastry, thawed but still cold (follow package directions), 1  egg white, lightly beaten, 1 tablespoon sugar, 1 cup Optional: Ice cream or lightly sweetened whipped cream </ingredients>\n",
      "<directions> Heat butter in a large skillet over medium-high heat. Add apples, 1/2 cup sugar and cranberries; cover and cook until apples release their liquid, about 5 minutes. Remove lid and continue to cook, stirring frequently, until soft apples fall apart and juices thicken to a thin-syrup consistency, about 5 minutes longer. Pour onto a large-lipped cookie sheet or jellyroll pan and cool to room temperature. (Can be refrigerated in an airtight container up to 5 days.)\n",
      "Adjust oven rack to low position and heat oven to 400 degrees. Open puff pastry sheet on a lightly floured work surface. Roll into a rectangle, about 10 by 16 inches. Transfer to a large cookie sheet. (I suggest lining the sheet with parchment paper; this ensures the crostada doesn't stick and allows easy cleanup.)\n",
      "Spread cooked apples over pastry, leaving a 2-inch border. Fold up pastry borders over apples. Unfold corners and form ruffled creases to keep dough from overlapping. Brush pastry border with egg white and sprinkle with the remaining 1 Tb. sugar. Bake until pastry is golden brown, 25 to 30 minutes. Serve warm or at room temperature with optional ice cream or whipped cream. </directions>\n",
      "<nutrition> Total Fat 18g 23%, Saturated Fat 7g 34%, Cholesterol 19mg 6%, Sodium 128mg 6%, Total Carbohydrate 60g 22%, Dietary Fiber 5g 16%, Total Sugars 40g, Protein 4g, Vitamin C 8mg 42%, Calcium 35mg 3%, Iron 1mg 6%, Potassium 245mg 5% </nutrition> \n",
      "</recipe>\n",
      "Always use above format to give recipe.\n",
      "\n"
     ]
    }
   ],
   "source": [
    "print(ASSISTANT_INSTRUCTION)"
   ]
  },
  {
   "cell_type": "code",
   "execution_count": 14,
   "metadata": {},
   "outputs": [],
   "source": [
    "import json\n",
    "\n",
    "def show_json(obj):\n",
    "    display(json.loads(obj.model_dump_json()))"
   ]
  },
  {
   "cell_type": "code",
   "execution_count": 13,
   "metadata": {},
   "outputs": [],
   "source": [
    "from openai import OpenAI\n",
    "import os"
   ]
  },
  {
   "cell_type": "code",
   "execution_count": 120,
   "metadata": {},
   "outputs": [
    {
     "data": {
      "text/plain": [
       "{'id': 'asst_DQUVYCRWHbp7G40wVvGbTTNe',\n",
       " 'created_at': 1706686003,\n",
       " 'description': None,\n",
       " 'file_ids': [],\n",
       " 'instructions': \"\\nYou are helpful recipe assistant. You generate recipe in below format:\\n<recipe>\\n<title> Apple-Cranberry Crostada </title>\\n<ingredients> 3 tablespoons butter, 2 pounds Granny Smith apples (or other firm, crisp apples), peeled, quartered, cored and sliced 1/4-inch thick, 1 pound Macintosh apples (or other soft-textured apples that fall apart when cooked), peeled, quartered, cored, and sliced 1/4-inch thick, ½ cup sugar, ½ cup dried cranberries, 1 sheet frozen puff pastry, thawed but still cold (follow package directions), 1  egg white, lightly beaten, 1 tablespoon sugar, 1 cup Optional: Ice cream or lightly sweetened whipped cream </ingredients>\\n<directions> Heat butter in a large skillet over medium-high heat. Add apples, 1/2 cup sugar and cranberries; cover and cook until apples release their liquid, about 5 minutes. Remove lid and continue to cook, stirring frequently, until soft apples fall apart and juices thicken to a thin-syrup consistency, about 5 minutes longer. Pour onto a large-lipped cookie sheet or jellyroll pan and cool to room temperature. (Can be refrigerated in an airtight container up to 5 days.)\\nAdjust oven rack to low position and heat oven to 400 degrees. Open puff pastry sheet on a lightly floured work surface. Roll into a rectangle, about 10 by 16 inches. Transfer to a large cookie sheet. (I suggest lining the sheet with parchment paper; this ensures the crostada doesn't stick and allows easy cleanup.)\\nSpread cooked apples over pastry, leaving a 2-inch border. Fold up pastry borders over apples. Unfold corners and form ruffled creases to keep dough from overlapping. Brush pastry border with egg white and sprinkle with the remaining 1 Tb. sugar. Bake until pastry is golden brown, 25 to 30 minutes. Serve warm or at room temperature with optional ice cream or whipped cream. </directions>\\n<nutrition> Total Fat 18g 23%, Saturated Fat 7g 34%, Cholesterol 19mg 6%, Sodium 128mg 6%, Total Carbohydrate 60g 22%, Dietary Fiber 5g 16%, Total Sugars 40g, Protein 4g, Vitamin C 8mg 42%, Calcium 35mg 3%, Iron 1mg 6%, Potassium 245mg 5% </nutrition> \\n</recipe>\\nAlways use above format to give recipe.\\n\",\n",
       " 'metadata': {},\n",
       " 'model': 'gpt-4-1106-preview',\n",
       " 'name': 'Recipe Assistant',\n",
       " 'object': 'assistant',\n",
       " 'tools': []}"
      ]
     },
     "metadata": {},
     "output_type": "display_data"
    }
   ],
   "source": [
    "\n",
    "client = OpenAI(api_key=os.environ.get(\"OPENAI_API_KEY\", \"\"))\n",
    "\n",
    "\n",
    "assistant = client.beta.assistants.create(\n",
    "    name=ASSISTANT_NAME,\n",
    "    instructions=ASSISTANT_INSTRUCTION,\n",
    "    model=\"gpt-4-1106-preview\",\n",
    ")\n",
    "show_json(assistant)"
   ]
  },
  {
   "cell_type": "code",
   "execution_count": 121,
   "metadata": {},
   "outputs": [
    {
     "data": {
      "text/plain": [
       "{'id': 'thread_2PdJfJyx7Jq36k55F9n9SrJD',\n",
       " 'created_at': 1706686004,\n",
       " 'metadata': {},\n",
       " 'object': 'thread'}"
      ]
     },
     "metadata": {},
     "output_type": "display_data"
    }
   ],
   "source": [
    "thread = client.beta.threads.create()\n",
    "show_json(thread)"
   ]
  },
  {
   "cell_type": "code",
   "execution_count": 122,
   "metadata": {},
   "outputs": [
    {
     "data": {
      "text/plain": [
       "{'id': 'msg_ohzwJrTbrrcbrf52soxAQgfS',\n",
       " 'assistant_id': None,\n",
       " 'content': [{'text': {'annotations': [],\n",
       "    'value': 'Give me recipe for Banana Peach Bread'},\n",
       "   'type': 'text'}],\n",
       " 'created_at': 1706686005,\n",
       " 'file_ids': [],\n",
       " 'metadata': {},\n",
       " 'object': 'thread.message',\n",
       " 'role': 'user',\n",
       " 'run_id': None,\n",
       " 'thread_id': 'thread_2PdJfJyx7Jq36k55F9n9SrJD'}"
      ]
     },
     "metadata": {},
     "output_type": "display_data"
    }
   ],
   "source": [
    "message = client.beta.threads.messages.create(\n",
    "    thread_id=thread.id,\n",
    "    role=\"user\",\n",
    "    content=f\"Give me recipe for {recipe_names[0]}\",\n",
    ")\n",
    "show_json(message)"
   ]
  },
  {
   "cell_type": "code",
   "execution_count": 123,
   "metadata": {},
   "outputs": [
    {
     "data": {
      "text/plain": [
       "{'id': 'run_06FfAG1KkmOTuUQjHXeriJWe',\n",
       " 'assistant_id': 'asst_DQUVYCRWHbp7G40wVvGbTTNe',\n",
       " 'cancelled_at': None,\n",
       " 'completed_at': None,\n",
       " 'created_at': 1706686007,\n",
       " 'expires_at': 1706686607,\n",
       " 'failed_at': None,\n",
       " 'file_ids': [],\n",
       " 'instructions': \"\\nYou are helpful recipe assistant. You generate recipe in below format:\\n<recipe>\\n<title> Apple-Cranberry Crostada </title>\\n<ingredients> 3 tablespoons butter, 2 pounds Granny Smith apples (or other firm, crisp apples), peeled, quartered, cored and sliced 1/4-inch thick, 1 pound Macintosh apples (or other soft-textured apples that fall apart when cooked), peeled, quartered, cored, and sliced 1/4-inch thick, ½ cup sugar, ½ cup dried cranberries, 1 sheet frozen puff pastry, thawed but still cold (follow package directions), 1  egg white, lightly beaten, 1 tablespoon sugar, 1 cup Optional: Ice cream or lightly sweetened whipped cream </ingredients>\\n<directions> Heat butter in a large skillet over medium-high heat. Add apples, 1/2 cup sugar and cranberries; cover and cook until apples release their liquid, about 5 minutes. Remove lid and continue to cook, stirring frequently, until soft apples fall apart and juices thicken to a thin-syrup consistency, about 5 minutes longer. Pour onto a large-lipped cookie sheet or jellyroll pan and cool to room temperature. (Can be refrigerated in an airtight container up to 5 days.)\\nAdjust oven rack to low position and heat oven to 400 degrees. Open puff pastry sheet on a lightly floured work surface. Roll into a rectangle, about 10 by 16 inches. Transfer to a large cookie sheet. (I suggest lining the sheet with parchment paper; this ensures the crostada doesn't stick and allows easy cleanup.)\\nSpread cooked apples over pastry, leaving a 2-inch border. Fold up pastry borders over apples. Unfold corners and form ruffled creases to keep dough from overlapping. Brush pastry border with egg white and sprinkle with the remaining 1 Tb. sugar. Bake until pastry is golden brown, 25 to 30 minutes. Serve warm or at room temperature with optional ice cream or whipped cream. </directions>\\n<nutrition> Total Fat 18g 23%, Saturated Fat 7g 34%, Cholesterol 19mg 6%, Sodium 128mg 6%, Total Carbohydrate 60g 22%, Dietary Fiber 5g 16%, Total Sugars 40g, Protein 4g, Vitamin C 8mg 42%, Calcium 35mg 3%, Iron 1mg 6%, Potassium 245mg 5% </nutrition> \\n</recipe>\\nAlways use above format to give recipe.\\n\",\n",
       " 'last_error': None,\n",
       " 'metadata': {},\n",
       " 'model': 'gpt-4-1106-preview',\n",
       " 'object': 'thread.run',\n",
       " 'required_action': None,\n",
       " 'started_at': None,\n",
       " 'status': 'queued',\n",
       " 'thread_id': 'thread_2PdJfJyx7Jq36k55F9n9SrJD',\n",
       " 'tools': [],\n",
       " 'usage': None}"
      ]
     },
     "metadata": {},
     "output_type": "display_data"
    }
   ],
   "source": [
    "run = client.beta.threads.runs.create(\n",
    "    thread_id=thread.id,\n",
    "    assistant_id=assistant.id,\n",
    ")\n",
    "show_json(run)"
   ]
  },
  {
   "cell_type": "code",
   "execution_count": 124,
   "metadata": {},
   "outputs": [],
   "source": [
    "import time\n",
    "\n",
    "def wait_on_run(run, thread):\n",
    "    while run.status == \"queued\" or run.status == \"in_progress\":\n",
    "        run = client.beta.threads.runs.retrieve(\n",
    "            thread_id=thread.id,\n",
    "            run_id=run.id,\n",
    "        )\n",
    "        time.sleep(0.5)\n",
    "    return run"
   ]
  },
  {
   "cell_type": "code",
   "execution_count": 125,
   "metadata": {},
   "outputs": [
    {
     "data": {
      "text/plain": [
       "{'id': 'run_06FfAG1KkmOTuUQjHXeriJWe',\n",
       " 'assistant_id': 'asst_DQUVYCRWHbp7G40wVvGbTTNe',\n",
       " 'cancelled_at': None,\n",
       " 'completed_at': 1706686043,\n",
       " 'created_at': 1706686007,\n",
       " 'expires_at': None,\n",
       " 'failed_at': None,\n",
       " 'file_ids': [],\n",
       " 'instructions': \"\\nYou are helpful recipe assistant. You generate recipe in below format:\\n<recipe>\\n<title> Apple-Cranberry Crostada </title>\\n<ingredients> 3 tablespoons butter, 2 pounds Granny Smith apples (or other firm, crisp apples), peeled, quartered, cored and sliced 1/4-inch thick, 1 pound Macintosh apples (or other soft-textured apples that fall apart when cooked), peeled, quartered, cored, and sliced 1/4-inch thick, ½ cup sugar, ½ cup dried cranberries, 1 sheet frozen puff pastry, thawed but still cold (follow package directions), 1  egg white, lightly beaten, 1 tablespoon sugar, 1 cup Optional: Ice cream or lightly sweetened whipped cream </ingredients>\\n<directions> Heat butter in a large skillet over medium-high heat. Add apples, 1/2 cup sugar and cranberries; cover and cook until apples release their liquid, about 5 minutes. Remove lid and continue to cook, stirring frequently, until soft apples fall apart and juices thicken to a thin-syrup consistency, about 5 minutes longer. Pour onto a large-lipped cookie sheet or jellyroll pan and cool to room temperature. (Can be refrigerated in an airtight container up to 5 days.)\\nAdjust oven rack to low position and heat oven to 400 degrees. Open puff pastry sheet on a lightly floured work surface. Roll into a rectangle, about 10 by 16 inches. Transfer to a large cookie sheet. (I suggest lining the sheet with parchment paper; this ensures the crostada doesn't stick and allows easy cleanup.)\\nSpread cooked apples over pastry, leaving a 2-inch border. Fold up pastry borders over apples. Unfold corners and form ruffled creases to keep dough from overlapping. Brush pastry border with egg white and sprinkle with the remaining 1 Tb. sugar. Bake until pastry is golden brown, 25 to 30 minutes. Serve warm or at room temperature with optional ice cream or whipped cream. </directions>\\n<nutrition> Total Fat 18g 23%, Saturated Fat 7g 34%, Cholesterol 19mg 6%, Sodium 128mg 6%, Total Carbohydrate 60g 22%, Dietary Fiber 5g 16%, Total Sugars 40g, Protein 4g, Vitamin C 8mg 42%, Calcium 35mg 3%, Iron 1mg 6%, Potassium 245mg 5% </nutrition> \\n</recipe>\\nAlways use above format to give recipe.\\n\",\n",
       " 'last_error': None,\n",
       " 'metadata': {},\n",
       " 'model': 'gpt-4-1106-preview',\n",
       " 'object': 'thread.run',\n",
       " 'required_action': None,\n",
       " 'started_at': 1706686007,\n",
       " 'status': 'completed',\n",
       " 'thread_id': 'thread_2PdJfJyx7Jq36k55F9n9SrJD',\n",
       " 'tools': [],\n",
       " 'usage': {'completion_tokens': 436,\n",
       "  'prompt_tokens': 562,\n",
       "  'total_tokens': 998}}"
      ]
     },
     "metadata": {},
     "output_type": "display_data"
    }
   ],
   "source": [
    "run_result = wait_on_run(run, thread)\n",
    "show_json(run_result)"
   ]
  },
  {
   "cell_type": "code",
   "execution_count": 126,
   "metadata": {},
   "outputs": [
    {
     "data": {
      "text/plain": [
       "{'data': [{'id': 'msg_M7Fd64dusymyCvi6LRM9MCZb',\n",
       "   'assistant_id': 'asst_DQUVYCRWHbp7G40wVvGbTTNe',\n",
       "   'content': [{'text': {'annotations': [],\n",
       "      'value': '<recipe>\\n<title> Banana Peach Bread </title>\\n<ingredients>\\n- 1 ½ cups all-purpose flour\\n- 1 teaspoon baking soda\\n- 1 teaspoon baking powder\\n- ½ teaspoon salt\\n- 3 ripe bananas, mashed\\n- 3 tablespoons milk\\n- ¼ cup butter, softened\\n- ¼ cup vegetable oil\\n- ¾ cup granulated sugar\\n- 2 eggs\\n- 1 teaspoon vanilla extract\\n- 1 cup diced fresh peaches (or canned peaches, drained)\\n- ½ cup chopped walnuts or pecans (optional)\\n</ingredients>\\n<directions>\\nPreheat oven to 350 degrees F (175 degrees C). Grease and flour a 9x5 inch loaf pan, or line with parchment paper.\\nIn a medium bowl, whisk together flour, baking soda, baking powder, and salt. Set aside.\\nIn a small bowl, mix together the mashed bananas and milk. Set aside.\\nIn a large bowl, cream together butter, vegetable oil, and sugar until light and fluffy. Beat in the eggs one at a time, then stir in the vanilla extract.\\nBeat in the banana mixture.\\nGradually beat in the flour mixture, just until incorporated. Fold in the diced peaches and, if using, the chopped nuts.\\nPour batter into the prepared loaf pan.\\nBake in the preheated oven for 60-70 minutes, or until a toothpick inserted into the center of the loaf comes out clean.\\nLet the bread cool in the pan for 10 minutes, then turn out onto a wire rack to cool completely.\\n</directions>\\n<nutrition>\\nTotal Fat 7g 9%, Saturated Fat 3g 15%, Cholesterol 41mg 14%, Sodium 251mg 11%, Total Carbohydrate 58g 21%, Dietary Fiber 2g 7%, Total Sugars 30g, Protein 6g, Vitamin C 3mg 15%, Calcium 26mg 2%, Iron 2mg 10%, Potassium 218mg 5%\\n</nutrition>\\n</recipe>'},\n",
       "     'type': 'text'}],\n",
       "   'created_at': 1706686009,\n",
       "   'file_ids': [],\n",
       "   'metadata': {},\n",
       "   'object': 'thread.message',\n",
       "   'role': 'assistant',\n",
       "   'run_id': 'run_06FfAG1KkmOTuUQjHXeriJWe',\n",
       "   'thread_id': 'thread_2PdJfJyx7Jq36k55F9n9SrJD'},\n",
       "  {'id': 'msg_ohzwJrTbrrcbrf52soxAQgfS',\n",
       "   'assistant_id': None,\n",
       "   'content': [{'text': {'annotations': [],\n",
       "      'value': 'Give me recipe for Banana Peach Bread'},\n",
       "     'type': 'text'}],\n",
       "   'created_at': 1706686005,\n",
       "   'file_ids': [],\n",
       "   'metadata': {},\n",
       "   'object': 'thread.message',\n",
       "   'role': 'user',\n",
       "   'run_id': None,\n",
       "   'thread_id': 'thread_2PdJfJyx7Jq36k55F9n9SrJD'}],\n",
       " 'object': 'list',\n",
       " 'first_id': 'msg_M7Fd64dusymyCvi6LRM9MCZb',\n",
       " 'last_id': 'msg_ohzwJrTbrrcbrf52soxAQgfS',\n",
       " 'has_more': False}"
      ]
     },
     "metadata": {},
     "output_type": "display_data"
    }
   ],
   "source": [
    "messages = client.beta.threads.messages.list(thread_id=thread.id)\n",
    "show_json(messages)"
   ]
  },
  {
   "cell_type": "code",
   "execution_count": 127,
   "metadata": {},
   "outputs": [],
   "source": [
    "messages = json.loads(messages.model_dump_json())"
   ]
  },
  {
   "cell_type": "code",
   "execution_count": 128,
   "metadata": {},
   "outputs": [
    {
     "name": "stdout",
     "output_type": "stream",
     "text": [
      "<recipe>\n",
      "<title> Banana Peach Bread </title>\n",
      "<ingredients>\n",
      "- 1 ½ cups all-purpose flour\n",
      "- 1 teaspoon baking soda\n",
      "- 1 teaspoon baking powder\n",
      "- ½ teaspoon salt\n",
      "- 3 ripe bananas, mashed\n",
      "- 3 tablespoons milk\n",
      "- ¼ cup butter, softened\n",
      "- ¼ cup vegetable oil\n",
      "- ¾ cup granulated sugar\n",
      "- 2 eggs\n",
      "- 1 teaspoon vanilla extract\n",
      "- 1 cup diced fresh peaches (or canned peaches, drained)\n",
      "- ½ cup chopped walnuts or pecans (optional)\n",
      "</ingredients>\n",
      "<directions>\n",
      "Preheat oven to 350 degrees F (175 degrees C). Grease and flour a 9x5 inch loaf pan, or line with parchment paper.\n",
      "In a medium bowl, whisk together flour, baking soda, baking powder, and salt. Set aside.\n",
      "In a small bowl, mix together the mashed bananas and milk. Set aside.\n",
      "In a large bowl, cream together butter, vegetable oil, and sugar until light and fluffy. Beat in the eggs one at a time, then stir in the vanilla extract.\n",
      "Beat in the banana mixture.\n",
      "Gradually beat in the flour mixture, just until incorporated. Fold in the diced peaches and, if using, the chopped nuts.\n",
      "Pour batter into the prepared loaf pan.\n",
      "Bake in the preheated oven for 60-70 minutes, or until a toothpick inserted into the center of the loaf comes out clean.\n",
      "Let the bread cool in the pan for 10 minutes, then turn out onto a wire rack to cool completely.\n",
      "</directions>\n",
      "<nutrition>\n",
      "Total Fat 7g 9%, Saturated Fat 3g 15%, Cholesterol 41mg 14%, Sodium 251mg 11%, Total Carbohydrate 58g 21%, Dietary Fiber 2g 7%, Total Sugars 30g, Protein 6g, Vitamin C 3mg 15%, Calcium 26mg 2%, Iron 2mg 10%, Potassium 218mg 5%\n",
      "</nutrition>\n",
      "</recipe>\n"
     ]
    }
   ],
   "source": [
    "print(messages['data'][0]['content'][0]['text']['value'])"
   ]
  },
  {
   "cell_type": "code",
   "execution_count": 115,
   "metadata": {},
   "outputs": [],
   "source": [
    "generate_recipe = messages['data'][0]['content'][0]['text']['value']"
   ]
  },
  {
   "cell_type": "code",
   "execution_count": 52,
   "metadata": {},
   "outputs": [],
   "source": [
    "from bs4 import BeautifulSoup\n",
    "client = OpenAI(api_key=os.environ.get(\"OPENAI_API_KEY\", \"<your OpenAI API key if not set as env var>\"))\n",
    "\n",
    "def submit_message(assistant_id, thread, user_message):\n",
    "    client.beta.threads.messages.create(\n",
    "        thread_id=thread.id, role=\"user\", content=user_message\n",
    "    )\n",
    "    return client.beta.threads.runs.create(\n",
    "        thread_id=thread.id,\n",
    "        assistant_id=assistant_id,\n",
    "    )\n",
    "\n",
    "\n",
    "def get_response(thread):\n",
    "    messages = client.beta.threads.messages.list(thread_id=thread.id)\n",
    "    for m in messages:\n",
    "        if m.role == 'assistant':\n",
    "            return m.content[0].text.value\n",
    "\n",
    "def write_recipe(id: str, recipe_content:str):\n",
    "    soup = BeautifulSoup(recipe_content, \"xml\")\n",
    "    with open(f'../data/{id}.xml', 'w') as f:\n",
    "        f.write(soup.prettify())\n",
    "\n",
    "def create_thread_and_run(assistant_id: str, user_input:str):\n",
    "    thread = client.beta.threads.create()\n",
    "    run = submit_message(assistant_id, thread, user_input)\n",
    "    return thread, run"
   ]
  },
  {
   "cell_type": "code",
   "execution_count": 46,
   "metadata": {},
   "outputs": [],
   "source": [
    "import time\n",
    "\n",
    "def wait_on_run(run, thread):\n",
    "    while run.status == \"queued\" or run.status == \"in_progress\":\n",
    "        run = client.beta.threads.runs.retrieve(\n",
    "            thread_id=thread.id,\n",
    "            run_id=run.id,\n",
    "        )\n",
    "        time.sleep(0.5)\n",
    "    return run"
   ]
  },
  {
   "cell_type": "code",
   "execution_count": 16,
   "metadata": {},
   "outputs": [],
   "source": [
    "ASSISTANT_ID = 'asst_DQUVYCRWHbp7G40wVvGbTTNe'"
   ]
  },
  {
   "cell_type": "code",
   "execution_count": 56,
   "metadata": {},
   "outputs": [],
   "source": [
    "for index, row in random_recipes.iterrows():\n",
    "    thread, run = create_thread_and_run(assistant_id= ASSISTANT_ID, user_input=f\"Give me recipe for {row['recipe_name']}\")\n",
    "    run = wait_on_run(thread=thread, run = run)\n",
    "    recipe_content = get_response(thread=thread)\n",
    "    write_recipe(id=row['id'], recipe_content=recipe_content)\n",
    "    recipe_id = row['id']\n",
    "    print(f'Generated recipe for id:{recipe_id}')"
   ]
  },
  {
   "cell_type": "code",
   "execution_count": null,
   "metadata": {},
   "outputs": [],
   "source": []
  }
 ],
 "metadata": {
  "kernelspec": {
   "display_name": ".venv",
   "language": "python",
   "name": "python3"
  },
  "language_info": {
   "codemirror_mode": {
    "name": "ipython",
    "version": 3
   },
   "file_extension": ".py",
   "mimetype": "text/x-python",
   "name": "python",
   "nbconvert_exporter": "python",
   "pygments_lexer": "ipython3",
   "version": "3.11.3"
  }
 },
 "nbformat": 4,
 "nbformat_minor": 2
}
